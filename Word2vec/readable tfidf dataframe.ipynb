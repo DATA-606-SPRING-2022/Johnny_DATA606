version https://git-lfs.github.com/spec/v1
oid sha256:ff62044c27c97856ac41f4afa793edd8c476324e14cf77a219b07c7d257f04b9
size 9307
