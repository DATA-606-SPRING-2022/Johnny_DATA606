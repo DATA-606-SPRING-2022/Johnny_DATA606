version https://git-lfs.github.com/spec/v1
oid sha256:ab4a4301e83f8aa59f498337631e8ddc87a2a3295a1abb35e441c0b68f5dbfdc
size 13927
