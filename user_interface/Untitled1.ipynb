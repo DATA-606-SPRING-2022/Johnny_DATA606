version https://git-lfs.github.com/spec/v1
oid sha256:43c2c16fabe84e82d291ded56c273fc803847ae399aebf70c858cc2a45d2a214
size 15679
