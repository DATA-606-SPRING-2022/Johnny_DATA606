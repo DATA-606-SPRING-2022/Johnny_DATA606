version https://git-lfs.github.com/spec/v1
oid sha256:6228ed25184ccf3f082100b76811b4f5721f04cfa7366d08b9417a9bccc51d00
size 3963
