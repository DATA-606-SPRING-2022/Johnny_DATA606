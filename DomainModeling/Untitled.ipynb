version https://git-lfs.github.com/spec/v1
oid sha256:c9e3bc75418f92c69530d757aa739587928170db42e86e3620a50311a47cdfda
size 6887
