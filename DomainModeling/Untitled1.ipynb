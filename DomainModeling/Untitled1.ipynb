version https://git-lfs.github.com/spec/v1
oid sha256:d2de06e584cd2514b6bbf39f84cf4c32ab2f3729cbb8bca807c7a513243b930e
size 1349
