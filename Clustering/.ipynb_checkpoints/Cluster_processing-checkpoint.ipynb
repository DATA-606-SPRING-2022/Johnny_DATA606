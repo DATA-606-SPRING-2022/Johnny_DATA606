version https://git-lfs.github.com/spec/v1
oid sha256:99026778dc76b8d40254454f31b2c2360348e9c24401e726f28e23e9900eaaec
size 46657813
