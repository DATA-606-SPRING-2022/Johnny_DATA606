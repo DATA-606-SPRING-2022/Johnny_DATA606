version https://git-lfs.github.com/spec/v1
oid sha256:d84bcf66dc3ab8090df0ccc90f1a374b90e5c4fc733d9ac2e261aa0491d93883
size 9166835
