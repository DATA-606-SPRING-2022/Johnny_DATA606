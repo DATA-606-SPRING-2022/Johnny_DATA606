version https://git-lfs.github.com/spec/v1
oid sha256:64bd751ddd569acd14ed96c5efd57b4fe3a4add6294f0ac05b949db331861468
size 213014
