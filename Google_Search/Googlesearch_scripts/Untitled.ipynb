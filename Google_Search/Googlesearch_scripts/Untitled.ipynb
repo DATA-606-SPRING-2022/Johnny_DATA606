{
 "cells": [
  {
   "cell_type": "code",
   "execution_count": null,
   "metadata": {},
   "outputs": [],
   "source": [
    "# https://www.geeksforgeeks.org/performing-google-search-using-python-code/?ref=lbp"
   ]
  },
  {
   "cell_type": "code",
   "execution_count": null,
   "metadata": {},
   "outputs": [],
   "source": [
    "#!pip install googlesearch"
   ]
  },
  {
   "cell_type": "code",
   "execution_count": null,
   "metadata": {},
   "outputs": [],
   "source": [
    "#!pip install google"
   ]
  },
  {
   "cell_type": "code",
   "execution_count": null,
   "metadata": {},
   "outputs": [],
   "source": [
    "#!pip install beautifulsoup4"
   ]
  },
  {
   "cell_type": "code",
   "execution_count": null,
   "metadata": {},
   "outputs": [],
   "source": [
    "import googlesearch\n",
    "import datetime\n",
    "import pandas as pd\n",
    "from newspaper import Article\n",
    "from datetime import timedelta, date"
   ]
  },
  {
   "cell_type": "code",
   "execution_count": null,
   "metadata": {},
   "outputs": [],
   "source": [
    "googlesearch.get_random_user_agent()"
   ]
  },
  {
   "cell_type": "code",
   "execution_count": null,
   "metadata": {},
   "outputs": [],
   "source": [
    "from_date = datetime.datetime(2020, 1, 1)\n",
    "to_date = datetime.datetime(2020, 1, 1)\n",
    "\n",
    "\n",
    "print(from_date,to_date)\n"
   ]
  },
  {
   "cell_type": "code",
   "execution_count": null,
   "metadata": {},
   "outputs": [],
   "source": [
    "tbs = googlesearch.get_tbs(from_date, to_date)"
   ]
  },
  {
   "cell_type": "code",
   "execution_count": null,
   "metadata": {},
   "outputs": [],
   "source": [
    "print(tbs)"
   ]
  },
  {
   "cell_type": "code",
   "execution_count": null,
   "metadata": {},
   "outputs": [],
   "source": [
    "df = pd.DataFrame(columns=['from_date','to_date','tbs','Query','URL','Authors','Publish_date','Keywords','Text','Summary'])"
   ]
  },
  {
   "cell_type": "code",
   "execution_count": null,
   "metadata": {},
   "outputs": [],
   "source": [
    "df"
   ]
  },
  {
   "cell_type": "code",
   "execution_count": null,
   "metadata": {},
   "outputs": [],
   "source": [
    "url_dict = {'from_date': [], 'to_date': [],\"tbs\": [],'Query':[],\"URL\":[],\"Authors\":[],\"Publish_date\":[],\"Keywords\":[],\"Text\":[],\"Summary\":[]}"
   ]
  },
  {
   "cell_type": "code",
   "execution_count": null,
   "metadata": {},
   "outputs": [],
   "source": [
    "url_dict"
   ]
  },
  {
   "cell_type": "code",
   "execution_count": null,
   "metadata": {},
   "outputs": [],
   "source": [
    "mylist = list(search(query, tld=\"com\", lang='en', tbs=tbs, num=100, stop=100, pause=2))"
   ]
  },
  {
   "cell_type": "code",
   "execution_count": null,
   "metadata": {},
   "outputs": [],
   "source": [
    "def newspaper(tbs,query,url):\n",
    "    try:\n",
    "        article = Article(url)\n",
    "        article.download()\n",
    "        article.parse()\n",
    "        article.nlp()\n",
    "        Authors = article.authors\n",
    "        publish_date = article.publish_date\n",
    "        keywords = article.keywords\n",
    "        text = article.text\n",
    "        summary = article.summary\n",
    "\n",
    "        #print(\"article\")\n",
    "        print(article)\n",
    "        #print(\"authors\")\n",
    "        print(article.authors)\n",
    "        #print(\"publish_date\")\n",
    "        print(article.publish_date)\n",
    "        #print(\"keywords\")\n",
    "        print(article.keywords)\n",
    "        #print(\"text\")\n",
    "        print(article.text)\n",
    "        #print(\"summary\")\n",
    "        print(article.summary)\n",
    "\n",
    "\n",
    "\n",
    "        newsdict = {\"tbs\":tbs,\"Query\":query,\"URL\":url,\"Authors\":article.authors,\"Publish_date\":article.publish_date,\"Keywords\":article.keywords,\"Text\":article.text,\"Summary\":article.summary}\n",
    "    except:\n",
    "        newsdict = {\"tbs\":tbs,\"Query\":query,\"URL\":url,\"Authors\":\"\",\"Publish_date\":\"\",\"Keywords\":\"\",\"Text\":\"\",\"Summary\":\"\"}\n",
    "    return(newsdict)"
   ]
  },
  {
   "cell_type": "code",
   "execution_count": null,
   "metadata": {},
   "outputs": [],
   "source": [
    "for url in mylist:\n",
    "    # starts with url\n",
    "    print(url)\n",
    "    # add newspaper3k\n",
    "    mydict = newspaper(tbs,query,url)\n",
    "    \n",
    "    \n",
    "    #mydict = {\"tbs\":tbs,\"Query\":query,\"URL\":url,\"Authors\":[\"\"],\"Publish_date\":[\"\"],\"Keywords\":[\"\"],\"Text\":[\"\"],\"Summary\":[\"\"]}\n",
    "\n",
    "    print(mydict)\n",
    "    df = df.append(mydict,ignore_index=True)"
   ]
  },
  {
   "cell_type": "code",
   "execution_count": null,
   "metadata": {},
   "outputs": [],
   "source": [
    "newspaper(tbs,query,mylist)"
   ]
  },
  {
   "cell_type": "code",
   "execution_count": 1,
   "metadata": {},
   "outputs": [
    {
     "ename": "NameError",
     "evalue": "name 'df' is not defined",
     "output_type": "error",
     "traceback": [
      "\u001b[1;31m---------------------------------------------------------------------------\u001b[0m",
      "\u001b[1;31mNameError\u001b[0m                                 Traceback (most recent call last)",
      "\u001b[1;32m<ipython-input-1-00cf07b74dcd>\u001b[0m in \u001b[0;36m<module>\u001b[1;34m()\u001b[0m\n\u001b[1;32m----> 1\u001b[1;33m \u001b[0mdf\u001b[0m\u001b[1;33m\u001b[0m\u001b[0m\n\u001b[0m",
      "\u001b[1;31mNameError\u001b[0m: name 'df' is not defined"
     ]
    }
   ],
   "source": [
    "df"
   ]
  },
  {
   "cell_type": "code",
   "execution_count": null,
   "metadata": {},
   "outputs": [],
   "source": []
  }
 ],
 "metadata": {
  "kernelspec": {
   "display_name": "Python 3",
   "language": "python",
   "name": "python3"
  },
  "language_info": {
   "codemirror_mode": {
    "name": "ipython",
    "version": 3
   },
   "file_extension": ".py",
   "mimetype": "text/x-python",
   "name": "python",
   "nbconvert_exporter": "python",
   "pygments_lexer": "ipython3",
   "version": "3.7.0"
  }
 },
 "nbformat": 4,
 "nbformat_minor": 5
}
