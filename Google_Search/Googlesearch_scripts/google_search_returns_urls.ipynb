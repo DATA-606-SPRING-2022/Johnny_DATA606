version https://git-lfs.github.com/spec/v1
oid sha256:29ce016a594f82badbd6fb14aefc9d23cdec456cad992f92a96c8afcce29268c
size 531394
