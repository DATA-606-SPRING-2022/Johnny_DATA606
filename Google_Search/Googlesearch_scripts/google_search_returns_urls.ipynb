{
 "cells": [
  {
   "cell_type": "markdown",
   "metadata": {},
   "source": [
    "# https://www.geeksforgeeks.org/performing-google-search-using-python-code/?ref=lbp"
   ]
  },
  {
   "cell_type": "code",
   "execution_count": 2,
   "metadata": {},
   "outputs": [
    {
     "name": "stderr",
     "output_type": "stream",
     "text": [
      "ERROR: Could not find a version that satisfies the requirement googlesearch (from versions: none)\n",
      "ERROR: No matching distribution found for googlesearch\n"
     ]
    }
   ],
   "source": [
    "!pip install googlesearch"
   ]
  },
  {
   "cell_type": "code",
   "execution_count": 4,
   "metadata": {},
   "outputs": [
    {
     "name": "stdout",
     "output_type": "stream",
     "text": [
      "Collecting google\n",
      "  Using cached google-3.0.0-py2.py3-none-any.whl (45 kB)\n",
      "Requirement already satisfied: beautifulsoup4 in d:\\anaconda\\lib\\site-packages (from google) (4.6.3)\n",
      "Installing collected packages: google\n",
      "Successfully installed google-3.0.0\n"
     ]
    }
   ],
   "source": [
    "!pip install google"
   ]
  },
  {
   "cell_type": "code",
   "execution_count": 5,
   "metadata": {},
   "outputs": [
    {
     "name": "stdout",
     "output_type": "stream",
     "text": [
      "Requirement already satisfied: beautifulsoup4 in d:\\anaconda\\lib\\site-packages (4.6.3)\n"
     ]
    }
   ],
   "source": [
    "!pip install beautifulsoup4"
   ]
  },
  {
   "cell_type": "code",
   "execution_count": 1,
   "metadata": {},
   "outputs": [],
   "source": [
    "import googlesearch\n",
    "import datetime"
   ]
  },
  {
   "cell_type": "code",
   "execution_count": 2,
   "metadata": {},
   "outputs": [
    {
     "data": {
      "text/plain": [
       "b'Mozilla/5.0 (Windows; U; Windows NT 5.2; en-US; rv:1.8b5) Gecko/20051006 Firefox/1.4.1'"
      ]
     },
     "execution_count": 2,
     "metadata": {},
     "output_type": "execute_result"
    }
   ],
   "source": [
    "googlesearch.get_random_user_agent()"
   ]
  },
  {
   "cell_type": "code",
   "execution_count": 3,
   "metadata": {},
   "outputs": [
    {
     "name": "stdout",
     "output_type": "stream",
     "text": [
      "2020-05-17 00:00:00 2020-05-17 00:00:00\n"
     ]
    }
   ],
   "source": [
    "from_date = datetime.datetime(2020, 5, 17)\n",
    "to_date = datetime.datetime(2020, 5, 17)\n",
    "\n",
    "\n",
    "print(from_date,to_date)\n"
   ]
  },
  {
   "cell_type": "code",
   "execution_count": 4,
   "metadata": {},
   "outputs": [],
   "source": [
    "tbs = googlesearch.get_tbs(from_date, to_date)"
   ]
  },
  {
   "cell_type": "code",
   "execution_count": 5,
   "metadata": {},
   "outputs": [
    {
     "name": "stdout",
     "output_type": "stream",
     "text": [
      "cdr:1,cd_min:05/17/2020,cd_max:05/17/2020\n"
     ]
    }
   ],
   "source": [
    "print(tbs)"
   ]
  },
  {
   "cell_type": "code",
   "execution_count": 6,
   "metadata": {},
   "outputs": [
    {
     "name": "stdout",
     "output_type": "stream",
     "text": [
      "https://www.yahoo.com/video/apple-said-snap-startup-nextvr-070245336.html\n",
      "https://www.pkutils.ru/markets/company?symbol=AAPL\n",
      "https://github.com/dortania/bugtracker/issues/17\n",
      "https://stackoverflow.com/questions/61858440/pandas-dataframe-not-exporting-to-csv-correctly-missing-data\n",
      "https://www.investopedia.com/articles/00/082800.asp\n"
     ]
    }
   ],
   "source": [
    "try:\n",
    "    from googlesearch import search\n",
    "except ImportError:\n",
    "    print(\"No module named 'google' found\")\n",
    " \n",
    "# to search\n",
    "query = \"AAPL\"\n",
    " \n",
    "for j in search(query, tld=\"com\", lang='en', tbs=tbs, num=100, stop=100, pause=2):\n",
    "    print(j)"
   ]
  },
  {
   "cell_type": "code",
   "execution_count": 8,
   "metadata": {},
   "outputs": [
    {
     "data": {
      "text/plain": [
       "'https://www.investopedia.com/articles/00/082800.asp'"
      ]
     },
     "execution_count": 8,
     "metadata": {},
     "output_type": "execute_result"
    }
   ],
   "source": [
    "j"
   ]
  },
  {
   "cell_type": "code",
   "execution_count": null,
   "metadata": {},
   "outputs": [],
   "source": []
  },
  {
   "cell_type": "code",
   "execution_count": null,
   "metadata": {},
   "outputs": [],
   "source": []
  },
  {
   "cell_type": "code",
   "execution_count": null,
   "metadata": {},
   "outputs": [],
   "source": []
  },
  {
   "cell_type": "code",
   "execution_count": 10,
   "metadata": {},
   "outputs": [],
   "source": [
    "from datetime import timedelta, date"
   ]
  },
  {
   "cell_type": "code",
   "execution_count": 15,
   "metadata": {},
   "outputs": [
    {
     "name": "stdout",
     "output_type": "stream",
     "text": [
      "2020-05-18 00:00:00\n"
     ]
    }
   ],
   "source": [
    "to_date = from_date + timedelta(days=1)\n",
    "print(to_date)"
   ]
  },
  {
   "cell_type": "code",
   "execution_count": 16,
   "metadata": {},
   "outputs": [
    {
     "data": {
      "text/plain": [
       "datetime.datetime(2020, 5, 17, 0, 0)"
      ]
     },
     "execution_count": 16,
     "metadata": {},
     "output_type": "execute_result"
    }
   ],
   "source": [
    "from_date"
   ]
  },
  {
   "cell_type": "code",
   "execution_count": 17,
   "metadata": {},
   "outputs": [
    {
     "name": "stdout",
     "output_type": "stream",
     "text": [
      "2020-05-17 00:00:00 2020-05-18 00:00:00\n",
      "cdr:1,cd_min:05/17/2020,cd_max:05/18/2020\n"
     ]
    }
   ],
   "source": [
    "print(from_date,to_date)\n",
    "tbs = googlesearch.get_tbs(from_date, to_date)\n",
    "print(tbs)"
   ]
  },
  {
   "cell_type": "code",
   "execution_count": 18,
   "metadata": {},
   "outputs": [
    {
     "name": "stdout",
     "output_type": "stream",
     "text": [
      "https://financhill.com/blog/investing/disney-vs-apple-stock\n",
      "https://dividendhike.com/stock/company/apple/\n",
      "https://www.yahoo.com/video/apple-said-snap-startup-nextvr-070245336.html\n",
      "https://www.fool.com/investing/2020/05/18/3-dividend-paying-tech-stocks-to-buy-in-may.aspx\n",
      "https://www.quiverquant.com/sources/sharedownership\n",
      "https://www.pkutils.ru/markets/company?symbol=AAPL\n",
      "https://stackoverflow.com/questions/61880196/for-loop-to-rename-column-names-of-many-objects-r\n",
      "https://appleinsider.com/articles/20/05/18/covid-19-sensor-could-bring-daily-testing-to-iphones\n",
      "https://247wallst.com/technology-3/2020/05/18/how-will-apple-stock-react-when-tim-cook-retires/\n",
      "https://github.com/dortania/bugtracker/issues/17\n",
      "https://www.bloomberg.com/profile/company/144794Z:ID\n",
      "https://www.bloomberg.com/profile/person/15103342\n",
      "https://www.investopedia.com/articles/00/082800.asp\n",
      "https://www.jakjac.com/175\n",
      "https://www.apple.com/newsroom/2020/05/as-pride-goes-virtual-apple-watch-pride-edition-helps-community-and-advocacy-continue-worldwide/\n"
     ]
    }
   ],
   "source": [
    "try:\n",
    "    from googlesearch import search\n",
    "except ImportError:\n",
    "    print(\"No module named 'google' found\")\n",
    " \n",
    "# to search\n",
    "query = \"AAPL\"\n",
    " \n",
    "for j in search(query, tld=\"com\", lang='en', tbs=tbs, num=100, stop=100, pause=2):\n",
    "    print(j)"
   ]
  },
  {
   "cell_type": "code",
   "execution_count": null,
   "metadata": {},
   "outputs": [],
   "source": []
  },
  {
   "cell_type": "code",
   "execution_count": null,
   "metadata": {},
   "outputs": [],
   "source": []
  },
  {
   "cell_type": "code",
   "execution_count": null,
   "metadata": {},
   "outputs": [],
   "source": []
  },
  {
   "cell_type": "code",
   "execution_count": null,
   "metadata": {},
   "outputs": [],
   "source": []
  },
  {
   "cell_type": "code",
   "execution_count": 26,
   "metadata": {},
   "outputs": [
    {
     "name": "stdout",
     "output_type": "stream",
     "text": [
      "Collecting TextBlob\n",
      "  Downloading textblob-0.17.1-py2.py3-none-any.whl (636 kB)\n",
      "Requirement already satisfied: nltk>=3.1; python_version >= \"3\" in d:\\anaconda\\lib\\site-packages (from TextBlob) (3.3)\n",
      "Requirement already satisfied: six in d:\\anaconda\\lib\\site-packages (from nltk>=3.1; python_version >= \"3\"->TextBlob) (1.16.0)\n",
      "Installing collected packages: TextBlob\n",
      "Successfully installed TextBlob-0.17.1\n"
     ]
    }
   ],
   "source": [
    "!pip install TextBlob"
   ]
  },
  {
   "cell_type": "code",
   "execution_count": 43,
   "metadata": {},
   "outputs": [],
   "source": [
    "from textblob import TextBlob\n",
    "from bs4 import BeautifulSoup\n",
    "import requests\n",
    "\n",
    "class Analysis:\n",
    "    def __init__(self, term):\n",
    "        self.term = term\n",
    "        self.sentiment = 0\n",
    "        self.subjectivity = 0\n",
    "        self.url = 'https://www.google.com/search?q={0}&source=lnms&tbm=nws'.format(self.term)\n",
    "        # https://www.google.com/search?q=bitcoin&source=lnms&tbm=nws&sa=X&ved=2ahUKEwja04fDiOf1AhVJJUQIHV0FAhUQ_AUoAXoECAEQAw&biw=1143&bih=833&dpr=1\n",
    "\n",
    "    def run(self):\n",
    "        response = requests.get(self.url)\n",
    "        print(response.text)\n",
    "        soup = BeautifulSoup(response.text, 'html.parser')\n",
    "        headline_results = soup.find_all('div', class_='st')\n",
    "        print(headline_results)\n",
    "        for text in headline_results:\n",
    "            print(text)\n",
    "            blob = TextBlob(text.get_text())\n",
    "            self.sentiment += blob.sentiment.polarity / len(headline_results)\n",
    "            self.subjectivity += blob.sentiment.subjectivity / len(headline_results)\n",
    "            print(blob)"
   ]
  },
  {
   "cell_type": "code",
   "execution_count": 44,
   "metadata": {},
   "outputs": [
    {
     "name": "stdout",
     "output_type": "stream",
     "text": [
      "<!doctype html><html lang=\"en\"><head><meta charset=\"UTF-8\"><meta content=\"/images/branding/googleg/1x/googleg_standard_color_128dp.png\" itemprop=\"image\"><title>Bitcoin - Google Search</title><script nonce=\"VlzOz7ehhkBRNmYkdg1hpQ==\">(function(){\n",
      "document.documentElement.addEventListener(\"submit\",function(b){var a;if(a=b.target){var c=a.getAttribute(\"data-submitfalse\");a=\"1\"===c||\"q\"===c&&!a.elements.q.value?!0:!1}else a=!1;a&&(b.preventDefault(),b.stopPropagation())},!0);document.documentElement.addEventListener(\"click\",function(b){var a;a:{for(a=b.target;a&&a!==document.documentElement;a=a.parentElement)if(\"A\"===a.tagName){a=\"1\"===a.getAttribute(\"data-nohref\");break a}a=!1}a&&b.preventDefault()},!0);}).call(this);(function(){\n",
      "var a=window.performance;window.start=Date.now();a:{var b=window;if(a){var c=a.timing;if(c){var d=c.navigationStart,f=c.responseStart;if(f>d&&f<=window.start){window.start=f;b.wsrt=f-d;break a}}a.now&&(b.wsrt=Math.floor(a.now()))}}window.google=window.google||{};var h=function(g){g&&g.target.setAttribute(\"data-iml\",Date.now())};document.documentElement.addEventListener(\"load\",h,!0);google.rglh=function(){document.documentElement.removeEventListener(\"load\",h,!0)};}).call(this);(function(){window.google.erd={jsr:1,bv:1525,de:true};})();(function(){var sdo=false;var mei=10;\n",
      "var f=this||self;var g,h,k=null!==(g=f.mei)&&void 0!==g?g:1,l=null!==(h=f.sdo)&&void 0!==h?h:!0,p=0,q,r=google.erd,u=r.jsr;google.ml=function(a,b,d,m,c){c=void 0===c?2:c;b&&(q=a&&a.message);if(google.dl)return google.dl(a,c,d),null;if(0>u){window.console&&console.error(a,d);if(-2===u)throw a;b=!1}else b=!a||!a.message||\"Error loading script\"===a.message||p>=k&&!m?!1:!0;if(!b)return null;p++;d=d||{};var e=c;c=encodeURIComponent;b=\"/gen_204?atyp=i&ei=\"+c(google.kEI);google.kEXPI&&(b+=\"&jexpid=\"+c(google.kEXPI));b+=\"&srcpg=\"+c(google.sn)+\"&jsr=\"+c(r.jsr)+\"&bver=\"+c(r.bv)+(\"&jsel=\"+e);e=a.lineNumber;void 0!==e&&(b+=\"&line=\"+\n",
      "e);var n=a.fileName;n&&(b+=\"&script=\"+c(n),e&&n===window.location.href&&(e=document.documentElement.outerHTML.split(\"\\n\")[e],b+=\"&cad=\"+c(e?e.substring(0,300):\"No script found.\")));for(var t in d)b+=\"&\",b+=c(t),b+=\"=\",b+=c(d[t]);b=b+\"&emsg=\"+c(a.name+\": \"+a.message);b=b+\"&jsst=\"+c(a.stack||\"N/A\");12288<=b.length&&(b=b.substr(0,12288));a=b;m||google.log(0,\"\",a);return a};window.onerror=function(a,b,d,m,c){q!==a&&(a=c instanceof Error?c:Error(a),void 0===d||\"lineNumber\"in a||(a.lineNumber=d),void 0===b||\"fileName\"in a||(a.fileName=b),google.ml(a,!1,void 0,!1,\"SyntaxError\"===a.name||\"SyntaxError\"===a.message.substring(0,11)?2:0));q=null;l&&p>=k&&(window.onerror=null)};})();(function(){\n",
      "var c=[],e=0;window.ping=function(b){-1==b.indexOf(\"&zx\")&&(b+=\"&zx=\"+Date.now());var a=new Image,d=e++;c[d]=a;a.onerror=a.onload=a.onabort=function(){delete c[d]};a.src=b};}).call(this);</script><style>body{margin:0 auto;max-width:652px;padding:0 8px;}a{color:#1a0dab;text-decoration:none;tap-highlight-color:rgba(0,0,0,.10)}a:visited{color:#4B11A8}a:hover{text-decoration:underline}img{border:0}html{font-family:Roboto,Helvetica Neue,Arial,sans-serif;font-size:14px;line-height:20px;text-size-adjust:100%;color:#3c4043;word-wrap:break-word;background-color:#fff}.bRsWnc{background-color:#fff;border-top:1px solid #dadce0;height:39px;overflow:hidden}.N6RWV{height:51px;overflow-scrolling:touch;overflow-x:auto;overflow-y:hidden}.Uv67qb{box-pack:justify;font-size:12px;line-height:37px;justify-content:space-between;justify-content:space-between}.Uv67qb a,.Uv67qb span{color:#70757a;display:block;flex:none;padding:0 16px;text-align:center;text-transform:uppercase;}span.OXXup{border-bottom:2px solid #4285f4;color:#4285f4;font-weight:bold}a.eZt8xd:visited{color:#70757a}.FElbsf{border-left:1px solid rgba(0,0,0,.12)}header article{overflow:visible}.Pg70bf{height:39px;display:box;display:flex;display:flex;width:100%}.H0PQec{position:relative;flex:1}.sbc{display:flex;width:100%}.Pg70bf input{margin:2px 4px 2px 8px;}.x{width:26px;color:#70757a;font:27px/38px arial, sans-serif;line-height:40px;}#qdClwb{flex:0 0 auto;width:39px;height:39px;border-bottom:0;padding:0;border-top-right-radius:8px;background-color:#1a73e8;border:1px solid #1558d6;background-image:url(data:image/gif;base64,R0lGODdhJAAjAPIHAODr/nCk+MPZ/FmV96zK+/7+/5K5+kqL9iwAAAAAJAAjAEADani63P4wykmbKcQRXDscQAEMXmmeaLQVLCukzyC09AjfeK7v/MAajACLhPMVAgwjsUcEiZa8xgAYrVqv2Kx2iwsIAAABknfBBAKrTE4IcMyot8ur8datqIbQfJdnAfo2WE6BV05wXIiJigkAOw==);}.sc{font-size:16px;position:absolute;top:39px;left:0;right:0;box-shadow:0px 2px 5px rgba(0,0,0,.2);z-index:2;background-color:#fff}.sc>div{padding:10px 10px;padding-left:16px;padding-left:14px;border-top:1px solid #dfe1e5}.scs{background-color:#f8f9fa;}.noHIxc{display:block;font-size:16px;padding:0 0 0 8px;flex:1;height:35px;outline:none;border:none;width:100%;-webkit-tap-highlight-color:rgba(0,0,0,.00);overflow:hidden;}.sbc input[type=text]{background:none}.sml .cOl4Id{display:none}.l{display:none}.sml header{background:none}.sml .l{display:block;padding:0 8px}.sml .l{letter-spacing:-1px;text-align:center;border-radius:2px 0 0 0;font:22px/36px Futura, Arial, sans-serif;font-smoothing:antialiased}.bz1lBb{background:#fff;border-radius:8px 8px 0 0;box-shadow:0 0 0 1px #dfe1e5;margin-top:24px}.KP7LCb{border-radius:0 0 8px 8px;box-shadow:0px 1px 0px 1px #dfe1e5;margin-bottom:30px;overflow:hidden}body{margin:0 auto 0 156px;max-width:652px;min-width:652px}.cOl4Id{letter-spacing:-1px;text-align:center;font:22pt Futura, Arial, sans-serif;height:37px;font-smoothing:antialiased;padding:32px 28px 0 24px;position:absolute;left:0;top:0}.cOl4Id span{display:inline-block}.V6gwVd{color:#4285f4}.iWkuvd{color:#ea4335}.cDrQ7{color:#fcc934}.ntlR9{color:#34a853}.tJ3Myc{-webkit-transform:rotate(-20deg);position:relative;left:-1px;display:inline-block}footer{text-align:center;margin-top:18px}footer a,footer a:visited,.smiUbb{color:#70757a}.xeDNfc{margin:0 13px}#EOlPnc{margin-top:36px}#EOlPnc>div{margin:20px}.Srfpq{color:#70757a}</style></head><body jsmodel=\"hspDDf\"><header id=\"hdr\"><script nonce=\"VlzOz7ehhkBRNmYkdg1hpQ==\">(function(){\n",
      "var k=this||self,l=function(){},m=function(a){var b=typeof a;return\"object\"==b&&null!=a||\"function\"==b},n=function(a,b){function c(){}c.prototype=b.prototype;a.j=b.prototype;a.prototype=new c;a.prototype.constructor=a;a.l=function(d,e,f){for(var g=Array(arguments.length-2),h=2;h<arguments.length;h++)g[h-2]=arguments[h];return b.prototype[e].apply(d,g)}};var p=Array.prototype.indexOf?function(a,b){return Array.prototype.indexOf.call(a,b,void 0)}:function(a,b){if(\"string\"===typeof a)return\"string\"!==typeof b||1!=b.length?-1:a.indexOf(b,0);for(var c=0;c<a.length;c++)if(c in a&&a[c]===b)return c;return-1};var q=function(a){return\"string\"==typeof a.className?a.className:a.getAttribute&&a.getAttribute(\"class\")||\"\"},r=function(a,b){\"string\"==typeof a.className?a.className=b:a.setAttribute&&a.setAttribute(\"class\",b)},t=function(a,b){a.classList?b=a.classList.contains(b):(a=a.classList?a.classList:q(a).match(/\\S+/g)||[],b=0<=p(a,b));return b},w=function(){var a=u,b=v;a.classList?a.classList.remove(b):t(a,b)&&r(a,Array.prototype.filter.call(a.classList?a.classList:q(a).match(/\\S+/g)||[],function(c){return c!=\n",
      "b}).join(\" \"))};function x(){var a=k.navigator;return a&&(a=a.userAgent)?a:\"\"};var y=function(a){y[\" \"](a);return a};y[\" \"]=l;var z=-1!=x().indexOf(\"Gecko\")&&!(-1!=x().toLowerCase().indexOf(\"webkit\")&&-1==x().indexOf(\"Edge\"))&&!(-1!=x().indexOf(\"Trident\")||-1!=x().indexOf(\"MSIE\"))&&-1==x().indexOf(\"Edge\");var A=function(a,b){this.type=a;this.target=b};A.prototype.g=function(){};var B=function(){if(!k.addEventListener||!Object.defineProperty)return!1;var a=!1,b=Object.defineProperty({},\"passive\",{get:function(){a=!0}});try{k.addEventListener(\"test\",l,b),k.removeEventListener(\"test\",l,b)}catch(c){}return a}();var D=function(a){A.call(this,a?a.type:\"\");this.relatedTarget=this.target=null;this.button=this.screenY=this.screenX=this.clientY=this.clientX=0;this.key=\"\";this.keyCode=0;this.metaKey=this.shiftKey=this.altKey=this.ctrlKey=!1;this.state=null;this.pointerId=0;this.pointerType=\"\";this.h=null;if(a){var b=this.type=a.type,c=a.changedTouches&&a.changedTouches.length?a.changedTouches[0]:null;this.target=a.target||a.srcElement;var d=a.relatedTarget;if(d){if(z){a:{try{y(d.nodeName);var e=!0;break a}catch(f){}e=\n",
      "!1}e||(d=null)}}else\"mouseover\"==b?d=a.fromElement:\"mouseout\"==b&&(d=a.toElement);this.relatedTarget=d;c?(this.clientX=void 0!==c.clientX?c.clientX:c.pageX,this.clientY=void 0!==c.clientY?c.clientY:c.pageY,this.screenX=c.screenX||0,this.screenY=c.screenY||0):(this.clientX=void 0!==a.clientX?a.clientX:a.pageX,this.clientY=void 0!==a.clientY?a.clientY:a.pageY,this.screenX=a.screenX||0,this.screenY=a.screenY||0);this.button=a.button;this.keyCode=a.keyCode||0;this.key=a.key||\"\";this.ctrlKey=a.ctrlKey;this.altKey=a.altKey;this.shiftKey=a.shiftKey;this.metaKey=a.metaKey;this.pointerId=a.pointerId||0;this.pointerType=\"string\"===typeof a.pointerType?a.pointerType:C[a.pointerType]||\"\";this.state=a.state;this.h=a;a.defaultPrevented&&D.j.g.call(this)}};n(D,A);var C={2:\"touch\",3:\"pen\",4:\"mouse\"};D.prototype.g=function(){D.j.g.call(this);var a=this.h;a.preventDefault?a.preventDefault():a.returnValue=!1};var E=\"closure_listenable_\"+(1E6*Math.random()|0);var F=0;var G=function(a,b,c,d,e){this.listener=a;this.proxy=null;this.src=b;this.type=c;this.capture=!!d;this.h=e;this.key=++F;this.g=this.i=!1},H=function(a){a.g=!0;a.listener=null;a.proxy=null;a.src=null;a.h=null};var I=function(a){this.src=a;this.g={};this.h=0};I.prototype.add=function(a,b,c,d,e){var f=a.toString();a=this.g[f];a||(a=this.g[f]=[],this.h++);var g;a:{for(g=0;g<a.length;++g){var h=a[g];if(!h.g&&h.listener==b&&h.capture==!!d&&h.h==e)break a}g=-1}-1<g?(b=a[g],c||(b.i=!1)):(b=new G(b,this.src,f,!!d,e),b.i=c,a.push(b));return b};var J=\"closure_lm_\"+(1E6*Math.random()|0),K={},L=0,N=function(a,b,c,d,e){if(d&&d.once)return M(a,b,c,d,e);if(Array.isArray(b)){for(var f=0;f<b.length;f++)N(a,b[f],c,d,e);return null}c=O(c);return a&&a[E]?a.g(b,c,m(d)?!!d.capture:!!d,e):P(a,b,c,!1,d,e)},P=function(a,b,c,d,e,f){if(!b)throw Error(\"a\");var g=m(e)?!!e.capture:!!e,h=Q(a);h||(a[J]=h=new I(a));c=h.add(b,c,d,g,f);if(c.proxy)return c;d=R();c.proxy=d;d.src=a;d.listener=c;if(a.addEventListener)B||(e=g),void 0===e&&(e=!1),a.addEventListener(b.toString(),d,e);else if(a.attachEvent)a.attachEvent(S(b.toString()),d);else if(a.addListener&&a.removeListener)a.addListener(d);else throw Error(\"b\");L++;return c},R=function(){var a=T,b=function(c){return a.call(b.src,b.listener,c)};return b},M=function(a,b,c,d,e){if(Array.isArray(b)){for(var f=0;f<b.length;f++)M(a,b[f],c,d,e);return null}c=O(c);return a&&a[E]?a.h(b,c,m(d)?!!d.capture:!!d,e):P(a,b,c,!0,d,e)},U=function(a){if(\"number\"!==typeof a&&a&&!a.g){var b=a.src;if(b&&b[E])b.o(a);else{var c=a.type,d=a.proxy;b.removeEventListener?b.removeEventListener(c,d,a.capture):b.detachEvent?b.detachEvent(S(c),d):b.addListener&&b.removeListener&&b.removeListener(d);L--;if(c=Q(b)){d=a.type;if(d in c.g){var e=c.g[d],f=p(e,a),g;(g=0<=f)&&Array.prototype.splice.call(e,f,1);g&&(H(a),0==c.g[d].length&&(delete c.g[d],c.h--))}0==c.h&&(c.src=null,b[J]=null)}else H(a)}}},S=function(a){return a in K?K[a]:K[a]=\"on\"+a},T=function(a,b){if(a.g)a=!0;else{b=new D(b,this);var c=a.listener,d=a.h||a.src;a.i&&U(a);a=c.call(d,b)}return a},Q=function(a){a=a[J];return a instanceof I?a:null},V=\"__closure_events_fn_\"+(1E9*Math.random()>>>0),O=function(a){if(\"function\"===typeof a)return a;a[V]||(a[V]=function(b){return a.handleEvent(b)});return a[V]};var v,u=document.documentElement,W;function X(){U(W);W=M(u,\"mousedown\",function(){w();Y()},{capture:!0})}function Y(){U(W);W=N(u,\"keydown\",function(a){if(9===a.keyCode){a=u;var b=v;if(a.classList)a.classList.add(b);else if(!t(a,b)){var c=q(a);r(a,c+(0<c.length?\" \"+b:b))}X()}})};v=\"zAoYTe\";Y();}).call(this);(function(){var c=500;(function(){\n",
      "window.screen&&window.screen.width<=c&&window.screen.height<=c&&document.getElementById(\"hdr\").classList.add(\"sml\");}).call(this);})();</script><div class=\"cOl4Id\"><a href=\"/?sa=X&amp;ved=0ahUKEwjKu_2LiOf1AhW-I0QIHXDMAc4QOwgC\"><span class=\"V6gwVd\">G</span><span class=\"iWkuvd\">o</span><span class=\"cDrQ7\">o</span><span class=\"V6gwVd\">g</span><span class=\"ntlR9\">l</span><span class=\"iWkuvd tJ3Myc\">e</span></a></div><div class=\"bz1lBb\"><form class=\"Pg70bf\" id=\"sf\"><a class=\"l\" href=\"/?output=search&amp;ie=UTF-8&amp;tbm=nws&amp;sa=X&amp;ved=0ahUKEwjKu_2LiOf1AhW-I0QIHXDMAc4QPAgE\"><span class=\"V6gwVd\">G</span><span class=\"iWkuvd\">o</span><span class=\"cDrQ7\">o</span><span class=\"V6gwVd\">g</span><span class=\"ntlR9\">l</span><span class=\"iWkuvd tJ3Myc\">e</span></a><input name=\"ie\" value=\"ISO-8859-1\" type=\"hidden\"><input name=\"tbm\" value=\"nws\" type=\"hidden\"><div class=\"H0PQec\"><div class=\"sbc esbc\"><input class=\"noHIxc\" value=\"Bitcoin\" autocapitalize=\"none\" autocomplete=\"off\" name=\"q\" spellcheck=\"false\" type=\"text\"><input name=\"oq\" type=\"hidden\"><input name=\"aqs\" type=\"hidden\"><div class=\"x\">×</div><div class=\"sc\"></div></div></div><button id=\"qdClwb\" type=\"submit\"></button></form></div><noscript><meta content=\"0;url=/search?q=Bitcoin&amp;tbm=nws&amp;ie=UTF-8&amp;gbv=1&amp;sei=HqT9Ycq0Er7HkPIP8JiH8Aw\" http-equiv=\"refresh\"><style>table,div,span,p{display:none}</style><div style=\"display:block\">Please click <a href=\"/search?q=Bitcoin&amp;tbm=nws&amp;ie=UTF-8&amp;gbv=1&amp;sei=HqT9Ycq0Er7HkPIP8JiH8Aw\">here</a> if you are not redirected within a few seconds.</div></noscript></header><div id=\"main\"><div><div class=\"KP7LCb\"> <div class=\"bRsWnc\"> <div class=\"N6RWV\"> <div class=\"Pg70bf Uv67qb\"> <a class=\"eZt8xd\" href=\"/search?q=Bitcoin&amp;ie=UTF-8&amp;source=lnms&amp;sa=X&amp;ved=0ahUKEwjKu_2LiOf1AhW-I0QIHXDMAc4Q_AUIBygA\">All</a><span class=\"OXXup\">News</span><a class=\"eZt8xd\" href=\"/search?q=Bitcoin&amp;ie=UTF-8&amp;tbm=isch&amp;source=lnms&amp;sa=X&amp;ved=0ahUKEwjKu_2LiOf1AhW-I0QIHXDMAc4Q_AUICSgC\">Images</a><a class=\"eZt8xd\" href=\"/search?q=Bitcoin&amp;ie=UTF-8&amp;tbm=vid&amp;source=lnms&amp;sa=X&amp;ved=0ahUKEwjKu_2LiOf1AhW-I0QIHXDMAc4Q_AUICigD\">Videos</a>  <a href=\"https://maps.google.com/maps?q=Bitcoin&amp;um=1&amp;ie=UTF-8&amp;sa=X&amp;ved=0ahUKEwjKu_2LiOf1AhW-I0QIHXDMAc4Q_AUICygE\">Maps</a>  <a href=\"/search?q=Bitcoin&amp;ie=UTF-8&amp;tbm=shop&amp;source=lnms&amp;sa=X&amp;ved=0ahUKEwjKu_2LiOf1AhW-I0QIHXDMAc4Q_AUIDCgF\">Shopping</a>  <a href=\"/search?q=Bitcoin&amp;ie=UTF-8&amp;tbm=bks&amp;source=lnms&amp;sa=X&amp;ved=0ahUKEwjKu_2LiOf1AhW-I0QIHXDMAc4Q_AUIDSgG\">Books</a>  <div class=\"FElbsf\"><a href=\"/advanced_search\" style=\"white-space:nowrap\" id=\"st-toggle\" role=\"button\">Search tools</a></div> </div> </div> </div> </div><div class=\"Pg70bf wEsjbd ZINbbc xpd O9g5cc uUPGi\" style=\"display:none\" id=\"st-card\"><style>.wEsjbd{background-color:#fff;height:44px;white-space:nowrap}.coPU8c{height:60px;overflow-scrolling:touch;overflow-x:auto;overflow-y:hidden}.Xj2aue{height:44px;overflow:hidden}.RnNGze{margin:11px 16px}.wEsjbd div,.wEsjbd a,.wEsjbd li{outline-width:0;outline:none}</style><div class=\"Xj2aue\"><div class=\"coPU8c\"><div class=\"RnNGze\"><style>.PA9J5{display:inline-block}.RXaOfd{display:inline-block;height:22px;position:relative;padding-top:0;padding-bottom:0;padding-right:16px;padding-left:0;line-height:22px;cursor:pointer;text-transform:uppercase;font-size:12px;color:#70757a}.sa1toc{display:none;position:absolute;background:#fff;border:1px solid #d6d6d6;box-shadow:0 2px 4px rgba(0,0,0,0.3);margin:0;white-space:nowrap;z-index:103;line-height:17px;padding-top:5px;padding-bottom:5px;padding-left:0}.PA9J5:hover .sa1toc{display:block}.mGSy8d a:active,.RXaOfd:active{color:#4285f4}</style><div class=\"PA9J5\"><div class=\"RXaOfd\" role=\"button\" tabindex=\"0\"><style>.TWMOUc{display:inline-block;padding-right:14px;white-space:nowrap}.vQYuGf{font-weight:bold}.OmTIzf{border-color:#909090 transparent;border-style:solid;border-width:4px 4px 0 4px;width:0;height:0;margin-left:-10px;top:50%;margin-top:-2px;position:absolute}.RXaOfd:active .OmTIzf{border-color:#4285f4 transparent}</style><div class=\"TWMOUc\">Recent</div><span class=\"OmTIzf\"></span></div><ul class=\"sa1toc ozatM\"><style>.ozatM{font-size:12px;text-transform:uppercase}.ozatM .yNFsl,.ozatM li{list-style-type:none;list-style-position:outside;list-style-image:none}.yNFsl.SkUj4c,.yNFsl a{color:rgba(0,0,0,0.54);text-decoration:none;padding:6px 44px 6px 14px;line-height:17px;display:block}.SkUj4c{background-image:url(//ssl.gstatic.com/ui/v1/menu/checkmark2.png);background-position:right center;background-repeat:no-repeat}.SkUj4c:active{background-color:#f8f9fa}</style><li class=\"yNFsl SkUj4c\">Recent</li><li class=\"yNFsl\"><a href=\"/search?q=Bitcoin&amp;ie=UTF-8&amp;tbm=nws&amp;source=lnt&amp;tbs=qdr:h&amp;sa=X&amp;ved=0ahUKEwjKu_2LiOf1AhW-I0QIHXDMAc4QpwUIDw\">Past hour</a></li><li class=\"yNFsl\"><a href=\"/search?q=Bitcoin&amp;ie=UTF-8&amp;tbm=nws&amp;source=lnt&amp;tbs=qdr:d&amp;sa=X&amp;ved=0ahUKEwjKu_2LiOf1AhW-I0QIHXDMAc4QpwUIEA\">Past 24 hours</a></li><li class=\"yNFsl\"><a href=\"/search?q=Bitcoin&amp;ie=UTF-8&amp;tbm=nws&amp;source=lnt&amp;tbs=qdr:w&amp;sa=X&amp;ved=0ahUKEwjKu_2LiOf1AhW-I0QIHXDMAc4QpwUIEQ\">Past week</a></li><li class=\"yNFsl\"><a href=\"/search?q=Bitcoin&amp;ie=UTF-8&amp;tbm=nws&amp;source=lnt&amp;tbs=qdr:m&amp;sa=X&amp;ved=0ahUKEwjKu_2LiOf1AhW-I0QIHXDMAc4QpwUIEg\">Past month</a></li><li class=\"yNFsl\"><a href=\"/search?q=Bitcoin&amp;ie=UTF-8&amp;tbm=nws&amp;source=lnt&amp;tbs=qdr:y&amp;sa=X&amp;ved=0ahUKEwjKu_2LiOf1AhW-I0QIHXDMAc4QpwUIEw\">Past year</a></li><li class=\"yNFsl\"><a href=\"/search?q=Bitcoin&amp;ie=UTF-8&amp;tbm=nws&amp;source=lnt&amp;tbs=ar:1&amp;sa=X&amp;ved=0ahUKEwjKu_2LiOf1AhW-I0QIHXDMAc4QpwUIFA\">Archives</a></li></ul></div><div class=\"PA9J5\"><div class=\"RXaOfd\" role=\"button\" tabindex=\"0\"><div class=\"TWMOUc\">Sorted by relevance</div><span class=\"OmTIzf\"></span></div><ul class=\"sa1toc ozatM\"><li class=\"yNFsl SkUj4c\">Sorted by relevance</li><li class=\"yNFsl\"><a href=\"/search?q=Bitcoin&amp;ie=UTF-8&amp;tbm=nws&amp;source=lnt&amp;tbs=sbd:1&amp;sa=X&amp;ved=0ahUKEwjKu_2LiOf1AhW-I0QIHXDMAc4QpwUIFg\">Sorted by date</a></li></ul></div></div></div></div><script nonce=\"VlzOz7ehhkBRNmYkdg1hpQ==\">(function(){\n",
      "var a=document.getElementById(\"st-toggle\"),b=document.getElementById(\"st-card\");a&&b&&a.addEventListener(\"click\",function(c){b.style.display=b.style.display?\"\":\"none\";c.preventDefault()},!1);}).call(this);</script></div></div><style>.ZINbbc{background-color:#fff;margin-bottom:30px;box-shadow:0 0 0 1px #dfe1e5;border-radius:8px}.uUPGi{font-size:14px;line-height:22px;}.O9g5cc>*:first-child{border-top-left-radius:8px;border-top-right-radius:8px}.O9g5cc>*:last-child{border-bottom-left-radius:8px;border-bottom-right-radius:8px}.O9g5cc>.qxDOhb>*:first-child{border-top-left-radius:8px;border-top-right-radius:8px}.O9g5cc>.qxDOhb>*:last-child{border-bottom-left-radius:8px;border-bottom-right-radius:8px}.luh4tb{background:transparent !important;box-shadow:none !important;border:none !important}.ZINbbc.luh4tb{margin-top:-12px;margin-bottom:18px}.rl7ilb{display:block;clear:both}.egMi0{margin-bottom:-22px}.kCrYT{padding:12px 16px 12px}a.fdYsqf{color:#4b11a8}.l97dzf{font-weight:400}.zBAuLc{line-height:normal;margin:0;padding:0}.BNeawe{white-space:pre-line;word-wrap:break-word}.vvjwJb{color:#1a0dab;font-size:20px;line-height:26px}a:visited .vvjwJb,.vvjwJb a:visited{color:#4B11A8}.vvjwJb.HrGdeb{color:#fff}a:visited .vvjwJb.HrGdeb,.vvjwJb.HrGdeb a:visited{color:rgba(255,255,255,.70)}.UPmit{font-size:14px;line-height:22px}.UPmit.HrGdeb{color:rgba(255,255,255,.70)}.UPmit.AP7Wnd{color:#0d652d}.lcJF1d{border-radius:8px;margin-left:16px;float:right;}.h1hFNe{display:inline-block;position:relative}.Q6Xouf{overflow:hidden}.G6SP0b{display:inline-block}.eeoFaf{position:relative}.Ey4n2{padding-bottom:12px}.s3v9rd{font-size:14px;line-height:22px}.s3v9rd.HrGdeb{color:#fff}.s3v9rd.AP7Wnd{color:#202124}.xUrNXd.VyZZLb{color:rgba(255,255,255,.70)}.xUrNXd.UMOHqf{color:#70757a}.rLshyf,.BmP5tf{padding-top:12px;padding-bottom:12px}.YOx3Ab{padding-left:16px;}.w1C3Le,.BmP5tf,.G5NbBd,.CS4w5b{padding-left:16px;padding-right:16px;}.G5NbBd{padding-bottom:12px}.CS4w5b{padding-top:12px}.nMymef{display:flex}.G5eFlf{flex:1;display:block}.nMymef span{text-align:center}.KwU3F{color:#1a73e8}.GNm3Qb{display:inline-block}.xSQxL{color:#1a73e8;cursor:pointer;display:inline-block}.HDOrGf{line-height:40px}.EYqSq{border-radius:100%;display:inline-block;height:10px;margin:6px 4px 9px 0;vertical-align:middle;width:10px}.dfB0uf{color:#3c4043;font-weight:bold}.TUOsUe{text-align:left}.lxG8Hd.aID8W{background-color:rgba(32,33,36,0.6);opacity:1;visibility:inherit}.qW28Ef.aID8W{background-color:#000;opacity:0.4;visibility:inherit}.m114nf.aID8W{background-color:#202124;opacity:0.7;visibility:inherit}.xq162b.aID8W{background-color:#000;opacity:0.8;visibility:inherit}.Xz5tfb.aID8W{background-color:#f8f9fa;opacity:0.85;visibility:inherit}.Kg0gUe.aID8W{background-color:#202124;opacity:0.6;visibility:inherit}.NJfJb.aID8W{opacity:1}.bErdLd.aID8W{opacity:1;visibility:inherit}.bErdLd.hFCnyd{cursor:pointer}.bErdLd.hFCnyd .NJfJb{cursor:default}.t7xA6{position:fixed;z-index:9997;right:0;bottom:-200px;top:0;left:0;transition:opacity 0.25s;opacity:0;visibility:hidden}.NJfJb{border-radius:8px;border-radius:8px;display:inline-block;z-index:9999;background-color:#fff;opacity:0;white-space:normal;overflow:hidden;box-shadow:0px 5px 26px 0px rgba(0,0,0,0.22),0px 20px 28px 0px rgba(0,0,0,0.3)}.NJfJb.o1VDwe{background-color:transparent;box-shadow:none}.NJfJb.Sr5CLc{position:relative;vertical-align:middle}.NJfJb.ZbLCRc{position:absolute}.NJfJb.mr5vfb{border:1px solid #dadce0;box-shadow:0 2px 4px #dadce0;box-shadow:0 2px 4px #dadce0}.bErdLd{position:fixed;right:0;bottom:0;top:0;left:0;z-index:9998;vertical-align:middle;visibility:hidden;white-space:nowrap;max-height:100%;max-width:100%;overflow-x:hidden;overflow-y:auto}.bErdLd.wwYr3{text-align:center}.bErdLd::after{content:'';display:inline-block;height:100%;vertical-align:middle}.bErdLd{tap-highlight-color:rgba(0,0,0,0.0)}.ls8Qne{height:0;opacity:0;position:absolute;width:0}.OxAxec{visibility:hidden}.QVCmK{overflow:hidden}.llJxV .NJfJb{max-width:100%}.OosGzb{width:376px}.wHYlTd{font-family:Roboto,Helvetica Neue,Arial,sans-serif;font-size:14px;line-height:20px}.yUTMj{font-family:Roboto,Helvetica Neue,Arial,sans-serif;font-weight:400}.v0rrvd{padding-bottom:16px}.zJUuqf{margin-bottom:4px}.AB4Wff{margin-left:16px}.VDgVie{text-align:center}@keyframes g-snackbar-show {from{pointer-events:none;transform:translateY(0)}to{transform:translateY(-100%)}}@keyframes g-snackbar-hide {from{transform:translateY(-100%)}to{transform:translateY(0)}}@keyframes g-snackbar-show-content {from{opacity:0}}@keyframes g-snackbar-hide-content {to{opacity:0}}.tYAdEe,.SaJ9Qe{bottom:0;height:0;position:fixed;z-index:999}.vT5nhd{height:0;position:fixed;z-index:999}.ZtLxGf{box-sizing:border-box;visibility:hidden;display:inline-block}.FEXCIb,.CIKhFd{box-sizing:border-box;visibility:hidden}.lnctfd{animation:g-snackbar-hide 400ms cubic-bezier(.4,0,.2,1) both;animation:g-snackbar-hide 400ms cubic-bezier(.4,0,.2,1) both;visibility:inherit}.ZWC4b{animation:g-snackbar-show 500ms cubic-bezier(.4,0,.2,1) both;animation:g-snackbar-show 500ms cubic-bezier(.4,0,.2,1) both;visibility:inherit}.EA3l1b{background-color:#323232;padding:0 24px}.Xb004{align-items:center;align-items:center;box-align:center;display:box;display:flex;display:flex}.lnctfd .Xb004{animation:g-snackbar-hide-content 350ms cubic-bezier(.4,0,.2,1) both;animation:g-snackbar-hide-content 350ms cubic-bezier(.4,0,.2,1) both}.ZWC4b .Xb004{animation:g-snackbar-show-content 350ms cubic-bezier(.4,0,.2,1) 150ms both;animation:g-snackbar-show-content 350ms cubic-bezier(.4,0,.2,1) 150ms both}.awHmMb.awHmMb{line-height:20px}.awHmMb{box-flex:1;color:#fff;flex:1 1 auto;margin:14px 0;word-break:break-word}.BDp8nf{margin-right:-8px}@media (min-width:569px) and (min-height:569px){.tYAdEe,.SaJ9Qe{text-align:center}.CIKhFd,.FEXCIb{display:inline-block;max-width:568px;min-width:288px;text-align:left}.EA3l1b{border-radius:8px;}.BDp8nf{margin-left:40px}}.z5QvOe .Xb004{display:block;padding:8px 0}.z5QvOe .BDp8nf{margin-left:0}.z5QvOe .BDp8nf g-flat-button{padding-left:0}.tYAdEe,.vT5nhd{left:0;right:0}.hObAcc{margin-left:4px;margin-right:4px}.r2fjmd{margin-bottom:0px;margin-top:0px}.gTewb{padding-left:8px;padding-right:8px}.U8shWc{background-color:transparent;border:none;border-radius:8px;border-radius:8px;box-sizing:border-box;display:inline-block;font-size:14px;font-weight:500;padding-top:6px;padding-bottom:3px;min-width:88px;position:relative;text-decoration:none !important;user-select:none;white-space:nowrap}.U8shWc:disabled,.U8shWc[disabled]:not([disabled=false]){pointer-events:none}.U8shWc.fSXIc{min-width:64px}.U8shWc.hpZDWd{color:#fff}.hpZDWd:focus{background-color:rgba(204,204,204,.15)}.hpZDWd:active{background-color:rgba(204,204,204,.25)}.U8shWc.hpZDWd:disabled,.U8shWc.hpZDWd[disabled]:not([disabled=false]){color:rgba(255,255,255,.30) !important}.aepCxe{padding:14px 0;margin:-14px 0}</style><div><!--SW_C_X--></div><div></div><div><div class=\"ZINbbc luh4tb xpd O9g5cc uUPGi\"><div class=\"egMi0 kCrYT\"><a href=\"/url?q=https://theconversation.com/why-are-people-calling-bitcoin-a-religion-175717&amp;sa=U&amp;ved=2ahUKEwjKu_2LiOf1AhW-I0QIHXDMAc4QxfQBegQIARAB&amp;usg=AOvVaw2dBEmNWy2irt-EGSmB47s8\"><h3 class=\"zBAuLc l97dzf\"><div class=\"BNeawe vvjwJb AP7Wnd\">Why are people calling Bitcoin a religion?</div></h3><div class=\"BNeawe UPmit AP7Wnd\">The Conversation</div></a></div><div class=\"kCrYT\"><a href=\"/url?q=https://theconversation.com/why-are-people-calling-bitcoin-a-religion-175717&amp;sa=U&amp;ved=2ahUKEwjKu_2LiOf1AhW-I0QIHXDMAc4Q0Y8FegQIARAC&amp;usg=AOvVaw37zHxswKrwilqnoQl6NIyF\"><div class=\"lcJF1d Q6Xouf G6SP0b\"><div style=\"width:90px;height:90px;position:static\"><img class=\"h1hFNe\" alt=\"\" src=\"data:image/gif;base64,R0lGODlhAQABAIAAAP///////yH5BAEKAAEALAAAAAABAAEAAAICTAEAOw==\" style=\"width:90px;height:90px\" id=\"dimg_5\" data-deferred=\"1\"></div></div></a><div><div class=\"BNeawe s3v9rd AP7Wnd\"><div><div class=\"BNeawe s3v9rd AP7Wnd\"><span class=\"xUrNXd UMOHqf\">1 day ago</span><span class=\"xUrNXd UMOHqf\"> · </span>There is a Church of Bitcoin, founded in 2017, that explicitly calls legendary Bitcoin creator Satoshi Nakamoto its &#8220;prophet.&#8221; In Austin, Texas,...</div></div></div></div><div class=\"rl7ilb\"></div></div></div></div><div><div class=\"ZINbbc luh4tb xpd O9g5cc uUPGi\"><div class=\"egMi0 kCrYT\"><a href=\"/url?q=https://www.aljazeera.com/economy/2022/2/4/bitcoin-jumps-10-climbs-past-40000-for-first-time-in-2-weeks&amp;sa=U&amp;ved=2ahUKEwjKu_2LiOf1AhW-I0QIHXDMAc4QxfQBegQICRAB&amp;usg=AOvVaw3LamIA__bH_xTvt3Vs-A_5\"><h3 class=\"zBAuLc l97dzf\"><div class=\"BNeawe vvjwJb AP7Wnd\">Bitcoin jumps 10%, climbs past $40,000 for first time in 2 weeks</div></h3><div class=\"BNeawe UPmit AP7Wnd\">Al Jazeera</div></a></div><div class=\"kCrYT\"><a href=\"/url?q=https://www.aljazeera.com/economy/2022/2/4/bitcoin-jumps-10-climbs-past-40000-for-first-time-in-2-weeks&amp;sa=U&amp;ved=2ahUKEwjKu_2LiOf1AhW-I0QIHXDMAc4Q0Y8FegQICRAC&amp;usg=AOvVaw2UiN3pXSymu6EWGU4U99v6\"><div class=\"lcJF1d Q6Xouf G6SP0b\"><div style=\"width:120px;height:63px;position:static\"><img class=\"h1hFNe\" alt=\"\" src=\"data:image/gif;base64,R0lGODlhAQABAIAAAP///////yH5BAEKAAEALAAAAAABAAEAAAICTAEAOw==\" style=\"width:120px;height:63px\" id=\"dimg_19\" data-deferred=\"1\"></div></div></a><div><div class=\"BNeawe s3v9rd AP7Wnd\"><div><div class=\"BNeawe s3v9rd AP7Wnd\"><span class=\"xUrNXd UMOHqf\">4 hours ago</span><span class=\"xUrNXd UMOHqf\"> · </span>Bitcoin gained the most in more than three months as investors show signs of renewed risk appetite following a volatile week across...</div></div></div></div><div class=\"rl7ilb\"></div></div></div></div><div><div class=\"ZINbbc luh4tb xpd O9g5cc uUPGi\"><div class=\"egMi0 kCrYT\"><a href=\"/url?q=https://www.coindesk.com/markets/2022/02/04/bitcoin-tops-40k-for-first-time-in-2-weeks/&amp;sa=U&amp;ved=2ahUKEwjKu_2LiOf1AhW-I0QIHXDMAc4QxfQBegQIBxAB&amp;usg=AOvVaw3SkHSz-I5TftVWtrefPlOw\"><h3 class=\"zBAuLc l97dzf\"><div class=\"BNeawe vvjwJb AP7Wnd\">Bitcoin Tops $40K for First Time in 2 Weeks</div></h3><div class=\"BNeawe UPmit AP7Wnd\">CoinDesk</div></a></div><div class=\"kCrYT\"><a href=\"/url?q=https://www.coindesk.com/markets/2022/02/04/bitcoin-tops-40k-for-first-time-in-2-weeks/&amp;sa=U&amp;ved=2ahUKEwjKu_2LiOf1AhW-I0QIHXDMAc4Q0Y8FegQIBxAC&amp;usg=AOvVaw2JfP6m9kEy0z44hAoPC1rY\"><div class=\"lcJF1d Q6Xouf G6SP0b\"><div style=\"width:120px;height:62px;position:static\"><img class=\"h1hFNe\" alt=\"\" src=\"data:image/gif;base64,R0lGODlhAQABAIAAAP///////yH5BAEKAAEALAAAAAABAAEAAAICTAEAOw==\" style=\"width:120px;height:62px\" id=\"dimg_15\" data-deferred=\"1\"></div></div></a><div><div class=\"BNeawe s3v9rd AP7Wnd\"><div><div class=\"BNeawe s3v9rd AP7Wnd\"><span class=\"xUrNXd UMOHqf\">5 hours ago</span><span class=\"xUrNXd UMOHqf\"> · </span>Bitcoin (BTC) jumped to a two-week high on Friday as crypto traders grew more confident that the market has stabilized following a recent slump...</div></div></div></div><div class=\"rl7ilb\"></div></div></div></div><div><div class=\"ZINbbc luh4tb xpd O9g5cc uUPGi\"><div class=\"egMi0 kCrYT\"><a href=\"/url?q=https://www.coindesk.com/learn/how-to-invest-in-bitcoin-without-buying-btc/&amp;sa=U&amp;ved=2ahUKEwjKu_2LiOf1AhW-I0QIHXDMAc4QxfQBegQICBAB&amp;usg=AOvVaw1Zu2uRe2eY3tpuVrV9MRHx\"><h3 class=\"zBAuLc l97dzf\"><div class=\"BNeawe vvjwJb AP7Wnd\">How to Invest in Bitcoin Without Buying BTC</div></h3><div class=\"BNeawe UPmit AP7Wnd\">CoinDesk</div></a></div><div class=\"kCrYT\"><a href=\"/url?q=https://www.coindesk.com/learn/how-to-invest-in-bitcoin-without-buying-btc/&amp;sa=U&amp;ved=2ahUKEwjKu_2LiOf1AhW-I0QIHXDMAc4Q0Y8FegQICBAC&amp;usg=AOvVaw2Dd7lH72OLhqr0hjYUuhq1\"><div class=\"lcJF1d Q6Xouf G6SP0b\"><div style=\"width:120px;height:79px;position:static\"><img class=\"h1hFNe\" alt=\"\" src=\"data:image/gif;base64,R0lGODlhAQABAIAAAP///////yH5BAEKAAEALAAAAAABAAEAAAICTAEAOw==\" style=\"width:120px;height:79px\" id=\"dimg_17\" data-deferred=\"1\"></div></div></a><div><div class=\"BNeawe s3v9rd AP7Wnd\"><div><div class=\"BNeawe s3v9rd AP7Wnd\"><span class=\"xUrNXd UMOHqf\">6 hours ago</span><span class=\"xUrNXd UMOHqf\"> · </span>So instead of having to go out and buy bitcoin directly on an unregulated crypto exchange, you can effectively trade paper that represents it...</div></div></div></div><div class=\"rl7ilb\"></div></div></div></div><div><div class=\"ZINbbc luh4tb xpd O9g5cc uUPGi\"><div class=\"egMi0 kCrYT\"><a href=\"/url?q=https://www.coindesk.com/markets/2022/02/04/bitcoin-attempts-to-break-downtrend-faces-resistance-toward-45k/&amp;sa=U&amp;ved=2ahUKEwjKu_2LiOf1AhW-I0QIHXDMAc4QxfQBegQIABAB&amp;usg=AOvVaw1wDULA-DDt5uixskDODYCu\"><h3 class=\"zBAuLc l97dzf\"><div class=\"BNeawe vvjwJb AP7Wnd\">Bitcoin Attempts to Break Downtrend; Faces Resistance Toward $45K</div></h3><div class=\"BNeawe UPmit AP7Wnd\">CoinDesk</div></a></div><div class=\"kCrYT\"><a href=\"/url?q=https://www.coindesk.com/markets/2022/02/04/bitcoin-attempts-to-break-downtrend-faces-resistance-toward-45k/&amp;sa=U&amp;ved=2ahUKEwjKu_2LiOf1AhW-I0QIHXDMAc4Q0Y8FegQIABAC&amp;usg=AOvVaw0KsUy4t_Yk-FcX9WZ3d2PV\"><div class=\"lcJF1d Q6Xouf G6SP0b\"><div style=\"width:120px;height:62px;position:static\"><img class=\"h1hFNe\" alt=\"\" src=\"data:image/gif;base64,R0lGODlhAQABAIAAAP///////yH5BAEKAAEALAAAAAABAAEAAAICTAEAOw==\" style=\"width:120px;height:62px\" id=\"dimg_10\" data-deferred=\"1\"></div></div></a><div><div class=\"BNeawe s3v9rd AP7Wnd\"><div><div class=\"BNeawe s3v9rd AP7Wnd\"><span class=\"xUrNXd UMOHqf\">2 hours ago</span><span class=\"xUrNXd UMOHqf\"> · </span>Bitcoin's price will need to remain above $37,000 over the weekend in order to signal the start of a recovery phase. ... Bitcoin (BTC) buyers were...</div></div></div></div><div class=\"rl7ilb\"></div></div></div></div><div><div class=\"ZINbbc luh4tb xpd O9g5cc uUPGi\"><div class=\"egMi0 kCrYT\"><a href=\"/url?q=https://www.bloomberg.com/news/articles/2022-02-04/bitcoin-ether-advance-as-amazon-results-buoy-technology-stocks&amp;sa=U&amp;ved=2ahUKEwjKu_2LiOf1AhW-I0QIHXDMAc4QxfQBegQIBRAB&amp;usg=AOvVaw0LlOqTyN0RZ3iXkb2UzCBY\"><h3 class=\"zBAuLc l97dzf\"><div class=\"BNeawe vvjwJb AP7Wnd\">Bitcoin (BTC USD), Ether ($ETH) Jump as Amazon Earnings Results ...</div></h3><div class=\"BNeawe UPmit AP7Wnd\">Bloomberg.com</div></a></div><div class=\"kCrYT\"><a href=\"/url?q=https://www.bloomberg.com/news/articles/2022-02-04/bitcoin-ether-advance-as-amazon-results-buoy-technology-stocks&amp;sa=U&amp;ved=2ahUKEwjKu_2LiOf1AhW-I0QIHXDMAc4Q0Y8FegQIBRAC&amp;usg=AOvVaw2B1VDMJQe8qY34kyKqSJZk\"><div class=\"lcJF1d Q6Xouf G6SP0b\"><div style=\"width:120px;height:67px;position:static\"><img class=\"h1hFNe\" alt=\"\" src=\"data:image/gif;base64,R0lGODlhAQABAIAAAP///////yH5BAEKAAEALAAAAAABAAEAAAICTAEAOw==\" style=\"width:120px;height:67px\" id=\"dimg_7\" data-deferred=\"1\"></div></div></a><div><div class=\"BNeawe s3v9rd AP7Wnd\"><div><div class=\"BNeawe s3v9rd AP7Wnd\"><span class=\"xUrNXd UMOHqf\">2 hours ago</span><span class=\"xUrNXd UMOHqf\"> · </span>Bitcoin gained the most in four months as investors show signs of renewed risk appetite following a volatile week across financial markets.</div></div></div></div><div class=\"rl7ilb\"></div></div></div></div><div><div class=\"ZINbbc luh4tb xpd O9g5cc uUPGi\"><div class=\"egMi0 kCrYT\"><a href=\"/url?q=https://finance.yahoo.com/news/bitcoin-is-a-100-year-investment-micro-strategy-ceo-181025685.html&amp;sa=U&amp;ved=2ahUKEwjKu_2LiOf1AhW-I0QIHXDMAc4QxfQBegQIAxAB&amp;usg=AOvVaw062xTO5IZIY_blRDuMh3rz\"><h3 class=\"zBAuLc l97dzf\"><div class=\"BNeawe vvjwJb AP7Wnd\">Bitcoin is a 100-year investment: MicroStrategy CEO</div></h3><div class=\"BNeawe UPmit AP7Wnd\">Yahoo Finance</div></a></div><div class=\"kCrYT\"><a href=\"/url?q=https://finance.yahoo.com/news/bitcoin-is-a-100-year-investment-micro-strategy-ceo-181025685.html&amp;sa=U&amp;ved=2ahUKEwjKu_2LiOf1AhW-I0QIHXDMAc4Q0Y8FegQIAxAC&amp;usg=AOvVaw0LsqWNNEYK_xRFp0F4Ri94\"><div class=\"lcJF1d Q6Xouf G6SP0b\"><div style=\"width:120px;height:76px;position:static\"><img class=\"h1hFNe\" alt=\"\" src=\"data:image/gif;base64,R0lGODlhAQABAIAAAP///////yH5BAEKAAEALAAAAAABAAEAAAICTAEAOw==\" style=\"width:120px;height:76px\" id=\"dimg_2\" data-deferred=\"1\"></div></div></a><div><div class=\"BNeawe s3v9rd AP7Wnd\"><div><div class=\"BNeawe s3v9rd AP7Wnd\"><span class=\"xUrNXd UMOHqf\">3 hours ago</span><span class=\"xUrNXd UMOHqf\"> · </span>Feeling down that bitcoin prices are well off their all-time highs? Don't be, says bitcoin bull and MicroStrategy CEO Michael Saylor.</div></div></div></div><div class=\"rl7ilb\"></div></div></div></div><div><div class=\"ZINbbc luh4tb xpd O9g5cc uUPGi\"><div class=\"egMi0 kCrYT\"><a href=\"/url?q=https://www.coindesk.com/business/2022/02/04/jpmorgan-asset-management-chief-slams-bitcoin-in-maltese-falcoin-report/&amp;sa=U&amp;ved=2ahUKEwjKu_2LiOf1AhW-I0QIHXDMAc4QxfQBegQIBhAB&amp;usg=AOvVaw1dtIIjI_el955IrjWpzj0E\"><h3 class=\"zBAuLc l97dzf\"><div class=\"BNeawe vvjwJb AP7Wnd\">JPMorgan Asset Management Chief Slams Bitcoin in &#8216;Maltese Falcoin&#8217; Report</div></h3><div class=\"BNeawe UPmit AP7Wnd\">CoinDesk</div></a></div><div class=\"kCrYT\"><a href=\"/url?q=https://www.coindesk.com/business/2022/02/04/jpmorgan-asset-management-chief-slams-bitcoin-in-maltese-falcoin-report/&amp;sa=U&amp;ved=2ahUKEwjKu_2LiOf1AhW-I0QIHXDMAc4Q0Y8FegQIBhAC&amp;usg=AOvVaw0joSfH_oaQHk8JDBLzFSVD\"><div class=\"lcJF1d Q6Xouf G6SP0b\"><div style=\"width:120px;height:62px;position:static\"><img class=\"h1hFNe\" alt=\"\" src=\"data:image/gif;base64,R0lGODlhAQABAIAAAP///////yH5BAEKAAEALAAAAAABAAEAAAICTAEAOw==\" style=\"width:120px;height:62px\" id=\"dimg_1\" data-deferred=\"1\"></div></div></a><div><div class=\"BNeawe s3v9rd AP7Wnd\"><div><div class=\"BNeawe s3v9rd AP7Wnd\"><span class=\"xUrNXd UMOHqf\">7 hours ago</span><span class=\"xUrNXd UMOHqf\"> · </span>Bitcoin's lofty valuations are the &#8220;stuff that dreams are made of.&#8221; So says Michael Cembalest, J.P. Morgan Asset &amp; Wealth Management's...</div></div></div></div><div class=\"rl7ilb\"></div></div></div></div><div><div class=\"ZINbbc luh4tb xpd O9g5cc uUPGi\"><div class=\"egMi0 kCrYT\"><a href=\"/url?q=https://www.coindesk.com/markets/2022/02/04/market-wrap-bitcoin-rallies-as-altcoins-take-the-lead/&amp;sa=U&amp;ved=2ahUKEwjKu_2LiOf1AhW-I0QIHXDMAc4QxfQBegQIBBAB&amp;usg=AOvVaw0NQ8GC3IJVGto7ix7edVbV\"><h3 class=\"zBAuLc l97dzf\"><div class=\"BNeawe vvjwJb AP7Wnd\">Market Wrap: Bitcoin Rallies as Altcoins Take the Lead</div></h3><div class=\"BNeawe UPmit AP7Wnd\">CoinDesk</div></a></div><div class=\"kCrYT\"><a href=\"/url?q=https://www.coindesk.com/markets/2022/02/04/market-wrap-bitcoin-rallies-as-altcoins-take-the-lead/&amp;sa=U&amp;ved=2ahUKEwjKu_2LiOf1AhW-I0QIHXDMAc4Q0Y8FegQIBBAC&amp;usg=AOvVaw238UscYknr2knD_ifr68Uw\"><div class=\"lcJF1d Q6Xouf G6SP0b\"><div style=\"width:120px;height:89px;position:static\"><img class=\"h1hFNe\" alt=\"\" src=\"data:image/gif;base64,R0lGODlhAQABAIAAAP///////yH5BAEKAAEALAAAAAABAAEAAAICTAEAOw==\" style=\"width:120px;height:89px\" id=\"dimg_6\" data-deferred=\"1\"></div></div></a><div><div class=\"BNeawe s3v9rd AP7Wnd\"><div><div class=\"BNeawe s3v9rd AP7Wnd\"><span class=\"xUrNXd UMOHqf\">49 mins ago</span><span class=\"xUrNXd UMOHqf\"> · </span>Bitcoin (BTC) and other cryptocurrencies rallied on Friday, reversing losses from a few days ago. Alternative cryptocurrencies (altcoins)...</div></div></div></div><div class=\"rl7ilb\"></div></div></div></div><div><div class=\"ZINbbc luh4tb xpd O9g5cc uUPGi\"><div class=\"egMi0 kCrYT\"><a href=\"/url?q=https://www.forbes.com/sites/billybambrough/2022/02/04/a-huge-deal-bitcoin-is-suddenly-soaring-as-the-price-of-ethereum-bnb-solana-cardano-and-xrp-rocket/&amp;sa=U&amp;ved=2ahUKEwjKu_2LiOf1AhW-I0QIHXDMAc4QxfQBegQIAhAB&amp;usg=AOvVaw0WRKx8U5fLXxmsU71roB8E\"><h3 class=\"zBAuLc l97dzf\"><div class=\"BNeawe vvjwJb AP7Wnd\">&#8216;A Huge Deal&#8217;&#8212;Bitcoin Is Suddenly Soaring As The Price Of Ethereum, BNB, Solana, Cardano And XRP Rocket</div></h3><div class=\"BNeawe UPmit AP7Wnd\">Forbes</div></a></div><div class=\"kCrYT\"><a href=\"/url?q=https://www.forbes.com/sites/billybambrough/2022/02/04/a-huge-deal-bitcoin-is-suddenly-soaring-as-the-price-of-ethereum-bnb-solana-cardano-and-xrp-rocket/&amp;sa=U&amp;ved=2ahUKEwjKu_2LiOf1AhW-I0QIHXDMAc4Q0Y8FegQIAhAC&amp;usg=AOvVaw2R0hlSZoXo2FYlwYE5TykJ\"><div class=\"lcJF1d Q6Xouf G6SP0b\"><div style=\"width:120px;height:79px;position:static\"><img class=\"h1hFNe\" alt=\"\" src=\"data:image/gif;base64,R0lGODlhAQABAIAAAP///////yH5BAEKAAEALAAAAAABAAEAAAICTAEAOw==\" style=\"width:120px;height:79px\" id=\"dimg_13\" data-deferred=\"1\"></div></div></a><div><div class=\"BNeawe s3v9rd AP7Wnd\"><div><div class=\"BNeawe s3v9rd AP7Wnd\"><span class=\"xUrNXd UMOHqf\">5 hours ago</span><span class=\"xUrNXd UMOHqf\"> · </span>Bitcoin and cryptocurrency prices have leaped following the latest U.S. jobs report that showed employers added 467,000 jobs in January,...</div></div></div></div><div class=\"rl7ilb\"></div></div></div></div><footer> <div>  <div class=\"ZINbbc xpd O9g5cc uUPGi BmP5tf\"><div class=\"nMymef MUxGbd lyLwlc\"><a class=\"nBDE1b G5eFlf\" href=\"/search?q=Bitcoin&amp;ie=UTF-8&amp;tbm=nws&amp;ei=HqT9Ycq0Er7HkPIP8JiH8Aw&amp;start=10&amp;sa=N\" aria-label=\"Next page\">Next &gt;</a></div></div> </div>  <div id=\"EOlPnc\"><div class=\"Srfpq\"><div jscontroller=\"qcH9Lc\" id=\"tsuid1\" jsdata=\"z6bOeb;_;AbY5KE\" jsaction=\"oEnJg:CEnhyd;gJk92:b6DXXd;gfszqc:BGFS9\"></div><span>&nbsp;-&nbsp;</span><a href=\"/url?q=https://support.google.com/websearch%3Fp%3Dws_settings_location%26hl%3Den&amp;sa=U&amp;ved=0ahUKEwjKu_2LiOf1AhW-I0QIHXDMAc4Qty4IXg&amp;usg=AOvVaw3ZL2nTuvkQr0mi69DVtD9-\">Learn more</a></div><div><a href=\"/url?q=https://accounts.google.com/ServiceLogin%3Fcontinue%3Dhttps://www.google.com/search%253Fq%253DBitcoin%2526source%253Dlnms%2526tbm%253Dnws%26hl%3Den&amp;sa=U&amp;ved=0ahUKEwjKu_2LiOf1AhW-I0QIHXDMAc4Qxs8CCF8&amp;usg=AOvVaw0E6DWI_dmPbDUq2Nw3pdc3\">Sign in</a></div><div><a class=\"xeDNfc\" href=\"https://www.google.com/preferences?hl=en&amp;fg=1&amp;sa=X&amp;ved=0ahUKEwjKu_2LiOf1AhW-I0QIHXDMAc4Q5fUCCGA\">Settings</a><a class=\"xeDNfc\" href=\"https://policies.google.com/privacy?hl=en&amp;fg=1\">Privacy</a><a class=\"xeDNfc\" href=\"https://policies.google.com/terms?hl=en&amp;fg=1\">Terms</a></div></div> </footer><script nonce=\"VlzOz7ehhkBRNmYkdg1hpQ==\">(function(){var hl='en';(function(){\n",
      "var f=this||self,g=function(a){return a};var h,k=function(){if(void 0===h){var a=null,b=f.trustedTypes;if(b&&b.createPolicy){try{a=b.createPolicy(\"goog#html\",{createHTML:g,createScript:g,createScriptURL:g})}catch(c){f.console&&f.console.error(c.message)}h=a}else h=a}return h};var n=function(a,b){this.h=a===l&&b||\"\";this.g=m},p=function(a){return a instanceof n&&a.constructor===n&&a.g===m?a.h:\"type_error:Const\"},m={},l={};var r=function(a,b){this.g=b===q?a:\"\"};r.prototype.toString=function(){return this.g+\"\"};var t=function(a){return a instanceof r&&a.constructor===r?a.g:\"type_error:TrustedResourceUrl\"},x=function(){var a={},b=p(new n(l,\"/complete/search\"));if(!u.test(b))throw Error(\"a`\"+b);var c=b.replace(v,function(e,d){if(!Object.prototype.hasOwnProperty.call(a,d))throw Error(\"b`\"+d+\"`\"+b+\"`\"+JSON.stringify(a));e=a[d];return e instanceof n?p(e):encodeURIComponent(String(e))});return w(c)},v=/%{(\\w+)}/g,u=RegExp(\"^((https:)?//[0-9a-z.:[\\\\]-]+/|/[^/\\\\\\\\]|[^:/\\\\\\\\%]+/|[^:/\\\\\\\\%]*[?#]|about:blank#)\",\"i\"),y=/^([^?#]*)(\\?[^#]*)?(#[\\s\\S]*)?/,q={},w=function(a){var b=k();a=b?b.createScriptURL(a):a;return new r(a,q)},z=function(a,b,c){if(null==c)return b;if(\"string\"===typeof c)return c?a+encodeURIComponent(c):\"\";for(var e in c)if(Object.prototype.hasOwnProperty.call(c,e)){var d=c[e];d=Array.isArray(d)?d:[d];for(var D=0;D<d.length;D++){var P=d[D];null!=P&&(b||(b=a),b+=(b.length>a.length?\"&\":\"\")+encodeURIComponent(e)+\"=\"+encodeURIComponent(String(P)))}}return b};var A={},B=function(a,b,c){this.g=c===A?a:\"\"};B.prototype.toString=function(){return this.g.toString()};var C=function(a){var b=k();a=b?b.createHTML(a):a;return new B(a,null,A)};\n",
      "function E(a,b){if(null!==a&&void 0!==a.tagName){if(\"script\"===a.tagName.toLowerCase())throw Error(\"c\");if(\"style\"===a.tagName.toLowerCase())throw Error(\"d\");}a.innerHTML=b instanceof B&&b.constructor===B?b.g:\"type_error:SafeHtml\"};var F=document.querySelector(\".l\"),G=document.querySelector(\"#sf\"),H=G.querySelector(\".sbc\"),I=G.querySelector(\"[type=text]\"),J=G.querySelector(\"[type=submit]\"),K=G.querySelector(\".sc\"),L=G.querySelector(\".x\"),M=I.value,N=[],O=-1,Q=M,R,S,T;M||(L&&(L.style.display=\"none\"),U(!1));function U(a){if(H.classList.contains(\"esbc\")){var b=H.classList.contains(\"chsbc\"),c=H.classList.contains(\"rtlsbc\");a&&(K.style.display=\"block\",b?(G.style.borderRadius=\"20px 20px 0 0\",K.style.borderBottom=\"1px solid #DFE1E5\",J.style.borderRadius=c?\"20px 0 0 0\":\"0 20px 0 0\"):H.style.borderRadius=c?\"0 8px 0 0\":\"8px 0 0 0\");a||(K.style.display=\"none\",b?(G.style.borderRadius=\"20px\",K.style.borderBottom=\"none\",J.style.borderRadius=c?\"20px 0 0 20px\":\"0 20px 20px 0\"):H.style.borderRadius=c?\"0 8px 8px 0\":\"8px 0 0 8px\")}}function V(){G.querySelector(\"[name=oq]\").value=Q;G.querySelector(\"[name=aqs]\").value=\"heirloom-srp.\"+(0<=O?O:\"\")+\".\"+(0<N.length?\"0l\"+N.length:\"\")}\n",
      "function W(){R=null;if(S){var a={client:\"heirloom-srp\",hl:hl,json:\"t\",callback:\"hS\",q:S};\"undefined\"!==typeof ds&&ds&&(a.ds=ds);var b=document;var c=\"SCRIPT\";\"application/xhtml+xml\"===b.contentType&&(c=c.toLowerCase());c=b.createElement(c);b=x();b=y.exec(t(b).toString());var e=b[3]||\"\";a=w(b[1]+z(\"?\",b[2]||\"\",a)+z(\"#\",e,void 0));c.src=t(a);var d;a=(c.ownerDocument&&c.ownerDocument.defaultView||window).document;(d=(b=null===(d=a.querySelector)||void 0===d?void 0:d.call(a,\"script[nonce]\"))?b.nonce||\n",
      "b.getAttribute(\"nonce\")||\"\":\"\")&&c.setAttribute(\"nonce\",d);document.body.appendChild(c);S=null;R=setTimeout(W,500)}}function X(){for(;K.firstChild;)K.removeChild(K.firstChild);N=[];O=-1;U(!1)}function Y(){var a=K.querySelector(\".scs\");a&&(a.className=\"\");0<=O?(a=K.childNodes[O],a.className=\"scs\",M=a.textContent):M=Q;I.value=M}I.addEventListener(\"focus\",function(){F&&(F.style.display=\"none\")},!1);I.addEventListener(\"blur\",function(){X();F&&(F.style.display=\"\")},!1);I.addEventListener(\"keyup\",function(a){M=I.value;T=!1;13===a.which?V():27===a.which?(X(),F&&(F.style.display=\"\"),M=Q,I.value=M):40===a.which?(O++,O>=N.length&&(O=-1),Y()):38===a.which?(O--,-1>O&&(O=N.length-1),Y()):(a=M)?(L&&(L.style.display=\"\"),S=a,R||W(),Q=a):(L&&(L.style.display=\"none\"),U(!1),X(),Q=\"\",T=!0)},!1);J.addEventListener(\"click\",V,!1);L.addEventListener(\"click\",function(){I.value=\"\";L.style.display=\"none\";U(!1)},!1);H.addEventListener(\"click\",function(){I.focus()},!1);window.hS=function(a){if(!T){X();0===a[1].length&&U(!1);for(var b=0;b<a[1].length;b++){var c=a[1][b][0],e=document.createElement(\"div\");E(e,C(c));e.addEventListener(\"mousedown\",function(d){d.preventDefault();return!1},!1);c=c.replace(/<\\/?b>/g,\"\");e.addEventListener(\"click\",function(d){return function(){O=d;V();Y();X();G.submit()}}(b),!1);e.addEventListener(\"mouseover\",function(d){return function(){O!==d&&(O=d,Y())}}(b),!1);K.appendChild(e);U(!0);N.push(c)}}};}).call(this);})();(function(){\n",
      "function b(a){for(a=a.target||a.srcElement;a&&\"A\"!==a.nodeName;)a=a.parentElement;a&&(a.href||\"\").match(/\\/search.*[?&]tbm=isch/)&&(a.href+=\"&biw=\"+document.documentElement.clientWidth,a.href+=\"&bih=\"+document.documentElement.clientHeight)}document.addEventListener(\"click\",b,!1);document.addEventListener(\"touchStart\",b,!1);}).call(this);</script></div><!-- cctlcm 5 cctlcm --><textarea class=\"csi\" name=\"csi\" style=\"display:none\"></textarea><script nonce=\"VlzOz7ehhkBRNmYkdg1hpQ==\">(function(){var e='HqT9Ycq0Er7HkPIP8JiH8Aw';var sn='newssearch';var timl=false;(function(){\n",
      "function y(a){if(!a||z(a))return 0;if(!a.getBoundingClientRect)return 1;var c=function(b){return b.getBoundingClientRect()};return A(a,c)?0:K(a,c)}function A(a,c){var b;a:{for(b=a;b&&null!==b;b=b.parentElement)if(\"hidden\"===b.style.overflow)break a;b=null}if(!b)return!1;a=c(a);c=c(b);return a.bottom<c.top||a.top>=c.bottom||a.right<c.left||a.left>=c.right}\n",
      "function z(a){return\"none\"===a.style.display?!0:document.defaultView&&document.defaultView.getComputedStyle?(a=document.defaultView.getComputedStyle(a),!!a&&(\"hidden\"===a.visibility||\"0px\"===a.height&&\"0px\"===a.width)):!1}\n",
      "function K(a,c){var b=c(a);a=b.left+window.pageXOffset;c=b.top+window.pageYOffset;var f=b.width;b=b.height;var g=0;if(0>=b&&0>=f)return g;var p=window.innerHeight||document.documentElement.clientHeight;0>c+b?g=2:c>=p&&(g=4);if(0>a+f||a>=(window.innerWidth||document.documentElement.clientWidth))g|=8;g||(g=1,c+b>p&&(g|=4));return g};var L=e,M=sn,N=\"undefined\"===typeof de?!0:!1!==de,O=[];function P(a,c,b){a=\"/gen_204?atyp=csi&s=\"+(M||\"web\")+\"&t=\"+a+(\"&lite=1&ei=\"+L+\"&conn=\"+(window.navigator&&window.navigator.connection?window.navigator.connection.type:-1)+c);c=\"&rt=\";for(var f in b)a+=\"\"+c+f+\".\"+b[f],c=\",\";return a}function Q(a){a={prt:a};window.wsrt&&(a.wsrt=window.wsrt);return a}function R(a){window.ping?window.ping(a):(new Image).src=a}\n",
      "(function(){for(var a=(new Date).getTime()-window.start,c=Q(a),b=0,f=0,g=0,p=document.getElementsByTagName(\"img\"),q=N?\"&biw=\"+window.innerWidth+\"&bih=\"+window.innerHeight:\"\",S=function(h,r){h.onload=function(){f=(new Date).getTime()-window.start;r&&++u==g&&(b=f,B());h.onload=null}},B=function(){q+=\"&ima=\"+g;c.aft=b;R(P(\"aft\",q,c))},u=0,T=0,d=void 0;d=p[T++];){var t=y(d),n=!!(t&1);n&&++g;var l=d.hasAttribute(\"data-ilite\"),v=d.hasAttribute(\"data-deferred\")||l,C=d.getAttribute(\"data-src\")||d.getAttribute(\"data-lzysrc\"),D=!v&&C;O.push([t,v,D,google.ldi&&d.id&&google.ldi[d.id]||l&&C]);l=(t=d.complete&&(l||!v&&!(n&&D)))&&Number(d.getAttribute(\"data-iml\"))||0;t&&l?(n&&++u,l&&(d=l-window.start,n&&(b=Math.max(b,d)),f=Math.max(f,d))):S(d,n)}b||(b=a);f||(f=b);u==g&&B();google.rglh&&google.rglh();window.addEventListener(\"load\",function(){window.setTimeout(function(){c.ol=(new Date).getTime()-window.start;timl&&(c.iml=f);var h=window.performance&&window.performance.timing;h&&(c.rqst=h.responseEnd-h.requestStart,c.rspt=h.responseEnd-\n",
      "h.responseStart);for(var r=h=0,E=0,F=0,G=0,H=0,U=0,k;k=O[U++];){var m=k[0],w=k[1],I=k[2];k=k[3];var V=0==m,x=m&8,J=m&4;(m=1==m||2==m||x&&!J)&&!x&&(w&&!k||++E,I&&++H);w&&(m&&k&&++h,J&&!k&&++r);V||x?I||++G:w||++F}q+=\"&ime=\"+E+\"&imel=\"+H+(\"&imex=\"+F+\"&imeh=\"+G)+(\"&imea=\"+h+\"&imeb=\"+r);R(P(\"all\",q,c))},0)},!1)})();}).call(this);})();</script><script nonce=\"VlzOz7ehhkBRNmYkdg1hpQ==\">\n",
      "function _setImagesSrc(e,d){function f(b){b.onerror=function(){b.style.display=\"none\"};b.src=d}for(var g=0,a=void 0;a=e[g++];){var c=document.getElementById(a)||document.querySelector('img[data-iid=\"'+a+'\"]');c?(a=void 0,(null==(a=google.c)?0:a.setup)&&google.c.setup(c),f(c)):(google.iir=google.iir||{},google.iir[a]=d)}}\"undefined\"==typeof window.google&&(window.google={});</script><script nonce=\"VlzOz7ehhkBRNmYkdg1hpQ==\">(function(){var s='data:image/png;base64,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\\x3d';var i=['dimg_5'];_setImagesSrc(i,s);})();</script><script nonce=\"VlzOz7ehhkBRNmYkdg1hpQ==\">(function(){var s='data:image/jpeg;base64,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\\x3d\\x3d';var i=['dimg_19'];_setImagesSrc(i,s);})();</script><script nonce=\"VlzOz7ehhkBRNmYkdg1hpQ==\">(function(){var s='data:image/jpeg;base64,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\\x3d\\x3d';var i=['dimg_15'];_setImagesSrc(i,s);})();</script><script nonce=\"VlzOz7ehhkBRNmYkdg1hpQ==\">(function(){var s='data:image/jpeg;base64,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\\x3d';var i=['dimg_17'];_setImagesSrc(i,s);})();</script><script nonce=\"VlzOz7ehhkBRNmYkdg1hpQ==\">(function(){var s='data:image/png;base64,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\\x3d';var i=['dimg_10'];_setImagesSrc(i,s);})();</script><script nonce=\"VlzOz7ehhkBRNmYkdg1hpQ==\">(function(){var s='data:image/jpeg;base64,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\\x3d';var i=['dimg_7'];_setImagesSrc(i,s);})();</script><script nonce=\"VlzOz7ehhkBRNmYkdg1hpQ==\">(function(){var s='data:image/jpeg;base64,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\\x3d\\x3d';var i=['dimg_2'];_setImagesSrc(i,s);})();</script><script nonce=\"VlzOz7ehhkBRNmYkdg1hpQ==\">(function(){var s='data:image/jpeg;base64,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\\x3d';var i=['dimg_1'];_setImagesSrc(i,s);})();</script><script nonce=\"VlzOz7ehhkBRNmYkdg1hpQ==\">(function(){var s='data:image/jpeg;base64,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';var i=['dimg_6'];_setImagesSrc(i,s);})();</script><script nonce=\"VlzOz7ehhkBRNmYkdg1hpQ==\">(function(){var s='data:image/jpeg;base64,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';var i=['dimg_13'];_setImagesSrc(i,s);})();</script><script nonce=\"VlzOz7ehhkBRNmYkdg1hpQ==\">(function(){var e='HqT9Ycq0Er7HkPIP8JiH8Aw';(function(){\n",
      "var a=e;2===(window.performance&&window.performance.navigation&&window.performance.navigation.type)&&window.ping(\"/gen_204?ct=backbutton&ei=\"+a);}).call(this);})();(function(){\n",
      "var b=[function(){google.tick&&google.tick(\"load\",\"dcl\")}];google.dclc=function(a){b.length?b.push(a):a()};function c(){for(var a=b.shift();a;)a(),a=b.shift()}window.addEventListener?(document.addEventListener(\"DOMContentLoaded\",c,!1),window.addEventListener(\"load\",c,!1)):window.attachEvent&&window.attachEvent(\"onload\",c);}).call(this);\n",
      "window.jsl=window.jsl||{};window.jsl.dh=function(a,b,f){try{var g=document.getElementById(a);if(g)g.innerHTML=b,f&&f();else{var c={id:a,script:String(!!f),milestone:String(google.jslm||0)};google.jsla&&(c.async=google.jsla);var h=a.indexOf(\"_\"),d=0<h?a.substring(0,h):\"\",k=document.createElement(\"div\");k.innerHTML=b;var e=k.children[0];if(e&&(c.tag=e.tagName,c[\"class\"]=String(e.className||null),c.name=String(e.getAttribute(\"jsname\")),d)){a=[];var l=document.querySelectorAll('[id^=\"'+d+'_\"]');for(b=0;b<l.length;++b)a.push(l[b].id);c.ids=a.join(\",\")}google.ml(Error(d?\"Missing ID with prefix \"+d:\"Missing ID\"),!1,c)}}catch(m){google.ml(m,!0,{\"jsl.dh\":!0})}};(function(){var x=false;\n",
      "google.jslm=x?2:1;})();(function(){(function(){google.csct={};google.csct.ps='AOvVaw31wMRmeJLTWPTgM6DgKNIQ\\x26ust\\x3d1644098974394448';})();})();(function(){(function(){google.csct.rd=true;})();})();(function(){(function(){google.csct.rl=true;})();})();(function(){window.jsl=window.jsl||{};window.jsl.dh=window.jsl.dh||function(i,c,d){try{var e=document.getElementById(i);if(e){e.innerHTML=c;if(d){d();}}else{if(window.jsl.el){window.jsl.el(new Error('Missing ID.'),{'id':i});}}}catch(e){if(window.jsl.el){window.jsl.el(new Error('jsl.dh'));}}};})();(function(){window.jsl.dh('tsuid1','\\x3cdiv class\\x3d\\x22rwA8ec HDOrGf GNm3Qb\\x22 style\\x3d\\x22white-space:normal\\x22\\x3e\\x3ca jsname\\x3d\\x22gXWYVe\\x22 href\\x3d\\x22#\\x22 style\\x3d\\x22white-space:normal\\x22 data-biw\\x3d\\x221440\\x22 jsaction\\x3d\\x22click:HTIlC\\x22 role\\x3d\\x22button\\x22 tabindex\\x3d\\x220\\x22 data-ved\\x3d\\x220ahUKEwjKu_2LiOf1AhW-I0QIHXDMAc4QuZ0HCFU\\x22\\x3e\\x3cdiv class\\x3d\\x22GNm3Qb\\x22\\x3e\\x3cspan class\\x3d\\x22EYqSq unknown_loc\\x22\\x3e\\x3c/span\\x3e\\x3cspan class\\x3d\\x22dfB0uf\\x22\\x3eCalifornia\\x3c/span\\x3e\\x3c/div\\x3e\\x3cdiv class\\x3d\\x22GNm3Qb\\x22\\x3e\\x3cspan id\\x3d\\x22VdZal\\x22\\x3e\\x26nbsp;-\\x26nbsp;\\x3c/span\\x3e\\x3cspan class\\x3d\\x22KwU3F\\x22\\x3e\\x3cspan\\x3eFrom your IP address\\x3c/span\\x3e\\x3c/span\\x3e\\x3c/div\\x3e\\x3cg-dialog jsname\\x3d\\x22BDbGbf\\x22 jscontroller\\x3d\\x22VEbNoe\\x22 jsaction\\x3d\\x22jxvro:Imgh9b\\x22 jsdata\\x3d\\x22gctHtc;_;AbY5KI\\x22 jsshadow\\x3d\\x22\\x22\\x3e\\x3cdiv jsname\\x3d\\x22XKSfm\\x22 jsaction\\x3d\\x22dBhwS:TvD9Pc;mLt3mc\\x22\\x3e\\x3cdiv jsname\\x3d\\x22bF1uUb\\x22 class\\x3d\\x22t7xA6 Xz5tfb\\x22\\x3e\\x3c/div\\x3e\\x3cdiv class\\x3d\\x22bErdLd llJxV hFCnyd wwYr3\\x22\\x3e\\x3cdiv class\\x3d\\x22ls8Qne\\x22 aria-hidden\\x3d\\x22true\\x22 role\\x3d\\x22button\\x22 tabindex\\x3d\\x220\\x22 jsaction\\x3d\\x22focus:sT2f3e\\x22\\x3e\\x3c/div\\x3e\\x3cspan jsslot\\x3d\\x22\\x22\\x3e\\x3cdiv class\\x3d\\x22NJfJb TUOsUe mr5vfb Sr5CLc OosGzb\\x22 aria-labelledby\\x3d\\x22lQ3q8c\\x22 role\\x3d\\x22dialog\\x22\\x3e\\x3cdiv jsname\\x3d\\x22C8RmQc\\x22 id\\x3d\\x22C8RmQc\\x22 data-jiis\\x3d\\x22up\\x22 data-async-type\\x3d\\x22lbsc\\x22 class\\x3d\\x22yp\\x22\\x3e\\x3c/div\\x3e\\x3c/div\\x3e\\x3c/span\\x3e\\x3cdiv class\\x3d\\x22ls8Qne\\x22 aria-hidden\\x3d\\x22true\\x22 role\\x3d\\x22button\\x22 tabindex\\x3d\\x220\\x22 jsaction\\x3d\\x22focus:tuePCd\\x22\\x3e\\x3c/div\\x3e\\x3c/div\\x3e\\x3c/div\\x3e\\x3c/g-dialog\\x3e\\x3c/a\\x3e\\x3c/div\\x3e\\x3cspan id\\x3d\\x22RYW0de\\x22\\x3e\\x26nbsp;-\\x26nbsp;\\x3c/span\\x3e\\x3cupdate-location class\\x3d\\x22xSQxL HDOrGf\\x22 jscontroller\\x3d\\x22XVaCB\\x22 role\\x3d\\x22button\\x22 tabindex\\x3d\\x220\\x22 jsaction\\x3d\\x22Q1u0zb;sFrcje:SBZ73c\\x22 data-ved\\x3d\\x220ahUKEwjKu_2LiOf1AhW-I0QIHXDMAc4QpLkCCFc\\x22\\x3eUpdate location\\x3cg-snackbar jsname\\x3d\\x22wzWFvc\\x22 id\\x3d\\x22tsuid3\\x22 jscontroller\\x3d\\x22OZLguc\\x22 style\\x3d\\x22display:none\\x22 data-dismiss\\x3d\\x22\\x22 jsshadow\\x3d\\x22\\x22 jsaction\\x3d\\x22rcuQ6b:npT2md\\x22\\x3e\\x3c/g-snackbar\\x3e\\x3cg-snackbar jsname\\x3d\\x22M8d6me\\x22 id\\x3d\\x22tsuid5\\x22 jscontroller\\x3d\\x22OZLguc\\x22 style\\x3d\\x22display:none\\x22 jsshadow\\x3d\\x22\\x22 jsaction\\x3d\\x22rcuQ6b:npT2md\\x22\\x3e\\x3c/g-snackbar\\x3e\\x3c/update-location\\x3e');})();(function(){window.jsl.dh('tsuid3','\\x3cdiv jsname\\x3d\\x22sM5MNb\\x22 aria-live\\x3d\\x22polite\\x22 class\\x3d\\x22tYAdEe\\x22 style\\x3d\\x22z-index:2000\\x22\\x3e\\x3cdiv jsname\\x3d\\x22Ng57nc\\x22 class\\x3d\\x22FEXCIb\\x22 data-ved\\x3d\\x220ahUKEwjKu_2LiOf1AhW-I0QIHXDMAc4Q4G8IWA\\x22\\x3e\\x3cdiv class\\x3d\\x22EA3l1b\\x22\\x3e\\x3cdiv class\\x3d\\x22Xb004\\x22 jsslot\\x3d\\x22\\x22\\x3e\\x3cspan class\\x3d\\x22awHmMb wHYlTd yUTMj\\x22\\x3eCan\\x27t update your location\\x3c/span\\x3e\\x3cg-snackbar-action class\\x3d\\x22BDp8nf zJUuqf AB4Wff aepCxe\\x22 jscontroller\\x3d\\x22xRxDld\\x22 jsaction\\x3d\\x22GtUzrb\\x22 data-ved\\x3d\\x220ahUKEwjKu_2LiOf1AhW-I0QIHXDMAc4QhbkICFo\\x22\\x3e\\x3cg-flat-button class\\x3d\\x22U8shWc r2fjmd hObAcc gTewb VDgVie hpZDWd fSXIc\\x22 style\\x3d\\x22color:#4285f4\\x22 role\\x3d\\x22button\\x22 tabindex\\x3d\\x220\\x22\\x3e\\x3cspan\\x3eLearn more\\x3c/span\\x3e\\x3c/g-flat-button\\x3e\\x3c/g-snackbar-action\\x3e\\x3c/div\\x3e\\x3c/div\\x3e\\x3c/div\\x3e\\x3c/div\\x3e');})();(function(){window.jsl.dh('tsuid5','\\x3cdiv jsname\\x3d\\x22sM5MNb\\x22 aria-live\\x3d\\x22polite\\x22 class\\x3d\\x22tYAdEe\\x22 style\\x3d\\x22z-index:2000\\x22\\x3e\\x3cdiv jsname\\x3d\\x22Ng57nc\\x22 class\\x3d\\x22FEXCIb\\x22 data-ved\\x3d\\x220ahUKEwjKu_2LiOf1AhW-I0QIHXDMAc4Q4G8IXA\\x22\\x3e\\x3cdiv class\\x3d\\x22EA3l1b\\x22\\x3e\\x3cdiv class\\x3d\\x22Xb004\\x22 jsslot\\x3d\\x22\\x22\\x3e\\x3cspan class\\x3d\\x22awHmMb wHYlTd yUTMj\\x22\\x3eUpdating location...\\x3c/span\\x3e\\x3c/div\\x3e\\x3c/div\\x3e\\x3c/div\\x3e\\x3c/div\\x3e');})();google.drty&&google.drty(undefined,true);</script></body></html>\n",
      "[]\n"
     ]
    }
   ],
   "source": [
    "a = Analysis(\"Bitcoin\")\n",
    "a.run()"
   ]
  },
  {
   "cell_type": "code",
   "execution_count": 29,
   "metadata": {},
   "outputs": [
    {
     "data": {
      "text/plain": [
       "<__main__.Analysis at 0x2b0da4ee7b8>"
      ]
     },
     "execution_count": 29,
     "metadata": {},
     "output_type": "execute_result"
    }
   ],
   "source": [
    "a"
   ]
  },
  {
   "cell_type": "code",
   "execution_count": 30,
   "metadata": {},
   "outputs": [
    {
     "name": "stdout",
     "output_type": "stream",
     "text": [
      " * Serving Flask app \"__main__\" (lazy loading)\n",
      " * Environment: production\n",
      "\u001b[31m   WARNING: Do not use the development server in a production environment.\u001b[0m\n",
      "\u001b[2m   Use a production WSGI server instead.\u001b[0m\n",
      " * Debug mode: on\n"
     ]
    },
    {
     "name": "stderr",
     "output_type": "stream",
     "text": [
      " * Restarting with stat\n"
     ]
    },
    {
     "ename": "SystemExit",
     "evalue": "1",
     "output_type": "error",
     "traceback": [
      "An exception has occurred, use %tb to see the full traceback.\n",
      "\u001b[1;31mSystemExit\u001b[0m\u001b[1;31m:\u001b[0m 1\n"
     ]
    },
    {
     "name": "stderr",
     "output_type": "stream",
     "text": [
      "D:\\anaconda\\lib\\site-packages\\IPython\\core\\interactiveshell.py:2969: UserWarning: To exit: use 'exit', 'quit', or Ctrl-D.\n",
      "  warn(\"To exit: use 'exit', 'quit', or Ctrl-D.\", stacklevel=1)\n"
     ]
    }
   ],
   "source": [
    "\n",
    "def sentiment():\n",
    "\tif request.method == 'GET':\n",
    "\t\tterm = request.args.get('term')\n",
    "\t\tanalysis = Analysis.Analysis(term)\n",
    "\t\tanalysis.run()\n",
    "\t\treturn jsonify({\"Term\": term, \"Sentiment\": analysis.sentiment, \"Subjectivity\": analysis.subjectivity})\n",
    "\telse:\n",
    "\t\treturn('USE GET REQUEST PLZ')\n",
    "\n",
    "if __name__ == '__main__':\n",
    "\tapp.run(debug=True)"
   ]
  },
  {
   "cell_type": "code",
   "execution_count": 55,
   "metadata": {},
   "outputs": [],
   "source": [
    "\n",
    "from newspaper import Article\n"
   ]
  },
  {
   "cell_type": "code",
   "execution_count": 56,
   "metadata": {},
   "outputs": [],
   "source": [
    "article = Article('https://www.npr.org/2019/07/10/740387601/university-of-texas-austin-promises-free-tuition-for-low-income-students-in-2020')\n"
   ]
  },
  {
   "cell_type": "code",
   "execution_count": 61,
   "metadata": {},
   "outputs": [],
   "source": [
    "link = 'https://pulse2.com/apple-aapl-nearly-100-stores-around-the-world-have-reopened/'"
   ]
  },
  {
   "cell_type": "code",
   "execution_count": 62,
   "metadata": {},
   "outputs": [
    {
     "name": "stdout",
     "output_type": "stream",
     "text": [
      "<newspaper.article.Article object at 0x000002B0DAC04F28>\n",
      "[]\n",
      "2020-05-18 00:33:19+00:00\n",
      "['stores', '100', 'world', 'worldwide', 'apple', 'announced', 'nearly', 'customers', 'developer', 'reopened', 'developers', 'aapl']\n",
      "Apple announced that nearly 100 of its stores around the world have been reopened\n",
      "\n",
      "Apple Inc. (NASDAQ: AAPL) has announced that nearly 100 stores of its stores around the world have been reopened, according to a Bloomberg report.\n",
      "\n",
      "In the process of reopening the stores, Apple said it is focused on “limiting occupancy” and ensuring that everybody has “lots of room.” And the company also has a new focus on one-on-one service throughout its stores.\n",
      "\n",
      "Employees and customers will be required to wear face coverings. And Apple will provide them to customers who do not bring one.\n",
      "\n",
      "Apple also pointed out that for many stores, it will offer curbside pick-up and drop off.\n",
      "\n",
      "Next month, Apple will be hosting its annual Worldwide Developers Conference virtually (starting June 22) in the Apple Developer app and the Apple Developer website for free for all developers. During the event, Apple will likely reveal the features that will be added in iOS 14, which should be released to the public in the fall.\n",
      "Apple announced that nearly 100 of its stores around the world have been reopenedApple Inc. (NASDAQ: AAPL) has announced that nearly 100 stores of its stores around the world have been reopened, according to a Bloomberg report.\n",
      "In the process of reopening the stores, Apple said it is focused on “limiting occupancy” and ensuring that everybody has “lots of room.” And the company also has a new focus on one-on-one service throughout its stores.\n",
      "Apple also pointed out that for many stores, it will offer curbside pick-up and drop off.\n",
      "Next month, Apple will be hosting its annual Worldwide Developers Conference virtually (starting June 22) in the Apple Developer app and the Apple Developer website for free for all developers.\n",
      "During the event, Apple will likely reveal the features that will be added in iOS 14, which should be released to the public in the fall.\n"
     ]
    }
   ],
   "source": [
    "#from newspaper import Article\n",
    "\n",
    "#article = Article('https://www.npr.org/2019/07/10/740387601/university-of-texas-austin-promises-free-tuition-for-low-income-students-in-2020')\n",
    "\n",
    "article = Article(link)\n",
    "print(article)\n",
    "article.download()\n",
    "article.parse()\n",
    "article.nlp()\n",
    "print(article.authors)\n",
    "print(article.publish_date)\n",
    "print(article.keywords)\n",
    "print(article.text)\n",
    "print(article.summary)"
   ]
  },
  {
   "cell_type": "code",
   "execution_count": null,
   "metadata": {},
   "outputs": [],
   "source": []
  }
 ],
 "metadata": {
  "kernelspec": {
   "display_name": "Python 3",
   "language": "python",
   "name": "python3"
  },
  "language_info": {
   "codemirror_mode": {
    "name": "ipython",
    "version": 3
   },
   "file_extension": ".py",
   "mimetype": "text/x-python",
   "name": "python",
   "nbconvert_exporter": "python",
   "pygments_lexer": "ipython3",
   "version": "3.8.8"
  }
 },
 "nbformat": 4,
 "nbformat_minor": 2
}
