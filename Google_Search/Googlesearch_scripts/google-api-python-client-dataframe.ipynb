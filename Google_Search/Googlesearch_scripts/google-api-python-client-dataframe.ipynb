{
 "cells": [
  {
   "cell_type": "code",
   "execution_count": 2,
   "metadata": {},
   "outputs": [],
   "source": [
    "# make a loop here to run a loop of \"N\" years"
   ]
  },
  {
   "cell_type": "code",
   "execution_count": 46,
   "metadata": {},
   "outputs": [
    {
     "name": "stdout",
     "output_type": "stream",
     "text": [
      "Collecting tld\n",
      "  Downloading tld-0.12.6-py37-none-any.whl (412 kB)\n",
      "Installing collected packages: tld\n",
      "Successfully installed tld-0.12.6\n"
     ]
    }
   ],
   "source": [
    "!pip install tld"
   ]
  },
  {
   "cell_type": "code",
   "execution_count": 47,
   "metadata": {},
   "outputs": [],
   "source": [
    "import googlesearch\n",
    "import datetime\n",
    "import pandas as pd\n",
    "from newspaper import Article\n",
    "from datetime import timedelta, date\n",
    "from tld import get_tld"
   ]
  },
  {
   "cell_type": "code",
   "execution_count": 40,
   "metadata": {},
   "outputs": [
    {
     "data": {
      "text/plain": [
       "b'Mozilla/5.0 (X11; U; Linux x86_64; pl-PL; rv:2.0) Gecko/20110307 Firefox/4.0'"
      ]
     },
     "execution_count": 40,
     "metadata": {},
     "output_type": "execute_result"
    }
   ],
   "source": [
    "googlesearch.get_random_user_agent()"
   ]
  },
  {
   "cell_type": "code",
   "execution_count": 17,
   "metadata": {},
   "outputs": [],
   "source": [
    "try:\n",
    "    from googlesearch import search\n",
    "except ImportError:\n",
    "    print(\"No module named 'google' found\")\n",
    " "
   ]
  },
  {
   "cell_type": "code",
   "execution_count": 13,
   "metadata": {},
   "outputs": [],
   "source": [
    "query = \"AAPL\""
   ]
  },
  {
   "cell_type": "code",
   "execution_count": null,
   "metadata": {},
   "outputs": [],
   "source": []
  },
  {
   "cell_type": "code",
   "execution_count": 3,
   "metadata": {},
   "outputs": [],
   "source": [
    "nyears = 2"
   ]
  },
  {
   "cell_type": "code",
   "execution_count": 11,
   "metadata": {},
   "outputs": [
    {
     "name": "stdout",
     "output_type": "stream",
     "text": [
      "2019-12-31 00:00:00 2020-01-01 00:00:00 2020-01-02 00:00:00 2021-12-31 00:00:00\n"
     ]
    }
   ],
   "source": [
    "from_date = datetime.datetime(2020, 1, 1)\n",
    "prev_date = from_date + timedelta(days=-1)\n",
    "to_date = from_date + timedelta(days=1)\n",
    "end_date = from_date + timedelta(days=(365*nyears))\n",
    "\n",
    "print(prev_date,from_date,to_date,end_date)\n",
    "tbs = googlesearch.get_tbs(from_date, to_date)"
   ]
  },
  {
   "cell_type": "code",
   "execution_count": 18,
   "metadata": {},
   "outputs": [],
   "source": [
    "mylist = list(search(query, tld=\"com\", lang='en', tbs=tbs, num=200, stop=200, pause=2))"
   ]
  },
  {
   "cell_type": "code",
   "execution_count": 19,
   "metadata": {},
   "outputs": [
    {
     "data": {
      "text/plain": [
       "['https://9to5mac.com/2020/01/02/apple-closes-in-on-300-a-share/',\n",
       " 'https://www.imore.com/analyst-gene-munster-thinks-aapl-could-reach-400-share-2020',\n",
       " 'https://roboforex.com/forex-trading/trading/specifications/card/pro-stan/AAPL/',\n",
       " 'https://www.ccn.com/3-reasons-apple-headed-for-another-stock-split/',\n",
       " 'https://appleinsider.com/articles/20/01/02/apple-stock-reaches-record-high-of-300-per-share',\n",
       " 'https://www.barrons.com/articles/apple-stock-rally-above-300-record-close-51578002305',\n",
       " 'https://www.forbes.com/sites/petercohan/2020/01/02/59-overvalued-why-apple-is-neither-a-growth-nor-value-stock/',\n",
       " 'https://dbpedia.org/page/Apple_Inc.',\n",
       " 'https://marketrealist.com/2020/01/nio-aapl-two-stocks-unusual-options-activity/',\n",
       " 'https://www.cnbc.com/2020/01/01/value-is-beating-growth-only-because-of-the-way-apple-is-classified.html',\n",
       " 'https://www.yahoo.com/video/12-stocks-worlds-most-valuable-215357722.html',\n",
       " 'https://www.yahoo.com/video/why-stock-market-traders-should-be-terrified-of-robots-in-the-next-decade-130024382.html',\n",
       " 'https://www.benzinga.com/analyst-ratings/analyst-color/20/01/15062453/large-apple-option-traders-kick-off-2020-with-heavy-call-buying',\n",
       " 'https://www.youtube.com/watch?v=8vlaZ5A5zdU',\n",
       " 'https://www.reddit.com/r/wallstreetbets/comments/ej58cp/so_apple_just_hit_300/',\n",
       " 'https://www.tradingview.com/chart/AAPL/tFlbKNES-The-Fibonacci-Golden-Zone/',\n",
       " 'https://m.gelonghui.com/p/337233',\n",
       " 'https://bradleyfirm.com/attorneys/michael-r-brassett-ii/',\n",
       " 'https://www.morganstanley.com/structuredinvestments/docs/prospectus/prelim/ProspectusRed61762GDQ4.pdf?ts=1427460128363',\n",
       " 'https://www.pymnts.com/news/investment-tracker/2020/analyst-predicts-apple-shares-will-fall-sharply/',\n",
       " 'https://stackoverflow.com/questions/59569349/getting-all-expirations-for-options-chain-in-ib-api',\n",
       " 'https://stackoverflow.com/questions/59567623/difference-between-grouped-sums-for-two-different-dates-in-multi-index-pandas-da',\n",
       " 'https://aapl.blog/',\n",
       " 'https://github.com/GreenGrassBlueOcean/RefinitivR',\n",
       " 'https://readertopic.com/article/iqos-oficialno-v-hersone-v-tc-fabrika-otkryli-pervyy-firmennyy-iqos-space-herson-daily']"
      ]
     },
     "execution_count": 19,
     "metadata": {},
     "output_type": "execute_result"
    }
   ],
   "source": [
    "mylist"
   ]
  },
  {
   "cell_type": "code",
   "execution_count": null,
   "metadata": {},
   "outputs": [],
   "source": [
    "df = pd.dataframe"
   ]
  },
  {
   "cell_type": "code",
   "execution_count": 37,
   "metadata": {},
   "outputs": [
    {
     "name": "stdout",
     "output_type": "stream",
     "text": [
      "2020-01-11 00:00:00 2021-12-31 00:00:00\n"
     ]
    }
   ],
   "source": [
    "print(from_date,end_date)\n"
   ]
  },
  {
   "cell_type": "code",
   "execution_count": 41,
   "metadata": {},
   "outputs": [
    {
     "name": "stdout",
     "output_type": "stream",
     "text": [
      "2020-01-12 00:00:00 2021-12-31 00:00:00\n"
     ]
    },
    {
     "ename": "HTTPError",
     "evalue": "HTTP Error 429: Too Many Requests",
     "output_type": "error",
     "traceback": [
      "\u001b[1;31m---------------------------------------------------------------------------\u001b[0m",
      "\u001b[1;31mHTTPError\u001b[0m                                 Traceback (most recent call last)",
      "\u001b[1;32m<ipython-input-41-9a4de052aef4>\u001b[0m in \u001b[0;36m<module>\u001b[1;34m()\u001b[0m\n\u001b[0;32m      7\u001b[0m     \u001b[0mgooglesearch\u001b[0m\u001b[1;33m.\u001b[0m\u001b[0mget_random_user_agent\u001b[0m\u001b[1;33m(\u001b[0m\u001b[1;33m)\u001b[0m\u001b[1;33m\u001b[0m\u001b[0m\n\u001b[0;32m      8\u001b[0m     \u001b[1;31m# mylist of urls\u001b[0m\u001b[1;33m\u001b[0m\u001b[1;33m\u001b[0m\u001b[0m\n\u001b[1;32m----> 9\u001b[1;33m     \u001b[0mmylist\u001b[0m \u001b[1;33m=\u001b[0m \u001b[0mlist\u001b[0m\u001b[1;33m(\u001b[0m\u001b[0msearch\u001b[0m\u001b[1;33m(\u001b[0m\u001b[0mquery\u001b[0m\u001b[1;33m,\u001b[0m \u001b[0mtld\u001b[0m\u001b[1;33m=\u001b[0m\u001b[1;34m\"com\"\u001b[0m\u001b[1;33m,\u001b[0m \u001b[0mlang\u001b[0m\u001b[1;33m=\u001b[0m\u001b[1;34m'en'\u001b[0m\u001b[1;33m,\u001b[0m \u001b[0mtbs\u001b[0m\u001b[1;33m=\u001b[0m\u001b[0mtbs\u001b[0m\u001b[1;33m,\u001b[0m \u001b[0mnum\u001b[0m\u001b[1;33m=\u001b[0m\u001b[1;36m200\u001b[0m\u001b[1;33m,\u001b[0m \u001b[0mstop\u001b[0m\u001b[1;33m=\u001b[0m\u001b[1;36m200\u001b[0m\u001b[1;33m,\u001b[0m \u001b[0mpause\u001b[0m\u001b[1;33m=\u001b[0m\u001b[1;36m5\u001b[0m\u001b[1;33m)\u001b[0m\u001b[1;33m)\u001b[0m\u001b[1;33m\u001b[0m\u001b[0m\n\u001b[0m\u001b[0;32m     10\u001b[0m     \u001b[1;32mfor\u001b[0m \u001b[0murl\u001b[0m \u001b[1;32min\u001b[0m \u001b[0mmylist\u001b[0m\u001b[1;33m:\u001b[0m\u001b[1;33m\u001b[0m\u001b[0m\n\u001b[0;32m     11\u001b[0m         \u001b[0mprint\u001b[0m\u001b[1;33m(\u001b[0m\u001b[0mquery\u001b[0m\u001b[1;33m,\u001b[0m\u001b[0mtbs\u001b[0m\u001b[1;33m,\u001b[0m\u001b[0murl\u001b[0m\u001b[1;33m)\u001b[0m\u001b[1;33m\u001b[0m\u001b[0m\n",
      "\u001b[1;32mD:\\anaconda\\lib\\site-packages\\googlesearch\\__init__.py\u001b[0m in \u001b[0;36msearch\u001b[1;34m(query, tld, lang, tbs, safe, num, start, stop, pause, country, extra_params, user_agent, verify_ssl)\u001b[0m\n\u001b[0;32m    303\u001b[0m \u001b[1;33m\u001b[0m\u001b[0m\n\u001b[0;32m    304\u001b[0m         \u001b[1;31m# Request the Google Search results page.\u001b[0m\u001b[1;33m\u001b[0m\u001b[1;33m\u001b[0m\u001b[0m\n\u001b[1;32m--> 305\u001b[1;33m         \u001b[0mhtml\u001b[0m \u001b[1;33m=\u001b[0m \u001b[0mget_page\u001b[0m\u001b[1;33m(\u001b[0m\u001b[0murl\u001b[0m\u001b[1;33m,\u001b[0m \u001b[0muser_agent\u001b[0m\u001b[1;33m,\u001b[0m \u001b[0mverify_ssl\u001b[0m\u001b[1;33m)\u001b[0m\u001b[1;33m\u001b[0m\u001b[0m\n\u001b[0m\u001b[0;32m    306\u001b[0m \u001b[1;33m\u001b[0m\u001b[0m\n\u001b[0;32m    307\u001b[0m         \u001b[1;31m# Parse the response and get every anchored URL.\u001b[0m\u001b[1;33m\u001b[0m\u001b[1;33m\u001b[0m\u001b[0m\n",
      "\u001b[1;32mD:\\anaconda\\lib\\site-packages\\googlesearch\\__init__.py\u001b[0m in \u001b[0;36mget_page\u001b[1;34m(url, user_agent, verify_ssl)\u001b[0m\n\u001b[0;32m    172\u001b[0m     \u001b[0mcookie_jar\u001b[0m\u001b[1;33m.\u001b[0m\u001b[0madd_cookie_header\u001b[0m\u001b[1;33m(\u001b[0m\u001b[0mrequest\u001b[0m\u001b[1;33m)\u001b[0m\u001b[1;33m\u001b[0m\u001b[0m\n\u001b[0;32m    173\u001b[0m     \u001b[1;32mif\u001b[0m \u001b[0mverify_ssl\u001b[0m\u001b[1;33m:\u001b[0m\u001b[1;33m\u001b[0m\u001b[0m\n\u001b[1;32m--> 174\u001b[1;33m         \u001b[0mresponse\u001b[0m \u001b[1;33m=\u001b[0m \u001b[0murlopen\u001b[0m\u001b[1;33m(\u001b[0m\u001b[0mrequest\u001b[0m\u001b[1;33m)\u001b[0m\u001b[1;33m\u001b[0m\u001b[0m\n\u001b[0m\u001b[0;32m    175\u001b[0m     \u001b[1;32melse\u001b[0m\u001b[1;33m:\u001b[0m\u001b[1;33m\u001b[0m\u001b[0m\n\u001b[0;32m    176\u001b[0m         \u001b[0mcontext\u001b[0m \u001b[1;33m=\u001b[0m \u001b[0mssl\u001b[0m\u001b[1;33m.\u001b[0m\u001b[0m_create_unverified_context\u001b[0m\u001b[1;33m(\u001b[0m\u001b[1;33m)\u001b[0m\u001b[1;33m\u001b[0m\u001b[0m\n",
      "\u001b[1;32mD:\\anaconda\\lib\\urllib\\request.py\u001b[0m in \u001b[0;36murlopen\u001b[1;34m(url, data, timeout, cafile, capath, cadefault, context)\u001b[0m\n\u001b[0;32m    220\u001b[0m     \u001b[1;32melse\u001b[0m\u001b[1;33m:\u001b[0m\u001b[1;33m\u001b[0m\u001b[0m\n\u001b[0;32m    221\u001b[0m         \u001b[0mopener\u001b[0m \u001b[1;33m=\u001b[0m \u001b[0m_opener\u001b[0m\u001b[1;33m\u001b[0m\u001b[0m\n\u001b[1;32m--> 222\u001b[1;33m     \u001b[1;32mreturn\u001b[0m \u001b[0mopener\u001b[0m\u001b[1;33m.\u001b[0m\u001b[0mopen\u001b[0m\u001b[1;33m(\u001b[0m\u001b[0murl\u001b[0m\u001b[1;33m,\u001b[0m \u001b[0mdata\u001b[0m\u001b[1;33m,\u001b[0m \u001b[0mtimeout\u001b[0m\u001b[1;33m)\u001b[0m\u001b[1;33m\u001b[0m\u001b[0m\n\u001b[0m\u001b[0;32m    223\u001b[0m \u001b[1;33m\u001b[0m\u001b[0m\n\u001b[0;32m    224\u001b[0m \u001b[1;32mdef\u001b[0m \u001b[0minstall_opener\u001b[0m\u001b[1;33m(\u001b[0m\u001b[0mopener\u001b[0m\u001b[1;33m)\u001b[0m\u001b[1;33m:\u001b[0m\u001b[1;33m\u001b[0m\u001b[0m\n",
      "\u001b[1;32mD:\\anaconda\\lib\\urllib\\request.py\u001b[0m in \u001b[0;36mopen\u001b[1;34m(self, fullurl, data, timeout)\u001b[0m\n\u001b[0;32m    529\u001b[0m         \u001b[1;32mfor\u001b[0m \u001b[0mprocessor\u001b[0m \u001b[1;32min\u001b[0m \u001b[0mself\u001b[0m\u001b[1;33m.\u001b[0m\u001b[0mprocess_response\u001b[0m\u001b[1;33m.\u001b[0m\u001b[0mget\u001b[0m\u001b[1;33m(\u001b[0m\u001b[0mprotocol\u001b[0m\u001b[1;33m,\u001b[0m \u001b[1;33m[\u001b[0m\u001b[1;33m]\u001b[0m\u001b[1;33m)\u001b[0m\u001b[1;33m:\u001b[0m\u001b[1;33m\u001b[0m\u001b[0m\n\u001b[0;32m    530\u001b[0m             \u001b[0mmeth\u001b[0m \u001b[1;33m=\u001b[0m \u001b[0mgetattr\u001b[0m\u001b[1;33m(\u001b[0m\u001b[0mprocessor\u001b[0m\u001b[1;33m,\u001b[0m \u001b[0mmeth_name\u001b[0m\u001b[1;33m)\u001b[0m\u001b[1;33m\u001b[0m\u001b[0m\n\u001b[1;32m--> 531\u001b[1;33m             \u001b[0mresponse\u001b[0m \u001b[1;33m=\u001b[0m \u001b[0mmeth\u001b[0m\u001b[1;33m(\u001b[0m\u001b[0mreq\u001b[0m\u001b[1;33m,\u001b[0m \u001b[0mresponse\u001b[0m\u001b[1;33m)\u001b[0m\u001b[1;33m\u001b[0m\u001b[0m\n\u001b[0m\u001b[0;32m    532\u001b[0m \u001b[1;33m\u001b[0m\u001b[0m\n\u001b[0;32m    533\u001b[0m         \u001b[1;32mreturn\u001b[0m \u001b[0mresponse\u001b[0m\u001b[1;33m\u001b[0m\u001b[0m\n",
      "\u001b[1;32mD:\\anaconda\\lib\\urllib\\request.py\u001b[0m in \u001b[0;36mhttp_response\u001b[1;34m(self, request, response)\u001b[0m\n\u001b[0;32m    639\u001b[0m         \u001b[1;32mif\u001b[0m \u001b[1;32mnot\u001b[0m \u001b[1;33m(\u001b[0m\u001b[1;36m200\u001b[0m \u001b[1;33m<=\u001b[0m \u001b[0mcode\u001b[0m \u001b[1;33m<\u001b[0m \u001b[1;36m300\u001b[0m\u001b[1;33m)\u001b[0m\u001b[1;33m:\u001b[0m\u001b[1;33m\u001b[0m\u001b[0m\n\u001b[0;32m    640\u001b[0m             response = self.parent.error(\n\u001b[1;32m--> 641\u001b[1;33m                 'http', request, response, code, msg, hdrs)\n\u001b[0m\u001b[0;32m    642\u001b[0m \u001b[1;33m\u001b[0m\u001b[0m\n\u001b[0;32m    643\u001b[0m         \u001b[1;32mreturn\u001b[0m \u001b[0mresponse\u001b[0m\u001b[1;33m\u001b[0m\u001b[0m\n",
      "\u001b[1;32mD:\\anaconda\\lib\\urllib\\request.py\u001b[0m in \u001b[0;36merror\u001b[1;34m(self, proto, *args)\u001b[0m\n\u001b[0;32m    561\u001b[0m             \u001b[0mhttp_err\u001b[0m \u001b[1;33m=\u001b[0m \u001b[1;36m0\u001b[0m\u001b[1;33m\u001b[0m\u001b[0m\n\u001b[0;32m    562\u001b[0m         \u001b[0margs\u001b[0m \u001b[1;33m=\u001b[0m \u001b[1;33m(\u001b[0m\u001b[0mdict\u001b[0m\u001b[1;33m,\u001b[0m \u001b[0mproto\u001b[0m\u001b[1;33m,\u001b[0m \u001b[0mmeth_name\u001b[0m\u001b[1;33m)\u001b[0m \u001b[1;33m+\u001b[0m \u001b[0margs\u001b[0m\u001b[1;33m\u001b[0m\u001b[0m\n\u001b[1;32m--> 563\u001b[1;33m         \u001b[0mresult\u001b[0m \u001b[1;33m=\u001b[0m \u001b[0mself\u001b[0m\u001b[1;33m.\u001b[0m\u001b[0m_call_chain\u001b[0m\u001b[1;33m(\u001b[0m\u001b[1;33m*\u001b[0m\u001b[0margs\u001b[0m\u001b[1;33m)\u001b[0m\u001b[1;33m\u001b[0m\u001b[0m\n\u001b[0m\u001b[0;32m    564\u001b[0m         \u001b[1;32mif\u001b[0m \u001b[0mresult\u001b[0m\u001b[1;33m:\u001b[0m\u001b[1;33m\u001b[0m\u001b[0m\n\u001b[0;32m    565\u001b[0m             \u001b[1;32mreturn\u001b[0m \u001b[0mresult\u001b[0m\u001b[1;33m\u001b[0m\u001b[0m\n",
      "\u001b[1;32mD:\\anaconda\\lib\\urllib\\request.py\u001b[0m in \u001b[0;36m_call_chain\u001b[1;34m(self, chain, kind, meth_name, *args)\u001b[0m\n\u001b[0;32m    501\u001b[0m         \u001b[1;32mfor\u001b[0m \u001b[0mhandler\u001b[0m \u001b[1;32min\u001b[0m \u001b[0mhandlers\u001b[0m\u001b[1;33m:\u001b[0m\u001b[1;33m\u001b[0m\u001b[0m\n\u001b[0;32m    502\u001b[0m             \u001b[0mfunc\u001b[0m \u001b[1;33m=\u001b[0m \u001b[0mgetattr\u001b[0m\u001b[1;33m(\u001b[0m\u001b[0mhandler\u001b[0m\u001b[1;33m,\u001b[0m \u001b[0mmeth_name\u001b[0m\u001b[1;33m)\u001b[0m\u001b[1;33m\u001b[0m\u001b[0m\n\u001b[1;32m--> 503\u001b[1;33m             \u001b[0mresult\u001b[0m \u001b[1;33m=\u001b[0m \u001b[0mfunc\u001b[0m\u001b[1;33m(\u001b[0m\u001b[1;33m*\u001b[0m\u001b[0margs\u001b[0m\u001b[1;33m)\u001b[0m\u001b[1;33m\u001b[0m\u001b[0m\n\u001b[0m\u001b[0;32m    504\u001b[0m             \u001b[1;32mif\u001b[0m \u001b[0mresult\u001b[0m \u001b[1;32mis\u001b[0m \u001b[1;32mnot\u001b[0m \u001b[1;32mNone\u001b[0m\u001b[1;33m:\u001b[0m\u001b[1;33m\u001b[0m\u001b[0m\n\u001b[0;32m    505\u001b[0m                 \u001b[1;32mreturn\u001b[0m \u001b[0mresult\u001b[0m\u001b[1;33m\u001b[0m\u001b[0m\n",
      "\u001b[1;32mD:\\anaconda\\lib\\urllib\\request.py\u001b[0m in \u001b[0;36mhttp_error_302\u001b[1;34m(self, req, fp, code, msg, headers)\u001b[0m\n\u001b[0;32m    753\u001b[0m         \u001b[0mfp\u001b[0m\u001b[1;33m.\u001b[0m\u001b[0mclose\u001b[0m\u001b[1;33m(\u001b[0m\u001b[1;33m)\u001b[0m\u001b[1;33m\u001b[0m\u001b[0m\n\u001b[0;32m    754\u001b[0m \u001b[1;33m\u001b[0m\u001b[0m\n\u001b[1;32m--> 755\u001b[1;33m         \u001b[1;32mreturn\u001b[0m \u001b[0mself\u001b[0m\u001b[1;33m.\u001b[0m\u001b[0mparent\u001b[0m\u001b[1;33m.\u001b[0m\u001b[0mopen\u001b[0m\u001b[1;33m(\u001b[0m\u001b[0mnew\u001b[0m\u001b[1;33m,\u001b[0m \u001b[0mtimeout\u001b[0m\u001b[1;33m=\u001b[0m\u001b[0mreq\u001b[0m\u001b[1;33m.\u001b[0m\u001b[0mtimeout\u001b[0m\u001b[1;33m)\u001b[0m\u001b[1;33m\u001b[0m\u001b[0m\n\u001b[0m\u001b[0;32m    756\u001b[0m \u001b[1;33m\u001b[0m\u001b[0m\n\u001b[0;32m    757\u001b[0m     \u001b[0mhttp_error_301\u001b[0m \u001b[1;33m=\u001b[0m \u001b[0mhttp_error_303\u001b[0m \u001b[1;33m=\u001b[0m \u001b[0mhttp_error_307\u001b[0m \u001b[1;33m=\u001b[0m \u001b[0mhttp_error_302\u001b[0m\u001b[1;33m\u001b[0m\u001b[0m\n",
      "\u001b[1;32mD:\\anaconda\\lib\\urllib\\request.py\u001b[0m in \u001b[0;36mopen\u001b[1;34m(self, fullurl, data, timeout)\u001b[0m\n\u001b[0;32m    529\u001b[0m         \u001b[1;32mfor\u001b[0m \u001b[0mprocessor\u001b[0m \u001b[1;32min\u001b[0m \u001b[0mself\u001b[0m\u001b[1;33m.\u001b[0m\u001b[0mprocess_response\u001b[0m\u001b[1;33m.\u001b[0m\u001b[0mget\u001b[0m\u001b[1;33m(\u001b[0m\u001b[0mprotocol\u001b[0m\u001b[1;33m,\u001b[0m \u001b[1;33m[\u001b[0m\u001b[1;33m]\u001b[0m\u001b[1;33m)\u001b[0m\u001b[1;33m:\u001b[0m\u001b[1;33m\u001b[0m\u001b[0m\n\u001b[0;32m    530\u001b[0m             \u001b[0mmeth\u001b[0m \u001b[1;33m=\u001b[0m \u001b[0mgetattr\u001b[0m\u001b[1;33m(\u001b[0m\u001b[0mprocessor\u001b[0m\u001b[1;33m,\u001b[0m \u001b[0mmeth_name\u001b[0m\u001b[1;33m)\u001b[0m\u001b[1;33m\u001b[0m\u001b[0m\n\u001b[1;32m--> 531\u001b[1;33m             \u001b[0mresponse\u001b[0m \u001b[1;33m=\u001b[0m \u001b[0mmeth\u001b[0m\u001b[1;33m(\u001b[0m\u001b[0mreq\u001b[0m\u001b[1;33m,\u001b[0m \u001b[0mresponse\u001b[0m\u001b[1;33m)\u001b[0m\u001b[1;33m\u001b[0m\u001b[0m\n\u001b[0m\u001b[0;32m    532\u001b[0m \u001b[1;33m\u001b[0m\u001b[0m\n\u001b[0;32m    533\u001b[0m         \u001b[1;32mreturn\u001b[0m \u001b[0mresponse\u001b[0m\u001b[1;33m\u001b[0m\u001b[0m\n",
      "\u001b[1;32mD:\\anaconda\\lib\\urllib\\request.py\u001b[0m in \u001b[0;36mhttp_response\u001b[1;34m(self, request, response)\u001b[0m\n\u001b[0;32m    639\u001b[0m         \u001b[1;32mif\u001b[0m \u001b[1;32mnot\u001b[0m \u001b[1;33m(\u001b[0m\u001b[1;36m200\u001b[0m \u001b[1;33m<=\u001b[0m \u001b[0mcode\u001b[0m \u001b[1;33m<\u001b[0m \u001b[1;36m300\u001b[0m\u001b[1;33m)\u001b[0m\u001b[1;33m:\u001b[0m\u001b[1;33m\u001b[0m\u001b[0m\n\u001b[0;32m    640\u001b[0m             response = self.parent.error(\n\u001b[1;32m--> 641\u001b[1;33m                 'http', request, response, code, msg, hdrs)\n\u001b[0m\u001b[0;32m    642\u001b[0m \u001b[1;33m\u001b[0m\u001b[0m\n\u001b[0;32m    643\u001b[0m         \u001b[1;32mreturn\u001b[0m \u001b[0mresponse\u001b[0m\u001b[1;33m\u001b[0m\u001b[0m\n",
      "\u001b[1;32mD:\\anaconda\\lib\\urllib\\request.py\u001b[0m in \u001b[0;36merror\u001b[1;34m(self, proto, *args)\u001b[0m\n\u001b[0;32m    567\u001b[0m         \u001b[1;32mif\u001b[0m \u001b[0mhttp_err\u001b[0m\u001b[1;33m:\u001b[0m\u001b[1;33m\u001b[0m\u001b[0m\n\u001b[0;32m    568\u001b[0m             \u001b[0margs\u001b[0m \u001b[1;33m=\u001b[0m \u001b[1;33m(\u001b[0m\u001b[0mdict\u001b[0m\u001b[1;33m,\u001b[0m \u001b[1;34m'default'\u001b[0m\u001b[1;33m,\u001b[0m \u001b[1;34m'http_error_default'\u001b[0m\u001b[1;33m)\u001b[0m \u001b[1;33m+\u001b[0m \u001b[0morig_args\u001b[0m\u001b[1;33m\u001b[0m\u001b[0m\n\u001b[1;32m--> 569\u001b[1;33m             \u001b[1;32mreturn\u001b[0m \u001b[0mself\u001b[0m\u001b[1;33m.\u001b[0m\u001b[0m_call_chain\u001b[0m\u001b[1;33m(\u001b[0m\u001b[1;33m*\u001b[0m\u001b[0margs\u001b[0m\u001b[1;33m)\u001b[0m\u001b[1;33m\u001b[0m\u001b[0m\n\u001b[0m\u001b[0;32m    570\u001b[0m \u001b[1;33m\u001b[0m\u001b[0m\n\u001b[0;32m    571\u001b[0m \u001b[1;31m# XXX probably also want an abstract factory that knows when it makes\u001b[0m\u001b[1;33m\u001b[0m\u001b[1;33m\u001b[0m\u001b[0m\n",
      "\u001b[1;32mD:\\anaconda\\lib\\urllib\\request.py\u001b[0m in \u001b[0;36m_call_chain\u001b[1;34m(self, chain, kind, meth_name, *args)\u001b[0m\n\u001b[0;32m    501\u001b[0m         \u001b[1;32mfor\u001b[0m \u001b[0mhandler\u001b[0m \u001b[1;32min\u001b[0m \u001b[0mhandlers\u001b[0m\u001b[1;33m:\u001b[0m\u001b[1;33m\u001b[0m\u001b[0m\n\u001b[0;32m    502\u001b[0m             \u001b[0mfunc\u001b[0m \u001b[1;33m=\u001b[0m \u001b[0mgetattr\u001b[0m\u001b[1;33m(\u001b[0m\u001b[0mhandler\u001b[0m\u001b[1;33m,\u001b[0m \u001b[0mmeth_name\u001b[0m\u001b[1;33m)\u001b[0m\u001b[1;33m\u001b[0m\u001b[0m\n\u001b[1;32m--> 503\u001b[1;33m             \u001b[0mresult\u001b[0m \u001b[1;33m=\u001b[0m \u001b[0mfunc\u001b[0m\u001b[1;33m(\u001b[0m\u001b[1;33m*\u001b[0m\u001b[0margs\u001b[0m\u001b[1;33m)\u001b[0m\u001b[1;33m\u001b[0m\u001b[0m\n\u001b[0m\u001b[0;32m    504\u001b[0m             \u001b[1;32mif\u001b[0m \u001b[0mresult\u001b[0m \u001b[1;32mis\u001b[0m \u001b[1;32mnot\u001b[0m \u001b[1;32mNone\u001b[0m\u001b[1;33m:\u001b[0m\u001b[1;33m\u001b[0m\u001b[0m\n\u001b[0;32m    505\u001b[0m                 \u001b[1;32mreturn\u001b[0m \u001b[0mresult\u001b[0m\u001b[1;33m\u001b[0m\u001b[0m\n",
      "\u001b[1;32mD:\\anaconda\\lib\\urllib\\request.py\u001b[0m in \u001b[0;36mhttp_error_default\u001b[1;34m(self, req, fp, code, msg, hdrs)\u001b[0m\n\u001b[0;32m    647\u001b[0m \u001b[1;32mclass\u001b[0m \u001b[0mHTTPDefaultErrorHandler\u001b[0m\u001b[1;33m(\u001b[0m\u001b[0mBaseHandler\u001b[0m\u001b[1;33m)\u001b[0m\u001b[1;33m:\u001b[0m\u001b[1;33m\u001b[0m\u001b[0m\n\u001b[0;32m    648\u001b[0m     \u001b[1;32mdef\u001b[0m \u001b[0mhttp_error_default\u001b[0m\u001b[1;33m(\u001b[0m\u001b[0mself\u001b[0m\u001b[1;33m,\u001b[0m \u001b[0mreq\u001b[0m\u001b[1;33m,\u001b[0m \u001b[0mfp\u001b[0m\u001b[1;33m,\u001b[0m \u001b[0mcode\u001b[0m\u001b[1;33m,\u001b[0m \u001b[0mmsg\u001b[0m\u001b[1;33m,\u001b[0m \u001b[0mhdrs\u001b[0m\u001b[1;33m)\u001b[0m\u001b[1;33m:\u001b[0m\u001b[1;33m\u001b[0m\u001b[0m\n\u001b[1;32m--> 649\u001b[1;33m         \u001b[1;32mraise\u001b[0m \u001b[0mHTTPError\u001b[0m\u001b[1;33m(\u001b[0m\u001b[0mreq\u001b[0m\u001b[1;33m.\u001b[0m\u001b[0mfull_url\u001b[0m\u001b[1;33m,\u001b[0m \u001b[0mcode\u001b[0m\u001b[1;33m,\u001b[0m \u001b[0mmsg\u001b[0m\u001b[1;33m,\u001b[0m \u001b[0mhdrs\u001b[0m\u001b[1;33m,\u001b[0m \u001b[0mfp\u001b[0m\u001b[1;33m)\u001b[0m\u001b[1;33m\u001b[0m\u001b[0m\n\u001b[0m\u001b[0;32m    650\u001b[0m \u001b[1;33m\u001b[0m\u001b[0m\n\u001b[0;32m    651\u001b[0m \u001b[1;32mclass\u001b[0m \u001b[0mHTTPRedirectHandler\u001b[0m\u001b[1;33m(\u001b[0m\u001b[0mBaseHandler\u001b[0m\u001b[1;33m)\u001b[0m\u001b[1;33m:\u001b[0m\u001b[1;33m\u001b[0m\u001b[0m\n",
      "\u001b[1;31mHTTPError\u001b[0m: HTTP Error 429: Too Many Requests"
     ]
    }
   ],
   "source": [
    "print(from_date,end_date)\n",
    "while to_date <= end_date:\n",
    "    from_date = prev_date + timedelta(days=1)\n",
    "    to_date = from_date + timedelta(days=1)\n",
    "    prev_date = from_date\n",
    "    tbs = googlesearch.get_tbs(from_date, to_date)\n",
    "    googlesearch.get_random_user_agent()\n",
    "    # mylist of urls\n",
    "    mylist = list(search(query, tld=\"com\", lang='en', tbs=tbs, num=200, stop=200, pause=5))\n",
    "    for url in mylist:\n",
    "        print(query,tbs,url)\n",
    "        urldict = {\"tbs\":tbs,\"Query\":query,\"URL\":url}\n",
    "\n",
    "        df = df.append(urldict,ignore_index=True)\n",
    "    "
   ]
  },
  {
   "cell_type": "code",
   "execution_count": 39,
   "metadata": {},
   "outputs": [
    {
     "data": {
      "text/html": [
       "<div>\n",
       "<style scoped>\n",
       "    .dataframe tbody tr th:only-of-type {\n",
       "        vertical-align: middle;\n",
       "    }\n",
       "\n",
       "    .dataframe tbody tr th {\n",
       "        vertical-align: top;\n",
       "    }\n",
       "\n",
       "    .dataframe thead th {\n",
       "        text-align: right;\n",
       "    }\n",
       "</style>\n",
       "<table border=\"1\" class=\"dataframe\">\n",
       "  <thead>\n",
       "    <tr style=\"text-align: right;\">\n",
       "      <th></th>\n",
       "      <th>Query</th>\n",
       "      <th>tbs</th>\n",
       "      <th>URL</th>\n",
       "    </tr>\n",
       "  </thead>\n",
       "  <tbody>\n",
       "    <tr>\n",
       "      <th>0</th>\n",
       "      <td>AAPL</td>\n",
       "      <td>cdr:1,cd_min:01/01/2020,cd_max:01/02/2020</td>\n",
       "      <td>https://9to5mac.com/2020/01/02/apple-closes-in...</td>\n",
       "    </tr>\n",
       "    <tr>\n",
       "      <th>1</th>\n",
       "      <td>AAPL</td>\n",
       "      <td>cdr:1,cd_min:01/01/2020,cd_max:01/02/2020</td>\n",
       "      <td>https://www.imore.com/analyst-gene-munster-thi...</td>\n",
       "    </tr>\n",
       "    <tr>\n",
       "      <th>2</th>\n",
       "      <td>AAPL</td>\n",
       "      <td>cdr:1,cd_min:01/01/2020,cd_max:01/02/2020</td>\n",
       "      <td>https://roboforex.com/forex-trading/trading/sp...</td>\n",
       "    </tr>\n",
       "    <tr>\n",
       "      <th>3</th>\n",
       "      <td>AAPL</td>\n",
       "      <td>cdr:1,cd_min:01/01/2020,cd_max:01/02/2020</td>\n",
       "      <td>https://www.ccn.com/3-reasons-apple-headed-for...</td>\n",
       "    </tr>\n",
       "    <tr>\n",
       "      <th>4</th>\n",
       "      <td>AAPL</td>\n",
       "      <td>cdr:1,cd_min:01/01/2020,cd_max:01/02/2020</td>\n",
       "      <td>https://appleinsider.com/articles/20/01/02/app...</td>\n",
       "    </tr>\n",
       "    <tr>\n",
       "      <th>...</th>\n",
       "      <td>...</td>\n",
       "      <td>...</td>\n",
       "      <td>...</td>\n",
       "    </tr>\n",
       "    <tr>\n",
       "      <th>208</th>\n",
       "      <td>AAPL</td>\n",
       "      <td>cdr:1,cd_min:01/10/2020,cd_max:01/11/2020</td>\n",
       "      <td>https://medium.com/analytics-vidhya/pandas-mas...</td>\n",
       "    </tr>\n",
       "    <tr>\n",
       "      <th>209</th>\n",
       "      <td>AAPL</td>\n",
       "      <td>cdr:1,cd_min:01/10/2020,cd_max:01/11/2020</td>\n",
       "      <td>https://www.cbinsights.com/company/plataformatec</td>\n",
       "    </tr>\n",
       "    <tr>\n",
       "      <th>210</th>\n",
       "      <td>AAPL</td>\n",
       "      <td>cdr:1,cd_min:01/10/2020,cd_max:01/11/2020</td>\n",
       "      <td>https://www.cbinsights.com/company/cesde</td>\n",
       "    </tr>\n",
       "    <tr>\n",
       "      <th>211</th>\n",
       "      <td>AAPL</td>\n",
       "      <td>cdr:1,cd_min:01/10/2020,cd_max:01/11/2020</td>\n",
       "      <td>https://newyonline.blogspot.com/2020/01/google...</td>\n",
       "    </tr>\n",
       "    <tr>\n",
       "      <th>212</th>\n",
       "      <td>AAPL</td>\n",
       "      <td>cdr:1,cd_min:01/10/2020,cd_max:01/11/2020</td>\n",
       "      <td>https://talkglitz.media/future-ft-drake-life-i...</td>\n",
       "    </tr>\n",
       "  </tbody>\n",
       "</table>\n",
       "<p>213 rows × 3 columns</p>\n",
       "</div>"
      ],
      "text/plain": [
       "    Query                                        tbs  \\\n",
       "0    AAPL  cdr:1,cd_min:01/01/2020,cd_max:01/02/2020   \n",
       "1    AAPL  cdr:1,cd_min:01/01/2020,cd_max:01/02/2020   \n",
       "2    AAPL  cdr:1,cd_min:01/01/2020,cd_max:01/02/2020   \n",
       "3    AAPL  cdr:1,cd_min:01/01/2020,cd_max:01/02/2020   \n",
       "4    AAPL  cdr:1,cd_min:01/01/2020,cd_max:01/02/2020   \n",
       "..    ...                                        ...   \n",
       "208  AAPL  cdr:1,cd_min:01/10/2020,cd_max:01/11/2020   \n",
       "209  AAPL  cdr:1,cd_min:01/10/2020,cd_max:01/11/2020   \n",
       "210  AAPL  cdr:1,cd_min:01/10/2020,cd_max:01/11/2020   \n",
       "211  AAPL  cdr:1,cd_min:01/10/2020,cd_max:01/11/2020   \n",
       "212  AAPL  cdr:1,cd_min:01/10/2020,cd_max:01/11/2020   \n",
       "\n",
       "                                                   URL  \n",
       "0    https://9to5mac.com/2020/01/02/apple-closes-in...  \n",
       "1    https://www.imore.com/analyst-gene-munster-thi...  \n",
       "2    https://roboforex.com/forex-trading/trading/sp...  \n",
       "3    https://www.ccn.com/3-reasons-apple-headed-for...  \n",
       "4    https://appleinsider.com/articles/20/01/02/app...  \n",
       "..                                                 ...  \n",
       "208  https://medium.com/analytics-vidhya/pandas-mas...  \n",
       "209   https://www.cbinsights.com/company/plataformatec  \n",
       "210           https://www.cbinsights.com/company/cesde  \n",
       "211  https://newyonline.blogspot.com/2020/01/google...  \n",
       "212  https://talkglitz.media/future-ft-drake-life-i...  \n",
       "\n",
       "[213 rows x 3 columns]"
      ]
     },
     "execution_count": 39,
     "metadata": {},
     "output_type": "execute_result"
    }
   ],
   "source": [
    "df\n"
   ]
  },
  {
   "cell_type": "code",
   "execution_count": 20,
   "metadata": {},
   "outputs": [
    {
     "name": "stdout",
     "output_type": "stream",
     "text": [
      "cdr:1,cd_min:01/01/2020,cd_max:01/02/2020 AAPL\n"
     ]
    }
   ],
   "source": [
    "print(tbs,query)"
   ]
  },
  {
   "cell_type": "code",
   "execution_count": 31,
   "metadata": {},
   "outputs": [
    {
     "name": "stdout",
     "output_type": "stream",
     "text": [
      "AAPL cdr:1,cd_min:01/01/2020,cd_max:01/02/2020 https://9to5mac.com/2020/01/02/apple-closes-in-on-300-a-share/\n",
      "AAPL cdr:1,cd_min:01/01/2020,cd_max:01/02/2020 https://www.imore.com/analyst-gene-munster-thinks-aapl-could-reach-400-share-2020\n",
      "AAPL cdr:1,cd_min:01/01/2020,cd_max:01/02/2020 https://roboforex.com/forex-trading/trading/specifications/card/pro-stan/AAPL/\n",
      "AAPL cdr:1,cd_min:01/01/2020,cd_max:01/02/2020 https://www.ccn.com/3-reasons-apple-headed-for-another-stock-split/\n",
      "AAPL cdr:1,cd_min:01/01/2020,cd_max:01/02/2020 https://appleinsider.com/articles/20/01/02/apple-stock-reaches-record-high-of-300-per-share\n",
      "AAPL cdr:1,cd_min:01/01/2020,cd_max:01/02/2020 https://www.barrons.com/articles/apple-stock-rally-above-300-record-close-51578002305\n",
      "AAPL cdr:1,cd_min:01/01/2020,cd_max:01/02/2020 https://www.forbes.com/sites/petercohan/2020/01/02/59-overvalued-why-apple-is-neither-a-growth-nor-value-stock/\n",
      "AAPL cdr:1,cd_min:01/01/2020,cd_max:01/02/2020 https://dbpedia.org/page/Apple_Inc.\n",
      "AAPL cdr:1,cd_min:01/01/2020,cd_max:01/02/2020 https://marketrealist.com/2020/01/nio-aapl-two-stocks-unusual-options-activity/\n",
      "AAPL cdr:1,cd_min:01/01/2020,cd_max:01/02/2020 https://www.cnbc.com/2020/01/01/value-is-beating-growth-only-because-of-the-way-apple-is-classified.html\n",
      "AAPL cdr:1,cd_min:01/01/2020,cd_max:01/02/2020 https://www.yahoo.com/video/12-stocks-worlds-most-valuable-215357722.html\n",
      "AAPL cdr:1,cd_min:01/01/2020,cd_max:01/02/2020 https://www.yahoo.com/video/why-stock-market-traders-should-be-terrified-of-robots-in-the-next-decade-130024382.html\n",
      "AAPL cdr:1,cd_min:01/01/2020,cd_max:01/02/2020 https://www.benzinga.com/analyst-ratings/analyst-color/20/01/15062453/large-apple-option-traders-kick-off-2020-with-heavy-call-buying\n",
      "AAPL cdr:1,cd_min:01/01/2020,cd_max:01/02/2020 https://www.youtube.com/watch?v=8vlaZ5A5zdU\n",
      "AAPL cdr:1,cd_min:01/01/2020,cd_max:01/02/2020 https://www.reddit.com/r/wallstreetbets/comments/ej58cp/so_apple_just_hit_300/\n",
      "AAPL cdr:1,cd_min:01/01/2020,cd_max:01/02/2020 https://www.tradingview.com/chart/AAPL/tFlbKNES-The-Fibonacci-Golden-Zone/\n",
      "AAPL cdr:1,cd_min:01/01/2020,cd_max:01/02/2020 https://m.gelonghui.com/p/337233\n",
      "AAPL cdr:1,cd_min:01/01/2020,cd_max:01/02/2020 https://bradleyfirm.com/attorneys/michael-r-brassett-ii/\n",
      "AAPL cdr:1,cd_min:01/01/2020,cd_max:01/02/2020 https://www.morganstanley.com/structuredinvestments/docs/prospectus/prelim/ProspectusRed61762GDQ4.pdf?ts=1427460128363\n",
      "AAPL cdr:1,cd_min:01/01/2020,cd_max:01/02/2020 https://www.pymnts.com/news/investment-tracker/2020/analyst-predicts-apple-shares-will-fall-sharply/\n",
      "AAPL cdr:1,cd_min:01/01/2020,cd_max:01/02/2020 https://stackoverflow.com/questions/59569349/getting-all-expirations-for-options-chain-in-ib-api\n",
      "AAPL cdr:1,cd_min:01/01/2020,cd_max:01/02/2020 https://stackoverflow.com/questions/59567623/difference-between-grouped-sums-for-two-different-dates-in-multi-index-pandas-da\n",
      "AAPL cdr:1,cd_min:01/01/2020,cd_max:01/02/2020 https://aapl.blog/\n",
      "AAPL cdr:1,cd_min:01/01/2020,cd_max:01/02/2020 https://github.com/GreenGrassBlueOcean/RefinitivR\n",
      "AAPL cdr:1,cd_min:01/01/2020,cd_max:01/02/2020 https://readertopic.com/article/iqos-oficialno-v-hersone-v-tc-fabrika-otkryli-pervyy-firmennyy-iqos-space-herson-daily\n"
     ]
    }
   ],
   "source": [
    "for url in mylist:\n",
    "    print(query,tbs,url)\n",
    "    urldict = {\"tbs\":tbs,\"Query\":query,\"URL\":url}\n",
    "\n",
    "    df = df.append(urldict,ignore_index=True)"
   ]
  },
  {
   "cell_type": "code",
   "execution_count": 32,
   "metadata": {},
   "outputs": [
    {
     "data": {
      "text/html": [
       "<div>\n",
       "<style scoped>\n",
       "    .dataframe tbody tr th:only-of-type {\n",
       "        vertical-align: middle;\n",
       "    }\n",
       "\n",
       "    .dataframe tbody tr th {\n",
       "        vertical-align: top;\n",
       "    }\n",
       "\n",
       "    .dataframe thead th {\n",
       "        text-align: right;\n",
       "    }\n",
       "</style>\n",
       "<table border=\"1\" class=\"dataframe\">\n",
       "  <thead>\n",
       "    <tr style=\"text-align: right;\">\n",
       "      <th></th>\n",
       "      <th>Query</th>\n",
       "      <th>tbs</th>\n",
       "      <th>URL</th>\n",
       "    </tr>\n",
       "  </thead>\n",
       "  <tbody>\n",
       "    <tr>\n",
       "      <th>0</th>\n",
       "      <td>AAPL</td>\n",
       "      <td>cdr:1,cd_min:01/01/2020,cd_max:01/02/2020</td>\n",
       "      <td>https://9to5mac.com/2020/01/02/apple-closes-in...</td>\n",
       "    </tr>\n",
       "    <tr>\n",
       "      <th>1</th>\n",
       "      <td>AAPL</td>\n",
       "      <td>cdr:1,cd_min:01/01/2020,cd_max:01/02/2020</td>\n",
       "      <td>https://www.imore.com/analyst-gene-munster-thi...</td>\n",
       "    </tr>\n",
       "    <tr>\n",
       "      <th>2</th>\n",
       "      <td>AAPL</td>\n",
       "      <td>cdr:1,cd_min:01/01/2020,cd_max:01/02/2020</td>\n",
       "      <td>https://roboforex.com/forex-trading/trading/sp...</td>\n",
       "    </tr>\n",
       "    <tr>\n",
       "      <th>3</th>\n",
       "      <td>AAPL</td>\n",
       "      <td>cdr:1,cd_min:01/01/2020,cd_max:01/02/2020</td>\n",
       "      <td>https://www.ccn.com/3-reasons-apple-headed-for...</td>\n",
       "    </tr>\n",
       "    <tr>\n",
       "      <th>4</th>\n",
       "      <td>AAPL</td>\n",
       "      <td>cdr:1,cd_min:01/01/2020,cd_max:01/02/2020</td>\n",
       "      <td>https://appleinsider.com/articles/20/01/02/app...</td>\n",
       "    </tr>\n",
       "    <tr>\n",
       "      <th>5</th>\n",
       "      <td>AAPL</td>\n",
       "      <td>cdr:1,cd_min:01/01/2020,cd_max:01/02/2020</td>\n",
       "      <td>https://www.barrons.com/articles/apple-stock-r...</td>\n",
       "    </tr>\n",
       "    <tr>\n",
       "      <th>6</th>\n",
       "      <td>AAPL</td>\n",
       "      <td>cdr:1,cd_min:01/01/2020,cd_max:01/02/2020</td>\n",
       "      <td>https://www.forbes.com/sites/petercohan/2020/0...</td>\n",
       "    </tr>\n",
       "    <tr>\n",
       "      <th>7</th>\n",
       "      <td>AAPL</td>\n",
       "      <td>cdr:1,cd_min:01/01/2020,cd_max:01/02/2020</td>\n",
       "      <td>https://dbpedia.org/page/Apple_Inc.</td>\n",
       "    </tr>\n",
       "    <tr>\n",
       "      <th>8</th>\n",
       "      <td>AAPL</td>\n",
       "      <td>cdr:1,cd_min:01/01/2020,cd_max:01/02/2020</td>\n",
       "      <td>https://marketrealist.com/2020/01/nio-aapl-two...</td>\n",
       "    </tr>\n",
       "    <tr>\n",
       "      <th>9</th>\n",
       "      <td>AAPL</td>\n",
       "      <td>cdr:1,cd_min:01/01/2020,cd_max:01/02/2020</td>\n",
       "      <td>https://www.cnbc.com/2020/01/01/value-is-beati...</td>\n",
       "    </tr>\n",
       "    <tr>\n",
       "      <th>10</th>\n",
       "      <td>AAPL</td>\n",
       "      <td>cdr:1,cd_min:01/01/2020,cd_max:01/02/2020</td>\n",
       "      <td>https://www.yahoo.com/video/12-stocks-worlds-m...</td>\n",
       "    </tr>\n",
       "    <tr>\n",
       "      <th>11</th>\n",
       "      <td>AAPL</td>\n",
       "      <td>cdr:1,cd_min:01/01/2020,cd_max:01/02/2020</td>\n",
       "      <td>https://www.yahoo.com/video/why-stock-market-t...</td>\n",
       "    </tr>\n",
       "    <tr>\n",
       "      <th>12</th>\n",
       "      <td>AAPL</td>\n",
       "      <td>cdr:1,cd_min:01/01/2020,cd_max:01/02/2020</td>\n",
       "      <td>https://www.benzinga.com/analyst-ratings/analy...</td>\n",
       "    </tr>\n",
       "    <tr>\n",
       "      <th>13</th>\n",
       "      <td>AAPL</td>\n",
       "      <td>cdr:1,cd_min:01/01/2020,cd_max:01/02/2020</td>\n",
       "      <td>https://www.youtube.com/watch?v=8vlaZ5A5zdU</td>\n",
       "    </tr>\n",
       "    <tr>\n",
       "      <th>14</th>\n",
       "      <td>AAPL</td>\n",
       "      <td>cdr:1,cd_min:01/01/2020,cd_max:01/02/2020</td>\n",
       "      <td>https://www.reddit.com/r/wallstreetbets/commen...</td>\n",
       "    </tr>\n",
       "    <tr>\n",
       "      <th>15</th>\n",
       "      <td>AAPL</td>\n",
       "      <td>cdr:1,cd_min:01/01/2020,cd_max:01/02/2020</td>\n",
       "      <td>https://www.tradingview.com/chart/AAPL/tFlbKNE...</td>\n",
       "    </tr>\n",
       "    <tr>\n",
       "      <th>16</th>\n",
       "      <td>AAPL</td>\n",
       "      <td>cdr:1,cd_min:01/01/2020,cd_max:01/02/2020</td>\n",
       "      <td>https://m.gelonghui.com/p/337233</td>\n",
       "    </tr>\n",
       "    <tr>\n",
       "      <th>17</th>\n",
       "      <td>AAPL</td>\n",
       "      <td>cdr:1,cd_min:01/01/2020,cd_max:01/02/2020</td>\n",
       "      <td>https://bradleyfirm.com/attorneys/michael-r-br...</td>\n",
       "    </tr>\n",
       "    <tr>\n",
       "      <th>18</th>\n",
       "      <td>AAPL</td>\n",
       "      <td>cdr:1,cd_min:01/01/2020,cd_max:01/02/2020</td>\n",
       "      <td>https://www.morganstanley.com/structuredinvest...</td>\n",
       "    </tr>\n",
       "    <tr>\n",
       "      <th>19</th>\n",
       "      <td>AAPL</td>\n",
       "      <td>cdr:1,cd_min:01/01/2020,cd_max:01/02/2020</td>\n",
       "      <td>https://www.pymnts.com/news/investment-tracker...</td>\n",
       "    </tr>\n",
       "    <tr>\n",
       "      <th>20</th>\n",
       "      <td>AAPL</td>\n",
       "      <td>cdr:1,cd_min:01/01/2020,cd_max:01/02/2020</td>\n",
       "      <td>https://stackoverflow.com/questions/59569349/g...</td>\n",
       "    </tr>\n",
       "    <tr>\n",
       "      <th>21</th>\n",
       "      <td>AAPL</td>\n",
       "      <td>cdr:1,cd_min:01/01/2020,cd_max:01/02/2020</td>\n",
       "      <td>https://stackoverflow.com/questions/59567623/d...</td>\n",
       "    </tr>\n",
       "    <tr>\n",
       "      <th>22</th>\n",
       "      <td>AAPL</td>\n",
       "      <td>cdr:1,cd_min:01/01/2020,cd_max:01/02/2020</td>\n",
       "      <td>https://aapl.blog/</td>\n",
       "    </tr>\n",
       "    <tr>\n",
       "      <th>23</th>\n",
       "      <td>AAPL</td>\n",
       "      <td>cdr:1,cd_min:01/01/2020,cd_max:01/02/2020</td>\n",
       "      <td>https://github.com/GreenGrassBlueOcean/RefinitivR</td>\n",
       "    </tr>\n",
       "    <tr>\n",
       "      <th>24</th>\n",
       "      <td>AAPL</td>\n",
       "      <td>cdr:1,cd_min:01/01/2020,cd_max:01/02/2020</td>\n",
       "      <td>https://readertopic.com/article/iqos-oficialno...</td>\n",
       "    </tr>\n",
       "    <tr>\n",
       "      <th>25</th>\n",
       "      <td>AAPL</td>\n",
       "      <td>cdr:1,cd_min:01/01/2020,cd_max:01/02/2020</td>\n",
       "      <td>https://9to5mac.com/2020/01/02/apple-closes-in...</td>\n",
       "    </tr>\n",
       "    <tr>\n",
       "      <th>26</th>\n",
       "      <td>AAPL</td>\n",
       "      <td>cdr:1,cd_min:01/01/2020,cd_max:01/02/2020</td>\n",
       "      <td>https://www.imore.com/analyst-gene-munster-thi...</td>\n",
       "    </tr>\n",
       "    <tr>\n",
       "      <th>27</th>\n",
       "      <td>AAPL</td>\n",
       "      <td>cdr:1,cd_min:01/01/2020,cd_max:01/02/2020</td>\n",
       "      <td>https://roboforex.com/forex-trading/trading/sp...</td>\n",
       "    </tr>\n",
       "    <tr>\n",
       "      <th>28</th>\n",
       "      <td>AAPL</td>\n",
       "      <td>cdr:1,cd_min:01/01/2020,cd_max:01/02/2020</td>\n",
       "      <td>https://www.ccn.com/3-reasons-apple-headed-for...</td>\n",
       "    </tr>\n",
       "    <tr>\n",
       "      <th>29</th>\n",
       "      <td>AAPL</td>\n",
       "      <td>cdr:1,cd_min:01/01/2020,cd_max:01/02/2020</td>\n",
       "      <td>https://appleinsider.com/articles/20/01/02/app...</td>\n",
       "    </tr>\n",
       "    <tr>\n",
       "      <th>30</th>\n",
       "      <td>AAPL</td>\n",
       "      <td>cdr:1,cd_min:01/01/2020,cd_max:01/02/2020</td>\n",
       "      <td>https://www.barrons.com/articles/apple-stock-r...</td>\n",
       "    </tr>\n",
       "    <tr>\n",
       "      <th>31</th>\n",
       "      <td>AAPL</td>\n",
       "      <td>cdr:1,cd_min:01/01/2020,cd_max:01/02/2020</td>\n",
       "      <td>https://www.forbes.com/sites/petercohan/2020/0...</td>\n",
       "    </tr>\n",
       "    <tr>\n",
       "      <th>32</th>\n",
       "      <td>AAPL</td>\n",
       "      <td>cdr:1,cd_min:01/01/2020,cd_max:01/02/2020</td>\n",
       "      <td>https://dbpedia.org/page/Apple_Inc.</td>\n",
       "    </tr>\n",
       "    <tr>\n",
       "      <th>33</th>\n",
       "      <td>AAPL</td>\n",
       "      <td>cdr:1,cd_min:01/01/2020,cd_max:01/02/2020</td>\n",
       "      <td>https://marketrealist.com/2020/01/nio-aapl-two...</td>\n",
       "    </tr>\n",
       "    <tr>\n",
       "      <th>34</th>\n",
       "      <td>AAPL</td>\n",
       "      <td>cdr:1,cd_min:01/01/2020,cd_max:01/02/2020</td>\n",
       "      <td>https://www.cnbc.com/2020/01/01/value-is-beati...</td>\n",
       "    </tr>\n",
       "    <tr>\n",
       "      <th>35</th>\n",
       "      <td>AAPL</td>\n",
       "      <td>cdr:1,cd_min:01/01/2020,cd_max:01/02/2020</td>\n",
       "      <td>https://www.yahoo.com/video/12-stocks-worlds-m...</td>\n",
       "    </tr>\n",
       "    <tr>\n",
       "      <th>36</th>\n",
       "      <td>AAPL</td>\n",
       "      <td>cdr:1,cd_min:01/01/2020,cd_max:01/02/2020</td>\n",
       "      <td>https://www.yahoo.com/video/why-stock-market-t...</td>\n",
       "    </tr>\n",
       "    <tr>\n",
       "      <th>37</th>\n",
       "      <td>AAPL</td>\n",
       "      <td>cdr:1,cd_min:01/01/2020,cd_max:01/02/2020</td>\n",
       "      <td>https://www.benzinga.com/analyst-ratings/analy...</td>\n",
       "    </tr>\n",
       "    <tr>\n",
       "      <th>38</th>\n",
       "      <td>AAPL</td>\n",
       "      <td>cdr:1,cd_min:01/01/2020,cd_max:01/02/2020</td>\n",
       "      <td>https://www.youtube.com/watch?v=8vlaZ5A5zdU</td>\n",
       "    </tr>\n",
       "    <tr>\n",
       "      <th>39</th>\n",
       "      <td>AAPL</td>\n",
       "      <td>cdr:1,cd_min:01/01/2020,cd_max:01/02/2020</td>\n",
       "      <td>https://www.reddit.com/r/wallstreetbets/commen...</td>\n",
       "    </tr>\n",
       "    <tr>\n",
       "      <th>40</th>\n",
       "      <td>AAPL</td>\n",
       "      <td>cdr:1,cd_min:01/01/2020,cd_max:01/02/2020</td>\n",
       "      <td>https://www.tradingview.com/chart/AAPL/tFlbKNE...</td>\n",
       "    </tr>\n",
       "    <tr>\n",
       "      <th>41</th>\n",
       "      <td>AAPL</td>\n",
       "      <td>cdr:1,cd_min:01/01/2020,cd_max:01/02/2020</td>\n",
       "      <td>https://m.gelonghui.com/p/337233</td>\n",
       "    </tr>\n",
       "    <tr>\n",
       "      <th>42</th>\n",
       "      <td>AAPL</td>\n",
       "      <td>cdr:1,cd_min:01/01/2020,cd_max:01/02/2020</td>\n",
       "      <td>https://bradleyfirm.com/attorneys/michael-r-br...</td>\n",
       "    </tr>\n",
       "    <tr>\n",
       "      <th>43</th>\n",
       "      <td>AAPL</td>\n",
       "      <td>cdr:1,cd_min:01/01/2020,cd_max:01/02/2020</td>\n",
       "      <td>https://www.morganstanley.com/structuredinvest...</td>\n",
       "    </tr>\n",
       "    <tr>\n",
       "      <th>44</th>\n",
       "      <td>AAPL</td>\n",
       "      <td>cdr:1,cd_min:01/01/2020,cd_max:01/02/2020</td>\n",
       "      <td>https://www.pymnts.com/news/investment-tracker...</td>\n",
       "    </tr>\n",
       "    <tr>\n",
       "      <th>45</th>\n",
       "      <td>AAPL</td>\n",
       "      <td>cdr:1,cd_min:01/01/2020,cd_max:01/02/2020</td>\n",
       "      <td>https://stackoverflow.com/questions/59569349/g...</td>\n",
       "    </tr>\n",
       "    <tr>\n",
       "      <th>46</th>\n",
       "      <td>AAPL</td>\n",
       "      <td>cdr:1,cd_min:01/01/2020,cd_max:01/02/2020</td>\n",
       "      <td>https://stackoverflow.com/questions/59567623/d...</td>\n",
       "    </tr>\n",
       "    <tr>\n",
       "      <th>47</th>\n",
       "      <td>AAPL</td>\n",
       "      <td>cdr:1,cd_min:01/01/2020,cd_max:01/02/2020</td>\n",
       "      <td>https://aapl.blog/</td>\n",
       "    </tr>\n",
       "    <tr>\n",
       "      <th>48</th>\n",
       "      <td>AAPL</td>\n",
       "      <td>cdr:1,cd_min:01/01/2020,cd_max:01/02/2020</td>\n",
       "      <td>https://github.com/GreenGrassBlueOcean/RefinitivR</td>\n",
       "    </tr>\n",
       "    <tr>\n",
       "      <th>49</th>\n",
       "      <td>AAPL</td>\n",
       "      <td>cdr:1,cd_min:01/01/2020,cd_max:01/02/2020</td>\n",
       "      <td>https://readertopic.com/article/iqos-oficialno...</td>\n",
       "    </tr>\n",
       "  </tbody>\n",
       "</table>\n",
       "</div>"
      ],
      "text/plain": [
       "   Query                                        tbs  \\\n",
       "0   AAPL  cdr:1,cd_min:01/01/2020,cd_max:01/02/2020   \n",
       "1   AAPL  cdr:1,cd_min:01/01/2020,cd_max:01/02/2020   \n",
       "2   AAPL  cdr:1,cd_min:01/01/2020,cd_max:01/02/2020   \n",
       "3   AAPL  cdr:1,cd_min:01/01/2020,cd_max:01/02/2020   \n",
       "4   AAPL  cdr:1,cd_min:01/01/2020,cd_max:01/02/2020   \n",
       "5   AAPL  cdr:1,cd_min:01/01/2020,cd_max:01/02/2020   \n",
       "6   AAPL  cdr:1,cd_min:01/01/2020,cd_max:01/02/2020   \n",
       "7   AAPL  cdr:1,cd_min:01/01/2020,cd_max:01/02/2020   \n",
       "8   AAPL  cdr:1,cd_min:01/01/2020,cd_max:01/02/2020   \n",
       "9   AAPL  cdr:1,cd_min:01/01/2020,cd_max:01/02/2020   \n",
       "10  AAPL  cdr:1,cd_min:01/01/2020,cd_max:01/02/2020   \n",
       "11  AAPL  cdr:1,cd_min:01/01/2020,cd_max:01/02/2020   \n",
       "12  AAPL  cdr:1,cd_min:01/01/2020,cd_max:01/02/2020   \n",
       "13  AAPL  cdr:1,cd_min:01/01/2020,cd_max:01/02/2020   \n",
       "14  AAPL  cdr:1,cd_min:01/01/2020,cd_max:01/02/2020   \n",
       "15  AAPL  cdr:1,cd_min:01/01/2020,cd_max:01/02/2020   \n",
       "16  AAPL  cdr:1,cd_min:01/01/2020,cd_max:01/02/2020   \n",
       "17  AAPL  cdr:1,cd_min:01/01/2020,cd_max:01/02/2020   \n",
       "18  AAPL  cdr:1,cd_min:01/01/2020,cd_max:01/02/2020   \n",
       "19  AAPL  cdr:1,cd_min:01/01/2020,cd_max:01/02/2020   \n",
       "20  AAPL  cdr:1,cd_min:01/01/2020,cd_max:01/02/2020   \n",
       "21  AAPL  cdr:1,cd_min:01/01/2020,cd_max:01/02/2020   \n",
       "22  AAPL  cdr:1,cd_min:01/01/2020,cd_max:01/02/2020   \n",
       "23  AAPL  cdr:1,cd_min:01/01/2020,cd_max:01/02/2020   \n",
       "24  AAPL  cdr:1,cd_min:01/01/2020,cd_max:01/02/2020   \n",
       "25  AAPL  cdr:1,cd_min:01/01/2020,cd_max:01/02/2020   \n",
       "26  AAPL  cdr:1,cd_min:01/01/2020,cd_max:01/02/2020   \n",
       "27  AAPL  cdr:1,cd_min:01/01/2020,cd_max:01/02/2020   \n",
       "28  AAPL  cdr:1,cd_min:01/01/2020,cd_max:01/02/2020   \n",
       "29  AAPL  cdr:1,cd_min:01/01/2020,cd_max:01/02/2020   \n",
       "30  AAPL  cdr:1,cd_min:01/01/2020,cd_max:01/02/2020   \n",
       "31  AAPL  cdr:1,cd_min:01/01/2020,cd_max:01/02/2020   \n",
       "32  AAPL  cdr:1,cd_min:01/01/2020,cd_max:01/02/2020   \n",
       "33  AAPL  cdr:1,cd_min:01/01/2020,cd_max:01/02/2020   \n",
       "34  AAPL  cdr:1,cd_min:01/01/2020,cd_max:01/02/2020   \n",
       "35  AAPL  cdr:1,cd_min:01/01/2020,cd_max:01/02/2020   \n",
       "36  AAPL  cdr:1,cd_min:01/01/2020,cd_max:01/02/2020   \n",
       "37  AAPL  cdr:1,cd_min:01/01/2020,cd_max:01/02/2020   \n",
       "38  AAPL  cdr:1,cd_min:01/01/2020,cd_max:01/02/2020   \n",
       "39  AAPL  cdr:1,cd_min:01/01/2020,cd_max:01/02/2020   \n",
       "40  AAPL  cdr:1,cd_min:01/01/2020,cd_max:01/02/2020   \n",
       "41  AAPL  cdr:1,cd_min:01/01/2020,cd_max:01/02/2020   \n",
       "42  AAPL  cdr:1,cd_min:01/01/2020,cd_max:01/02/2020   \n",
       "43  AAPL  cdr:1,cd_min:01/01/2020,cd_max:01/02/2020   \n",
       "44  AAPL  cdr:1,cd_min:01/01/2020,cd_max:01/02/2020   \n",
       "45  AAPL  cdr:1,cd_min:01/01/2020,cd_max:01/02/2020   \n",
       "46  AAPL  cdr:1,cd_min:01/01/2020,cd_max:01/02/2020   \n",
       "47  AAPL  cdr:1,cd_min:01/01/2020,cd_max:01/02/2020   \n",
       "48  AAPL  cdr:1,cd_min:01/01/2020,cd_max:01/02/2020   \n",
       "49  AAPL  cdr:1,cd_min:01/01/2020,cd_max:01/02/2020   \n",
       "\n",
       "                                                  URL  \n",
       "0   https://9to5mac.com/2020/01/02/apple-closes-in...  \n",
       "1   https://www.imore.com/analyst-gene-munster-thi...  \n",
       "2   https://roboforex.com/forex-trading/trading/sp...  \n",
       "3   https://www.ccn.com/3-reasons-apple-headed-for...  \n",
       "4   https://appleinsider.com/articles/20/01/02/app...  \n",
       "5   https://www.barrons.com/articles/apple-stock-r...  \n",
       "6   https://www.forbes.com/sites/petercohan/2020/0...  \n",
       "7                 https://dbpedia.org/page/Apple_Inc.  \n",
       "8   https://marketrealist.com/2020/01/nio-aapl-two...  \n",
       "9   https://www.cnbc.com/2020/01/01/value-is-beati...  \n",
       "10  https://www.yahoo.com/video/12-stocks-worlds-m...  \n",
       "11  https://www.yahoo.com/video/why-stock-market-t...  \n",
       "12  https://www.benzinga.com/analyst-ratings/analy...  \n",
       "13        https://www.youtube.com/watch?v=8vlaZ5A5zdU  \n",
       "14  https://www.reddit.com/r/wallstreetbets/commen...  \n",
       "15  https://www.tradingview.com/chart/AAPL/tFlbKNE...  \n",
       "16                   https://m.gelonghui.com/p/337233  \n",
       "17  https://bradleyfirm.com/attorneys/michael-r-br...  \n",
       "18  https://www.morganstanley.com/structuredinvest...  \n",
       "19  https://www.pymnts.com/news/investment-tracker...  \n",
       "20  https://stackoverflow.com/questions/59569349/g...  \n",
       "21  https://stackoverflow.com/questions/59567623/d...  \n",
       "22                                 https://aapl.blog/  \n",
       "23  https://github.com/GreenGrassBlueOcean/RefinitivR  \n",
       "24  https://readertopic.com/article/iqos-oficialno...  \n",
       "25  https://9to5mac.com/2020/01/02/apple-closes-in...  \n",
       "26  https://www.imore.com/analyst-gene-munster-thi...  \n",
       "27  https://roboforex.com/forex-trading/trading/sp...  \n",
       "28  https://www.ccn.com/3-reasons-apple-headed-for...  \n",
       "29  https://appleinsider.com/articles/20/01/02/app...  \n",
       "30  https://www.barrons.com/articles/apple-stock-r...  \n",
       "31  https://www.forbes.com/sites/petercohan/2020/0...  \n",
       "32                https://dbpedia.org/page/Apple_Inc.  \n",
       "33  https://marketrealist.com/2020/01/nio-aapl-two...  \n",
       "34  https://www.cnbc.com/2020/01/01/value-is-beati...  \n",
       "35  https://www.yahoo.com/video/12-stocks-worlds-m...  \n",
       "36  https://www.yahoo.com/video/why-stock-market-t...  \n",
       "37  https://www.benzinga.com/analyst-ratings/analy...  \n",
       "38        https://www.youtube.com/watch?v=8vlaZ5A5zdU  \n",
       "39  https://www.reddit.com/r/wallstreetbets/commen...  \n",
       "40  https://www.tradingview.com/chart/AAPL/tFlbKNE...  \n",
       "41                   https://m.gelonghui.com/p/337233  \n",
       "42  https://bradleyfirm.com/attorneys/michael-r-br...  \n",
       "43  https://www.morganstanley.com/structuredinvest...  \n",
       "44  https://www.pymnts.com/news/investment-tracker...  \n",
       "45  https://stackoverflow.com/questions/59569349/g...  \n",
       "46  https://stackoverflow.com/questions/59567623/d...  \n",
       "47                                 https://aapl.blog/  \n",
       "48  https://github.com/GreenGrassBlueOcean/RefinitivR  \n",
       "49  https://readertopic.com/article/iqos-oficialno...  "
      ]
     },
     "execution_count": 32,
     "metadata": {},
     "output_type": "execute_result"
    }
   ],
   "source": [
    "df"
   ]
  },
  {
   "cell_type": "code",
   "execution_count": 42,
   "metadata": {},
   "outputs": [
    {
     "data": {
      "text/html": [
       "<div>\n",
       "<style scoped>\n",
       "    .dataframe tbody tr th:only-of-type {\n",
       "        vertical-align: middle;\n",
       "    }\n",
       "\n",
       "    .dataframe tbody tr th {\n",
       "        vertical-align: top;\n",
       "    }\n",
       "\n",
       "    .dataframe thead th {\n",
       "        text-align: right;\n",
       "    }\n",
       "</style>\n",
       "<table border=\"1\" class=\"dataframe\">\n",
       "  <thead>\n",
       "    <tr style=\"text-align: right;\">\n",
       "      <th></th>\n",
       "      <th>Query</th>\n",
       "      <th>tbs</th>\n",
       "      <th>URL</th>\n",
       "    </tr>\n",
       "  </thead>\n",
       "  <tbody>\n",
       "    <tr>\n",
       "      <th>0</th>\n",
       "      <td>AAPL</td>\n",
       "      <td>cdr:1,cd_min:01/01/2020,cd_max:01/02/2020</td>\n",
       "      <td>https://9to5mac.com/2020/01/02/apple-closes-in...</td>\n",
       "    </tr>\n",
       "    <tr>\n",
       "      <th>1</th>\n",
       "      <td>AAPL</td>\n",
       "      <td>cdr:1,cd_min:01/01/2020,cd_max:01/02/2020</td>\n",
       "      <td>https://www.imore.com/analyst-gene-munster-thi...</td>\n",
       "    </tr>\n",
       "    <tr>\n",
       "      <th>2</th>\n",
       "      <td>AAPL</td>\n",
       "      <td>cdr:1,cd_min:01/01/2020,cd_max:01/02/2020</td>\n",
       "      <td>https://roboforex.com/forex-trading/trading/sp...</td>\n",
       "    </tr>\n",
       "    <tr>\n",
       "      <th>3</th>\n",
       "      <td>AAPL</td>\n",
       "      <td>cdr:1,cd_min:01/01/2020,cd_max:01/02/2020</td>\n",
       "      <td>https://www.ccn.com/3-reasons-apple-headed-for...</td>\n",
       "    </tr>\n",
       "    <tr>\n",
       "      <th>4</th>\n",
       "      <td>AAPL</td>\n",
       "      <td>cdr:1,cd_min:01/01/2020,cd_max:01/02/2020</td>\n",
       "      <td>https://appleinsider.com/articles/20/01/02/app...</td>\n",
       "    </tr>\n",
       "    <tr>\n",
       "      <th>...</th>\n",
       "      <td>...</td>\n",
       "      <td>...</td>\n",
       "      <td>...</td>\n",
       "    </tr>\n",
       "    <tr>\n",
       "      <th>208</th>\n",
       "      <td>AAPL</td>\n",
       "      <td>cdr:1,cd_min:01/10/2020,cd_max:01/11/2020</td>\n",
       "      <td>https://medium.com/analytics-vidhya/pandas-mas...</td>\n",
       "    </tr>\n",
       "    <tr>\n",
       "      <th>209</th>\n",
       "      <td>AAPL</td>\n",
       "      <td>cdr:1,cd_min:01/10/2020,cd_max:01/11/2020</td>\n",
       "      <td>https://www.cbinsights.com/company/plataformatec</td>\n",
       "    </tr>\n",
       "    <tr>\n",
       "      <th>210</th>\n",
       "      <td>AAPL</td>\n",
       "      <td>cdr:1,cd_min:01/10/2020,cd_max:01/11/2020</td>\n",
       "      <td>https://www.cbinsights.com/company/cesde</td>\n",
       "    </tr>\n",
       "    <tr>\n",
       "      <th>211</th>\n",
       "      <td>AAPL</td>\n",
       "      <td>cdr:1,cd_min:01/10/2020,cd_max:01/11/2020</td>\n",
       "      <td>https://newyonline.blogspot.com/2020/01/google...</td>\n",
       "    </tr>\n",
       "    <tr>\n",
       "      <th>212</th>\n",
       "      <td>AAPL</td>\n",
       "      <td>cdr:1,cd_min:01/10/2020,cd_max:01/11/2020</td>\n",
       "      <td>https://talkglitz.media/future-ft-drake-life-i...</td>\n",
       "    </tr>\n",
       "  </tbody>\n",
       "</table>\n",
       "<p>213 rows × 3 columns</p>\n",
       "</div>"
      ],
      "text/plain": [
       "    Query                                        tbs  \\\n",
       "0    AAPL  cdr:1,cd_min:01/01/2020,cd_max:01/02/2020   \n",
       "1    AAPL  cdr:1,cd_min:01/01/2020,cd_max:01/02/2020   \n",
       "2    AAPL  cdr:1,cd_min:01/01/2020,cd_max:01/02/2020   \n",
       "3    AAPL  cdr:1,cd_min:01/01/2020,cd_max:01/02/2020   \n",
       "4    AAPL  cdr:1,cd_min:01/01/2020,cd_max:01/02/2020   \n",
       "..    ...                                        ...   \n",
       "208  AAPL  cdr:1,cd_min:01/10/2020,cd_max:01/11/2020   \n",
       "209  AAPL  cdr:1,cd_min:01/10/2020,cd_max:01/11/2020   \n",
       "210  AAPL  cdr:1,cd_min:01/10/2020,cd_max:01/11/2020   \n",
       "211  AAPL  cdr:1,cd_min:01/10/2020,cd_max:01/11/2020   \n",
       "212  AAPL  cdr:1,cd_min:01/10/2020,cd_max:01/11/2020   \n",
       "\n",
       "                                                   URL  \n",
       "0    https://9to5mac.com/2020/01/02/apple-closes-in...  \n",
       "1    https://www.imore.com/analyst-gene-munster-thi...  \n",
       "2    https://roboforex.com/forex-trading/trading/sp...  \n",
       "3    https://www.ccn.com/3-reasons-apple-headed-for...  \n",
       "4    https://appleinsider.com/articles/20/01/02/app...  \n",
       "..                                                 ...  \n",
       "208  https://medium.com/analytics-vidhya/pandas-mas...  \n",
       "209   https://www.cbinsights.com/company/plataformatec  \n",
       "210           https://www.cbinsights.com/company/cesde  \n",
       "211  https://newyonline.blogspot.com/2020/01/google...  \n",
       "212  https://talkglitz.media/future-ft-drake-life-i...  \n",
       "\n",
       "[213 rows x 3 columns]"
      ]
     },
     "execution_count": 42,
     "metadata": {},
     "output_type": "execute_result"
    }
   ],
   "source": [
    "df\n"
   ]
  },
  {
   "cell_type": "code",
   "execution_count": 44,
   "metadata": {},
   "outputs": [],
   "source": [
    "df.to_pickle(\"Google_urls_for_AAPL\")"
   ]
  },
  {
   "cell_type": "code",
   "execution_count": 50,
   "metadata": {},
   "outputs": [],
   "source": [
    "url = df.iloc[0]['URL']"
   ]
  },
  {
   "cell_type": "code",
   "execution_count": 48,
   "metadata": {},
   "outputs": [
    {
     "data": {
      "text/plain": [
       "'com'"
      ]
     },
     "execution_count": 48,
     "metadata": {},
     "output_type": "execute_result"
    }
   ],
   "source": [
    "get_tld(df.iloc[0]['URL'])"
   ]
  },
  {
   "cell_type": "code",
   "execution_count": 52,
   "metadata": {},
   "outputs": [],
   "source": [
    "from tld import get_fld"
   ]
  },
  {
   "cell_type": "code",
   "execution_count": 53,
   "metadata": {},
   "outputs": [
    {
     "data": {
      "text/plain": [
       "'9to5mac.com'"
      ]
     },
     "execution_count": 53,
     "metadata": {},
     "output_type": "execute_result"
    }
   ],
   "source": [
    "get_fld(url)"
   ]
  },
  {
   "cell_type": "code",
   "execution_count": 63,
   "metadata": {},
   "outputs": [],
   "source": [
    "df_fld = pd.DataFrame(columns=[\"URL\",\"FLD\"])"
   ]
  },
  {
   "cell_type": "code",
   "execution_count": null,
   "metadata": {},
   "outputs": [],
   "source": [
    "urldict = {\"tbs\":tbs,\"Query\":query,\"URL\":url}\n",
    "\n",
    "df_fld = df_fld.append(urldict,ignore_index=True)"
   ]
  },
  {
   "cell_type": "code",
   "execution_count": 64,
   "metadata": {},
   "outputs": [
    {
     "name": "stdout",
     "output_type": "stream",
     "text": [
      "https://9to5mac.com/2020/01/02/apple-closes-in-on-300-a-share/\n",
      "https://www.imore.com/analyst-gene-munster-thinks-aapl-could-reach-400-share-2020\n",
      "https://roboforex.com/forex-trading/trading/specifications/card/pro-stan/AAPL/\n",
      "https://www.ccn.com/3-reasons-apple-headed-for-another-stock-split/\n",
      "https://appleinsider.com/articles/20/01/02/apple-stock-reaches-record-high-of-300-per-share\n",
      "https://www.barrons.com/articles/apple-stock-rally-above-300-record-close-51578002305\n",
      "https://www.forbes.com/sites/petercohan/2020/01/02/59-overvalued-why-apple-is-neither-a-growth-nor-value-stock/\n",
      "https://dbpedia.org/page/Apple_Inc.\n",
      "https://marketrealist.com/2020/01/nio-aapl-two-stocks-unusual-options-activity/\n",
      "https://www.cnbc.com/2020/01/01/value-is-beating-growth-only-because-of-the-way-apple-is-classified.html\n",
      "https://www.yahoo.com/video/12-stocks-worlds-most-valuable-215357722.html\n",
      "https://www.yahoo.com/video/why-stock-market-traders-should-be-terrified-of-robots-in-the-next-decade-130024382.html\n",
      "https://www.benzinga.com/analyst-ratings/analyst-color/20/01/15062453/large-apple-option-traders-kick-off-2020-with-heavy-call-buying\n",
      "https://www.youtube.com/watch?v=8vlaZ5A5zdU\n",
      "https://www.reddit.com/r/wallstreetbets/comments/ej58cp/so_apple_just_hit_300/\n",
      "https://www.tradingview.com/chart/AAPL/tFlbKNES-The-Fibonacci-Golden-Zone/\n",
      "https://m.gelonghui.com/p/337233\n",
      "https://bradleyfirm.com/attorneys/michael-r-brassett-ii/\n",
      "https://www.morganstanley.com/structuredinvestments/docs/prospectus/prelim/ProspectusRed61762GDQ4.pdf?ts=1427460128363\n",
      "https://www.pymnts.com/news/investment-tracker/2020/analyst-predicts-apple-shares-will-fall-sharply/\n",
      "https://stackoverflow.com/questions/59569349/getting-all-expirations-for-options-chain-in-ib-api\n",
      "https://stackoverflow.com/questions/59567623/difference-between-grouped-sums-for-two-different-dates-in-multi-index-pandas-da\n",
      "https://aapl.blog/\n",
      "https://github.com/GreenGrassBlueOcean/RefinitivR\n",
      "https://readertopic.com/article/iqos-oficialno-v-hersone-v-tc-fabrika-otkryli-pervyy-firmennyy-iqos-space-herson-daily\n",
      "https://9to5mac.com/2020/01/02/apple-closes-in-on-300-a-share/\n",
      "https://www.imore.com/analyst-gene-munster-thinks-aapl-could-reach-400-share-2020\n",
      "https://finbox.com/NASDAQGS:AAPL/models/dcf-growth-exit-10yr\n",
      "https://finbox.com/NASDAQGS:AAPL/models/historical-10yr\n",
      "https://www.ccn.com/3-reasons-apple-headed-for-another-stock-split/\n",
      "https://investorplace.com/2020/01/apple-stock-ripe-again-for-a-correction/\n",
      "https://appleinsider.com/articles/20/01/02/apple-stock-reaches-record-high-of-300-per-share\n",
      "https://www.barrons.com/articles/apple-stock-rally-above-300-record-close-51578002305\n",
      "https://www.forbes.com/sites/petercohan/2020/01/02/59-overvalued-why-apple-is-neither-a-growth-nor-value-stock/\n",
      "https://marketrealist.com/2020/01/nio-aapl-two-stocks-unusual-options-activity/\n",
      "https://www.yahoo.com/video/12-stocks-worlds-most-valuable-215357722.html\n",
      "https://www.yahoo.com/video/why-stock-market-traders-should-be-terrified-of-robots-in-the-next-decade-130024382.html\n",
      "https://www.statista.com/chart/20392/current-value-of-1000-invested-in-apple-shares/\n",
      "https://www.benzinga.com/analyst-ratings/analyst-color/20/01/15062453/large-apple-option-traders-kick-off-2020-with-heavy-call-buying\n",
      "https://www.youtube.com/watch?v=8vlaZ5A5zdU\n",
      "https://www.reddit.com/r/wallstreetbets/comments/ej58cp/so_apple_just_hit_300/\n",
      "https://blog.quantinsti.com/statistics-probability-distribution/\n",
      "https://seekingalpha.com/article/4315092-xlk-technology-sector-is-completely-off-charts\n",
      "https://www.tradingview.com/chart/AAPL/tFlbKNES-The-Fibonacci-Golden-Zone/\n",
      "https://money.stackexchange.com/questions/118748/can-apple-employees-buy-qqq-stock-during-blackout\n",
      "https://m.gelonghui.com/p/337233\n",
      "https://bradleyfirm.com/attorneys/michael-r-brassett-ii/\n",
      "https://matasii.com/aapl-were-going-ballistic-maverick/\n",
      "https://www.pipersandler.com/2col.aspx?id=123\n",
      "https://stackoverflow.com/questions/59569349/getting-all-expirations-for-options-chain-in-ib-api\n",
      "https://stackoverflow.com/questions/59567623/difference-between-grouped-sums-for-two-different-dates-in-multi-index-pandas-da\n",
      "https://lamanzanamordida.net/noticias/apple/record-historia-bolsa-300-dolares/\n",
      "https://www.cnbc.com/2020/01/03/apple-ceo-tim-cook-2019-compensation-dropped-from-2018.html\n",
      "https://www.languagetesting.com/sobl-opi-wpt\n",
      "https://finbox.com/NASDAQGS:AAPL/models/dcf-growth-exit-10yr\n",
      "https://finbox.com/NASDAQGS:AAPL/models/wacc\n",
      "https://www.reddit.com/r/investing/comments/ejzj5h/do_you_think_apple_aapl_is_overvalued/\n",
      "https://investorplace.com/2020/01/apple-stock-ripe-again-for-a-correction/\n",
      "https://www.ccn.com/apple-stock-insanely-overvalued-key-metric/\n",
      "https://www.barrons.com/articles/buy-synaptics-stock-to-play-apples-2020-iphone-lineup-analyst-51578072269\n",
      "https://www.statista.com/chart/20392/current-value-of-1000-invested-in-apple-shares/\n",
      "https://blog.quantinsti.com/statistics-probability-distribution/\n",
      "https://seekingalpha.com/article/4315092-xlk-technology-sector-is-completely-off-charts\n",
      "https://www.viralml.com/blog-content.html?l=From-Financial-Compliance-to-Fraud-Detection-with-CVAE.html\n",
      "https://money.stackexchange.com/questions/118748/can-apple-employees-buy-qqq-stock-during-blackout\n",
      "https://www.pipersandler.com/2col.aspx?id=123\n",
      "https://matasii.com/aapl-were-going-ballistic-maverick/\n",
      "https://www.kindpng.com/imgv/hJwbRix_aapl-carriers-logo-cricket-wireless-hd-png-download/\n",
      "https://lamanzanamordida.net/noticias/apple/record-historia-bolsa-300-dolares/\n",
      "https://financialmodelingprep.com/weighted-average-cost-of-capital/PG/\n",
      "https://www.cnbc.com/2020/01/03/apple-ceo-tim-cook-2019-compensation-dropped-from-2018.html\n",
      "https://www.languagetesting.com/sobl-opi-wpt\n",
      "https://finbox.com/NASDAQGS:AAPL/models/wacc\n",
      "https://finbox.com/NASDAQGS:AAPL/models/dcf-ebitda-exit-5yr\n",
      "https://www.reddit.com/r/investing/comments/ejzj5h/do_you_think_apple_aapl_is_overvalued/\n",
      "https://www.fool.com/investing/2020/01/05/apple-stock-is-really-expensive.aspx\n",
      "https://www.nasdaq.com/articles/2-stocks-that-could-make-you-rich-2020-01-05\n",
      "https://www.yahoo.com/now/why-americas-tech-giants-are-flocking-to-one-part-of-nyc-130830663.html\n",
      "https://thechicagofinancialplanner.com/stock-overlap-apple-stock/\n",
      "https://stockcharts.com/public/1621718/chartbook\n",
      "https://www.viralml.com/blog-content.html?l=From-Financial-Compliance-to-Fraud-Detection-with-CVAE.html\n",
      "https://www.kindpng.com/imgv/hJwbRix_aapl-carriers-logo-cricket-wireless-hd-png-download/\n",
      "https://financialmodelingprep.com/weighted-average-cost-of-capital/PG/\n",
      "https://seekingalpha.com/article/4315306-dtd-is-quality-dividend-fund-better-options-exist\n",
      "https://thetiredtrader.com/2020/01/05/2019-a-year-in-review/\n",
      "https://9to5mac.com/2020/01/05/internet-explorer-5-for-mac-20th-anniversary/\n",
      "https://www.youtube.com/watch?v=CRHJ5D6Cpbw\n",
      "https://appleinsider.com/articles/20/01/06/jp-morgan-still-bullish-on-aapl-sees-re-rating-to-20x-multiple-driving-new-gains\n",
      "https://www.barrons.com/articles/apple-stock-got-downgraded-because-it-rose-too-much-last-year-51578337583\n",
      "https://finbox.com/NASDAQGS:AAPL/models/ddm-sg\n",
      "https://finbox.com/NASDAQGS:AAPL/explorer/market_to_revenue_fwd\n",
      "https://www.fool.com/investing/2020/01/05/apple-stock-is-really-expensive.aspx\n",
      "https://www.nasdaq.com/articles/2-stocks-that-could-make-you-rich-2020-01-05\n",
      "https://www.yahoo.com/now/why-americas-tech-giants-are-flocking-to-one-part-of-nyc-130830663.html\n",
      "https://www.cnn.com/2020/01/06/investing/tech-stocks-apple-microsoft-google-amazon/index.html\n",
      "https://www.marketwatch.com/story/10-tech-predictions-for-2020-apple-tesla-netflix-and-more-2020-01-06\n",
      "https://thechicagofinancialplanner.com/stock-overlap-apple-stock/\n",
      "https://stockcharts.com/public/1621718/chartbook\n",
      "https://www.elitetrader.com/et/threads/ib-users-who-lend-out-their-long-shares.339258/\n",
      "https://www.netcials.com/sp-500-fastest-growing-sectors/\n",
      "https://www.marketbeat.com/dividends/calculator/\n",
      "https://markets.businessinsider.com/news/stocks/apple-unlikely-repeat-2019-performance-stock-price-decline-deutsche-bank-2020-1-1028797380\n",
      "https://docs.orats.io/datav2-api-guide/\n",
      "https://seekingalpha.com/article/4315306-dtd-is-quality-dividend-fund-better-options-exist\n",
      "https://haymakermineralsandroyalties.com/\n",
      "https://financhill.com/blog/investing/gld-vs-iau-which-gold-etf-is-best\n",
      "https://www.marshallcountydaily.com/2020/01/06/calvert-city-police-department-arrest-report-11/\n",
      "https://www.devplaybook.com/intermediate-sql-tutorials/working-with-json-in-an-rdbms-part-1-ms-sql-server/\n",
      "https://thetiredtrader.com/2020/01/05/2019-a-year-in-review/\n",
      "https://9to5mac.com/2020/01/05/internet-explorer-5-for-mac-20th-anniversary/\n",
      "https://www.snl.com/interactive/ir/4004205/corp_gov_guid.pdf\n",
      "https://www.youtube.com/watch?v=CRHJ5D6Cpbw\n"
     ]
    },
    {
     "name": "stdout",
     "output_type": "stream",
     "text": [
      "https://marketchameleon.com/Overview/AAPL/Summary/\n",
      "https://seekingalpha.com/article/4315671-apple-stock-significant-upside-based-on-buyback-program\n",
      "https://appleinsider.com/articles/20/01/06/jp-morgan-still-bullish-on-aapl-sees-re-rating-to-20x-multiple-driving-new-gains\n",
      "https://www.barrons.com/articles/apple-stock-got-downgraded-because-it-rose-too-much-last-year-51578337583\n",
      "https://finbox.com/NASDAQGS:AAPL/explorer/total_rev_growth\n",
      "https://finbox.com/NASDAQGS:AAPL/explorer/net_debt\n",
      "https://www.fool.com/investing/2020/01/07/warren-buffett-sold-these-9-stocks-in-2019.aspx\n",
      "https://www.cnn.com/2020/01/06/investing/tech-stocks-apple-microsoft-google-amazon/index.html\n",
      "https://www.marketwatch.com/story/10-tech-predictions-for-2020-apple-tesla-netflix-and-more-2020-01-06\n",
      "https://www.elitetrader.com/et/threads/ib-users-who-lend-out-their-long-shares.339258/\n",
      "https://elliottwave-forecast.com/news/elliott-wave-view-apple-cycle-remains-bullish/\n",
      "https://www.yahoo.com/now/bruce-springsteen-streams-double-obama-top-songs-2019-122825636.html\n",
      "https://www.netcials.com/sp-500-fastest-growing-sectors/\n",
      "https://www.marketbeat.com/dividends/calculator/\n",
      "https://markets.businessinsider.com/news/stocks/apple-unlikely-repeat-2019-performance-stock-price-decline-deutsche-bank-2020-1-1028797380\n",
      "https://docs.orats.io/datav2-api-guide/\n",
      "https://www.macobserver.com/news/product-news/apple-trademark-dark-mode-icons/\n",
      "https://stackoverflow.com/questions/59629384/zipline-target-order-not-executed-in-handle-data\n",
      "https://9to5mac.com/2020/01/07/foxccon-refutes-reports-of-india-cancelation/\n",
      "https://haymakermineralsandroyalties.com/\n",
      "https://www.marshallcountydaily.com/2020/01/06/calvert-city-police-department-arrest-report-11/\n",
      "https://www.devplaybook.com/intermediate-sql-tutorials/working-with-json-in-an-rdbms-part-1-ms-sql-server/\n",
      "https://www.nasdaq.com/articles/intels-mobileye-demos-autonomous-car-equipped-only-with-cameras-no-other-sensors-2020-01\n",
      "https://financhill.com/blog/investing/gld-vs-iau-which-gold-etf-is-best\n",
      "https://www.snl.com/interactive/ir/4004205/corp_gov_guid.pdf\n",
      "https://plus.ai/job.html\n",
      "https://marketchameleon.com/Overview/AAPL/Summary/\n",
      "https://seekingalpha.com/article/4315782-apple-is-undervalued\n",
      "https://seekingalpha.com/article/4315671-apple-stock-significant-upside-based-on-buyback-program\n",
      "https://www.nasdaq.com/articles/a-look-at-whats-in-store-for-apple-aapl-in-2020-2020-01-08\n",
      "https://finbox.com/NASDAQGS:AAPL/explorer/total_rev_growth\n",
      "https://finbox.com/NASDAQGS:AAPL/explorer/inc_tax\n",
      "https://www.fool.com/investing/2020/01/07/warren-buffett-sold-these-9-stocks-in-2019.aspx\n",
      "https://markets.businessinsider.com/news/stocks/apple-stock-price-all-time-high-app-store-sales-record-2020-1-1028804503\n",
      "https://elliottwave-forecast.com/news/elliott-wave-view-apple-cycle-remains-bullish/\n",
      "https://www.yahoo.com/now/bruce-springsteen-streams-double-obama-top-songs-2019-122825636.html\n",
      "https://www.yahoo.com/now/cigna-express-scripts-digital-care-is-the-future-of-health-202945568.html\n",
      "https://www.macobserver.com/news/product-news/apple-trademark-dark-mode-icons/\n",
      "http://www.investlikeapro.us/2020/01/08/rules-for-multiple-time-frames-rule-3/\n",
      "https://stackoverflow.com/questions/59629384/zipline-target-order-not-executed-in-handle-data\n",
      "https://9to5mac.com/2020/01/07/foxccon-refutes-reports-of-india-cancelation/\n",
      "https://www.crunchbase.com/organization/gc-cell\n",
      "https://plus.ai/job.html\n",
      "https://seekingalpha.com/article/4315782-apple-is-undervalued\n",
      "https://www.nasdaq.com/articles/a-look-at-whats-in-store-for-apple-aapl-in-2020-2020-01-08\n",
      "https://finbox.com/NASDAQGS:AAPL/explorer/ebitda_proj\n",
      "https://finbox.com/NASDAQGS:AAPL/explorer/revenue_proj_cagr_10y\n",
      "https://www.fool.com/investing/2020/01/09/this-stock-doubled-but-apple-can-send-it-higher.aspx\n",
      "https://www.tradingview.com/chart/AAPL/keZJgegU-AAPL-Dark-Pool-Distribution/\n",
      "https://investorplace.com/2020/01/apple-stock-gets-boost-buyback-program/\n",
      "https://www.milanofinanza.it/quotazioni/dettaglio/AAPL-2ae10c1\n",
      "https://markets.businessinsider.com/news/stocks/apple-stock-price-all-time-high-app-store-sales-record-2020-1-1028804503\n",
      "https://www.celordmd.com/forensic-psychiatry.php\n",
      "https://www.yahoo.com/now/cigna-express-scripts-digital-care-is-the-future-of-health-202945568.html\n",
      "https://www.ft.com/content/749b7bfa-3143-11ea-9703-eea0cae3f0de\n",
      "https://www.pattonfirm.com/scott-r-patton\n",
      "https://www.idropnews.com/news/page/138/?platform\n",
      "http://www.investlikeapro.us/2020/01/08/rules-for-multiple-time-frames-rule-3/\n",
      "https://www.crunchbase.com/organization/gc-cell\n",
      "https://www.nasdaq.com/articles/how-high-can-apple-aapl-go-2020-01-10\n",
      "https://www.barrons.com/articles/apple-stock-diversification-51578691352\n",
      "https://www.investopedia.com/3-charts-that-suggest-traders-will-want-to-buy-mid-cap-stocks-in-2020-4780884\n",
      "https://finbox.com/NASDAQGS:AAPL/explorer/revenue_proj_cagr_10y\n",
      "https://www.cnbc.com/2020/01/10/sacconaghi-knocks-down-theory-apples-surge-due-to-passive-investing-buybacks.html\n",
      "https://www.fool.com/investing/2020/01/09/this-stock-doubled-but-apple-can-send-it-higher.aspx\n",
      "https://www.tradingview.com/chart/AAPL/keZJgegU-AAPL-Dark-Pool-Distribution/\n",
      "https://investorplace.com/2020/01/apple-stock-gets-boost-buyback-program/\n",
      "https://www.massdevice.com/masimo-claims-apple-infringed-10-of-its-health-monitoring-patents/\n",
      "https://www.yahoo.com/now/stock-market-news-jan-10-140502997.html\n",
      "https://seekingalpha.com/article/4314810-anatomy-of-high-conviction-buy-why-valuation-is-important-overrated\n",
      "https://seekingalpha.com/article/4316137-why-dont-use-stop-losses-triggered-actions\n",
      "https://www.milanofinanza.it/quotazioni/dettaglio/AAPL-2ae10c1\n",
      "https://ca.linkedin.com/in/farhad-chikhliwala-3884b480\n",
      "https://www.ft.com/content/749b7bfa-3143-11ea-9703-eea0cae3f0de\n",
      "https://www.celordmd.com/forensic-psychiatry.php\n",
      "https://www.pattonfirm.com/scott-r-patton\n",
      "https://www.youtube.com/watch?v=Cktftv_vQD0\n",
      "https://stackoverflow.com/questions/59675481/how-to-structure-svelte-store-of-live-stock-quotes\n",
      "https://www.idropnews.com/news/page/138/?platform\n",
      "https://medium.com/analytics-vidhya/pandas-masterclass-your-foundation-to-data-science-part-1-136474104d57\n",
      "https://newyonline.blogspot.com/2020/01/google-aapl_329.html\n",
      "https://www.nasdaq.com/articles/how-high-can-apple-aapl-go-2020-01-10\n",
      "https://www.barrons.com/articles/apple-stock-diversification-51578691352\n",
      "https://finbox.com/NASDAQGS:AAPL/explorer/asset_price_return_5y\n",
      "https://finbox.com/NASDAQGS:AAPL/explorer/fcf_levered_margin\n",
      "https://www.investopedia.com/3-charts-that-suggest-traders-will-want-to-buy-mid-cap-stocks-in-2020-4780884\n",
      "https://www.cnbc.com/2020/01/10/sacconaghi-knocks-down-theory-apples-surge-due-to-passive-investing-buybacks.html\n",
      "https://www.thescreener.com/wp-content/uploads/2020/01/APPLE_INCO_-en-20200110.pdf\n",
      "https://www.massdevice.com/masimo-claims-apple-infringed-10-of-its-health-monitoring-patents/\n",
      "https://www.yahoo.com/now/stock-market-news-jan-10-140502997.html\n",
      "https://ca.linkedin.com/in/farhad-chikhliwala-3884b480\n",
      "https://www.omscs-notes.com/machine-learning-trading/reading-plotting-stock-data/\n",
      "https://seekingalpha.com/article/4316137-why-dont-use-stop-losses-triggered-actions\n",
      "https://github.com/GoogleCloudPlatform/training-data-analyst/blob/master/courses/ai-for-finance/solution/arima_model.ipynb\n",
      "https://www.youtube.com/watch?v=Cktftv_vQD0\n",
      "https://stackoverflow.com/questions/59675481/how-to-structure-svelte-store-of-live-stock-quotes\n",
      "https://medium.com/analytics-vidhya/pandas-masterclass-your-foundation-to-data-science-part-1-136474104d57\n",
      "https://www.cbinsights.com/company/plataformatec\n",
      "https://www.cbinsights.com/company/cesde\n",
      "https://newyonline.blogspot.com/2020/01/google-aapl_329.html\n",
      "https://talkglitz.media/future-ft-drake-life-is-good/\n"
     ]
    }
   ],
   "source": [
    "for url in df['URL']:\n",
    "    fld = get_fld(url)\n",
    "    print(url)\n",
    "    urldict = {\"URL\":url,\"FLD\":fld}\n",
    "    df_fld = df_fld.append(urldict,ignore_index=True)"
   ]
  },
  {
   "cell_type": "code",
   "execution_count": 65,
   "metadata": {},
   "outputs": [
    {
     "data": {
      "text/html": [
       "<div>\n",
       "<style scoped>\n",
       "    .dataframe tbody tr th:only-of-type {\n",
       "        vertical-align: middle;\n",
       "    }\n",
       "\n",
       "    .dataframe tbody tr th {\n",
       "        vertical-align: top;\n",
       "    }\n",
       "\n",
       "    .dataframe thead th {\n",
       "        text-align: right;\n",
       "    }\n",
       "</style>\n",
       "<table border=\"1\" class=\"dataframe\">\n",
       "  <thead>\n",
       "    <tr style=\"text-align: right;\">\n",
       "      <th></th>\n",
       "      <th>URL</th>\n",
       "      <th>FLD</th>\n",
       "    </tr>\n",
       "  </thead>\n",
       "  <tbody>\n",
       "    <tr>\n",
       "      <th>0</th>\n",
       "      <td>https://9to5mac.com/2020/01/02/apple-closes-in...</td>\n",
       "      <td>9to5mac.com</td>\n",
       "    </tr>\n",
       "    <tr>\n",
       "      <th>1</th>\n",
       "      <td>https://www.imore.com/analyst-gene-munster-thi...</td>\n",
       "      <td>imore.com</td>\n",
       "    </tr>\n",
       "    <tr>\n",
       "      <th>2</th>\n",
       "      <td>https://roboforex.com/forex-trading/trading/sp...</td>\n",
       "      <td>roboforex.com</td>\n",
       "    </tr>\n",
       "    <tr>\n",
       "      <th>3</th>\n",
       "      <td>https://www.ccn.com/3-reasons-apple-headed-for...</td>\n",
       "      <td>ccn.com</td>\n",
       "    </tr>\n",
       "    <tr>\n",
       "      <th>4</th>\n",
       "      <td>https://appleinsider.com/articles/20/01/02/app...</td>\n",
       "      <td>appleinsider.com</td>\n",
       "    </tr>\n",
       "    <tr>\n",
       "      <th>...</th>\n",
       "      <td>...</td>\n",
       "      <td>...</td>\n",
       "    </tr>\n",
       "    <tr>\n",
       "      <th>208</th>\n",
       "      <td>https://medium.com/analytics-vidhya/pandas-mas...</td>\n",
       "      <td>medium.com</td>\n",
       "    </tr>\n",
       "    <tr>\n",
       "      <th>209</th>\n",
       "      <td>https://www.cbinsights.com/company/plataformatec</td>\n",
       "      <td>cbinsights.com</td>\n",
       "    </tr>\n",
       "    <tr>\n",
       "      <th>210</th>\n",
       "      <td>https://www.cbinsights.com/company/cesde</td>\n",
       "      <td>cbinsights.com</td>\n",
       "    </tr>\n",
       "    <tr>\n",
       "      <th>211</th>\n",
       "      <td>https://newyonline.blogspot.com/2020/01/google...</td>\n",
       "      <td>newyonline.blogspot.com</td>\n",
       "    </tr>\n",
       "    <tr>\n",
       "      <th>212</th>\n",
       "      <td>https://talkglitz.media/future-ft-drake-life-i...</td>\n",
       "      <td>talkglitz.media</td>\n",
       "    </tr>\n",
       "  </tbody>\n",
       "</table>\n",
       "<p>213 rows × 2 columns</p>\n",
       "</div>"
      ],
      "text/plain": [
       "                                                   URL  \\\n",
       "0    https://9to5mac.com/2020/01/02/apple-closes-in...   \n",
       "1    https://www.imore.com/analyst-gene-munster-thi...   \n",
       "2    https://roboforex.com/forex-trading/trading/sp...   \n",
       "3    https://www.ccn.com/3-reasons-apple-headed-for...   \n",
       "4    https://appleinsider.com/articles/20/01/02/app...   \n",
       "..                                                 ...   \n",
       "208  https://medium.com/analytics-vidhya/pandas-mas...   \n",
       "209   https://www.cbinsights.com/company/plataformatec   \n",
       "210           https://www.cbinsights.com/company/cesde   \n",
       "211  https://newyonline.blogspot.com/2020/01/google...   \n",
       "212  https://talkglitz.media/future-ft-drake-life-i...   \n",
       "\n",
       "                         FLD  \n",
       "0                9to5mac.com  \n",
       "1                  imore.com  \n",
       "2              roboforex.com  \n",
       "3                    ccn.com  \n",
       "4           appleinsider.com  \n",
       "..                       ...  \n",
       "208               medium.com  \n",
       "209           cbinsights.com  \n",
       "210           cbinsights.com  \n",
       "211  newyonline.blogspot.com  \n",
       "212          talkglitz.media  \n",
       "\n",
       "[213 rows x 2 columns]"
      ]
     },
     "execution_count": 65,
     "metadata": {},
     "output_type": "execute_result"
    }
   ],
   "source": [
    "df_fld"
   ]
  },
  {
   "cell_type": "code",
   "execution_count": 71,
   "metadata": {},
   "outputs": [],
   "source": [
    "set_fld = list(set(list(df_fld['FLD'])))"
   ]
  },
  {
   "cell_type": "code",
   "execution_count": 116,
   "metadata": {},
   "outputs": [
    {
     "data": {
      "text/plain": [
       "['ccn.com',\n",
       " 'barrons.com',\n",
       " 'matasii.com',\n",
       " 'kindpng.com',\n",
       " 'dbpedia.org',\n",
       " 'haymakermineralsandroyalties.com',\n",
       " 'github.com',\n",
       " 'financhill.com',\n",
       " 'idropnews.com',\n",
       " 'massdevice.com',\n",
       " 'thescreener.com',\n",
       " 'nasdaq.com',\n",
       " 'marketchameleon.com',\n",
       " 'omscs-notes.com',\n",
       " 'investopedia.com',\n",
       " 'orats.io',\n",
       " 'readertopic.com',\n",
       " 'youtube.com',\n",
       " 'finbox.com',\n",
       " 'stockcharts.com',\n",
       " 'celordmd.com',\n",
       " 'stackoverflow.com',\n",
       " 'lamanzanamordida.net',\n",
       " 'financialmodelingprep.com',\n",
       " 'devplaybook.com',\n",
       " 'thechicagofinancialplanner.com',\n",
       " 'cnbc.com',\n",
       " '9to5mac.com',\n",
       " 'investlikeapro.us',\n",
       " 'marketbeat.com',\n",
       " 'thetiredtrader.com',\n",
       " 'languagetesting.com',\n",
       " 'cnn.com',\n",
       " 'forbes.com',\n",
       " 'seekingalpha.com',\n",
       " 'imore.com',\n",
       " 'stackexchange.com',\n",
       " 'yahoo.com',\n",
       " 'ft.com',\n",
       " 'benzinga.com',\n",
       " 'crunchbase.com',\n",
       " 'investorplace.com',\n",
       " 'tradingview.com',\n",
       " 'statista.com',\n",
       " 'gelonghui.com',\n",
       " 'marketrealist.com',\n",
       " 'macobserver.com',\n",
       " 'pattonfirm.com',\n",
       " 'appleinsider.com',\n",
       " 'quantinsti.com',\n",
       " 'linkedin.com',\n",
       " 'fool.com',\n",
       " 'reddit.com',\n",
       " 'milanofinanza.it',\n",
       " 'morganstanley.com',\n",
       " 'viralml.com',\n",
       " 'cbinsights.com',\n",
       " 'marketwatch.com',\n",
       " 'marshallcountydaily.com',\n",
       " 'newyonline.blogspot.com',\n",
       " 'pipersandler.com',\n",
       " 'netcials.com',\n",
       " 'aapl.blog',\n",
       " 'bradleyfirm.com',\n",
       " 'pymnts.com',\n",
       " 'medium.com',\n",
       " 'elitetrader.com',\n",
       " 'elliottwave-forecast.com',\n",
       " 'snl.com',\n",
       " 'roboforex.com',\n",
       " 'plus.ai',\n",
       " 'businessinsider.com',\n",
       " 'talkglitz.media']"
      ]
     },
     "execution_count": 116,
     "metadata": {},
     "output_type": "execute_result"
    }
   ],
   "source": [
    "set_fld"
   ]
  },
  {
   "cell_type": "code",
   "execution_count": 117,
   "metadata": {},
   "outputs": [
    {
     "name": "stdout",
     "output_type": "stream",
     "text": [
      "ccn.com\n",
      "barrons.com\n",
      "matasii.com\n",
      "kindpng.com\n",
      "dbpedia.org\n",
      "haymakermineralsandroyalties.com\n",
      "github.com\n",
      "financhill.com\n",
      "idropnews.com\n",
      "massdevice.com\n",
      "thescreener.com\n",
      "nasdaq.com\n",
      "marketchameleon.com\n",
      "omscs-notes.com\n",
      "investopedia.com\n",
      "orats.io\n",
      "readertopic.com\n",
      "youtube.com\n",
      "finbox.com\n",
      "stockcharts.com\n",
      "celordmd.com\n",
      "stackoverflow.com\n",
      "lamanzanamordida.net\n",
      "financialmodelingprep.com\n",
      "devplaybook.com\n",
      "thechicagofinancialplanner.com\n",
      "cnbc.com\n",
      "9to5mac.com\n",
      "investlikeapro.us\n",
      "marketbeat.com\n",
      "thetiredtrader.com\n",
      "languagetesting.com\n",
      "cnn.com\n",
      "forbes.com\n",
      "seekingalpha.com\n",
      "imore.com\n",
      "stackexchange.com\n",
      "yahoo.com\n",
      "ft.com\n",
      "benzinga.com\n",
      "crunchbase.com\n",
      "investorplace.com\n",
      "tradingview.com\n",
      "statista.com\n",
      "gelonghui.com\n",
      "marketrealist.com\n",
      "macobserver.com\n",
      "pattonfirm.com\n",
      "appleinsider.com\n",
      "quantinsti.com\n",
      "linkedin.com\n",
      "fool.com\n",
      "reddit.com\n",
      "milanofinanza.it\n",
      "morganstanley.com\n",
      "viralml.com\n",
      "cbinsights.com\n",
      "marketwatch.com\n",
      "marshallcountydaily.com\n",
      "newyonline.blogspot.com\n",
      "pipersandler.com\n",
      "netcials.com\n",
      "aapl.blog\n",
      "bradleyfirm.com\n",
      "pymnts.com\n",
      "medium.com\n",
      "elitetrader.com\n",
      "elliottwave-forecast.com\n",
      "snl.com\n",
      "roboforex.com\n",
      "plus.ai\n",
      "businessinsider.com\n",
      "talkglitz.media\n"
     ]
    }
   ],
   "source": [
    "for i in set_fld:\n",
    "    print(i)"
   ]
  },
  {
   "cell_type": "code",
   "execution_count": 72,
   "metadata": {},
   "outputs": [
    {
     "data": {
      "text/plain": [
       "73"
      ]
     },
     "execution_count": 72,
     "metadata": {},
     "output_type": "execute_result"
    }
   ],
   "source": [
    "len(set_fld)"
   ]
  },
  {
   "cell_type": "code",
   "execution_count": 73,
   "metadata": {},
   "outputs": [],
   "source": [
    "import newspaper"
   ]
  },
  {
   "cell_type": "code",
   "execution_count": 93,
   "metadata": {},
   "outputs": [],
   "source": [
    "fld = set_fld[0]"
   ]
  },
  {
   "cell_type": "code",
   "execution_count": 95,
   "metadata": {},
   "outputs": [
    {
     "name": "stdout",
     "output_type": "stream",
     "text": [
      "ccn.com\n"
     ]
    }
   ],
   "source": [
    "print(fld)"
   ]
  },
  {
   "cell_type": "code",
   "execution_count": 111,
   "metadata": {},
   "outputs": [],
   "source": [
    "url = df.iloc[0]['URL']"
   ]
  },
  {
   "cell_type": "code",
   "execution_count": 112,
   "metadata": {},
   "outputs": [
    {
     "name": "stdout",
     "output_type": "stream",
     "text": [
      "https://9to5mac.com/2020/01/02/apple-closes-in-on-300-a-share/\n"
     ]
    }
   ],
   "source": [
    "print(url)"
   ]
  },
  {
   "cell_type": "code",
   "execution_count": 77,
   "metadata": {},
   "outputs": [
    {
     "data": {
      "text/plain": [
       "<newspaper.source.Source at 0x29b2f4f1208>"
      ]
     },
     "execution_count": 77,
     "metadata": {},
     "output_type": "execute_result"
    }
   ],
   "source": [
    "newspaper.build('https://www.ccn.com')"
   ]
  },
  {
   "cell_type": "code",
   "execution_count": 85,
   "metadata": {},
   "outputs": [
    {
     "name": "stderr",
     "output_type": "stream",
     "text": [
      "ERROR: Could not find a version that satisfies the requirement urllib (from versions: none)\n",
      "ERROR: No matching distribution found for urllib\n"
     ]
    }
   ],
   "source": [
    "!pip install urllib"
   ]
  },
  {
   "cell_type": "code",
   "execution_count": 105,
   "metadata": {},
   "outputs": [
    {
     "data": {
      "text/plain": [
       "'https://9to5mac.com/2020/01/02/apple-closes-in-on-300-a-share/'"
      ]
     },
     "execution_count": 105,
     "metadata": {},
     "output_type": "execute_result"
    }
   ],
   "source": [
    "url"
   ]
  },
  {
   "cell_type": "code",
   "execution_count": 106,
   "metadata": {},
   "outputs": [
    {
     "name": "stdout",
     "output_type": "stream",
     "text": [
      "https://9to5mac.com/\n"
     ]
    }
   ],
   "source": [
    "from urllib.parse import urlparse\n",
    "# from urlparse import urlparse  # Python 2\n",
    "parsed_uri = urlparse('http://stackoverflow.com/questions/1234567/blah-blah-blah-blah' )\n",
    "parsed_uri = urlparse(url)\n",
    "\n",
    "result = '{uri.scheme}://{uri.netloc}/'.format(uri=parsed_uri)\n",
    "print(result)"
   ]
  },
  {
   "cell_type": "code",
   "execution_count": 108,
   "metadata": {},
   "outputs": [],
   "source": [
    "newspaper = newspaper.build(result)"
   ]
  },
  {
   "cell_type": "code",
   "execution_count": 109,
   "metadata": {},
   "outputs": [],
   "source": [
    "for article in newspaper.articles:\n",
    "    print(article.url)"
   ]
  },
  {
   "cell_type": "code",
   "execution_count": 110,
   "metadata": {},
   "outputs": [
    {
     "data": {
      "text/plain": [
       "<newspaper.source.Source at 0x29b2f70cd30>"
      ]
     },
     "execution_count": 110,
     "metadata": {},
     "output_type": "execute_result"
    }
   ],
   "source": [
    "newspaper"
   ]
  },
  {
   "cell_type": "code",
   "execution_count": 113,
   "metadata": {},
   "outputs": [],
   "source": [
    "article = Article(url)"
   ]
  },
  {
   "cell_type": "code",
   "execution_count": 114,
   "metadata": {},
   "outputs": [],
   "source": [
    "article.download()"
   ]
  },
  {
   "cell_type": "code",
   "execution_count": 115,
   "metadata": {},
   "outputs": [
    {
     "data": {
      "text/plain": [
       "'<!DOCTYPE html>\\n<html lang=\"en-US\">\\n\\t<head>\\n\\t\\t\\t\\t<meta charset=\"UTF-8\" />\\n\\t\\t<meta name=\"viewport\" content=\"width=device-width, initial-scale=1, maximum-scale=1.0, minimal-ui\">\\n\\t\\t\\t\\t<meta name=\\'robots\\' content=\\'index, follow, max-image-preview:large, max-snippet:-1, max-video-preview:-1\\' />\\n<!-- Jetpack Site Verification Tags -->\\n<meta name=\"google-site-verification\" content=\"DzsUrmZ9ZlyfaPuXpOlNS3LpML0I6aZl89iaB86c9v8\" />\\n<meta name=\"msvalidate.01\" content=\"808CE29E29F1230249D24A893DE871FB\" />\\n<meta name=\"p:domain_verify\" content=\"e6250102e52a4d42f3964f1974e77e52\" />\\n<meta name=\"yandex-verification\" content=\"97441597b112e146\" />\\n\\t\\t<script>\\n\\t\\t\\twindow.dataLayer = window.dataLayer || [];\\n\\t\\t\\t\\t\\t\\tdataLayer.push({\"pageType\":\"post\",\"postCategory\":[\"aapl\"]});\\n\\t\\t\\t\\t\\t</script>\\n\\t\\t\\t\\t<script src=\"https://9to5mac.com/wp-content/themes/9to5-2015/assets/js/adsbygoogle.js\"></script>\\n\\n               <!-- Google Tag Manager -->\\n\\t\\t<script>(function(w,d,s,l,i){w[l]=w[l]||[];w[l].push({\\'gtm.start\\':\\n\\t\\t\\t\\tnew Date().getTime(),event:\\'gtm.js\\'});var f=d.getElementsByTagName(s)[0],\\n\\t\\t\\t\\tj=d.createElement(s),dl=l!=\\'dataLayer\\'?\\'&l=\\'+l:\\'\\';j.async=true;j.src=\\n\\t\\t\\t\\t\\'https://www.googletagmanager.com/gtm.js?id=\\'+i+dl;f.parentNode.insertBefore(j,f);\\n\\t\\t\\t})(window,document,\\'script\\',\\'dataLayer\\',\\'GTM-M48W9J\\');</script>\\n\\t\\t<!-- End Google Tag Manager -->\\n\\t\\t\\t\\t\\t<link rel=\"shortcut icon\" href=\"/favicon.ico\" type=\"image/x-icon\" />\\n\\t\\t<link rel=\"apple-touch-icon\" href=\"/apple-touch-icon.png\" />\\n\\t\\t<link rel=\"apple-touch-icon\" sizes=\"57x57\" href=\"/apple-touch-icon-57x57.png\" />\\n\\t\\t<link rel=\"apple-touch-icon\" sizes=\"72x72\" href=\"/apple-touch-icon-72x72.png\" />\\n\\t\\t<link rel=\"apple-touch-icon\" sizes=\"76x76\" href=\"/apple-touch-icon-76x76.png\" />\\n\\t\\t<link rel=\"apple-touch-icon\" sizes=\"114x114\" href=\"/apple-touch-icon-114x114.png\" />\\n\\t\\t<link rel=\"apple-touch-icon\" sizes=\"120x120\" href=\"/apple-touch-icon-120x120.png\" />\\n\\t\\t<link rel=\"apple-touch-icon\" sizes=\"144x144\" href=\"/apple-touch-icon-144x144.png\" />\\n\\t\\t<link rel=\"apple-touch-icon\" sizes=\"152x152\" href=\"/apple-touch-icon-152x152.png\" />\\n\\t\\t<link rel=\"apple-touch-icon\" sizes=\"180x180\" href=\"/apple-touch-icon-180x180.png\" />\\n\\t\\t<link rel=\"icon\" sizes=\"192x192\" href=\"/wp-content/themes/9to5-2015/images/favicons/9to5mac/icon-192x192.png\">\\n\\t\\t<link rel=\"manifest\" href=\"/wp-content/themes/9to5-2015/images/favicons/9to5mac/site.webmanifest\">\\n\\t\\n\\t<!-- This site is optimized with the Yoast SEO Premium plugin v17.9 (Yoast SEO v17.9) - https://yoast.com/wordpress/plugins/seo/ -->\\n\\t<title>AAPL hits $300, 1/3 of the way to next trillion, double 2019 low - 9to5Mac</title>\\n\\t<meta name=\"description\" content=\"In the first day of trading of 2020, AAPL shares have crossed the $300 mark and the company&#039;s valuation has reached 1.33T.\" />\\n\\t<link rel=\"canonical\" href=\"https://9to5mac.com/2020/01/02/apple-closes-in-on-300-a-share/\" />\\n\\t<meta property=\"og:locale\" content=\"en_US\" />\\n\\t<meta property=\"og:type\" content=\"article\" />\\n\\t<meta property=\"og:title\" content=\"AAPL hits $300, 1/3 of the way to its next trillion, and double 2019 low\" />\\n\\t<meta property=\"og:description\" content=\"In the first day of trading of 2020, AAPL shares have crossed the $300 mark and the company&#039;s valuation has reached 1.33T.\" />\\n\\t<meta property=\"og:url\" content=\"https://9to5mac.com/2020/01/02/apple-closes-in-on-300-a-share/\" />\\n\\t<meta property=\"og:site_name\" content=\"9to5Mac\" />\\n\\t<meta property=\"article:publisher\" content=\"https://www.facebook.com/pages/9to5Maccom/110423472290\" />\\n\\t<meta property=\"article:published_time\" content=\"2020-01-02T19:59:19+00:00\" />\\n\\t<meta property=\"article:modified_time\" content=\"2020-01-03T00:09:52+00:00\" />\\n\\t<meta property=\"og:image\" content=\"https://i0.wp.com/9to5mac.com/wp-content/uploads/sites/6/2019/09/apple_store_oxmoor_steeber.jpg?resize=1200%2C628&#038;quality=82&#038;strip=all&#038;ssl=1\" />\\n\\t<meta property=\"og:image:width\" content=\"2560\" />\\n\\t<meta property=\"og:image:height\" content=\"1440\" />\\n\\t<meta property=\"og:image:type\" content=\"image/jpeg\" />\\n\\t<meta name=\"twitter:card\" content=\"summary_large_image\" />\\n\\t<meta name=\"twitter:image\" content=\"https://i0.wp.com/9to5mac.com/wp-content/uploads/sites/6/2019/09/apple_store_oxmoor_steeber.jpg?resize=1200%2C628&amp;quality=82&amp;strip=all&amp;ssl=1\" />\\n\\t<meta name=\"twitter:creator\" content=\"@michaelpotuck\" />\\n\\t<meta name=\"twitter:site\" content=\"@9to5mac\" />\\n\\t<meta name=\"twitter:label1\" content=\"Written by\" />\\n\\t<meta name=\"twitter:data1\" content=\"Michael Potuck\" />\\n\\t<meta name=\"twitter:label2\" content=\"Est. reading time\" />\\n\\t<meta name=\"twitter:data2\" content=\"1 minute\" />\\n\\t<script type=\"application/ld+json\" class=\"yoast-schema-graph\">{\"@context\":\"https://schema.org\",\"@graph\":[{\"@type\":\"Organization\",\"@id\":\"https://9to5mac.com/#organization\",\"name\":\"9to5mac\",\"url\":\"https://9to5mac.com/\",\"sameAs\":[\"https://www.facebook.com/pages/9to5Maccom/110423472290\",\"https://instagram.com/9to5mac\",\"https://www.linkedin.com/company/1090837/\",\"https://www.youtube.com/c/9to5mac\",\"https://twitter.com/9to5mac\"],\"logo\":{\"@type\":\"ImageObject\",\"@id\":\"https://9to5mac.com/#logo\",\"inLanguage\":\"en-US\",\"url\":\"https://9to5mac.com/wp-content/uploads/sites/6/2018/10/cropped-9to5-mac-logo-min.png\",\"contentUrl\":\"https://9to5mac.com/wp-content/uploads/sites/6/2018/10/cropped-9to5-mac-logo-min.png\",\"width\":350,\"height\":60,\"caption\":\"9to5mac\"},\"image\":{\"@id\":\"https://9to5mac.com/#logo\"}},{\"@type\":\"WebSite\",\"@id\":\"https://9to5mac.com/#website\",\"url\":\"https://9to5mac.com/\",\"name\":\"9to5Mac\",\"description\":\"Apple News &amp; Mac Rumors Breaking All Day\",\"publisher\":{\"@id\":\"https://9to5mac.com/#organization\"},\"potentialAction\":[{\"@type\":\"SearchAction\",\"target\":{\"@type\":\"EntryPoint\",\"urlTemplate\":\"https://9to5mac.com/?s={search_term_string}\"},\"query-input\":\"required name=search_term_string\"}],\"inLanguage\":\"en-US\"},{\"@type\":\"ImageObject\",\"@id\":\"https://9to5mac.com/2020/01/02/apple-closes-in-on-300-a-share/#primaryimage\",\"inLanguage\":\"en-US\",\"url\":\"https://9to5mac.com/wp-content/uploads/sites/6/2019/09/apple_store_oxmoor_steeber.jpg?quality=82&strip=all\",\"contentUrl\":\"https://9to5mac.com/wp-content/uploads/sites/6/2019/09/apple_store_oxmoor_steeber.jpg?quality=82&strip=all\",\"width\":2560,\"height\":1440,\"caption\":\"Apple\"},{\"@type\":\"WebPage\",\"@id\":\"https://9to5mac.com/2020/01/02/apple-closes-in-on-300-a-share/#webpage\",\"url\":\"https://9to5mac.com/2020/01/02/apple-closes-in-on-300-a-share/\",\"name\":\"AAPL hits $300, 1/3 of the way to next trillion, double 2019 low - 9to5Mac\",\"isPartOf\":{\"@id\":\"https://9to5mac.com/#website\"},\"primaryImageOfPage\":{\"@id\":\"https://9to5mac.com/2020/01/02/apple-closes-in-on-300-a-share/#primaryimage\"},\"datePublished\":\"2020-01-02T19:59:19+00:00\",\"dateModified\":\"2020-01-03T00:09:52+00:00\",\"description\":\"In the first day of trading of 2020, AAPL shares have crossed the $300 mark and the company\\'s valuation has reached 1.33T.\",\"breadcrumb\":{\"@id\":\"https://9to5mac.com/2020/01/02/apple-closes-in-on-300-a-share/#breadcrumb\"},\"inLanguage\":\"en-US\",\"potentialAction\":[{\"@type\":\"ReadAction\",\"target\":[\"https://9to5mac.com/2020/01/02/apple-closes-in-on-300-a-share/\"]}]},{\"@type\":\"BreadcrumbList\",\"@id\":\"https://9to5mac.com/2020/01/02/apple-closes-in-on-300-a-share/#breadcrumb\",\"itemListElement\":[{\"@type\":\"ListItem\",\"position\":1,\"name\":\"Home\",\"item\":\"https://9to5mac.com/\"},{\"@type\":\"ListItem\",\"position\":2,\"name\":\"AAPL hits $300, 1/3 of the way to its next trillion, and double 2019 low\"}]},{\"@type\":[\"Article\",\"NewsArticle\"],\"@id\":\"https://9to5mac.com/2020/01/02/apple-closes-in-on-300-a-share/#article\",\"isPartOf\":{\"@id\":\"https://9to5mac.com/2020/01/02/apple-closes-in-on-300-a-share/#webpage\"},\"author\":{\"@id\":\"https://9to5mac.com/#/schema/person/0af9ea856982f6aea2cbc90d47800284\"},\"headline\":\"AAPL hits $300, 1/3 of the way to its next trillion, and double 2019 low\",\"datePublished\":\"2020-01-02T19:59:19+00:00\",\"dateModified\":\"2020-01-03T00:09:52+00:00\",\"mainEntityOfPage\":{\"@id\":\"https://9to5mac.com/2020/01/02/apple-closes-in-on-300-a-share/#webpage\"},\"wordCount\":271,\"commentCount\":0,\"publisher\":{\"@id\":\"https://9to5mac.com/#organization\"},\"image\":{\"@id\":\"https://9to5mac.com/2020/01/02/apple-closes-in-on-300-a-share/#primaryimage\"},\"thumbnailUrl\":\"https://9to5mac.com/wp-content/uploads/sites/6/2019/09/apple_store_oxmoor_steeber.jpg?quality=82&strip=all\",\"articleSection\":[\"News\"],\"inLanguage\":\"en-US\",\"potentialAction\":[{\"@type\":\"CommentAction\",\"name\":\"Comment\",\"target\":[\"https://9to5mac.com/2020/01/02/apple-closes-in-on-300-a-share/#respond\"]}],\"copyrightYear\":\"2020\",\"copyrightHolder\":{\"@id\":\"https://925.co/#organization\"}},{\"@type\":\"Person\",\"@id\":\"https://9to5mac.com/#/schema/person/0af9ea856982f6aea2cbc90d47800284\",\"name\":\"Michael Potuck\",\"image\":{\"@type\":\"ImageObject\",\"@id\":\"https://9to5mac.com/#personlogo\",\"inLanguage\":\"en-US\",\"url\":\"https://secure.gravatar.com/avatar/617382fa123c4948681a44755a0146ca?s=96&d=mm&r=r\",\"contentUrl\":\"https://secure.gravatar.com/avatar/617382fa123c4948681a44755a0146ca?s=96&d=mm&r=r\",\"caption\":\"Michael Potuck\"},\"description\":\"Michael is an editor for 9to5Mac. Since joining in 2016 he has written more than 3,000 articles including breaking news, reviews, and detailed comparisons and tutorials. Michael has also appeared on the 9to5Mac Watch Time podcast with Zac Hall and TWiT\\'s Tech News Weekly. Reach out to Michael with tips, deliberations, typos, or feedback at potuck@9to5mac.com\",\"sameAs\":[\"https://twitter.com/michaelpotuck\"],\"url\":\"https://9to5mac.com/author/michaelpotuck/\"}]}</script>\\n\\t<!-- / Yoast SEO Premium plugin. -->\\n\\n\\n<link rel=\\'dns-prefetch\\' href=\\'//cdn.parsely.com\\' />\\n<link rel=\\'dns-prefetch\\' href=\\'//9to5mac-com.videoplayerhub.com\\' />\\n<link rel=\\'dns-prefetch\\' href=\\'//fonts.googleapis.com\\' />\\n<link rel=\\'dns-prefetch\\' href=\\'//s.w.org\\' />\\n<link rel=\\'dns-prefetch\\' href=\\'//v0.wordpress.com\\' />\\n<link rel=\"alternate\" type=\"application/rss+xml\" title=\"9to5Mac &raquo; Feed\" href=\"https://9to5mac.com/feed/\" />\\n<link rel=\"alternate\" type=\"application/rss+xml\" title=\"9to5Mac &raquo; Comments Feed\" href=\"https://9to5mac.com/comments/feed/\" />\\n<link rel=\"alternate\" type=\"application/rss+xml\" title=\"9to5Mac &raquo; AAPL hits $300, 1/3 of the way to its next trillion, and double 2019 low Comments Feed\" href=\"https://9to5mac.com/2020/01/02/apple-closes-in-on-300-a-share/feed/\" />\\n<link rel=\"alternate\" type=\"application/rss+xml\" title=\"9to5Mac &raquo; Stories Feed\" href=\"https://9to5mac.com/web-stories/feed/\"><script type=\"text/javascript\">\\nwindow._wpemojiSettings = {\"baseUrl\":\"https:\\\\/\\\\/s.w.org\\\\/images\\\\/core\\\\/emoji\\\\/13.1.0\\\\/72x72\\\\/\",\"ext\":\".png\",\"svgUrl\":\"https:\\\\/\\\\/s.w.org\\\\/images\\\\/core\\\\/emoji\\\\/13.1.0\\\\/svg\\\\/\",\"svgExt\":\".svg\",\"source\":{\"concatemoji\":\"https:\\\\/\\\\/9to5mac.com\\\\/wp-includes\\\\/js\\\\/wp-emoji-release.min.js?ver=5.9.1\"}};\\n/*! This file is auto-generated */\\n!function(e,a,t){var n,r,o,i=a.createElement(\"canvas\"),p=i.getContext&&i.getContext(\"2d\");function s(e,t){var a=String.fromCharCode;p.clearRect(0,0,i.width,i.height),p.fillText(a.apply(this,e),0,0);e=i.toDataURL();return p.clearRect(0,0,i.width,i.height),p.fillText(a.apply(this,t),0,0),e===i.toDataURL()}function c(e){var t=a.createElement(\"script\");t.src=e,t.defer=t.type=\"text/javascript\",a.getElementsByTagName(\"head\")[0].appendChild(t)}for(o=Array(\"flag\",\"emoji\"),t.supports={everything:!0,everythingExceptFlag:!0},r=0;r<o.length;r++)t.supports[o[r]]=function(e){if(!p||!p.fillText)return!1;switch(p.textBaseline=\"top\",p.font=\"600 32px Arial\",e){case\"flag\":return s([127987,65039,8205,9895,65039],[127987,65039,8203,9895,65039])?!1:!s([55356,56826,55356,56819],[55356,56826,8203,55356,56819])&&!s([55356,57332,56128,56423,56128,56418,56128,56421,56128,56430,56128,56423,56128,56447],[55356,57332,8203,56128,56423,8203,56128,56418,8203,56128,56421,8203,56128,56430,8203,56128,56423,8203,56128,56447]);case\"emoji\":return!s([10084,65039,8205,55357,56613],[10084,65039,8203,55357,56613])}return!1}(o[r]),t.supports.everything=t.supports.everything&&t.supports[o[r]],\"flag\"!==o[r]&&(t.supports.everythingExceptFlag=t.supports.everythingExceptFlag&&t.supports[o[r]]);t.supports.everythingExceptFlag=t.supports.everythingExceptFlag&&!t.supports.flag,t.DOMReady=!1,t.readyCallback=function(){t.DOMReady=!0},t.supports.everything||(n=function(){t.readyCallback()},a.addEventListener?(a.addEventListener(\"DOMContentLoaded\",n,!1),e.addEventListener(\"load\",n,!1)):(e.attachEvent(\"onload\",n),a.attachEvent(\"onreadystatechange\",function(){\"complete\"===a.readyState&&t.readyCallback()})),(n=t.source||{}).concatemoji?c(n.concatemoji):n.wpemoji&&n.twemoji&&(c(n.twemoji),c(n.wpemoji)))}(window,document,window._wpemojiSettings);\\n</script>\\n<style type=\"text/css\">\\nimg.wp-smiley,\\nimg.emoji {\\n\\tdisplay: inline !important;\\n\\tborder: none !important;\\n\\tbox-shadow: none !important;\\n\\theight: 1em !important;\\n\\twidth: 1em !important;\\n\\tmargin: 0 0.07em !important;\\n\\tvertical-align: -0.1em !important;\\n\\tbackground: none !important;\\n\\tpadding: 0 !important;\\n}\\n</style>\\n\\t<link rel=\\'stylesheet\\' id=\\'all-css-0\\' href=\\'https://9to5mac.com/_static/??-eJyNy0EOQDAQheELqSFRYSHOUu1EhmlJpyK9PRsJO8s/731w7oqC5cOhgBUBR5Jg4s2uimmKJmaQlBlLT6G8DwW8xSLg0ZFBRo8hfWJnkzEqxtnY/I/f27sfNPqhbhutdVf17QWHr0Gy\\' type=\\'text/css\\' media=\\'all\\' />\\n<style id=\\'wp-block-library-inline-css\\'>\\n.has-text-align-justify{text-align:justify;}\\n</style>\\n<style id=\\'global-styles-inline-css\\'>\\nbody{--wp--preset--color--black: #000000;--wp--preset--color--cyan-bluish-gray: #abb8c3;--wp--preset--color--white: #ffffff;--wp--preset--color--pale-pink: #f78da7;--wp--preset--color--vivid-red: #cf2e2e;--wp--preset--color--luminous-vivid-orange: #ff6900;--wp--preset--color--luminous-vivid-amber: #fcb900;--wp--preset--color--light-green-cyan: #7bdcb5;--wp--preset--color--vivid-green-cyan: #00d084;--wp--preset--color--pale-cyan-blue: #8ed1fc;--wp--preset--color--vivid-cyan-blue: #0693e3;--wp--preset--color--vivid-purple: #9b51e0;--wp--preset--color--dark-blue-mac: #0d4d7c;--wp--preset--color--link-blue-mac: #316ea4;--wp--preset--color--blue-mac: #4b8ec9;--wp--preset--color--light-blue-mac: #78bbf4;--wp--preset--color--light-gray-mac: #DBE8F4;--wp--preset--color--alt-black: #1C1C1E;--wp--preset--color--dark-gray: #58585d;--wp--preset--color--gray: #939598;--wp--preset--color--light-gray: #e2e2e2;--wp--preset--gradient--vivid-cyan-blue-to-vivid-purple: linear-gradient(135deg,rgba(6,147,227,1) 0%,rgb(155,81,224) 100%);--wp--preset--gradient--light-green-cyan-to-vivid-green-cyan: linear-gradient(135deg,rgb(122,220,180) 0%,rgb(0,208,130) 100%);--wp--preset--gradient--luminous-vivid-amber-to-luminous-vivid-orange: linear-gradient(135deg,rgba(252,185,0,1) 0%,rgba(255,105,0,1) 100%);--wp--preset--gradient--luminous-vivid-orange-to-vivid-red: linear-gradient(135deg,rgba(255,105,0,1) 0%,rgb(207,46,46) 100%);--wp--preset--gradient--very-light-gray-to-cyan-bluish-gray: linear-gradient(135deg,rgb(238,238,238) 0%,rgb(169,184,195) 100%);--wp--preset--gradient--cool-to-warm-spectrum: linear-gradient(135deg,rgb(74,234,220) 0%,rgb(151,120,209) 20%,rgb(207,42,186) 40%,rgb(238,44,130) 60%,rgb(251,105,98) 80%,rgb(254,248,76) 100%);--wp--preset--gradient--blush-light-purple: linear-gradient(135deg,rgb(255,206,236) 0%,rgb(152,150,240) 100%);--wp--preset--gradient--blush-bordeaux: linear-gradient(135deg,rgb(254,205,165) 0%,rgb(254,45,45) 50%,rgb(107,0,62) 100%);--wp--preset--gradient--luminous-dusk: linear-gradient(135deg,rgb(255,203,112) 0%,rgb(199,81,192) 50%,rgb(65,88,208) 100%);--wp--preset--gradient--pale-ocean: linear-gradient(135deg,rgb(255,245,203) 0%,rgb(182,227,212) 50%,rgb(51,167,181) 100%);--wp--preset--gradient--electric-grass: linear-gradient(135deg,rgb(202,248,128) 0%,rgb(113,206,126) 100%);--wp--preset--gradient--midnight: linear-gradient(135deg,rgb(2,3,129) 0%,rgb(40,116,252) 100%);--wp--preset--duotone--dark-grayscale: url(\\'#wp-duotone-dark-grayscale\\');--wp--preset--duotone--grayscale: url(\\'#wp-duotone-grayscale\\');--wp--preset--duotone--purple-yellow: url(\\'#wp-duotone-purple-yellow\\');--wp--preset--duotone--blue-red: url(\\'#wp-duotone-blue-red\\');--wp--preset--duotone--midnight: url(\\'#wp-duotone-midnight\\');--wp--preset--duotone--magenta-yellow: url(\\'#wp-duotone-magenta-yellow\\');--wp--preset--duotone--purple-green: url(\\'#wp-duotone-purple-green\\');--wp--preset--duotone--blue-orange: url(\\'#wp-duotone-blue-orange\\');--wp--preset--font-size--small: 13px;--wp--preset--font-size--medium: 20px;--wp--preset--font-size--large: 36px;--wp--preset--font-size--x-large: 42px;}.has-black-color{color: var(--wp--preset--color--black) !important;}.has-cyan-bluish-gray-color{color: var(--wp--preset--color--cyan-bluish-gray) !important;}.has-white-color{color: var(--wp--preset--color--white) !important;}.has-pale-pink-color{color: var(--wp--preset--color--pale-pink) !important;}.has-vivid-red-color{color: var(--wp--preset--color--vivid-red) !important;}.has-luminous-vivid-orange-color{color: var(--wp--preset--color--luminous-vivid-orange) !important;}.has-luminous-vivid-amber-color{color: var(--wp--preset--color--luminous-vivid-amber) !important;}.has-light-green-cyan-color{color: var(--wp--preset--color--light-green-cyan) !important;}.has-vivid-green-cyan-color{color: var(--wp--preset--color--vivid-green-cyan) !important;}.has-pale-cyan-blue-color{color: var(--wp--preset--color--pale-cyan-blue) !important;}.has-vivid-cyan-blue-color{color: var(--wp--preset--color--vivid-cyan-blue) !important;}.has-vivid-purple-color{color: var(--wp--preset--color--vivid-purple) !important;}.has-black-background-color{background-color: var(--wp--preset--color--black) !important;}.has-cyan-bluish-gray-background-color{background-color: var(--wp--preset--color--cyan-bluish-gray) !important;}.has-white-background-color{background-color: var(--wp--preset--color--white) !important;}.has-pale-pink-background-color{background-color: var(--wp--preset--color--pale-pink) !important;}.has-vivid-red-background-color{background-color: var(--wp--preset--color--vivid-red) !important;}.has-luminous-vivid-orange-background-color{background-color: var(--wp--preset--color--luminous-vivid-orange) !important;}.has-luminous-vivid-amber-background-color{background-color: var(--wp--preset--color--luminous-vivid-amber) !important;}.has-light-green-cyan-background-color{background-color: var(--wp--preset--color--light-green-cyan) !important;}.has-vivid-green-cyan-background-color{background-color: var(--wp--preset--color--vivid-green-cyan) !important;}.has-pale-cyan-blue-background-color{background-color: var(--wp--preset--color--pale-cyan-blue) !important;}.has-vivid-cyan-blue-background-color{background-color: var(--wp--preset--color--vivid-cyan-blue) !important;}.has-vivid-purple-background-color{background-color: var(--wp--preset--color--vivid-purple) !important;}.has-black-border-color{border-color: var(--wp--preset--color--black) !important;}.has-cyan-bluish-gray-border-color{border-color: var(--wp--preset--color--cyan-bluish-gray) !important;}.has-white-border-color{border-color: var(--wp--preset--color--white) !important;}.has-pale-pink-border-color{border-color: var(--wp--preset--color--pale-pink) !important;}.has-vivid-red-border-color{border-color: var(--wp--preset--color--vivid-red) !important;}.has-luminous-vivid-orange-border-color{border-color: var(--wp--preset--color--luminous-vivid-orange) !important;}.has-luminous-vivid-amber-border-color{border-color: var(--wp--preset--color--luminous-vivid-amber) !important;}.has-light-green-cyan-border-color{border-color: var(--wp--preset--color--light-green-cyan) !important;}.has-vivid-green-cyan-border-color{border-color: var(--wp--preset--color--vivid-green-cyan) !important;}.has-pale-cyan-blue-border-color{border-color: var(--wp--preset--color--pale-cyan-blue) !important;}.has-vivid-cyan-blue-border-color{border-color: var(--wp--preset--color--vivid-cyan-blue) !important;}.has-vivid-purple-border-color{border-color: var(--wp--preset--color--vivid-purple) !important;}.has-vivid-cyan-blue-to-vivid-purple-gradient-background{background: var(--wp--preset--gradient--vivid-cyan-blue-to-vivid-purple) !important;}.has-light-green-cyan-to-vivid-green-cyan-gradient-background{background: var(--wp--preset--gradient--light-green-cyan-to-vivid-green-cyan) !important;}.has-luminous-vivid-amber-to-luminous-vivid-orange-gradient-background{background: var(--wp--preset--gradient--luminous-vivid-amber-to-luminous-vivid-orange) !important;}.has-luminous-vivid-orange-to-vivid-red-gradient-background{background: var(--wp--preset--gradient--luminous-vivid-orange-to-vivid-red) !important;}.has-very-light-gray-to-cyan-bluish-gray-gradient-background{background: var(--wp--preset--gradient--very-light-gray-to-cyan-bluish-gray) !important;}.has-cool-to-warm-spectrum-gradient-background{background: var(--wp--preset--gradient--cool-to-warm-spectrum) !important;}.has-blush-light-purple-gradient-background{background: var(--wp--preset--gradient--blush-light-purple) !important;}.has-blush-bordeaux-gradient-background{background: var(--wp--preset--gradient--blush-bordeaux) !important;}.has-luminous-dusk-gradient-background{background: var(--wp--preset--gradient--luminous-dusk) !important;}.has-pale-ocean-gradient-background{background: var(--wp--preset--gradient--pale-ocean) !important;}.has-electric-grass-gradient-background{background: var(--wp--preset--gradient--electric-grass) !important;}.has-midnight-gradient-background{background: var(--wp--preset--gradient--midnight) !important;}.has-small-font-size{font-size: var(--wp--preset--font-size--small) !important;}.has-medium-font-size{font-size: var(--wp--preset--font-size--medium) !important;}.has-large-font-size{font-size: var(--wp--preset--font-size--large) !important;}.has-x-large-font-size{font-size: var(--wp--preset--font-size--x-large) !important;}\\n</style>\\n<link rel=\\'stylesheet\\' id=\\'all-css-2\\' href=\\'https://9to5mac.com/wp-content/themes/9to5-2015/assets/css/darkmode.css?m=1645642894g\\' type=\\'text/css\\' media=\\'all\\' />\\n<link crossorigin=\"anonymous\" rel=\\'stylesheet\\' id=\\'googleFonts-css\\'  href=\\'https://fonts.googleapis.com/css?family=Roboto%3A300%2C300italic%2C400%2C400italic%2C500%2C500italic%7CQuestrial&#038;ver=5.9.1\\' media=\\'all\\' />\\n<link rel=\\'stylesheet\\' id=\\'all-css-4\\' href=\\'https://9to5mac.com/_static/??-eJyVjsEOgyAQRH+osGrQ1EPTbyGwFVpA4y4x/fuipE169DbJzLwZ2BZh5sSYGNhhRIKR5150TduDJkImMERAwZuXLOoCZxriSJzr8TsgyejTr+aTCdli9a0m5wvoP/IlxyyWkCefCJ7Iiy4X2kYOEGebCxY2b6d9iVCvxtXBQ4rqiMd6kOxOvsdbO6h+UN11VB8Txmox\\' type=\\'text/css\\' media=\\'all\\' />\\n<script type=\"text/javascript\" src=\"https://9to5mac.com/_static/??-eJx9jEEKgzAQRS9knCqJ1EXxLMEMmtiZ2GS09PYGcdGV8OFt3vvwXZXn8b05zBDKPhum34WaPNchV3AnKfJTsoL/8hhZkAVkRipJL9Go9tEYsDmjnB87sosJnE0LRYelHOjVdNp0un32OhwcODbJ\" ></script><script src=\\'//9to5mac-com.videoplayerhub.com/gallery.js?ver=5.9.1\\' id=\\'ninetofive-blockthrough-js\\'></script>\\n<link rel=\"https://api.w.org/\" href=\"https://9to5mac.com/wp-json/\" /><link rel=\"alternate\" type=\"application/json\" href=\"https://9to5mac.com/wp-json/wp/v2/posts/626595\" /><link rel=\"EditURI\" type=\"application/rsd+xml\" title=\"RSD\" href=\"https://9to5mac.com/xmlrpc.php?rsd\" />\\n<link rel=\"wlwmanifest\" type=\"application/wlwmanifest+xml\" href=\"https://9to5mac.com/wp-includes/wlwmanifest.xml\" /> \\n<meta name=\"generator\" content=\"WordPress 5.9.1\" />\\n<link rel=\\'shortlink\\' href=\\'https://wp.me/p9SZa2-2D0n\\' />\\n<link rel=\"alternate\" type=\"application/json+oembed\" href=\"https://9to5mac.com/wp-json/oembed/1.0/embed?url=https%3A%2F%2F9to5mac.com%2F2020%2F01%2F02%2Fapple-closes-in-on-300-a-share%2F\" />\\n<link rel=\"alternate\" type=\"text/xml+oembed\" href=\"https://9to5mac.com/wp-json/oembed/1.0/embed?url=https%3A%2F%2F9to5mac.com%2F2020%2F01%2F02%2Fapple-closes-in-on-300-a-share%2F&#038;format=xml\" />\\n<!-- Stream WordPress user activity plugin v3.8.2 -->\\n<script type=\"text/javascript\">\\n  window.MemberfulOptions = {\\n    site: \"https:\\\\/\\\\/9to5mac.memberful.com\",\\n    memberSignedIn: false  };\\n\\n  (function() {\\n    var s = document.createElement(\\'script\\');\\n    s.type = \\'text/javascript\\';\\n    s.async = true;\\n    s.src = \\'https://d35xxde4fgg0cx.cloudfront.net/assets/embedded.js\\';\\n\\n    setup = function() { window.MemberfulEmbedded.setup(); };\\n\\n    s.addEventListener(\"load\", setup, false);\\n\\n    ( document.getElementsByTagName(\\'head\\')[0] || document.getElementsByTagName(\\'body\\')[0] ).appendChild( s );\\n  })();\\n</script>\\n\\n<meta name=\"parsely-title\" content=\"AAPL hits $300, 1/3 of the way to its next trillion, and double 2019 low\" />\\n<meta name=\"parsely-link\" content=\"http://9to5mac.com/2020/01/02/apple-closes-in-on-300-a-share/\" />\\n<meta name=\"parsely-type\" content=\"post\" />\\n<meta name=\"parsely-image-url\" content=\"https://9to5mac.com/wp-content/uploads/sites/6/2019/09/apple_store_oxmoor_steeber.jpg?quality=82&amp;strip=all&amp;w=155\" />\\n<meta name=\"parsely-pub-date\" content=\"2020-01-02T19:59:19Z\" />\\n<meta name=\"parsely-section\" content=\"News\" />\\n<meta name=\"parsely-author\" content=\"Michael Potuck\" />\\n\\n<style type=\\'text/css\\'>img#wpstats{display:none}</style>\\n\\t\\t<script src=\"https://assets.a-mo.net/js/adapter.js\"></script>\\n\\t<script type=\\'text/javascript\\' src=\\'https://securepubads.g.doubleclick.net/tag/js/gpt.js\\' async></script>\\n\\t<script type=\\'text/javascript\\' src=\\'https://9to5mac.com/wp-content/themes/9to5-2015/assets/js/vendor/prebid1.20.0.js\\' async></script>\\n\\t<script>\\n\\t!function(a9,a,p,s,t,A,g){if(a[a9])return;function q(c,r){a[a9]._Q.push([c,r])}a[a9]={init:function(){q(\"i\",arguments)},fetchBids:function(){q(\"f\",arguments)},setDisplayBids:function(){},targetingKeys:function(){return[]},_Q:[]};A=p.createElement(s);A.async=!0;A.src=t;g=p.getElementsByTagName(s)[0];g.parentNode.insertBefore(A,g)}(\"apstag\",window,document,\"script\",\"//c.amazon-adsystem.com/aax2/apstag.js\");\\n\\t</script>\\n\\t<script>\\n\\t\\twindow.googletag = window.googletag || {};\\n\\t\\tvar googletag = googletag || {};\\n\\t\\tgoogletag.cmd = googletag.cmd || [];\\n\\t</script>\\n\\n\\t<script type=\\'text/javascript\\'>\\n\\tgoogletag.cmd.push(function() {\\n\\t\\tgoogletag.defineSlot( \\'/1049447/9to5mac_Signal_1x1\\', [1, 1], \\'div-gpt-ad-signal\\' ).addService(googletag.pubads());\\n\\t\\tgoogletag.enableServices();\\n\\t});\\n</script>\\n\\t<script type=\"text/javascript\">\\n\\tvar ninetofiveHeaderBidderData = {\\n\\t\\tdistrictmTag: 13893416,\\n\\t\\tdistrictmDmxTag: 242605,\\n\\t\\tsovrn: [{\"sizes\":[[300,250]],\"below_the_fold_id\":574082},{\"sizes\":[[728,90]],\"above_the_fold_id\":574081,\"below_the_fold_id\":573847},{\"sizes\":[[970,250]],\"above_the_fold_id\":573844,\"below_the_fold_id\":573846},{\"sizes\":[[970,90]],\"above_the_fold_id\":574079,\"below_the_fold_id\":573847}],\\n\\t\\topenxUnit: 538487355,\\n\\t\\tappnexus: [{\"below_the_fold_sizes\":[[728,90],[970,90],[970,250],[300,250]],\"above_the_fold_sizes\":[[728,90],[970,90],[970,250]],\"below_the_fold_id\":13866598,\"above_the_fold_id\":13866595}]\\t};\\n\\n\\tvar aboveTheFold = true;\\n\\t/**\\n\\t *  Build ad units from bidding partners.\\n\\t *\\n\\t * @param {string}  slotID       The slot ID.\\n\\t * @param {array}   sizes        The default sizes.\\n\\t * @param {boolean} aboveTheFold Is the ad above the fold?\\n\\t */\\n\\tvar ninetofiveGetHeaderBidderAdUnits = function( slotID, sizes, aboveTheFold ) {\\n\\t\\tadUnits = [];\\n\\n\\t\\t// District M\\n\\t\\tadUnits.push( {\\n\\t\\t\\tcode: slotID,\\n\\t\\t\\tmediaTypes: { banner: { sizes: sizes } },\\n\\t\\t\\tbids: [\\t{\\n\\t\\t\\t\\tbidder: \\'districtm\\',\\n\\t\\t\\t\\tparams: {\\n\\t\\t\\t\\t\\tplacementId: ninetofiveHeaderBidderData.districtmTag\\n\\t\\t\\t\\t}\\n\\t\\t\\t} ]\\n\\t\\t} );\\n\\n\\t\\t// District M DMX\\n\\t\\tadUnits.push( {\\n\\t\\t\\tcode: slotID,\\n\\t\\t\\tmediaTypes: { banner: { sizes: sizes } },\\n\\t\\t\\tbids: [\\t{\\n\\t\\t\\t\\tbidder: \\'districtmDMX\\',\\n\\t\\t\\t\\tparams: {\\n\\t\\t\\t\\t\\tdmxid: ninetofiveHeaderBidderData.districtmDmxTag,\\n\\t\\t\\t\\t\\tmemberid: 101574\\n\\t\\t\\t\\t}\\n\\t\\t\\t} ]\\n\\t\\t} );\\n\\n\\t\\t// Sovrn\\n\\t\\tninetofiveHeaderBidderData.sovrn.forEach( function( asovrn ) {\\n\\t\\t\\tadUnits.push( {\\n\\t\\t\\t\\tcode: slotID,\\n\\t\\t\\t\\tmediaTypes: { banner: { sizes: asovrn.sizes } },\\n\\t\\t\\t\\tbids: [\\t{\\n\\t\\t\\t\\t\\tbidder: \\'sovrn\\',\\n\\t\\t\\t\\t\\tparams: {\\n\\t\\t\\t\\t\\t\\ttagid: ( aboveTheFold && asovrn.above_the_fold_id ) ?\\n\\t\\t\\t\\t\\t\\t\\tasovrn.above_the_fold_id :\\n\\t\\t\\t\\t\\t\\t\\tasovrn.below_the_fold_id\\n\\t\\t\\t\\t\\t}\\n\\t\\t\\t\\t} ]\\n\\t\\t\\t} );\\n\\n\\t\\t} );\\n\\t\\t\\t\\t// OpenX\\n\\t\\tadUnits.push( {\\n\\t\\t\\tcode: slotID,\\n\\t\\t\\tmediaTypes: { banner: { sizes: sizes } },\\n\\t\\t\\tbids: [\\t{\\n\\t\\t\\t\\tbidder: \\'openx\\',\\n\\t\\t\\t\\tparams: {\\n\\t\\t\\t\\t\\tunit: ninetofiveHeaderBidderData.openxUnit,\\n\\t\\t\\t\\t\\tdelDomain: \\'nineto5mac-d.openx.net\\'\\n\\t\\t\\t\\t}\\n\\t\\t\\t} ]\\n\\t\\t} );\\n\\t\\t\\n\\t\\t// AppNexus\\n\\t\\tninetofiveHeaderBidderData.appnexus.forEach( function( anapnexus ) {\\n\\t\\t\\tadUnits.push( {\\n\\t\\t\\t\\tcode: slotID,\\n\\t\\t\\t\\tmediaTypes: { banner: {\\n\\t\\t\\t\\t\\tsizes: aboveTheFold ? anapnexus.above_the_fold_sizes : anapnexus.below_the_fold_sizes\\n\\t\\t\\t\\t} },\\n\\t\\t\\t\\tbids: [\\t{\\n\\t\\t\\t\\t\\tbidder: \\'appnexus\\',\\n\\t\\t\\t\\t\\tparams: {\\n\\t\\t\\t\\t\\t\\tplacementId: ( aboveTheFold && anapnexus.above_the_fold_id ) ?\\n\\t\\t\\t\\t\\t\\t\\tanapnexus.above_the_fold_id :\\n\\t\\t\\t\\t\\t\\t\\tanapnexus.below_the_fold_id\\n\\t\\t\\t\\t\\t}\\n\\t\\t\\t\\t} ]\\n\\t\\t\\t} );\\n\\t\\t} );\\n\\n\\t\\treturn adUnits;\\n\\t};\\n\\t</script>\\n\\t<link rel=\"mask-icon\" color=\"#034981\" href=\"https://9to5mac.com/wp-content/themes/9to5-2015/images/9to5-clock.svg\"><link rel=\"amphtml\" href=\"https://9to5mac.com/2020/01/02/apple-closes-in-on-300-a-share/amp/\"><meta name=\"msapplication-TileImage\" content=\"https://9to5mac.com/wp-content/uploads/sites/6/2019/10/cropped-cropped-mac1-1.png?w=270\" />\\n\\n\\t<style>\\n\\t\\t.th94243953 { padding: 10px 0; text-align: center; background: url(\\'https://9to5mac.com/wp-content/themes/9to5-2015/images/top-leaderboard-bg.png\\') repeat center; min-height: 120px; }\\n\\t\\t@media (min-width: 1049px) {\\n\\t\\t\\t.th94243953 { \\n\\t\\t\\t\\tmin-height: 270px; \\n\\t\\t\\t}\\n\\t\\t}\\n\\n\\t\\t.th94243953 .inlinead { background-color: transparent; min-height: 1px; }\\n\\t\\t.th94243953 .inlinead > div { background-color: transparent; padding: 0; }\\n\\n\\t\\t.color-scheme-electrek .th94243953 { background-color: #939598; }\\n\\n\\t\\t.ad { margin: 0 auto; }\\n\\n\\t\\t@media (min-width: 0px) and (max-width: 767px) { .two-up-ads { display: none; } }\\n\\n\\t\\t.two-up-ads, .post-leaderboard { box-sizing: border-box; width: 100%; float: left; padding-left: 0.83333%; padding-right: 0.83333%; background-color: #ECECED; padding: 25px 0; }\\n\\t\\t.two-up-ads .ad-1, .two-up-ads .ad-2, .post-leaderboard .ad-1, .post-leaderboard .ad-2 { display: inline-block; width: 300px; height: 250px; overflow: hidden; }\\n\\t\\t.two-up-ads .ad-1, .post-leaderboard .ad-1 { box-sizing: border-box; width: 50%; float: left; padding-left: 0.83333%; padding-right: 0.83333%; text-align: right; }\\n\\t\\t.two-up-ads .ad-2, .post-leaderboard .ad-2 { box-sizing: border-box; width: 50%; float: right; padding-left: 0.83333%; padding-right: 0.83333%; text-align: left; padding-left: 40px; }\\n\\n\\t\\t@media (min-width: 0px) and (max-width: 767px) { .post-leaderboard img { width: 100%; } }\\n\\n\\t\\t.post-leaderboard > * { margin: 0 auto; text-align: center; display: block; }\\n\\n\\t\\t/** inline ads **/\\n\\t\\t.th98579c7f { background: url(\\'https://9to5mac.com/wp-content/themes/9to5-2015/images/top-leaderboard-bg.png\\') repeat center; max-width: 100%; overflow: hidden; text-align: center; }\\\\\\n\\t\\t.th98579c7f > div, .th98579c7f > ins { padding: 20px 0; margin: 0 auto; }\\n\\t\\t.darkmode--activated .th94243953,\\n\\t\\t.darkmode--activated .th98579c7f,\\n\\t\\t.darkmode--activated .inlinead {\\n\\t\\t\\tbackground: url(\\'https://9to5mac.com/wp-content/themes/9to5-2015/images/top-leaderboard-bg-dark.png\\') repeat center;\\n\\t\\t\\tisolation: isolate;\\n\\t\\t}\\n\\t\\t@media only screen and (min-width: 768px) { .th98579c7f > div, .th98579c7f > ins { display: block; padding: 25px 10px 25px 0; }\\n\\n\\t\\t.post-body .th98579c7f { background-color: transparent; }\\n\\n\\t\\t.th3673a788 { width: 300px; min-height: 250px; isolation: isolate; }\\n\\t\\t@media (min-device-width: 320px) and (max-device-width: 479px) { .th3673a788 { width: 300px; min-height: 250px; } }\\n\\t\\t@media (min-device-width: 480px) and (max-device-width: 767px) { .th3673a788 { width: 300px; min-height: 250px; } }\\n\\t\\t@media (min-width: 768px) { .th3673a788 { float: right; margin-left: 20px; width: 336px; min-height: 280px; } }\\n\\t\\t@media (min-width: 1000px) {\\n\\t\\t\\t.th3673a788 { margin: 0 -105px 20px 20px; }\\n\\t\\t\\t.aside-post .th3673a788 { margin-top: 20px; }\\n\\t\\t}\\n\\n\\t\\t.thdf9e3745 { line-height: 0; max-width: 300px; position: relative; }\\n\\t\\t.thdf9e3745 h3 { background: rgba(0, 0, 0, 0.7); bottom: 0; box-sizing: border-box; color: #fff; font-size: 1.17em; font-weight: 400; line-height: 1.3; margin: 0 0; padding: 0.25em 0.5em; position: absolute; text-align: left; width: 100%; }\\n\\t\\t.post-body .thdf9e3745 h3 { font-size: 1em; }\\n\\t\\t@media (min-width: 768px) { .post-body .thdf9e3745 { float: right; margin-left: 20px; width: 300px; height: 250px; } }\\n\\t\\t@media (min-width: 1000px) { .post-body .thdf9e3745 { margin: 0 -105px 20px 20px; } }\\n\\n\\t\\t.th4bc510de .thdf9e3745 { margin: 0 auto; }\\n\\t\\t.thba2ae9a1 { cursor: pointer }\\n\\t</style>\\n<style type=\"text/css\" id=\"wp-custom-css\">.darkmode--activated.color-scheme-mac .author-content .post-title {\\n    color: #fff;\\n\\t mix-blend-mode: difference;\\n}\\n\\nbody.darkmode--activated {\\n  background: #000;\\n  color: #fff;\\n}\\n\\n.darkmode-layer--simple {\\n  display: none !important;\\n}\\n\\n@media (min-width: 768px) {\\n\\t.darkmode--activated.tax-ninetofive_guides .post-content.product {\\n    background-color: #000;\\n}\\n\\t\\n\\t.site-switcher-list li:last-of-type {\\n\\t\\tmargin-right: 0;\\n\\t}\\n}\\n\\n.share-customize-link {\\n  display: none;\\n}</style>\\t\\t\\t<script async src=\"//pagead2.googlesyndication.com/pagead/js/adsbygoogle.js\"></script>\\n\\t\\t\\t<script type=\"text/javascript\">(adsbygoogle = window.adsbygoogle || []).push({ google_ad_client: \"ca-pub-4606108652482128\", enable_page_level_ads: true });</script>\\n\\t\\t\\n\\t\\t<script>\\n\\t\\t\\tdocument.documentElement.className = document.documentElement.className.replace(\\'no-js\\', \" \");\\n\\t\\t\\tdocument.documentElement.className += \\' js \\';\\n\\t\\t</script>\\n\\t</head>\\n\\t\\t<body class=\"post-template-default single single-post postid-626595 single-format-standard wp-embed-responsive color-scheme-mac infinite-scroll\">\\n\\t\\t\\t\\t\\t<!-- Google Tag Manager (noscript) -->\\n\\t\\t<noscript><iframe src=\"https://www.googletagmanager.com/ns.html?id=GTM-M48W9J\"\\n\\t\\t                  height=\"0\" width=\"0\" style=\"display:none;visibility:hidden\"></iframe></noscript>\\n\\t\\t<!-- End Google Tag Manager (noscript) -->\\n\\t\\t\\t\\n\\t\\t\\t<div></div>\\n\\t\\t\\t<header class=\"site-header js-header-normal\" id=\"js-site-header\">\\n\\t\\t\\t\\t<div class=\"site-header-inner\">\\n\\n\\t\\t\\t\\t\\t<div class=\"header-logo\">\\n\\t\\t\\t\\t\\t\\t<a href=\"https://9to5mac.com/\" rel=\"home\">\\n\\t\\t\\t\\t\\t\\t\\t<img src=\"https://9to5mac.com/wp-content/uploads/sites/6/2018/10/cropped-cropped-9to5-mac-logo-min1.png\" alt=\"\" />\\n\\t\\t\\t\\t\\t\\t</a>\\n\\t\\t\\t\\t\\t\\t<button aria-expanded=\"false\" aria-controls=\"js-site-switcher\" id=\"js-button-switcher\" class=\"js-button button-site-switcher\">\\n\\t\\t\\t\\t\\t\\t\\t\\t\\t<svg class=\"ninetofive-icon chevron-down js-regular-icon\" aria-hidden=\"true\">\\n\\t\\t\\t\\t\\t\\t\\t\\t\\t<use\\n\\t\\t\\t\\txlink:href=\"https://9to5mac.com/wp-content/themes/9to5-2015/images/svg-sprite-2020.svg#ninetofive-icon-chevron-down\"/>\\n\\t\\t</svg>\\n\\t\\t\\t\\t\\t\\t\\t\\t\\t\\t\\t<svg class=\"ninetofive-icon chevron-up js-expanded-icon\" aria-hidden=\"true\">\\n\\t\\t\\t\\t\\t\\t\\t\\t\\t<use\\n\\t\\t\\t\\txlink:href=\"https://9to5mac.com/wp-content/themes/9to5-2015/images/svg-sprite-2020.svg#ninetofive-icon-chevron-up\"/>\\n\\t\\t</svg>\\n\\t\\t\\t\\t\\t\\t\\t\\t\\t<span class=\"screen-reader-text\">Switch site</span>\\n\\t\\t\\t\\t\\t\\t</button>\\n\\t\\t\\t\\t\\t</div>\\n\\t\\t\\t\\t\\t<!-- .header-logo -->\\n\\n\\t\\t\\t\\t\\t<nav id=\"primary-menu\" class=\"primary-menu\">\\n\\t\\t\\t\\t\\t\\t<button class=\"js-mobile-menu-prev js-button\" id=\"js-mobile-menu-prev\" data-direction=\"1\">\\n\\t\\t\\t\\t\\t\\t\\t\\t\\t<svg class=\"ninetofive-icon chevron-left \" aria-hidden=\"true\">\\n\\t\\t\\t\\t\\t\\t\\t\\t\\t<use\\n\\t\\t\\t\\txlink:href=\"https://9to5mac.com/wp-content/themes/9to5-2015/images/svg-sprite-2020.svg#ninetofive-icon-chevron-left\"/>\\n\\t\\t</svg>\\n\\t\\t\\t\\t\\t\\t\\t\\t</button>\\n\\t\\t\\t\\t\\t\\t<button class=\"js-mobile-menu-next js-button\" id=\"js-mobile-menu-next\" data-direction=\"-1\">\\n\\t\\t\\t\\t\\t\\t\\t\\t\\t<svg class=\"ninetofive-icon chevron-right \" aria-hidden=\"true\">\\n\\t\\t\\t\\t\\t\\t\\t\\t\\t<use\\n\\t\\t\\t\\txlink:href=\"https://9to5mac.com/wp-content/themes/9to5-2015/images/svg-sprite-2020.svg#ninetofive-icon-chevron-right\"/>\\n\\t\\t</svg>\\n\\t\\t\\t\\t\\t\\t\\t\\t</button>\\n\\t\\t\\t\\t\\t\\t<ul id=\"menu-guides\" class=\"primary-menu-ul\"><li id=\"menu-item-571468\" class=\"menu-item menu-item-type-custom menu-item-object-custom menu-item-571468\"><a href=\"https://9to5mac.com/feature/exclusive/\">Exclusives</a></li>\\n<li id=\"menu-item-773027\" class=\"menu-item menu-item-type-custom menu-item-object-custom menu-item-773027\"><a href=\"https://www.9to5mac.com/store\">Store</a></li>\\n<li id=\"menu-item-490675\" class=\"menu-item menu-item-type-custom menu-item-object-custom menu-item-has-children menu-item-490675\"><a href=\"http://9to5mac.com/guides\">Guides</a>\\n<ul class=\"sub-menu\">\\n\\t<li id=\"menu-item-491043\" class=\"menu-item menu-item-type-taxonomy menu-item-object-ninetofive_guides menu-item-491043\"><a href=\"https://9to5mac.com/guides/review/\">Reviews</a></li>\\n\\t<li id=\"menu-item-491042\" class=\"menu-item menu-item-type-taxonomy menu-item-object-ninetofive_guides menu-item-491042\"><a href=\"https://9to5mac.com/guides/how-to/\">How Tos</a></li>\\n\\t<li id=\"menu-item-489083\" class=\"menu-item menu-item-type-taxonomy menu-item-object-ninetofive_guides current-post-ancestor current-menu-parent current-post-parent menu-item-489083\"><a href=\"https://9to5mac.com/guides/aapl/\">AAPL</a></li>\\n\\t<li id=\"menu-item-549772\" class=\"menu-item menu-item-type-custom menu-item-object-custom menu-item-549772\"><a href=\"https://9to5mac.com/guides/apple-store/\">Apple Store</a></li>\\n\\t<li id=\"menu-item-626055\" class=\"menu-item menu-item-type-custom menu-item-object-custom menu-item-626055\"><a href=\"https://9to5mac.com/guides/apple-arcade/\">Apple Arcade</a></li>\\n\\t<li id=\"menu-item-626057\" class=\"menu-item menu-item-type-custom menu-item-object-custom menu-item-626057\"><a href=\"https://9to5mac.com/guides/apple-card/\">Apple Card</a></li>\\n\\t<li id=\"menu-item-668318\" class=\"menu-item menu-item-type-taxonomy menu-item-object-ninetofive_guides menu-item-668318\"><a href=\"https://9to5mac.com/guides/apple-silicon/\">Apple Silicon</a></li>\\n\\t<li id=\"menu-item-668325\" class=\"menu-item menu-item-type-taxonomy menu-item-object-ninetofive_guides menu-item-668325\"><a href=\"https://9to5mac.com/guides/apple-one/\">Apple One</a></li>\\n\\t<li id=\"menu-item-494945\" class=\"menu-item menu-item-type-taxonomy menu-item-object-ninetofive_guides menu-item-494945\"><a href=\"https://9to5mac.com/guides/carplay/\">CarPlay</a></li>\\n\\t<li id=\"menu-item-494941\" class=\"menu-item menu-item-type-taxonomy menu-item-object-ninetofive_guides menu-item-494941\"><a href=\"https://9to5mac.com/guides/siri/\">Siri</a></li>\\n\\t<li id=\"menu-item-494944\" class=\"menu-item menu-item-type-taxonomy menu-item-object-ninetofive_guides menu-item-494944\"><a href=\"https://9to5mac.com/guides/homekit/\">HomeKit</a></li>\\n</ul>\\n</li>\\n<li id=\"menu-item-489085\" class=\"menu-item menu-item-type-taxonomy menu-item-object-ninetofive_guides menu-item-has-children menu-item-489085\"><a href=\"https://9to5mac.com/guides/mac/\">Mac</a>\\n<ul class=\"sub-menu\">\\n\\t<li id=\"menu-item-494931\" class=\"menu-item menu-item-type-taxonomy menu-item-object-ninetofive_guides menu-item-494931\"><a href=\"https://9to5mac.com/guides/mac/\">Mac</a></li>\\n\\t<li id=\"menu-item-494929\" class=\"menu-item menu-item-type-taxonomy menu-item-object-ninetofive_guides menu-item-494929\"><a href=\"https://9to5mac.com/guides/macbook-pro/\">MacBook Pro</a></li>\\n\\t<li id=\"menu-item-494930\" class=\"menu-item menu-item-type-taxonomy menu-item-object-ninetofive_guides menu-item-494930\"><a href=\"https://9to5mac.com/guides/macbook-air/\">MacBook Air</a></li>\\n\\t<li id=\"menu-item-704986\" class=\"menu-item menu-item-type-taxonomy menu-item-object-ninetofive_guides menu-item-704986\"><a href=\"https://9to5mac.com/guides/imac-2021/\">iMac 2021</a></li>\\n\\t<li id=\"menu-item-494933\" class=\"menu-item menu-item-type-taxonomy menu-item-object-ninetofive_guides menu-item-494933\"><a href=\"https://9to5mac.com/guides/imac/\">iMac</a></li>\\n\\t<li id=\"menu-item-549428\" class=\"menu-item menu-item-type-custom menu-item-object-custom menu-item-549428\"><a href=\"https://9to5mac.com/guides/mac-pro/\">Mac Pro</a></li>\\n\\t<li id=\"menu-item-494932\" class=\"menu-item menu-item-type-taxonomy menu-item-object-ninetofive_guides menu-item-494932\"><a href=\"https://9to5mac.com/guides/mac-mini/\">Mac mini</a></li>\\n\\t<li id=\"menu-item-596040\" class=\"menu-item menu-item-type-custom menu-item-object-custom menu-item-596040\"><a href=\"http://9to5mac.com/guides/macos-monterey\">macOS Monterey</a></li>\\n</ul>\\n</li>\\n<li id=\"menu-item-489087\" class=\"menu-item menu-item-type-taxonomy menu-item-object-ninetofive_guides menu-item-has-children menu-item-489087\"><a href=\"https://9to5mac.com/guides/iphone/\">iPhone</a>\\n<ul class=\"sub-menu\">\\n\\t<li id=\"menu-item-494915\" class=\"menu-item menu-item-type-taxonomy menu-item-object-ninetofive_guides menu-item-494915\"><a href=\"https://9to5mac.com/guides/iphone/\">iPhone</a></li>\\n\\t<li id=\"menu-item-601757\" class=\"menu-item menu-item-type-custom menu-item-object-custom menu-item-601757\"><a href=\"https://9to5mac.com/guides/iphone-11/\">iPhone 11</a></li>\\n\\t<li id=\"menu-item-668321\" class=\"menu-item menu-item-type-taxonomy menu-item-object-ninetofive_guides menu-item-668321\"><a href=\"https://9to5mac.com/guides/iphone-12/\">iPhone 12</a></li>\\n\\t<li id=\"menu-item-685216\" class=\"menu-item menu-item-type-taxonomy menu-item-object-ninetofive_guides menu-item-685216\"><a href=\"https://9to5mac.com/guides/iphone-13/\">iPhone 13</a></li>\\n\\t<li id=\"menu-item-596037\" class=\"menu-item menu-item-type-custom menu-item-object-custom menu-item-596037\"><a href=\"https://9to5mac.com/guides/ios-15/\">iOS 15</a></li>\\n</ul>\\n</li>\\n<li id=\"menu-item-489092\" class=\"menu-item menu-item-type-taxonomy menu-item-object-ninetofive_guides menu-item-has-children menu-item-489092\"><a href=\"https://9to5mac.com/guides/apple-watch/\">Watch</a>\\n<ul class=\"sub-menu\">\\n\\t<li id=\"menu-item-494924\" class=\"menu-item menu-item-type-taxonomy menu-item-object-ninetofive_guides menu-item-494924\"><a href=\"https://9to5mac.com/guides/apple-watch/\">Apple Watch</a></li>\\n\\t<li id=\"menu-item-601758\" class=\"menu-item menu-item-type-custom menu-item-object-custom menu-item-601758\"><a href=\"https://9to5mac.com/guides/apple-health/\">Apple Health</a></li>\\n\\t<li id=\"menu-item-549420\" class=\"menu-item menu-item-type-custom menu-item-object-custom menu-item-549420\"><a href=\"https://9to5mac.com/guides/apple-watch-series-7/\">Apple Watch Series 7</a></li>\\n\\t<li id=\"menu-item-668319\" class=\"menu-item menu-item-type-taxonomy menu-item-object-ninetofive_guides menu-item-668319\"><a href=\"https://9to5mac.com/guides/apple-watch-se/\">Apple Watch SE</a></li>\\n\\t<li id=\"menu-item-494926\" class=\"menu-item menu-item-type-taxonomy menu-item-object-ninetofive_guides menu-item-494926\"><a href=\"https://9to5mac.com/guides/apple-watch-series-3/\">Apple Watch Series 3</a></li>\\n\\t<li id=\"menu-item-596038\" class=\"menu-item menu-item-type-custom menu-item-object-custom menu-item-596038\"><a href=\"http://9to5mac.com/guides/watchos-8\">watchOS 8</a></li>\\n\\t<li id=\"menu-item-668323\" class=\"menu-item menu-item-type-taxonomy menu-item-object-ninetofive_guides menu-item-668323\"><a href=\"https://9to5mac.com/guides/apple-fitness/\">Apple Fitness+</a></li>\\n</ul>\\n</li>\\n<li id=\"menu-item-489088\" class=\"menu-item menu-item-type-taxonomy menu-item-object-ninetofive_guides menu-item-has-children menu-item-489088\"><a href=\"https://9to5mac.com/guides/ipad/\">iPad</a>\\n<ul class=\"sub-menu\">\\n\\t<li id=\"menu-item-494921\" class=\"menu-item menu-item-type-taxonomy menu-item-object-ninetofive_guides menu-item-494921\"><a href=\"https://9to5mac.com/guides/ipad-pro/\">iPad Pro</a></li>\\n\\t<li id=\"menu-item-626063\" class=\"menu-item menu-item-type-custom menu-item-object-custom menu-item-626063\"><a href=\"https://9to5mac.com/guides/ipad-air/\">iPad Air</a></li>\\n\\t<li id=\"menu-item-494922\" class=\"menu-item menu-item-type-taxonomy menu-item-object-ninetofive_guides menu-item-494922\"><a href=\"https://9to5mac.com/guides/ipad-mini/\">iPad mini</a></li>\\n\\t<li id=\"menu-item-494920\" class=\"menu-item menu-item-type-taxonomy menu-item-object-ninetofive_guides menu-item-494920\"><a href=\"https://9to5mac.com/guides/ipad/\">iPad</a></li>\\n\\t<li id=\"menu-item-596039\" class=\"menu-item menu-item-type-custom menu-item-object-custom menu-item-596039\"><a href=\"http://9to5mac.com/guides/ipados\">iPadOS</a></li>\\n</ul>\\n</li>\\n<li id=\"menu-item-494937\" class=\"menu-item menu-item-type-taxonomy menu-item-object-ninetofive_guides menu-item-has-children menu-item-494937\"><a href=\"https://9to5mac.com/guides/apple-music/\">Music</a>\\n<ul class=\"sub-menu\">\\n\\t<li id=\"menu-item-494938\" class=\"menu-item menu-item-type-taxonomy menu-item-object-ninetofive_guides menu-item-494938\"><a href=\"https://9to5mac.com/guides/apple-music/\">Apple Music</a></li>\\n\\t<li id=\"menu-item-494940\" class=\"menu-item menu-item-type-taxonomy menu-item-object-ninetofive_guides menu-item-494940\"><a href=\"https://9to5mac.com/guides/airpods/\">AirPods</a></li>\\n\\t<li id=\"menu-item-494939\" class=\"menu-item menu-item-type-taxonomy menu-item-object-ninetofive_guides menu-item-494939\"><a href=\"https://9to5mac.com/guides/homepod/\">HomePod</a></li>\\n</ul>\\n</li>\\n<li id=\"menu-item-489090\" class=\"menu-item menu-item-type-taxonomy menu-item-object-ninetofive_guides menu-item-has-children menu-item-489090\"><a href=\"https://9to5mac.com/guides/apple-tv/\">TV</a>\\n<ul class=\"sub-menu\">\\n\\t<li id=\"menu-item-499556\" class=\"menu-item menu-item-type-taxonomy menu-item-object-ninetofive_guides menu-item-499556\"><a href=\"https://9to5mac.com/guides/apple-tv-4k/\">Apple TV 4K</a></li>\\n\\t<li id=\"menu-item-494927\" class=\"menu-item menu-item-type-taxonomy menu-item-object-ninetofive_guides menu-item-494927\"><a href=\"https://9to5mac.com/guides/apple-tv/\">Apple TV</a></li>\\n\\t<li id=\"menu-item-596041\" class=\"menu-item menu-item-type-custom menu-item-object-custom menu-item-596041\"><a href=\"http://9to5mac.com/guides/tvos-15\">tvOS 15</a></li>\\n</ul>\\n</li>\\n</ul>\\t\\t\\t\\t\\t</nav>\\n\\t\\t\\t\\t\\t<!-- .primary-menu -->\\n\\n\\t\\t\\t\\t\\t<div class=\"header-right-area\">\\n\\n\\t\\t\\t\\t\\t\\t<button class=\"main-menu-toggle js-button\" id=\"js-main-menu-toggle\" aria-expanded=\"false\" aria-controls=\"primary-menu\">\\n\\t\\t\\t\\t\\t\\t\\t\\t\\t<svg class=\"ninetofive-icon hamburger js-regular-icon\" aria-hidden=\"true\">\\n\\t\\t\\t\\t\\t\\t\\t\\t\\t<use\\n\\t\\t\\t\\txlink:href=\"https://9to5mac.com/wp-content/themes/9to5-2015/images/svg-sprite-2020.svg#ninetofive-icon-hamburger\"/>\\n\\t\\t</svg>\\n\\t\\t\\t\\t\\t\\t\\t\\t\\t\\t\\t<svg class=\"ninetofive-icon cross js-expanded-icon\" aria-hidden=\"true\">\\n\\t\\t\\t\\t\\t\\t\\t\\t\\t<use\\n\\t\\t\\t\\txlink:href=\"https://9to5mac.com/wp-content/themes/9to5-2015/images/svg-sprite-2020.svg#ninetofive-icon-cross\"/>\\n\\t\\t</svg>\\n\\t\\t\\t\\t\\t\\t\\t\\t\\t<span class=\"screen-reader-text\">Toggle main menu</span>\\n\\t\\t\\t\\t\\t\\t</button>\\n\\n\\t\\t\\t\\t\\t\\t<div class=\"header-social\" id=\"js-header-social\">\\n\\t\\t\\t\\t\\t\\t\\t<a href=\"https://www.youtube.com/c/9to5mac\" title=\"View 9to5 on YouTube\">\\n\\t\\t<svg class=\"ninetofive-icon youtube \" aria-hidden=\"true\">\\n\\t\\t\\t\\t\\t\\t\\t\\t\\t<use\\n\\t\\t\\t\\txlink:href=\"https://9to5mac.com/wp-content/themes/9to5-2015/images/svg-sprite-2020.svg#ninetofive-icon-youtube\"/>\\n\\t\\t</svg>\\n\\t\\t</a>\\n<a href=\"https://www.facebook.com/9to5mac/\" title=\"Like us on Facebook\">\\n\\t\\t<svg class=\"ninetofive-icon facebook \" aria-hidden=\"true\">\\n\\t\\t\\t\\t\\t\\t\\t\\t\\t<use\\n\\t\\t\\t\\txlink:href=\"https://9to5mac.com/wp-content/themes/9to5-2015/images/svg-sprite-2020.svg#ninetofive-icon-facebook\"/>\\n\\t\\t</svg>\\n\\t\\t</a>\\n<a href=\"http://twitter.com/9to5mac\" title=\"Follow us on Twitter\">\\n\\t\\t<svg class=\"ninetofive-icon twitter \" aria-hidden=\"true\">\\n\\t\\t\\t\\t\\t\\t\\t\\t\\t<use\\n\\t\\t\\t\\txlink:href=\"https://9to5mac.com/wp-content/themes/9to5-2015/images/svg-sprite-2020.svg#ninetofive-icon-twitter\"/>\\n\\t\\t</svg>\\n\\t\\t</a>\\n<a href=\"https://instagram.com/9to5mac\" title=\"Follow us on Instagram\">\\n\\t\\t<svg class=\"ninetofive-icon instagram \" aria-hidden=\"true\">\\n\\t\\t\\t\\t\\t\\t\\t\\t\\t<use\\n\\t\\t\\t\\txlink:href=\"https://9to5mac.com/wp-content/themes/9to5-2015/images/svg-sprite-2020.svg#ninetofive-icon-instagram\"/>\\n\\t\\t</svg>\\n\\t\\t</a>\\n<a href=\"https://9to5mac.com/guides/podcast/\" title=\"Subscribe to our weekly podcast\">\\n\\t\\t<svg class=\"ninetofive-icon podcast \" aria-hidden=\"true\">\\n\\t\\t\\t\\t\\t\\t\\t\\t\\t<use\\n\\t\\t\\t\\txlink:href=\"https://9to5mac.com/wp-content/themes/9to5-2015/images/svg-sprite-2020.svg#ninetofive-icon-podcast\"/>\\n\\t\\t</svg>\\n\\t\\t</a>\\n<div class=\"header-social-more\" id=\"js-header-social-more\" aria-hidden=\"true\"><a href=\"https://apple.news/THIO8RUsFTaaGHbdNl6KqOQ\" title=\"View 9to5 on Apple News\">\\n\\t\\t<svg class=\"ninetofive-icon applenews \" aria-hidden=\"true\">\\n\\t\\t\\t\\t\\t\\t\\t\\t\\t<use\\n\\t\\t\\t\\txlink:href=\"https://9to5mac.com/wp-content/themes/9to5-2015/images/svg-sprite-2020.svg#ninetofive-icon-applenews\"/>\\n\\t\\t</svg>\\n\\t\\t</a>\\n<a href=\"https://www.linkedin.com/company/9to5mac.com\" title=\"View 9to5 on LinkedIn\">\\n\\t\\t<svg class=\"ninetofive-icon linkedin \" aria-hidden=\"true\">\\n\\t\\t\\t\\t\\t\\t\\t\\t\\t<use\\n\\t\\t\\t\\txlink:href=\"https://9to5mac.com/wp-content/themes/9to5-2015/images/svg-sprite-2020.svg#ninetofive-icon-linkedin\"/>\\n\\t\\t</svg>\\n\\t\\t</a>\\n<a href=\"https://9to5mac.com/push/\" title=\"Signup for Safari Notifications\">\\n\\t\\t<svg class=\"ninetofive-icon pushup \" aria-hidden=\"true\">\\n\\t\\t\\t\\t\\t\\t\\t\\t\\t<use\\n\\t\\t\\t\\txlink:href=\"https://9to5mac.com/wp-content/themes/9to5-2015/images/svg-sprite-2020.svg#ninetofive-icon-pushup\"/>\\n\\t\\t</svg>\\n\\t\\t</a>\\n<a href=\"https://9to5mac.com/9to5mac-newsletter-signup/\" title=\"Signup for our email list\">\\n\\t\\t<svg class=\"ninetofive-icon email \" aria-hidden=\"true\">\\n\\t\\t\\t\\t\\t\\t\\t\\t\\t<use\\n\\t\\t\\t\\txlink:href=\"https://9to5mac.com/wp-content/themes/9to5-2015/images/svg-sprite-2020.svg#ninetofive-icon-email\"/>\\n\\t\\t</svg>\\n\\t\\t</a>\\n</div>\\t\\t\\t\\t\\t\\t\\t<button aria-expanded=\"false\" aria-controls=\"js-header-social-more\" id=\"js-button-social\" class=\"js-button button-social-toggle\">\\n\\t\\t\\t\\t\\t\\t\\t\\t\\t\\t<svg class=\"ninetofive-icon dots-expand \" aria-hidden=\"true\">\\n\\t\\t\\t\\t\\t\\t\\t\\t\\t<use\\n\\t\\t\\t\\txlink:href=\"https://9to5mac.com/wp-content/themes/9to5-2015/images/svg-sprite-2020.svg#ninetofive-icon-dots-expand\"/>\\n\\t\\t</svg>\\n\\t\\t\\t\\t\\t\\t\\t\\t\\t\\t<span class=\"screen-reader-text\">More social networks</span>\\n\\t\\t\\t\\t\\t\\t\\t</button>\\n\\t\\t\\t\\t\\t\\t</div>\\n\\t\\t\\t\\t\\t\\t<!-- .header-social -->\\n\\n\\t\\t\\t\\t\\t\\t<div class=\"header-icon-links\">\\n\\t\\t\\t\\t\\t\\t\\t\\n<a href=\\'https://9to5mac.com/contact/\\' class=\\'has-tooltip\\'>\\t\\t<svg class=\"ninetofive-icon feedback \" aria-hidden=\"true\">\\n\\t\\t\\t\\t\\t\\t\\t\\t\\t<use\\n\\t\\t\\t\\txlink:href=\"https://9to5mac.com/wp-content/themes/9to5-2015/images/svg-sprite-2020.svg#ninetofive-icon-feedback\"/>\\n\\t\\t</svg>\\n\\t\\t<span class=\\'header-tooltip\\'>Submit a Tip / Contact Us</span></a>\\n</li>\\n\\n<a href=\\'https://trade-in.9to5mac.com/\\' class=\\'has-tooltip\\'>\\t\\t<svg class=\"ninetofive-icon cashback \" aria-hidden=\"true\">\\n\\t\\t\\t\\t\\t\\t\\t\\t\\t<use\\n\\t\\t\\t\\txlink:href=\"https://9to5mac.com/wp-content/themes/9to5-2015/images/svg-sprite-2020.svg#ninetofive-icon-cashback\"/>\\n\\t\\t</svg>\\n\\t\\t<span class=\\'header-tooltip\\'>Cashback</span></a>\\n</li>\\n\\n<a href=\\'https://9to5mac.ifixyouri.com\\' class=\\'has-tooltip\\'>\\t\\t<svg class=\"ninetofive-icon fix \" aria-hidden=\"true\">\\n\\t\\t\\t\\t\\t\\t\\t\\t\\t<use\\n\\t\\t\\t\\txlink:href=\"https://9to5mac.com/wp-content/themes/9to5-2015/images/svg-sprite-2020.svg#ninetofive-icon-fix\"/>\\n\\t\\t</svg>\\n\\t\\t<span class=\\'header-tooltip\\'>Fix</span></a>\\n</li>\\n\\t\\t\\t\\t\\t\\t</div>\\n\\t\\t\\t\\t\\t\\t<!-- .header-icon-links -->\\n\\t\\t\\t\\t\\t\\t\\t<button id=\"dark-mode-toggle\" class=\"button-darkmode-toggle\" onclick=\"darkmode.toggle();\">\\n\\t\\t \\t\\t<svg class=\"ninetofive-icon dark-mode js-regular-icon\" aria-hidden=\"true\">\\n\\t\\t\\t\\t\\t\\t\\t\\t\\t<use\\n\\t\\t\\t\\txlink:href=\"https://9to5mac.com/wp-content/themes/9to5-2015/images/svg-sprite-2020.svg#ninetofive-icon-dark-mode\"/>\\n\\t\\t</svg>\\n\\t\\t\\t\\t<span class=\"screen-reader-text\">Toggle dark mode</span>\\n\\t</button>\\n\\t\\t\\t\\t\\t\\t<div class=\"header-search\">\\n\\t\\t\\t\\t\\t\\t\\t\\n<form role=\"search\" class=\"search-form\" method=\"get\" action=\"https://9to5mac.com/\" id=\"js-search-form\">\\n\\t<label class=\"search-label\">\\n\\t\\t<span class=\"screen-reader-text\">Search</span>\\n\\t\\t<input type=\"search\" placeholder=\"search\" name=\"s\" class=\"searchInput\" value=\"\">\\n\\t</label>\\n\\t<button type=\"submit\" class=\"search-submit\">\\n\\t\\t\\t\\t<svg class=\"ninetofive-icon search \" aria-hidden=\"true\">\\n\\t\\t\\t\\t\\t\\t\\t\\t\\t<use\\n\\t\\t\\t\\txlink:href=\"https://9to5mac.com/wp-content/themes/9to5-2015/images/svg-sprite-2020.svg#ninetofive-icon-search\"/>\\n\\t\\t</svg>\\n\\t\\t\\t\\t<span class=\"screen-reader-text\">Search</span>\\n\\t</button>\\n</form>\\n\\t\\t\\t\\t\\t\\t\\t<button aria-expanded=\"false\" aria-controls=\"js-search-form\" id=\"js-button-search\" class=\"js-button button-search-toggle\">\\n\\t\\t\\t\\t\\t\\t\\t\\t\\t\\t<svg class=\"ninetofive-icon search js-regular-icon\" aria-hidden=\"true\">\\n\\t\\t\\t\\t\\t\\t\\t\\t\\t<use\\n\\t\\t\\t\\txlink:href=\"https://9to5mac.com/wp-content/themes/9to5-2015/images/svg-sprite-2020.svg#ninetofive-icon-search\"/>\\n\\t\\t</svg>\\n\\t\\t\\t\\t\\t\\t\\t\\t\\t\\t\\t\\t<svg class=\"ninetofive-icon cross js-expanded-icon\" aria-hidden=\"true\">\\n\\t\\t\\t\\t\\t\\t\\t\\t\\t<use\\n\\t\\t\\t\\txlink:href=\"https://9to5mac.com/wp-content/themes/9to5-2015/images/svg-sprite-2020.svg#ninetofive-icon-cross\"/>\\n\\t\\t</svg>\\n\\t\\t\\t\\t\\t\\t\\t\\t\\t\\t<span class=\"screen-reader-text\">Toggle search</span>\\n\\t\\t\\t\\t\\t\\t\\t</button>\\n\\t\\t\\t\\t\\t\\t</div>\\n\\t\\t\\t\\t\\t\\t<!-- .header-search -->\\n\\n\\t\\t\\t\\t\\t</div>\\n\\t\\t\\t\\t\\t<!-- .header-right-area -->\\n\\n\\t\\t\\t\\t</div>\\n\\t\\t\\t\\t<!-- .site-header-inner -->\\n\\n\\t\\t\\t\\t<div class=\"site-switcher\" id=\"js-site-switcher\" aria-hidden=\"true\">\\n\\t\\t\\t\\t\\t<ul class=\"site-switcher-list\">\\n<li><a href=\\'https://9to5toys.com\\'>\\t\\t<svg class=\"ninetofive-icon ninetofive-toys \" aria-hidden=\"true\">\\n\\t\\t\\t\\t\\t\\t\\t\\t\\t<use\\n\\t\\t\\t\\txlink:href=\"https://9to5mac.com/wp-content/themes/9to5-2015/images/svg-sprite-2020.svg#ninetofive-icon-ninetofive-toys\"/>\\n\\t\\t</svg>\\n\\t\\t<span class=\\'screen-reader-text\\'>9to5Toys</span></a></li>\\n</li>\\n\\n<li><a href=\\'https://9to5google.com\\'>\\t\\t<svg class=\"ninetofive-icon ninetofive-google \" aria-hidden=\"true\">\\n\\t\\t\\t\\t\\t\\t\\t\\t\\t<use\\n\\t\\t\\t\\txlink:href=\"https://9to5mac.com/wp-content/themes/9to5-2015/images/svg-sprite-2020.svg#ninetofive-icon-ninetofive-google\"/>\\n\\t\\t</svg>\\n\\t\\t<span class=\\'screen-reader-text\\'>9to5Google</span></a></li>\\n</li>\\n\\n<li><a href=\\'https://electrek.co\\'><div class=\"ninetofive-icon ninetofive-electrek\"></div><span class=\\'screen-reader-text\\'>Electrek</span></a></li>\\n</li>\\n\\n<li class=\\'menu-item-dronedj\\'><a href=\\'https://www.dronedj.com\\'><div class=\"ninetofive-icon ninetofive-dronedj\"></div><span class=\\'screen-reader-text\\'>DroneDJ</span></a></li>\\n</li>\\n\\n<li><a href=\\'https://www.spaceexplored.com\\'>\\t\\t<svg class=\"ninetofive-icon spaceexplored-logo \" aria-hidden=\"true\">\\n\\t\\t\\t\\t\\t\\t\\t\\t\\t<use\\n\\t\\t\\t\\txlink:href=\"https://9to5mac.com/wp-content/themes/9to5-2015/images/svg-sprite-2020.svg#ninetofive-icon-spaceexplored-logo\"/>\\n\\t\\t</svg>\\n\\t\\t<span class=\\'screen-reader-text\\'>Space Explored</span></a></li>\\n</li>\\n\\n<li class=\\'site-switcher-text-only\\'><a href=\\'https://9to5mac.com/about/\\'>About</a></li>\\n</li>\\n\\n<li class=\\'site-switcher-text-only\\'><a href=\\'https://9to5mac.com/privacy/\\'>Privacy</a></li>\\n</li>\\n</ul>\\t\\t\\t\\t</div>\\n\\t\\t\\t\\t<!-- .site-switcher -->\\n\\n\\t\\t\\t</header>\\n\\t\\t\\t<!-- .site-header -->\\n\\n\\t\\t\\t<div class=\"site-header-placeholder\"></div>\\n\\t\\t\\t\\n\\t\\t\\t<div class=\"order-control\">\\n\\t\\t\\t\\t\\n\\t\\t\\t\\t\\n\\t\\t\\t\\t<div class=\"th94243953 ad-container ad-container--leaderboard order-control__mobile-top\">\\n\\t\\t\\t\\t\\t<div id=\"div-gpt-ad-1436850350386-0\" class=\"inlinead\"></div>\\n<script type=\\'text/javascript\\'>\\n\\t// Make sure that nineto5ads exists, it will load ad once google tag exists\\n\\twindow.nineto5ads = window.nineto5ads|| [];\\n\\n\\tvar apstagSlots = [];\\n\\tvar adUnits = [];\\n\\tif ( \\'undefined\\' !== typeof ninetofiveGetHeaderBidderAdUnits ) {\\n\\t\\tadUnits = ninetofiveGetHeaderBidderAdUnits( \"\\\\/1049447\\\\/9to5mac-728x90-TopMain-R\", [[728,90]], true );\\n\\t}\\n\\tapstagSlots.push( {\\n\\t\\tslotID: \"div-gpt-ad-1436850350386-0\",\\n\\t\\tslotName: \"\\\\/1049447\\\\/9to5mac-728x90-TopMain-R\",\\n\\t\\tsizes: [[728,90]]\\n\\t} );\\n\\n\\tvar slotID = \"\\\\/1049447\\\\/9to5mac-728x90-TopMain-R\";</script>\\t\\t\\t\\t</div>\\n\\n\\t\\t\\t\\t\\t<div id=\"div-gpt-ad-signal\" style=\"width: 0; height: 0;\">\\n\\t\\t<script>\\n\\t\\t\\tgoogletag.cmd.push(function() { googletag.display(\\'div-gpt-ad-signal\\'); });\\n\\t\\t</script>\\n\\t</div>\\n\\t\\t\\t\\t</div><!-- .order-control -->\\n\\t\\t\\t\\n\\t\\t<div id=\"content\">\\n\\t\\t\\n\\n\\t\\t\\t\\t\\t<div class=\"news-feed-header\">\\n\\t\\t\\t\\t<div class=\"elastic-container\">\\n\\t\\t\\t\\t\\t<div class=\"currently-reading\">\\n\\t\\t\\t\\t\\t\\t<p>January 2, 2020</p>\\n\\t\\t\\t\\t\\t</div><!-- .currently-reading -->\\n\\n\\n\\t\\t\\t\\t</div><!-- .elastic-container -->\\n\\t\\t\\t</div><!-- .news-feed-header -->\\n\\t\\t\\t<div id=\"news-placeholder\"></div>\\n\\n\\t\\t<article class=\"post-content\" itemscope itemtype=\"http://schema.org/NewsArticle\">\\n\\t\\t\\t\\t<div class=\"elastic-container\">\\n\\t\\t\\t\\t\\t<h1 class=\"post-title\" itemprop=\"headline\"><a href=\"https://9to5mac.com/2020/01/02/apple-closes-in-on-300-a-share/\" itemprop=\"mainEntityOfPage\">AAPL hits $300, 1/3 of the way to its next trillion, and double 2019 low</a></h1>\\n\\t\\t\\t\\t\\t<div class=\"post-meta\">\\n\\t\\t\\t\\t\\t\\t<p class=\"byline\" itemprop=\"author\" itemscope itemtype=\"https://schema.org/Person\">\\n\\t\\t\\t\\t\\t\\t\\t<a href=\"https://9to5mac.com/author/michaelpotuck/\">\\n\\t\\t\\t\\t\\t\\t\\t\\t<span itemprop=\"name\">Michael Potuck</span>\\n\\t\\t\\t\\t\\t\\t\\t</a>\\n\\t\\t\\t\\t\\t\\t</p>\\n\\t\\t\\t\\t\\t\\t<p class=\"time-twitter\">\\n\\t\\t\\t\\t\\t\\t\\t- Jan. 2nd 2020 11:59 am PT\\n\\t\\t\\t\\t\\t\\t\\t\\t<div class=\"icon-twitter\"></div>\\n\\t\\t\\t\\t\\t\\t\\t\\t<p><a href=\"https://twitter.com/michaelpotuck\" target=\"_blank\" class=\"twitter-handle\">@michaelpotuck</a></p>\\n\\t\\t\\t\\t\\t\\t</p>\\n\\n\\n\\t\\t\\t\\t\\t\\t\\t<div class=\"tags\">\\n\\t\\t\\t\\t\\t\\t\\t\\t<div class=\"post-cats\">\\n\\t\\t\\t\\t\\t\\t\\t\\t</div><!-- .post-cats -->\\n\\t\\t\\t\\t\\t\\t\\t</div><!-- .tags -->\\n\\n\\t\\t\\t\\t\\t\\t<meta itemprop=\"keywords\" content=\"\"/>\\n\\t\\t\\t\\t\\t\\t<meta itemprop=\"datePublished\" content=\"2020-01-02 11:59:19\"/>\\n\\t\\t\\t\\t\\t\\t<meta itemprop=\"dateModified\" content=\"2020-01-02 16:09:52\"/>\\n\\t\\t\\t\\t\\t</div><!-- .post-meta -->\\n\\t\\t\\t\\t</div><!-- .elastic-container -->\\n\\t\\t\\t\\t<div class=\"feat-image-wrapper\">\\n\\t\\t\\t\\t\\t\\t<div itemprop=\"image\" itemscope itemtype=\"https://schema.org/ImageObject\">\\n\\t\\t\\t\\t\\t\\t\\t<meta itemprop=\"url\" content=\"https://9to5mac.com/wp-content/uploads/sites/6/2019/09/apple_store_oxmoor_steeber.jpg?quality=82&#038;strip=all&#038;w=1600\">\\n\\t\\t\\t\\t\\t\\t\\t<meta itemprop=\"height\" content=\"900\">\\n\\t\\t\\t\\t\\t\\t\\t<meta itemprop=\"width\" content=\"1600\">\\n\\t\\t\\t\\t\\t\\t</div>\\n\\t\\t\\t\\t\\t\\t<div class=\"feat-image wide js-single-top-img\">\\n\\t\\t\\t\\t\\t\\t\\t<img src=\"https://9to5mac.com/wp-content/uploads/sites/6/2019/09/apple_store_oxmoor_steeber.jpg?quality=82&#038;strip=all&#038;w=1600\" srcset=\"https://i0.wp.com/9to5mac.com/wp-content/uploads/sites/6/2019/09/apple_store_oxmoor_steeber.jpg?w=320&amp;quality=82&amp;strip=all&amp;ssl=1 320w, https://i0.wp.com/9to5mac.com/wp-content/uploads/sites/6/2019/09/apple_store_oxmoor_steeber.jpg?w=640&amp;quality=82&amp;strip=all&amp;ssl=1 640w, https://i0.wp.com/9to5mac.com/wp-content/uploads/sites/6/2019/09/apple_store_oxmoor_steeber.jpg?w=1024&amp;quality=82&amp;strip=all&amp;ssl=1 1024w, https://i0.wp.com/9to5mac.com/wp-content/uploads/sites/6/2019/09/apple_store_oxmoor_steeber.jpg?w=1500&amp;quality=82&amp;strip=all&amp;ssl=1 1500w, https://i0.wp.com/9to5mac.com/wp-content/uploads/sites/6/2019/09/apple_store_oxmoor_steeber.jpg?w=2000&amp;quality=82&amp;strip=all&amp;ssl=1 2000w, https://i0.wp.com/9to5mac.com/wp-content/uploads/sites/6/2019/09/apple_store_oxmoor_steeber.jpg?w=2500&amp;quality=82&amp;strip=all&amp;ssl=1 2500w\" width=\"1600\" height=\"900\" loading=\"lazy\">\\n\\t\\t\\t\\t\\t\\t</div><!-- .feat-image -->\\n\\t\\t\\t\\t\\t<div class=\"post-social-mobile\">\\n\\t\\t\\t\\t\\t\\t<a href=\"https://9to5mac.com/2020/01/02/apple-closes-in-on-300-a-share/#comments\" class=\"comments\" itemprop=\"discussionUrl\"><span class=\"dsq-postid\" data-dsqidentifier=\"626595 https://9to5mac.com/?p=626595\">0</span></a>\\n\\t\\t\\t\\t\\t\\t<div class=\"sharedaddy sd-sharing-enabled\"><div class=\"robots-nocontent sd-block sd-social sd-social-text sd-sharing\"><div class=\"sd-content\"><ul><li class=\"share-facebook\"><a rel=\"nofollow noopener noreferrer\" data-shared=\"sharing-facebook-626595\" class=\"share-facebook sd-button no-icon\" href=\"https://9to5mac.com/2020/01/02/apple-closes-in-on-300-a-share/?share=facebook\" target=\"_blank\" title=\"Click to share on Facebook\"><span>Facebook</span></a></li><li class=\"share-twitter\"><a rel=\"nofollow noopener noreferrer\" data-shared=\"sharing-twitter-626595\" class=\"share-twitter sd-button no-icon\" href=\"https://9to5mac.com/2020/01/02/apple-closes-in-on-300-a-share/?share=twitter\" target=\"_blank\" title=\"Click to share on Twitter\"><span>Twitter</span></a></li><li class=\"share-pinterest\"><a rel=\"nofollow noopener noreferrer\" data-shared=\"sharing-pinterest-626595\" class=\"share-pinterest sd-button no-icon\" href=\"https://9to5mac.com/2020/01/02/apple-closes-in-on-300-a-share/?share=pinterest\" target=\"_blank\" title=\"Click to share on Pinterest\"><span>Pinterest</span></a></li><li class=\"share-linkedin\"><a rel=\"nofollow noopener noreferrer\" data-shared=\"sharing-linkedin-626595\" class=\"share-linkedin sd-button no-icon\" href=\"https://9to5mac.com/2020/01/02/apple-closes-in-on-300-a-share/?share=linkedin\" target=\"_blank\" title=\"Click to share on LinkedIn\"><span>LinkedIn</span></a></li><li class=\"share-reddit\"><a rel=\"nofollow noopener noreferrer\" data-shared=\"\" class=\"share-reddit sd-button no-icon\" href=\"https://9to5mac.com/2020/01/02/apple-closes-in-on-300-a-share/?share=reddit\" target=\"_blank\" title=\"Click to share on Reddit\"><span>Reddit</span></a></li><li class=\"share-end\"></li></ul></div></div></div>\\n\\t\\t\\t\\t\\t</div><!-- .post-social-mobile -->\\n\\t\\t\\t\\t</div><!-- .feat-image-wrapper -->\\n\\t\\t\\t\\t<div class=\"elastic-container\">\\n\\n\\t\\t\\t\\t\\t<div class=\"post-body\" itemprop=\"articleBody\">\\n\\t\\t\\t\\t\\t\\t<p>With the US stock markets closed on New Year&#8217;s Day, today, January 2nd was the first day of trading for 2020. AAPL has <a href=\"https://9to5mac.com/2019/12/27/aapl-2019-performance/\">continued its steady growth</a> and crossed the $300 mark, reaching a new all-time high. That&#8217;s over 100% growth from the January 2019 low of $142 after Apple issued a <a href=\"https://9to5mac.com/2019/01/02/apple-revises-q1-2019-earnings/\">rare guidance revision for its earnings</a>. With that in the rearview mirror, the current share price gives Apple a market capitalization of $1.33 trillion.</p>\\n<p><span id=\"more-626595\"></span><ins class=\"adsbygoogle author_ad\"\\n\\t\\t\\tstyle=\"display:block;\"\\n\\t\\t\\tdata-ad-host=\"ca-host-pub-5506057612223327\"\\n\\t\\t\\tdata-ad-client=\"ca-pub-4606108652482128\"\\n\\t\\t\\tdata-ad-format=\"auto\"></ins>\\n\\t\\t<script>\\n\\t\\t\\t(adsbygoogle = window.adsbygoogle || []).push({});\\n\\t\\t</script></p>\\n<p>AAPL hit a <a href=\"https://9to5mac.com/2018/12/21/aapl-52-week-low/\">52-week low on December 21st, 2018 of $149</a> as rumors swirled about the company cutting <a href=\"https://amzn.to/2LS5Io4\">iPhone</a> production amid slowing sales. Then just after the new year, <a href=\"https://9to5mac.com/2019/01/02/apple-revises-q1-2019-earnings/\">Apple issued its guidance revision due to struggles in China</a>\\xa0on January 2nd after the markets closed.\\xa0AAPL shares fell the next day to the 2019 low of $142.19.</p>\\n<p>What a difference a year makes.</p>\\n<p>The first day of 2020 trading brought more growth for Apple stock as shares increased 2.28% putting it at $300.35 at the end of the day. According to Google, that price makes Apple&#8217;s market capitalization 1.33 trillion, putting the company 1/3 of the way to its next trillion dollars.</p>\\n<p>The share price crossed the $300 mark faster than even Apple bulls have expected.</p>\\n<p><img data-attachment-id=\"626627\" data-permalink=\"https://9to5mac.com/2020/01/02/apple-closes-in-on-300-a-share/screen-shot-2020-01-02-at-16-00-34-pm/\" data-orig-file=\"https://9to5mac.com/wp-content/uploads/sites/6/2020/01/Screen-Shot-2020-01-02-at-16.00.34-PM.png\" data-orig-size=\"1326,1086\" data-comments-opened=\"1\" data-image-meta=\"{&quot;aperture&quot;:&quot;0&quot;,&quot;credit&quot;:&quot;&quot;,&quot;camera&quot;:&quot;&quot;,&quot;caption&quot;:&quot;&quot;,&quot;created_timestamp&quot;:&quot;0&quot;,&quot;copyright&quot;:&quot;&quot;,&quot;focal_length&quot;:&quot;0&quot;,&quot;iso&quot;:&quot;0&quot;,&quot;shutter_speed&quot;:&quot;0&quot;,&quot;title&quot;:&quot;&quot;,&quot;orientation&quot;:&quot;0&quot;}\" data-image-title=\"Screen Shot 2020-01-02 at 16.00.34 PM\" data-image-description=\"\" data-image-caption=\"\" data-medium-file=\"https://9to5mac.com/wp-content/uploads/sites/6/2020/01/Screen-Shot-2020-01-02-at-16.00.34-PM.png?w=655\" data-large-file=\"https://9to5mac.com/wp-content/uploads/sites/6/2020/01/Screen-Shot-2020-01-02-at-16.00.34-PM.png?w=1000\" title=\"AAPL hits $300, 1/3 of the way to its next trillion, and double 2019 low\" class=\"aligncenter size-full wp-image-626627\" src=\"https://9to5mac.com/wp-content/uploads/sites/6/2020/01/Screen-Shot-2020-01-02-at-16.00.34-PM.png\" alt=\"AAPL 1/3 way to next trillion double 2019 low\" width=\"1000\" height=\"819\" srcset=\"https://9to5mac.com/wp-content/uploads/sites/6/2020/01/Screen-Shot-2020-01-02-at-16.00.34-PM.png 1326w, https://9to5mac.com/wp-content/uploads/sites/6/2020/01/Screen-Shot-2020-01-02-at-16.00.34-PM.png?resize=155,127 155w, https://9to5mac.com/wp-content/uploads/sites/6/2020/01/Screen-Shot-2020-01-02-at-16.00.34-PM.png?resize=655,536 655w, https://9to5mac.com/wp-content/uploads/sites/6/2020/01/Screen-Shot-2020-01-02-at-16.00.34-PM.png?resize=768,629 768w, https://9to5mac.com/wp-content/uploads/sites/6/2020/01/Screen-Shot-2020-01-02-at-16.00.34-PM.png?resize=1024,839 1024w, https://9to5mac.com/wp-content/uploads/sites/6/2020/01/Screen-Shot-2020-01-02-at-16.00.34-PM.png?resize=350,287 350w, https://9to5mac.com/wp-content/uploads/sites/6/2020/01/Screen-Shot-2020-01-02-at-16.00.34-PM.png?resize=1221,1000 1221w, https://9to5mac.com/wp-content/uploads/sites/6/2020/01/Screen-Shot-2020-01-02-at-16.00.34-PM.png?resize=150,123 150w\" sizes=\"(max-width: 1000px) 100vw, 1000px\" /></p>\\n<p>We heard Citi analyst Jim Suva share his prediction earlier this week that <a href=\"https://9to5mac.com/2019/12/30/apple-surprise-investors-strong-holiday-apple-watch-airpods-results/\">Apple&#8217;s AirPods and Apple Watch sales are going to surprise analysts</a> and that AAPL would continue to move toward his target price of $300.</p>\\n<p>We also recently learned that AAPL&#8217;s performance in 2019 (the <a href=\"https://9to5mac.com/2019/12/27/aapl-2019-performance/\">company&#8217;s best since 2009</a>) accounted for a <a href=\"https://9to5mac.com/2019/12/31/aapl-2019-performance-market/\">whopping 8.2% of the entire US market&#8217;s gains</a>. Paired with Microsofts strong year, the two companies made up <a href=\"https://9to5mac.com/2019/12/31/aapl-2019-performance-market/\">15% of US stock growth</a>.</p>\\n<div class=\"ad-disclaimer-container\"><p class=\"disclaimer-affiliate\"><em>FTC: We use income earning auto affiliate links.</em> <a href=\"https://9to5mac.com/about/#affiliate\">More.</a></p><a href=\"http://bit.ly/2PXrtU6\" target=\"_blank\" rel=\"noopener\"><img class=\"alignnone wp-image-542862 \" title=\"Nanoleaf HomeKit lighting\" src=\"https://9to5toys.com/wp-content/uploads/sites/5/2029/12/BoxingWeek_750x150-01.jpg?quality=82&amp;strip=all\" alt=\"Nanoleaf HomeKit lighting\" width=\"750\" height=\"150\" /></a></div><div id=\"after_disclaimer_placement\"></div><hr />\\r\\n<p style=\"text-align: center\"><a href=\"https://www.youtube.com/c/9to5mac?sub_confirmation=1\" target=\"_blank\" rel=\"noopener\">Check out 9to5Mac on YouTube for more Apple news:</a></p><!-- youtube embed --><div class=\"fluid-width-video-wrapper\"><iframe title=\"Recent Videos\" src=\"https://www.youtube.com/embed/czSdRGTzDv8?playlist=GdxnsCowqUw,5Oxu9XTDAW0,DtIVQ3Tl8EA,QcoaXqC-890,iRYPfStRfKs,_eXCA-IuHWg,EU7UdW8_Gls,6HntgckmDrw,a4ZDrt50xLE\" frameborder=\"0\" allow=\"accelerometer; autoplay; encrypted-media; gyroscope; picture-in-picture\" allowfullscreen width=\"1000\" height=\"563\"></iframe></div>\\n\\t\\t\\t\\t\\t</div><!-- .post-body -->\\n\\n\\n\\t\\t\\t\\t\\t\\t<div class=\"visitor-promo\" data-nosnippet=\"true\">You’re reading 9to5Mac — experts who break news about Apple and its surrounding ecosystem, day after day. Be sure to check out <a href=\"http://9to5mac.com/\">our homepage</a> for all the latest news, and follow 9to5Mac on <a href=\"http://twitter.com/9to5mac\">Twitter</a>, <a href=\"http://facebook.com/9to5mac\">Facebook</a>, and <a href=\"https://www.linkedin.com/company/9to5mac.com/\">LinkedIn</a> to stay in the loop. Don’t know where to start? Check out our <a href=\"https://9to5mac.com/feature/exclusive/\">exclusive stories</a>, <a href=\"https://9to5mac.com/guides/review/\">reviews</a>, <a href=\"https://9to5mac.com/guides/how-to/\">how-tos</a>, and <a href=\"https://www.youtube.com/9to5mac\">subscribe to our YouTube channel</a></div>\\n\\t\\t\\t\\t</div><!-- .elastic-container -->\\n\\n\\t\\t\\t\\t<div itemprop=\"publisher\" itemscope itemtype=\"https://schema.org/Organization\">\\n\\t\\t\\t\\t\\t<div itemprop=\"logo\" itemscope itemtype=\"https://schema.org/ImageObject\">\\n\\t\\t\\t\\t\\t\\t<meta itemprop=\"url\" content=\"https://9to5mac.com/wp-content/uploads/sites/6/2018/10/cropped-cropped-9to5-mac-logo-min1.png\">\\n\\t\\t\\t\\t\\t\\t<meta itemprop=\"width\" content=\"350\">\\n\\t\\t\\t\\t\\t\\t<meta itemprop=\"height\" content=\"60\">\\n\\t\\t\\t\\t\\t</div>\\n\\t\\t\\t\\t\\t<meta itemprop=\"name\" content=\"9to5Mac\">\\n\\t\\t\\t\\t</div>\\n\\n\\t\\t\\t\\t<div class=\"elastic-container\">\\n\\t\\t\\t\\t\\t<div class=\"related-guides-container\">\\n\\t\\t\\t\\t\\t\\t<h1>Guides</h1>\\n\\t\\t\\t\\t\\t\\t<div class=\"related-guides-list\">\\n\\t\\t\\t\\t\\t\\t\\t<div class=\"related-guides-item\">\\n\\t\\t\\t\\t\\t\\t\\t\\t<a href=\"https://9to5mac.com/guides/aapl/\">\\n\\t\\t\\t\\t\\t\\t\\t\\t<div class=\"related-guides-item-image\">\\n\\t\\t\\t\\t\\t\\t\\t\\t\\t<img src=\"https://9to5mac.com/wp-content/uploads/sites/6/2015/01/aapl-cash-reserves.jpg?quality=82&#038;strip=all&#038;w=290&#038;h=145&#038;crop=1\" title=\"AAPL Company\" alt=\"AAPL Company\" loading=\"lazy\" />\\n\\t\\t\\t\\t\\t\\t\\t\\t</div>\\n\\t\\t\\t\\t\\t\\t\\t\\t<h3>AAPL Company</h3>\\n\\t\\t\\t\\t\\t\\t\\t\\t<p>Breaking news from Cupertino. We’ll give you the latest from Apple headquarters and decipher fact from fiction from the rumor mill.</p>\\n\\t\\t\\t\\t\\t\\t\\t\\t</a>\\n\\t\\t\\t\\t\\t\\t\\t</div>\\n\\t\\t\\t\\t\\t\\t</div>\\n\\t\\t\\t\\t\\t\\t\\t<div class=\"post-cats\"></div>\\n\\t\\t\\t\\t\\t\\t\\t<!-- .post-cats -->\\n\\t\\t\\t\\t\\t</div>\\n\\t\\t\\t\\t</div>\\n\\n\\t\\t\\t<div class=\"elastic-container\">\\n\\t\\t\\t\\t<div class=\"author-bio-container\">\\n\\t\\t\\t\\t\\t<h2 class=\"bio-title\">About the Author</h2>\\n\\t\\t\\t\\t\\t<div class=\"author-bio\" itemprop=\"author\" itemscope itemtype=\"https://schema.org/Person\">\\n\\t\\t\\t\\t\\t\\t\\t<div class=\"author-bio-details\">\\n\\t\\t\\t\\t\\t\\t\\t\\t<a href=\"https://9to5mac.com/author/michaelpotuck/\">\\n\\t\\t\\t\\t\\t\\t\\t\\t\\t<img src=\"https://secure.gravatar.com/avatar/617382fa123c4948681a44755a0146ca?s=128&#038;d=mm&#038;r=r\" class=\"author-gravatar\" loading=\"lazy\">\\n\\t\\t\\t\\t\\t\\t\\t\\t</a>\\n\\t\\t\\t\\t\\t\\t\\t\\t<h3>\\n\\t\\t\\t\\t\\t\\t\\t\\t\\t<a href=\"https://9to5mac.com/author/michaelpotuck/\">\\n\\t\\t\\t\\t\\t\\t\\t\\t\\t\\t<span itemprop=\"name\">Michael Potuck</span>\\n\\t\\t\\t\\t\\t\\t\\t\\t\\t</a>\\n\\t\\t\\t\\t\\t\\t\\t\\t</h3>\\n\\n\\t\\t\\t\\t\\t\\t\\t\\t\\t<p class=\"twitter\">\\n\\t\\t\\t\\t\\t\\t\\t\\t\\t\\t<a href=\"https://twitter.com/michaelpotuck\" target=\"_blank\" class=\"twitter-handle\"><span class=\"icon-twitter\"></span>@michaelpotuck</a>\\n\\t\\t\\t\\t\\t\\t\\t\\t\\t</p>\\n\\n\\t\\t\\t\\t\\t\\t\\t\\t<div class=\"author-excerpt\">\\n\\t\\t\\t\\t\\t\\t\\t\\t\\t<p>Michael is an editor for 9to5Mac. Since joining in 2016 he has written more than 3,000 articles including breaking news, reviews, and detailed comparisons and tutorials.</p>\\n\\n\\t\\t\\t\\t\\t\\t\\t\\t</div>\\n\\t\\t\\t\\t\\t\\t</div>\\n\\t\\t\\t\\t\\t</div>\\n\\t\\t\\t\\t\\t\\t<div class=\"author-gear\">\\n\\t\\t\\t\\t\\t\\t\\t<h3><span>Michael Potuck\\'s favorite gear</span></h3>\\n\\t\\t\\t\\t\\t\\t\\t<div class=\"author-gear-list\">\\n\\t\\t\\t\\t\\t\\t\\t\\t<div class=\"author-gear-item\">\\n\\t\\t\\t\\t\\t\\t\\t\\t\\t<a class=\"author-gear-item-link\" href=\"https://amzn.to/32eKpRl\" target=\"_blank\">\\n\\t\\t\\t\\t\\t\\t\\t\\t\\t\\t<div class=\"author-gear-item-image\">\\n\\t\\t\\t\\t\\t\\t\\t\\t\\t\\t\\t<img src=\"https://i0.wp.com/9to5mac.com/wp-content/uploads/sites/6/2018/01/satechi-type-c-multiport-travel-charger.jpg?resize=300%2C175&#038;quality=82&#038;strip=all&#038;ssl=1\" title=\"Satechi USB-C Charger (4 ports)\" alt=\"Satechi USB-C Charger (4 ports)\" width=\"290\" height=\"145\" loading=\"lazy\"/>\\n\\t\\t\\t\\t\\t\\t\\t\\t\\t\\t</div>\\n\\t\\t\\t\\t\\t\\t\\t\\t\\t\\t<h4 class=\"author-gear-item-title\">Satechi USB-C Charger (4 ports)</h4>\\n\\t\\t\\t\\t\\t\\t\\t\\t\\t\\t\\t<div class=\"author-gear-item-description\">\\n\\t\\t\\t\\t\\t\\t\\t\\t\\t\\t\\t\\tReally useful USB-C + USB-A charger for home/work and travel.\\n\\t\\t\\t\\t\\t\\t\\t\\t\\t\\t\\t</div>\\n\\t\\t\\t\\t\\t\\t\\t\\t\\t</a>\\n\\t\\t\\t\\t\\t\\t\\t\\t</div>\\n\\t\\t\\t\\t\\t\\t\\t\\t<div class=\"author-gear-item\">\\n\\t\\t\\t\\t\\t\\t\\t\\t\\t<a class=\"author-gear-item-link\" href=\"https://amzn.to/2QltsUU\" target=\"_blank\">\\n\\t\\t\\t\\t\\t\\t\\t\\t\\t\\t<div class=\"author-gear-item-image\">\\n\\t\\t\\t\\t\\t\\t\\t\\t\\t\\t\\t<img src=\"https://i0.wp.com/9to5mac.com/wp-content/uploads/sites/6/2020/11/hands-on-iphone12-leather-wallet-magsafe.jpeg?resize=300%2C175&#038;quality=82&#038;strip=all&#038;ssl=1\" title=\"Apple Leather MagSafe Wallet\" alt=\"Apple Leather MagSafe Wallet\" width=\"290\" height=\"145\" loading=\"lazy\"/>\\n\\t\\t\\t\\t\\t\\t\\t\\t\\t\\t</div>\\n\\t\\t\\t\\t\\t\\t\\t\\t\\t\\t<h4 class=\"author-gear-item-title\">Apple Leather MagSafe Wallet</h4>\\n\\t\\t\\t\\t\\t\\t\\t\\t\\t\\t\\t<div class=\"author-gear-item-description\">\\n\\t\\t\\t\\t\\t\\t\\t\\t\\t\\t\\t\\tMy slim wallet of choice for iPhone 12\\n\\t\\t\\t\\t\\t\\t\\t\\t\\t\\t\\t</div>\\n\\t\\t\\t\\t\\t\\t\\t\\t\\t</a>\\n\\t\\t\\t\\t\\t\\t\\t\\t</div>\\n\\t\\t\\t\\t\\t\\t\\t</div>\\n\\t\\t\\t\\t\\t\\t</div>\\n\\t\\t\\t\\t</div>\\n\\t\\t\\t</div>\\n\\n\\n\\n\\n\\t\\t\\t\\t<div class=\"ad-container ad-container--river\"><div id=\"div-gpt-ad-1437016474156-0-626595\" class=\"inlinead\"></div></div>\\n\\n\\t\\t</article><!-- .post-content -->\\n\\n\\t<aside class=\"trending-wrapper\"><div class=\"trending-items trending-items--single\">\\n\\t\\t\\t\\t<a href=\"https://9to5mac.com/2022/02/24/2022-macbook-air-features-roundup/\" rel=\"bookmark\">\\n\\t\\t\\t\\t\\t<div class=\"trending-grid-item\">\\n\\t\\t\\t\\t\\t\\t<div class=\"img-wrap\" style=\"background-image: url(https://9to5mac.com/wp-content/uploads/sites/6/2021/11/macbook-air-concept-parker.jpg?quality=82&#038;strip=all&#038;w=1600);\"></div>\\n\\t\\t\\t\\t\\t\\t<p class=\"trending-excerpt\">What we know about the 2022 MacBook Air</p>\\n\\t\\t\\t\\t\\t</div>\\n\\t\\t\\t\\t</a>\\n\\t\\t\\t\\n\\t\\t\\t\\t<a href=\"https://9to5mac.com/2022/02/24/face-id-repairs-iphone/\" rel=\"bookmark\">\\n\\t\\t\\t\\t\\t<div class=\"trending-grid-item\">\\n\\t\\t\\t\\t\\t\\t<div class=\"img-wrap\" style=\"background-image: url(https://9to5mac.com/wp-content/uploads/sites/6/2020/10/How-to-disable-Face-ID-temporarily-iPhone-12.jpg?quality=82&#038;strip=all&#038;w=1600);\"></div>\\n\\t\\t\\t\\t\\t\\t<p class=\"trending-excerpt\">Face ID repairs are about to get easier</p>\\n\\t\\t\\t\\t\\t</div>\\n\\t\\t\\t\\t</a>\\n\\t\\t\\t\\n\\t\\t\\t\\t<a href=\"https://9to5mac.com/2022/02/25/apple-arcade-new-games/\" rel=\"bookmark\">\\n\\t\\t\\t\\t\\t<div class=\"trending-grid-item\">\\n\\t\\t\\t\\t\\t\\t<div class=\"img-wrap\" style=\"background-image: url(https://9to5mac.com/wp-content/uploads/sites/6/2022/02/new-apple-arcade-game-2-25.jpg?quality=82&#038;strip=all&#038;w=1600);\"></div>\\n\\t\\t\\t\\t\\t\\t<p class=\"trending-excerpt\">Check out the latest Apple Arcade games this weekend</p>\\n\\t\\t\\t\\t\\t</div>\\n\\t\\t\\t\\t</a>\\n\\t\\t\\t\\n\\t\\t\\t\\t<a href=\"https://9to5mac.com/2022/02/23/ios-15-4-beta-4-changes-features-video/\" rel=\"bookmark\">\\n\\t\\t\\t\\t\\t<div class=\"trending-grid-item\">\\n\\t\\t\\t\\t\\t\\t<div class=\"img-wrap\" style=\"background-image: url(https://9to5mac.com/wp-content/uploads/sites/6/2022/02/iOS-15.4-beta-4-changes-and-features-9to5mac.jpg?quality=82&#038;strip=all&#038;w=1600);\"></div>\\n\\t\\t\\t\\t\\t\\t<p class=\"trending-excerpt\">Video: iOS 15.4 beta 4</p>\\n\\t\\t\\t\\t\\t</div>\\n\\t\\t\\t\\t</a>\\n\\t\\t\\t</div></aside>\\n\\t\\t\\t\\t\\t<div id=\"comments\" class=\"comments-area post-body\">\\n\\t\\t\\t\\t<div class=\"elastic-container\">\\n\\t\\t\\t\\t\\t\\n<div id=\"disqus_thread\"></div>\\n\\t\\t\\t\\t</div><!-- .elastic-container -->\\n\\t\\t\\t</div><!-- #comments.comments-area -->\\n\\t\\t\\t</div><!-- #content -->\\n\\n\\n\\t<div style=\"text-align:center\">\\n\\t\\t<a href=\"https://wpvip.com/?utm_source=vip_powered_wpcom&#038;utm_medium=web&#038;utm_campaign=VIP%20Footer%20Credit&#038;utm_term=9to5mac.com\" rel=\"generator nofollow\" class=\"powered-by-wpcom\"><img src=\"https://9to5mac.com/wp-content/mu-plugins/vip-helpers/images/vip-powered-light-small.png\" width=\"187\" height=\"26\" alt=\"Powered by WordPress VIP\" /></a>\\t</div>\\n\\n\\t\\t<script type=\"text/javascript\">\\n\\t\\t//<![CDATA[\\n\\t\\tvar ninetofiveInfiniteScroll = {\"settings\":{\"id\":\"content\",\"ajaxurl\":\"https:\\\\/\\\\/9to5mac.com\\\\/?infinity=scrolling\",\"currentday\":\"02.01.20\",\"order\":\"DESC\",\"offset\":0,\"history\":{\"host\":\"9to5mac.com\",\"path\":\"\\\\/2020\\\\/01\\\\/02\\\\/apple-closes-in-on-300-a-share\\\\/page\\\\/%d\\\\/\",\"use_trailing_slashes\":true,\"parameters\":\"\"},\"query_args\":{\"page\":0,\"year\":2020,\"monthnum\":1,\"day\":2,\"name\":\"apple-closes-in-on-300-a-share\",\"error\":\"\",\"m\":\"\",\"p\":0,\"post_parent\":\"\",\"subpost\":\"\",\"subpost_id\":\"\",\"attachment\":\"\",\"attachment_id\":0,\"pagename\":\"\",\"page_id\":0,\"second\":\"\",\"minute\":\"\",\"hour\":\"\",\"w\":0,\"category_name\":\"\",\"tag\":\"\",\"cat\":\"\",\"tag_id\":\"\",\"author\":\"\",\"author_name\":\"\",\"feed\":\"\",\"tb\":\"\",\"paged\":0,\"meta_key\":\"\",\"meta_value\":\"\",\"preview\":\"\",\"s\":\"\",\"sentence\":\"\",\"title\":\"\",\"fields\":\"\",\"menu_order\":\"\",\"embed\":\"\",\"category__in\":[],\"category__not_in\":[],\"category__and\":[],\"post__in\":[],\"post__not_in\":[],\"post_name__in\":[],\"tag__in\":[],\"tag__not_in\":[],\"tag__and\":[],\"tag_slug__in\":[],\"tag_slug__and\":[],\"post_parent__in\":[],\"post_parent__not_in\":[],\"author__in\":[],\"author__not_in\":[],\"ignore_sticky_posts\":false,\"suppress_filters\":false,\"cache_results\":false,\"update_post_term_cache\":true,\"lazy_load_term_meta\":true,\"update_post_meta_cache\":true,\"post_type\":\"\",\"posts_per_page\":24,\"nopaging\":false,\"comments_per_page\":\"75\",\"no_found_rows\":false,\"order\":\"DESC\"},\"last_post_date\":\"2020-01-02 11:59:19\",\"dfp_id\":\"1049447\",\"post_id\":626595,\"stats\":\"blog=146091842&host=9to5mac.com&v=ext&j=1:10.6&x_pagetype=infinite-jetpack\",\"google_analytics\":false}};\\n\\t\\t//]]>\\n\\t</script>\\n\\t\\t<script async src=\"https://cdn.9to5terminal.com/push.js\"></script>\\n\\t\\t<script id=\\'loop-template\\' type=\\'x-tmpl-mustache\\'>{{# infinite }}\\n\\t<div class=\"infinite-wrap infinite-view-{{ page }}\" id=\"infinite-view-{{ page }}\" data-page-num=\"{{ page }}\">\\n{{/ infinite }}\\n{{# posts }}\\n\\t{{# new_day }}\\n\\t\\t\\t<div class=\"news-feed-header\">\\n\\t\\t\\t\\t<div class=\"elastic-container\">\\n\\t\\t\\t\\t\\t<div class=\"currently-reading\">\\n\\t\\t\\t\\t\\t\\t<p>{{{ header_date }}}</p>\\n\\t\\t\\t\\t\\t</div><!-- .currently-reading -->\\n\\t\\t\\t\\t\\t{{# submission_link }}\\n\\t\\t\\t\\t\\t\\t<div class=\"community-post\">\\n\\t\\t\\t\\t\\t\\t\\t<a href=\"{{ submission_link }}\">Post to the community</a>\\n\\t\\t\\t\\t\\t\\t</div>\\n\\t\\t\\t\\t\\t{{/ submission_link }}\\n\\n\\t\\t\\t\\t\\t{{# news-feed-alt-link }}\\n\\t\\t\\t\\t\\t\\t<div class=\"alt-link\">\\n\\t\\t\\t\\t\\t\\t\\t<div class=\"current\">\\n\\t\\t\\t\\t\\t\\t\\t\\t<a href=\"{{ news-feed-alt-link.url }}\">{{ news-feed-alt-link.text }}</a>\\n\\t\\t\\t\\t\\t\\t\\t</div>\\n\\t\\t\\t\\t\\t\\t</div>\\n\\t\\t\\t\\t\\t{{/ news-feed-alt-link }}\\n\\n\\t\\t\\t\\t</div><!-- .elastic-container -->\\n\\t\\t\\t</div><!-- .news-feed-header -->\\n\\t\\t\\t<div id=\"news-placeholder\"></div>\\n\\t{{/ new_day }}\\n\\n\\t\\t<article class=\"post-content{{# expired }} expired{{/expired}}{{# distributed }} distributed{{/distributed}}{{# post_format }} aside{{/post_format}}\" itemscope itemtype=\"http://schema.org/NewsArticle\">\\n\\t\\t\\t{{^ post_format }}\\n\\t\\t\\t\\t<div class=\"elastic-container\">\\n\\t\\t\\t\\t\\t<h1 class=\"post-title\" itemprop=\"headline\"><a href=\"{{ permalink }}\" itemprop=\"mainEntityOfPage\">{{{ post_title }}}</a></h1>\\n\\t\\t\\t\\t\\t<div class=\"post-meta\">\\n\\t\\t\\t\\t\\t\\t<p class=\"byline\" itemprop=\"author\" itemscope itemtype=\"https://schema.org/Person\">\\n\\t\\t\\t\\t\\t\\t\\t<a href=\"{{ author_url }}\">\\n\\t\\t\\t\\t\\t\\t\\t\\t<span itemprop=\"name\">{{ author }}</span>\\n\\t\\t\\t\\t\\t\\t\\t</a>\\n\\t\\t\\t\\t\\t\\t</p>\\n\\t\\t\\t\\t\\t\\t<p class=\"time-twitter\">\\n\\t\\t\\t\\t\\t\\t\\t- {{ post_date_fmt }}\\n\\t\\t\\t\\t\\t\\t\\t{{# show_twitter }}\\n\\t\\t\\t\\t\\t\\t\\t\\t<div class=\"icon-twitter\"></div>\\n\\t\\t\\t\\t\\t\\t\\t\\t<p><a href=\"https://twitter.com/{{ twitter_url }}\" target=\"_blank\" class=\"twitter-handle\">{{ twitter_name }}</a></p>\\n\\t\\t\\t\\t\\t\\t\\t{{/ show_twitter }}\\n\\t\\t\\t\\t\\t\\t</p>\\n\\n\\t\\t\\t\\t\\t\\t{{^ has_author_bio }}\\n\\t\\t\\t\\t\\t\\t\\t<div class=\"tags\">\\n\\t\\t\\t\\t\\t\\t\\t\\t<div class=\"post-cats\">\\n\\t\\t\\t\\t\\t\\t\\t\\t\\t{{# featured_tags }}\\n\\t\\t\\t\\t\\t\\t\\t\\t\\t\\t<a href=\"{{tag_link}}\" title=\"View all posts in {{tag_name}}\" class=\"featured_tag\">{{tag_name}}</a>\\n\\t\\t\\t\\t\\t\\t\\t\\t\\t{{/ featured_tags }}\\n\\n\\t\\t\\t\\t\\t\\t\\t\\t\\t{{# categories }}\\n\\t\\t\\t\\t\\t\\t\\t\\t\\t\\t<a href=\"{{ cat_link }}\" title=\"View all posts in {{ cat_name }}\">{{ cat_name }}</a>\\n\\t\\t\\t\\t\\t\\t\\t\\t\\t{{/ categories }}\\n\\t\\t\\t\\t\\t\\t\\t\\t</div><!-- .post-cats -->\\n\\t\\t\\t\\t\\t\\t\\t</div><!-- .tags -->\\n\\t\\t\\t\\t\\t\\t{{/ has_author_bio }}\\n\\n\\t\\t\\t\\t\\t\\t{{# has_author_bio }}\\n\\t\\t\\t\\t\\t\\t\\t<div class=\"tags\">\\n\\t\\t\\t\\t\\t\\t\\t\\t<div class=\"post-cats\">\\n\\t\\t\\t\\t\\t\\t\\t\\t\\t{{# featured_tags }}\\n\\t\\t\\t\\t\\t\\t\\t\\t\\t\\t<a href=\"{{tag_link}}\" title=\"View all posts in {{tag_name}}\" class=\"featured_tag\">{{tag_name}}</a>\\n\\t\\t\\t\\t\\t\\t\\t\\t\\t{{/ featured_tags }}\\n\\t\\t\\t\\t\\t\\t\\t\\t</div><!-- .post-cats -->\\n\\t\\t\\t\\t\\t\\t\\t</div><!-- .tags -->\\n\\t\\t\\t\\t\\t\\t{{/ has_author_bio }}\\n\\n\\t\\t\\t\\t\\t\\t<meta itemprop=\"keywords\" content=\"{{# categories }}{{ cat_name }},{{/ categories }}\"/>\\n\\t\\t\\t\\t\\t\\t<meta itemprop=\"datePublished\" content=\"{{post_date}}\"/>\\n\\t\\t\\t\\t\\t\\t<meta itemprop=\"dateModified\" content=\"{{post_modified}}\"/>\\n\\t\\t\\t\\t\\t</div><!-- .post-meta -->\\n\\t\\t\\t\\t</div><!-- .elastic-container -->\\n\\t\\t\\t\\t<div class=\"feat-image-wrapper\">\\n\\t\\t\\t\\t\\t{{# featured_image }}\\n\\t\\t\\t\\t\\t\\t<div itemprop=\"image\" itemscope itemtype=\"https://schema.org/ImageObject\">\\n\\t\\t\\t\\t\\t\\t\\t<meta itemprop=\"url\" content=\"{{ featured_image }}\">\\n\\t\\t\\t\\t\\t\\t\\t<meta itemprop=\"height\" content=\"{{ featured_image_height }}\">\\n\\t\\t\\t\\t\\t\\t\\t<meta itemprop=\"width\" content=\"{{ featured_image_width }}\">\\n\\t\\t\\t\\t\\t\\t</div>\\n\\t\\t\\t\\t\\t\\t{{# product_link }}\\n\\t\\t\\t\\t\\t\\t\\t{{# product_price }}\\n\\t\\t\\t\\t\\t\\t\\t\\t<div class=\"product_cta_image\">\\n\\t\\t\\t\\t\\t\\t\\t\\t\\t<a href=\"{{ product_link }}\" class=\"product-button{{# savings_amount }} has-savings{{/ savings_amount }}\" target=\"_blank\">\\n\\t\\t\\t\\t\\t\\t\\t\\t\\t\\t{{# savings_amount }}\\n\\t\\t\\t\\t\\t\\t\\t\\t\\t\\t\\t<span class=\"product-savings-amount\">Get this deal<br/>{{ savings_amount }}</span>\\n\\t\\t\\t\\t\\t\\t\\t\\t\\t\\t{{/ savings_amount }}\\n\\t\\t\\t\\t\\t\\t\\t\\t\\t\\t<span class=\"product-price\">{{ product_price }}</span>\\n\\t\\t\\t\\t\\t\\t\\t\\t\\t</a>\\n\\t\\t\\t\\t\\t\\t\\t\\t</div>\\n\\t\\t\\t\\t\\t\\t\\t{{/ product_price }}\\n\\t\\t\\t\\t\\t\\t{{/ product_link }}\\n\\t\\t\\t\\t\\t\\t<div class=\"feat-image{{ image_class }}\">\\n\\t\\t\\t\\t\\t\\t\\t{{# linkfeaturedimage }}\\n\\t\\t\\t\\t\\t\\t\\t<a href=\"{{ permalink }}\">\\n\\t\\t\\t\\t\\t\\t\\t\\t<img src=\"{{{ featured_image }}}\" srcset=\"{{{ srcset }}}\" width=\"{{ featured_image_width }}\" height=\"{{ featured_image_height }}\" loading=\"lazy\">\\n\\t\\t\\t\\t\\t\\t\\t</a>\\n\\t\\t\\t\\t\\t\\t\\t{{/ linkfeaturedimage}}\\n\\t\\t\\t\\t\\t\\t\\t{{^ linkfeaturedimage }}\\n\\t\\t\\t\\t\\t\\t\\t<img src=\"{{{ featured_image }}}\" srcset=\"{{{ srcset }}}\" width=\"{{ featured_image_width }}\" height=\"{{ featured_image_height }}\" loading=\"lazy\">\\n\\t\\t\\t\\t\\t\\t\\t{{/ linkfeaturedimage}}\\n\\t\\t\\t\\t\\t\\t\\t{{# caption }}\\n\\t\\t\\t\\t\\t\\t\\t\\t<div class=\"caption\">\\n\\t\\t\\t\\t\\t\\t\\t\\t\\t{{{ caption }}}\\n\\t\\t\\t\\t\\t\\t\\t\\t</div>\\n\\t\\t\\t\\t\\t\\t\\t{{/ caption }}\\n\\t\\t\\t\\t\\t\\t</div><!-- .feat-image -->\\n\\t\\t\\t\\t\\t{{/ featured_image }}\\n\\t\\t\\t\\t\\t<div class=\"post-social-mobile\">\\n\\t\\t\\t\\t\\t\\t<a href=\"{{ permalink }}#comments\" class=\"comments\" itemprop=\"discussionUrl\">{{{ comment_count }}}</a>\\n\\t\\t\\t\\t\\t\\t{{{ share_buttons }}}\\n\\t\\t\\t\\t\\t</div><!-- .post-social-mobile -->\\n\\t\\t\\t\\t</div><!-- .feat-image-wrapper -->\\n\\t\\t\\t\\t<div class=\"elastic-container\">\\n\\n\\t\\t\\t\\t\\t<div class=\"post-body\" itemprop=\"articleBody\">\\n\\t\\t\\t\\t\\t\\t{{{ post_content }}}\\n\\t\\t\\t\\t\\t</div><!-- .post-body -->\\n\\n\\t\\t\\t\\t\\t{{# product_link }}\\n\\t\\t\\t\\t\\t\\t{{# product_price }}\\n\\t\\t\\t\\t\\t\\t\\t<div class=\"product_cta_lower product_cta_after_single\">\\n\\t\\t\\t\\t\\t\\t\\t\\t<a href=\"{{ product_link }}\" class=\"product-button{{# savings_amount }} has-savings{{/ savings_amount }}\" target=\"_blank\">\\n\\t\\t\\t\\t\\t\\t\\t\\t\\t{{# savings_amount }}\\n\\t\\t\\t\\t\\t\\t\\t\\t\\t\\t<span class=\"product-savings-amount\">Get this deal<br/>{{ savings_amount }}</span>\\n\\t\\t\\t\\t\\t\\t\\t\\t\\t{{/ savings_amount }}\\n\\t\\t\\t\\t\\t\\t\\t\\t\\t<span class=\"product-price\">{{ product_price }}</span>\\n\\t\\t\\t\\t\\t\\t\\t\\t</a>\\n\\t\\t\\t\\t\\t\\t\\t</div>\\n\\t\\t\\t\\t\\t\\t{{/ product_price }}\\n\\t\\t\\t\\t\\t{{/ product_link }}\\n\\n\\t\\t\\t\\t\\t{{# has_visitor_promo }}\\n\\t\\t\\t\\t\\t\\t<div class=\"visitor-promo\" data-nosnippet=\"true\">{{{ visitor_promo }}}</div>\\n\\t\\t\\t\\t\\t{{/ has_visitor_promo }}\\n\\t\\t\\t\\t</div><!-- .elastic-container -->\\n\\n\\t\\t\\t{{# publisher_logo }}\\n\\t\\t\\t\\t<div itemprop=\"publisher\" itemscope itemtype=\"https://schema.org/Organization\">\\n\\t\\t\\t\\t\\t<div itemprop=\"logo\" itemscope itemtype=\"https://schema.org/ImageObject\">\\n\\t\\t\\t\\t\\t\\t<meta itemprop=\"url\" content=\"{{publisher_logo}}\">\\n\\t\\t\\t\\t\\t\\t<meta itemprop=\"width\" content=\"{{publisher_width}}\">\\n\\t\\t\\t\\t\\t\\t<meta itemprop=\"height\" content=\"{{publisher_height}}\">\\n\\t\\t\\t\\t\\t</div>\\n\\t\\t\\t\\t\\t<meta itemprop=\"name\" content=\"{{publisher}}\">\\n\\t\\t\\t\\t</div>\\n\\t\\t\\t{{/ publisher_logo }}\\n\\n\\t\\t\\t{{# has_post_related_guide }}\\n\\t\\t\\t\\t<div class=\"elastic-container\">\\n\\t\\t\\t\\t\\t<div class=\"related-guides-container\">\\n\\t\\t\\t\\t\\t\\t<h1>Guides</h1>\\n\\t\\t\\t\\t\\t\\t<div class=\"related-guides-list\">\\n\\t\\t\\t\\t\\t\\t{{# post_related_guide }}\\n\\t\\t\\t\\t\\t\\t\\t<div class=\"related-guides-item\">\\n\\t\\t\\t\\t\\t\\t\\t\\t<a href=\"{{link}}\">\\n\\t\\t\\t\\t\\t\\t\\t\\t{{# image}}\\n\\t\\t\\t\\t\\t\\t\\t\\t<div class=\"related-guides-item-image\">\\n\\t\\t\\t\\t\\t\\t\\t\\t\\t<img src=\"{{image}}\" title=\"{{title}}\" alt=\"{{title}}\" loading=\"lazy\" />\\n\\t\\t\\t\\t\\t\\t\\t\\t</div>\\n\\t\\t\\t\\t\\t\\t\\t\\t{{/ image}}\\n\\t\\t\\t\\t\\t\\t\\t\\t<h3>{{title}}</h3>\\n\\t\\t\\t\\t\\t\\t\\t\\t<p>{{description}}</p>\\n\\t\\t\\t\\t\\t\\t\\t\\t</a>\\n\\t\\t\\t\\t\\t\\t\\t</div>\\n\\t\\t\\t\\t\\t\\t{{/ post_related_guide }}\\n\\t\\t\\t\\t\\t\\t</div>\\n\\t\\t\\t\\t\\t\\t\\t<div class=\"post-cats\">{{# categories }} <a href=\"{{ cat_link }}\" title=\"View all posts in {{ cat_name }}\">{{ cat_name }}</a>\\n\\t\\t\\t\\t\\t\\t\\t{{/ categories }}</div>\\n\\t\\t\\t\\t\\t\\t\\t<!-- .post-cats -->\\n\\t\\t\\t\\t\\t</div>\\n\\t\\t\\t\\t</div>\\n\\t\\t\\t{{/ has_post_related_guide }}\\n\\n\\t\\t\\t{{# has_author_bio }}\\n\\t\\t\\t<div class=\"elastic-container\">\\n\\t\\t\\t\\t<div class=\"author-bio-container\">\\n\\t\\t\\t\\t\\t<h2 class=\"bio-title\">About the Author</h2>\\n\\t\\t\\t\\t\\t<div class=\"author-bio\" itemprop=\"author\" itemscope itemtype=\"https://schema.org/Person\">\\n\\t\\t\\t\\t\\t\\t\\t<div class=\"author-bio-details\">\\n\\t\\t\\t\\t\\t\\t\\t\\t<a href=\"{{ author_url }}\">\\n\\t\\t\\t\\t\\t\\t\\t\\t\\t<img src=\"{{ author_gravatar }}\" class=\"author-gravatar\" loading=\"lazy\">\\n\\t\\t\\t\\t\\t\\t\\t\\t</a>\\n\\t\\t\\t\\t\\t\\t\\t\\t<h3>\\n\\t\\t\\t\\t\\t\\t\\t\\t\\t<a href=\"{{ author_url }}\">\\n\\t\\t\\t\\t\\t\\t\\t\\t\\t\\t<span itemprop=\"name\">{{ author }}</span>\\n\\t\\t\\t\\t\\t\\t\\t\\t\\t</a>\\n\\t\\t\\t\\t\\t\\t\\t\\t</h3>\\n\\n\\t\\t\\t\\t\\t\\t\\t\\t{{# show_twitter }}\\n\\t\\t\\t\\t\\t\\t\\t\\t\\t<p class=\"twitter\">\\n\\t\\t\\t\\t\\t\\t\\t\\t\\t\\t<a href=\"https://twitter.com/{{ twitter_url }}\" target=\"_blank\" class=\"twitter-handle\"><span class=\"icon-twitter\"></span>{{ twitter_name }}</a>\\n\\t\\t\\t\\t\\t\\t\\t\\t\\t</p>\\n\\t\\t\\t\\t\\t\\t\\t\\t{{/ show_twitter }}\\n\\n\\t\\t\\t\\t\\t\\t\\t\\t<div class=\"author-excerpt\">\\n\\t\\t\\t\\t\\t\\t\\t\\t\\t{{{ author_excerpt }}}\\n\\t\\t\\t\\t\\t\\t\\t\\t</div>\\n\\t\\t\\t\\t\\t\\t</div>\\n\\t\\t\\t\\t\\t</div>\\n\\t\\t\\t\\t\\t{{# has_author_gear }}\\n\\t\\t\\t\\t\\t\\t<div class=\"author-gear\">\\n\\t\\t\\t\\t\\t\\t\\t<h3><span>{{ author }}\\'s favorite gear</span></h3>\\n\\t\\t\\t\\t\\t\\t\\t<div class=\"author-gear-list\">\\n\\t\\t\\t\\t\\t\\t\\t\\t{{# author_gear }}\\n\\t\\t\\t\\t\\t\\t\\t\\t<div class=\"author-gear-item\">\\n\\t\\t\\t\\t\\t\\t\\t\\t\\t<a class=\"author-gear-item-link\" href=\"{{link}}\" target=\"_blank\">\\n\\t\\t\\t\\t\\t\\t\\t\\t\\t\\t<div class=\"author-gear-item-image\">\\n\\t\\t\\t\\t\\t\\t\\t\\t\\t\\t\\t<img src=\"{{image}}\" title=\"{{title}}\" alt=\"{{title}}\" width=\"290\" height=\"145\" loading=\"lazy\"/>\\n\\t\\t\\t\\t\\t\\t\\t\\t\\t\\t</div>\\n\\t\\t\\t\\t\\t\\t\\t\\t\\t\\t<h4 class=\"author-gear-item-title\">{{title}}</h4>\\n\\t\\t\\t\\t\\t\\t\\t\\t\\t\\t{{# description}}\\n\\t\\t\\t\\t\\t\\t\\t\\t\\t\\t\\t<div class=\"author-gear-item-description\">\\n\\t\\t\\t\\t\\t\\t\\t\\t\\t\\t\\t\\t{{description}}\\n\\t\\t\\t\\t\\t\\t\\t\\t\\t\\t\\t</div>\\n\\t\\t\\t\\t\\t\\t\\t\\t\\t\\t{{/ description}}\\n\\t\\t\\t\\t\\t\\t\\t\\t\\t</a>\\n\\t\\t\\t\\t\\t\\t\\t\\t</div>\\n\\t\\t\\t\\t\\t\\t\\t\\t{{/ author_gear }}\\n\\t\\t\\t\\t\\t\\t\\t</div>\\n\\t\\t\\t\\t\\t\\t</div>\\n\\t\\t\\t\\t\\t{{/ has_author_gear }}\\n\\t\\t\\t\\t</div>\\n\\t\\t\\t</div>\\n\\t\\t\\t{{/ has_author_bio }}\\n\\n\\n\\t\\t\\t{{/ post_format }}\\n\\n\\t\\t\\t{{# post_format }}\\n\\t\\t\\t\\t<div class=\"aside-posts\">\\n\\t\\t\\t\\t\\t<div class=\"individual-aside\">\\n\\t\\t\\t\\t\\t\\t<div class=\"elastic-container\">\\n\\t\\t\\t\\t\\t\\t\\t<div class=\"aside-row{{# product_link }} has-product-button{{/ product_link }}\">\\n\\t\\t\\t\\t\\t\\t\\t\\t{{# featured_image }}\\n\\t\\t\\t\\t\\t\\t\\t\\t\\t<div itemprop=\"image\" itemscope itemtype=\"https://schema.org/ImageObject\">\\n\\t\\t\\t\\t\\t\\t\\t\\t\\t\\t<meta itemprop=\"url\" content=\"{{ featured_image }}\">\\n\\t\\t\\t\\t\\t\\t\\t\\t\\t\\t<meta itemprop=\"height\" content=\"{{ featured_image_height }}\">\\n\\t\\t\\t\\t\\t\\t\\t\\t\\t\\t<meta itemprop=\"width\" content=\"{{ featured_image_width }}\">\\n\\t\\t\\t\\t\\t\\t\\t\\t\\t</div>\\n\\t\\t\\t\\t\\t\\t\\t\\t\\t<a class=\"more-article aside-img img-wrap\"\\n\\t\\t\\t\\t\\t\\t\\t\\t\\t   href=\"{{ permalink }}\"\\n\\t\\t\\t\\t\\t\\t\\t\\t\\t   style=\"background-image: url( {{ featured_image }} );\">\\n\\t\\t\\t\\t\\t\\t\\t\\t\\t</a>\\n\\t\\t\\t\\t\\t\\t\\t\\t{{/ featured_image }}\\n\\t\\t\\t\\t\\t\\t\\t\\t<div class=\"aside-title\">\\n\\t\\t\\t\\t\\t\\t\\t\\t\\t<a class=\"more-article\" href=\"{{ permalink }}\" itemprop=\"mainEntityOfPage\">\\n\\t\\t\\t\\t\\t\\t\\t\\t\\t\\t<p class=\"aside-title-p\" itemprop=\"headline\">{{# expired }}<span class=\"expired\">expired</span>{{/expired}}{{{ post_title }}}</p>\\n\\t\\t\\t\\t\\t\\t\\t\\t\\t</a>\\n\\n\\t\\t\\t\\t\\t\\t\\t\\t\\t{{# product_link }}\\n\\t\\t\\t\\t\\t\\t\\t\\t\\t\\t{{# product_price }}\\n\\t\\t\\t\\t\\t\\t\\t\\t\\t\\t\\t<div class=\"product_cta_aside\">\\n\\t\\t\\t\\t\\t\\t\\t\\t\\t\\t\\t\\t<a href=\"{{ product_link }}\" class=\"product-button\" target=\"_blank\">\\n\\t\\t\\t\\t\\t\\t\\t\\t\\t\\t\\t\\t\\t<span class=\"product-price\">{{ product_price }}</span>\\n\\t\\t\\t\\t\\t\\t\\t\\t\\t\\t\\t\\t</a>\\n\\t\\t\\t\\t\\t\\t\\t\\t\\t\\t\\t</div>\\n\\t\\t\\t\\t\\t\\t\\t\\t\\t\\t{{/ product_price }}\\n\\t\\t\\t\\t\\t\\t\\t\\t\\t{{/ product_link }}\\n\\t\\t\\t\\t\\t\\t\\t\\t\\t<meta itemprop=\"datePublished\" content=\"{{post_date}}\"/>\\n\\t\\t\\t\\t\\t\\t\\t\\t\\t<meta itemprop=\"dateModified\" content=\"{{post_modified}}\"/>\\n\\t\\t\\t\\t\\t\\t\\t\\t\\t<p class=\"aside-post-meta\">\\n\\t\\t\\t\\t\\t\\t\\t\\t\\t\\t{{# distributed }}from {{/distributed}}<a href=\"{{author_url}}\" itemprop=\"author\" itemscope itemtype=\"https://schema.org/Person\" class=\"distributed-from-{{distributed_from_class}}\">\\n\\t\\t\\t\\t\\t\\t\\t\\t\\t\\t\\t<span itemprop=\"name\">{{author}}</span>\\n\\t\\t\\t\\t\\t\\t\\t\\t\\t\\t</a> -\\n\\t\\t\\t\\t\\t\\t\\t\\t\\t\\t{{post_date_fmt}}\\n\\t\\t\\t\\t\\t\\t\\t\\t\\t</p>\\n\\t\\t\\t\\t\\t\\t\\t\\t\\t<div class=\"aside-excerpt\" >\\n\\t\\t\\t\\t\\t\\t\\t\\t\\t{{{ post_excerpt }}}\\n\\t\\t\\t\\t\\t\\t\\t\\t\\t</div>\\n\\n\\t\\t\\t\\t\\t\\t\\t\\t\\t{{# publisher_logo }}\\n\\t\\t\\t\\t\\t\\t\\t\\t\\t\\t<div itemprop=\"publisher\" itemscope itemtype=\"https://schema.org/Organization\">\\n\\t\\t\\t\\t\\t\\t\\t\\t\\t\\t\\t<div itemprop=\"logo\" itemscope itemtype=\"https://schema.org/ImageObject\">\\n\\t\\t\\t\\t\\t\\t\\t\\t\\t\\t\\t\\t<meta itemprop=\"url\" content=\"{{publisher_logo}}\">\\n\\t\\t\\t\\t\\t\\t\\t\\t\\t\\t\\t\\t<meta itemprop=\"width\" content=\"{{publisher_width}}\">\\n\\t\\t\\t\\t\\t\\t\\t\\t\\t\\t\\t\\t<meta itemprop=\"height\" content=\"{{publisher_height}}\">\\n\\t\\t\\t\\t\\t\\t\\t\\t\\t\\t\\t</div>\\n\\t\\t\\t\\t\\t\\t\\t\\t\\t\\t\\t<meta itemprop=\"name\" content=\"{{publisher}}\">\\n\\t\\t\\t\\t\\t\\t\\t\\t\\t\\t</div>\\n\\t\\t\\t\\t\\t\\t\\t\\t\\t{{/ publisher_logo }}\\n\\n\\t\\t\\t\\t\\t\\t\\t\\t</div>\\n\\t\\t\\t\\t\\t\\t\\t\\t{{^ is_search }}\\n\\t\\t\\t\\t\\t\\t\\t\\t<a class=\"more-article more-article-expand\" href=\"{{ permalink }}\">\\n\\t\\t\\t\\t\\t\\t\\t\\t\\t<div class=\"expand\">\\n\\t\\t\\t\\t\\t\\t\\t\\t\\t\\t{{# distributed }}\\n\\t\\t\\t\\t\\t\\t\\t\\t\\t\\t<span class=\"dashicons dashicons-arrow-right-alt2 distributed-from-{{distributed_from_class}}\"></span>\\n\\t\\t\\t\\t\\t\\t\\t\\t\\t\\t{{/distributed}}\\n\\t\\t\\t\\t\\t\\t\\t\\t\\t\\t{{^distributed }}\\n\\t\\t\\t\\t\\t\\t\\t\\t\\t\\t<p><span class=\"x-animate\"></span></p>\\n\\t\\t\\t\\t\\t\\t\\t\\t\\t\\t{{/distributed}}\\n\\t\\t\\t\\t\\t\\t\\t\\t\\t</div><!-- .expand -->\\n\\t\\t\\t\\t\\t\\t\\t\\t</a>\\n\\t\\t\\t\\t\\t\\t\\t\\t{{/ is_search }}\\n\\t\\t\\t\\t\\t\\t\\t</div><!-- .related-row -->\\n\\t\\t\\t\\t\\t\\t\\t<div class=\"aside-post\"></div>\\n\\t\\t\\t\\t\\t\\t</div><!-- .elastic-container -->\\n\\t\\t\\t\\t\\t</div>\\n\\t\\t\\t\\t</div><!-- .aside-posts -->\\n\\t\\t\\t{{/ post_format }}\\n\\n\\t\\t\\t{{# show_ad }}\\n\\t\\t\\t\\t{{{ ad }}}\\n\\t\\t\\t{{/ show_ad }}\\n\\n\\t\\t\\t{{# show_adsense }}\\n\\t\\t\\t\\t{{{ adsense_ad }}}\\n\\t\\t\\t{{/ show_adsense }}\\n\\t\\t</article><!-- .post-content -->\\n\\n\\t{{{ trending_carousel }}}\\n\\t{{# show_widget }}\\n\\t\\t\\t<div class=\"feed-title-bar ninetofive-{{ widget.brand }}\">\\n\\t\\t\\t\\t<div class=\"elastic-container\">\\n\\t\\t\\t\\t\\t<div class=\"currently-reading\">\\n\\t\\t\\t\\t\\t\\t<a class=\"currently-reading__link\" href=\"{{ widget.site_url }}\" target=\"blank\">{{ widget.title }}&nbsp;</a>\\n\\n\\t\\t\\t\\t\\t\\t<span class=\"social-icons\">\\n\\t\\t\\t\\t\\t\\t\\t{{# widget.social.facebook }}\\n\\t\\t\\t\\t\\t\\t\\t\\t<a href=\"{{widget.social.facebook}}\" class=\"icon-facebook\"></a>\\n\\t\\t\\t\\t\\t\\t\\t{{/ widget.social.facebook}}\\n\\n\\t\\t\\t\\t\\t\\t\\t{{# widget.social.twitter }}\\n\\t\\t\\t\\t\\t\\t\\t\\t<a href=\"{{widget.social.twitter}}\" class=\"icon-twitter\"></a>\\n\\t\\t\\t\\t\\t\\t\\t{{/ widget.social.twitter }}\\n\\n\\t\\t\\t\\t\\t\\t\\t{{# widget.social.youtube }}\\n\\t\\t\\t\\t\\t\\t\\t\\t<a href=\"{{widget.social.youtube}}\" class=\"icon-youtube\"></a>\\n\\t\\t\\t\\t\\t\\t\\t{{/widget.social.youtube}}\\n\\n\\t\\t\\t\\t\\t\\t\\t{{# widget.social.podcast }}\\n\\t\\t\\t\\t\\t\\t\\t\\t<a href=\"{{widget.social.podcast}}\" class=\"social-icon-svg social-icon-podcast\">\\n\\t\\t\\t\\t\\t\\t\\t\\t\\t<svg class=\"ninetofive-icon podcast\" aria-hidden=\"true\">\\n\\t\\t\\t\\t\\t\\t\\t\\t\\t\\t<use xlink:href=\"/wp-content/themes/9to5-2015/images/svg-sprite-2020.svg#ninetofive-icon-podcast\"></use>\\n\\t\\t\\t\\t\\t\\t\\t\\t\\t</svg>\\n\\t\\t\\t\\t\\t\\t\\t\\t</a>\\n\\t\\t\\t\\t\\t\\t\\t{{/widget.social.podcast}}\\n\\n\\t\\t\\t\\t\\t\\t\\t{{# widget.social.newsletter }}\\n\\t\\t\\t\\t\\t\\t\\t\\t<a href=\"{{widget.social.newsletter}}\" class=\"social-icon-svg social-icon-newsletter\">\\n\\t\\t\\t\\t\\t\\t\\t\\t\\t<svg class=\"ninetofive-icon email \" aria-hidden=\"true\">\\n\\t\\t\\t\\t\\t\\t\\t\\t\\t\\t<use xlink:href=\"/wp-content/themes/9to5-2015/images/svg-sprite-2020.svg#ninetofive-icon-email\"></use>\\n\\t\\t\\t\\t\\t\\t\\t\\t\\t</svg>\\n\\t\\t\\t\\t\\t\\t\\t\\t</a>\\n\\t\\t\\t\\t\\t\\t\\t{{/widget.social.newsletter}}\\n\\t\\t\\t\\t\\t\\t</span>\\n\\t\\t\\t\\t\\t</div>\\n\\t\\t\\t\\t</div>\\n\\t\\t\\t</div>\\n\\n\\t\\t\\t<aside class=\"trending-wrapper\">\\n\\t\\t\\t\\t<div class=\"trending-items trending-items--cross-site trending-items--{{ widget.brand }}\">\\n\\t\\t\\t\\t\\t{{^ widget.items }}<p>There was a problem getting any content from the RSS feed. We\\'ll try again later</p>{{/ widget.items }}\\n\\t\\t\\t\\t\\t{{# widget.items }}\\n\\t\\t\\t\\t\\t\\t<div title=\"{{ title }}\" class=\"trending-grid-item\">\\n\\t\\t\\t\\t\\t\\t\\t<a href=\"{{ link }}\" class=\"trending-item\">\\n\\t\\t\\t\\t\\t\\t\\t\\t<div class=\"img-wrap\" style=\"background-image: url({{ image }});\"></div>\\n\\t\\t\\t\\t\\t\\t\\t\\t<p class=\"trending-excerpt\">{{{ trimmed_title }}}</p>\\n\\t\\t\\t\\t\\t\\t\\t</a>\\n\\t\\t\\t\\t\\t\\t</div>\\n\\t\\t\\t\\t\\t{{/ widget.items }}\\n\\t\\t\\t\\t</div>\\n\\t\\t\\t</aside>\\n\\n\\t{{/ show_widget }}\\n{{/ posts }}\\n{{# infinite }}\\n\\t</div>\\n{{/ infinite }}\\n</script><script id=\\'content-template\\' type=\\'x-tmpl-mustache\\'><div class=\"extended\">\\n\\t{{{ post_content }}}\\n\\n\\t{{# product_link }}\\n\\t\\t{{# product_price }}\\n\\t\\t\\t<div class=\"product_cta_lower\">\\n\\t\\t\\t\\t<a href=\"{{ product_link }}\" class=\"product-button{{# savings_amount }} has-savings{{/ savings_amount }}\" target=\"_blank\">\\n\\t\\t\\t\\t\\t{{# savings_amount }}\\n\\t\\t\\t\\t\\t\\t<span class=\"product-savings-amount\">Get this deal<br/>{{ savings_amount }}</span>\\n\\t\\t\\t\\t\\t{{/ savings_amount }}\\n\\t\\t\\t\\t\\t<span class=\"product-price\">{{ product_price }}</span>\\n\\t\\t\\t\\t</a>\\n\\t\\t\\t</div>\\n\\t\\t{{/ product_price }}\\n\\t{{/ product_link }}\\n\\t\\n\\t<div class=\"extended-comment-cta\">\\n\\t  <a href=\"{{ permalink }}#comments\" class=\"comments\">{{{ comment_count }}}</a>\\n\\t</div>\\n\\n</div><!-- .extended -->\\n</script><script id=\\'aside-template\\' type=\\'x-tmpl-mustache\\'><div class=\"post-body\">\\n\\n\\t{{# featured_image }}\\n\\t\\t{{# product_link }}\\n\\t\\t\\t{{# product_price }}\\n\\t\\t\\t\\t<div class=\"product_cta_image\">\\n\\t\\t\\t\\t\\t<a href=\"{{ product_link }}\" class=\"product-button{{# savings_amount }} has-savings{{/ savings_amount }}\" target=\"_blank\">\\n\\t\\t\\t\\t\\t\\t{{# savings_amount }}\\n\\t\\t\\t\\t\\t\\t\\t<span class=\"product-savings-amount\">Get this deal<br/>{{ savings_amount }}</span>\\n\\t\\t\\t\\t\\t\\t{{/ savings_amount }}\\n\\t\\t\\t\\t\\t\\t<span class=\"product-price\">{{ product_price }}</span>\\n\\t\\t\\t\\t\\t</a>\\n\\t\\t\\t\\t</div>\\n\\t\\t\\t{{/ product_price }}\\n\\t\\t{{/ product_link }}\\n\\n\\t\\t<div class=\"feat-image-wrapper\">\\n\\t\\t\\t{{# featured_image }}\\n\\t\\t\\t\\t<div class=\"feat-image{{ image_class }}\"><img src=\"{{featured_image}}\" srcset=\"{{ srcset }}\" loading=\"lazy\"></div>\\n\\t\\t\\t{{/ featured_image }}\\n\\t\\t</div><!-- .feat-image-wrapper -->\\n\\t\\t<div class=\"post-social-mobile\">\\n\\t\\t\\t<a href=\"{{permalink}}#comments\" class=\"comments\">{{{comment_count}}}</a>\\n\\t\\t\\t{{{share_buttons}}}\\n\\t\\t</div><!-- .post-social-mobile -->\\n\\n\\t{{/ featured_image }}\\n\\t{{{post_content}}}\\n\\t{{# meta.display_author_ad }}\\n\\t\\t{{{ meta.author_ad }}}\\n\\t{{/ meta.display_author_ad }}\\n\\n\\t{{# product_link }}\\n\\t\\t{{# product_price }}\\n\\t\\t\\t<div class=\"product_cta_lower\">\\n\\t\\t\\t\\t<a href=\"{{ product_link }}\" class=\"product-button{{# savings_amount }} has-savings{{/ savings_amount }}\" target=\"_blank\">\\n\\t\\t\\t\\t\\t{{# savings_amount }}\\n\\t\\t\\t\\t\\t\\t<span class=\"product-savings-amount\">Get this deal<br/>{{ savings_amount }}</span>\\n\\t\\t\\t\\t\\t{{/ savings_amount }}\\n\\t\\t\\t\\t\\t<span class=\"product-price\">{{ product_price }}</span>\\n\\t\\t\\t\\t</a>\\n\\t\\t\\t</div>\\n\\t\\t{{/ product_price }}\\n\\t{{/ product_link }}\\n\\n\\t<div class=\"post-cats\">\\n\\t\\t{{# featured_tags }}\\n    \\t<a href=\"{{tag_link}}\" title=\"View all posts in {{tag_name}}\" class=\"featured_tag\">{{tag_name}}</a>\\n    {{/ featured_tags }}\\n\\t\\t{{# categories }}\\n\\t\\t\\t<a href=\"{{cat_link}}\" title=\"View all posts in {{cat_name}}\">{{cat_name}}</a>\\n\\t\\t{{/ categories }}\\n\\t</div><!-- .post-cats -->\\n\\n\\t<div class=\"extended-comment-cta\">\\n\\t  <a href=\"{{ permalink }}#comments\" class=\"comments\">{{{ comment_count }}}</a>\\n\\t</div>\\n\\n</div><!-- .post-body -->\\n</script>\\t\\t<div id=\"jp-carousel-loading-overlay\">\\n\\t\\t\\t<div id=\"jp-carousel-loading-wrapper\">\\n\\t\\t\\t\\t<span id=\"jp-carousel-library-loading\">&nbsp;</span>\\n\\t\\t\\t</div>\\n\\t\\t</div>\\n\\t\\t<div class=\"jp-carousel-overlay\" style=\"display: none;\">\\n\\n\\t\\t<div class=\"jp-carousel-container\">\\n\\t\\t\\t<!-- The Carousel Swiper -->\\n\\t\\t\\t<div\\n\\t\\t\\t\\tclass=\"jp-carousel-wrap swiper-container jp-carousel-swiper-container jp-carousel-transitions\"\\n\\t\\t\\t\\titemscope\\n\\t\\t\\t\\titemtype=\"https://schema.org/ImageGallery\">\\n\\t\\t\\t\\t<div class=\"jp-carousel swiper-wrapper\"></div>\\n\\t\\t\\t\\t<div class=\"jp-swiper-button-prev swiper-button-prev\">\\n\\t\\t\\t\\t\\t<svg width=\"25\" height=\"24\" viewBox=\"0 0 25 24\" fill=\"none\" xmlns=\"http://www.w3.org/2000/svg\">\\n\\t\\t\\t\\t\\t\\t<mask id=\"maskPrev\" mask-type=\"alpha\" maskUnits=\"userSpaceOnUse\" x=\"8\" y=\"6\" width=\"9\" height=\"12\">\\n\\t\\t\\t\\t\\t\\t\\t<path d=\"M16.2072 16.59L11.6496 12L16.2072 7.41L14.8041 6L8.8335 12L14.8041 18L16.2072 16.59Z\" fill=\"white\"/>\\n\\t\\t\\t\\t\\t\\t</mask>\\n\\t\\t\\t\\t\\t\\t<g mask=\"url(#maskPrev)\">\\n\\t\\t\\t\\t\\t\\t\\t<rect x=\"0.579102\" width=\"23.8823\" height=\"24\" fill=\"#FFFFFF\"/>\\n\\t\\t\\t\\t\\t\\t</g>\\n\\t\\t\\t\\t\\t</svg>\\n\\t\\t\\t\\t</div>\\n\\t\\t\\t\\t<div class=\"jp-swiper-button-next swiper-button-next\">\\n\\t\\t\\t\\t\\t<svg width=\"25\" height=\"24\" viewBox=\"0 0 25 24\" fill=\"none\" xmlns=\"http://www.w3.org/2000/svg\">\\n\\t\\t\\t\\t\\t\\t<mask id=\"maskNext\" mask-type=\"alpha\" maskUnits=\"userSpaceOnUse\" x=\"8\" y=\"6\" width=\"8\" height=\"12\">\\n\\t\\t\\t\\t\\t\\t\\t<path d=\"M8.59814 16.59L13.1557 12L8.59814 7.41L10.0012 6L15.9718 12L10.0012 18L8.59814 16.59Z\" fill=\"white\"/>\\n\\t\\t\\t\\t\\t\\t</mask>\\n\\t\\t\\t\\t\\t\\t<g mask=\"url(#maskNext)\">\\n\\t\\t\\t\\t\\t\\t\\t<rect x=\"0.34375\" width=\"23.8822\" height=\"24\" fill=\"#FFFFFF\"/>\\n\\t\\t\\t\\t\\t\\t</g>\\n\\t\\t\\t\\t\\t</svg>\\n\\t\\t\\t\\t</div>\\n\\t\\t\\t</div>\\n\\t\\t\\t<!-- The main close buton -->\\n\\t\\t\\t<div class=\"jp-carousel-close-hint\">\\n\\t\\t\\t\\t<svg width=\"25\" height=\"24\" viewBox=\"0 0 25 24\" fill=\"none\" xmlns=\"http://www.w3.org/2000/svg\">\\n\\t\\t\\t\\t\\t<mask id=\"maskClose\" mask-type=\"alpha\" maskUnits=\"userSpaceOnUse\" x=\"5\" y=\"5\" width=\"15\" height=\"14\">\\n\\t\\t\\t\\t\\t\\t<path d=\"M19.3166 6.41L17.9135 5L12.3509 10.59L6.78834 5L5.38525 6.41L10.9478 12L5.38525 17.59L6.78834 19L12.3509 13.41L17.9135 19L19.3166 17.59L13.754 12L19.3166 6.41Z\" fill=\"white\"/>\\n\\t\\t\\t\\t\\t</mask>\\n\\t\\t\\t\\t\\t<g mask=\"url(#maskClose)\">\\n\\t\\t\\t\\t\\t\\t<rect x=\"0.409668\" width=\"23.8823\" height=\"24\" fill=\"#FFFFFF\"/>\\n\\t\\t\\t\\t\\t</g>\\n\\t\\t\\t\\t</svg>\\n\\t\\t\\t</div>\\n\\t\\t\\t<!-- Image info, comments and meta -->\\n\\t\\t\\t<div class=\"jp-carousel-info\">\\n\\t\\t\\t\\t<div class=\"jp-carousel-info-footer\">\\n\\t\\t\\t\\t\\t<div class=\"jp-carousel-pagination-container\">\\n\\t\\t\\t\\t\\t\\t<div class=\"jp-swiper-pagination swiper-pagination\"></div>\\n\\t\\t\\t\\t\\t\\t<div class=\"jp-carousel-pagination\"></div>\\n\\t\\t\\t\\t\\t</div>\\n\\t\\t\\t\\t\\t<div class=\"jp-carousel-photo-title-container\">\\n\\t\\t\\t\\t\\t\\t<h2 class=\"jp-carousel-photo-caption\"></h2>\\n\\t\\t\\t\\t\\t</div>\\n\\t\\t\\t\\t\\t<div class=\"jp-carousel-photo-icons-container\">\\n\\t\\t\\t\\t\\t\\t<a href=\"#\" class=\"jp-carousel-icon-btn jp-carousel-icon-info\" aria-label=\"Toggle photo metadata visibility\">\\n\\t\\t\\t\\t\\t\\t\\t<span class=\"jp-carousel-icon\">\\n\\t\\t\\t\\t\\t\\t\\t\\t<svg width=\"25\" height=\"24\" viewBox=\"0 0 25 24\" fill=\"none\" xmlns=\"http://www.w3.org/2000/svg\">\\n\\t\\t\\t\\t\\t\\t\\t\\t\\t<mask id=\"maskInfo\" mask-type=\"alpha\" maskUnits=\"userSpaceOnUse\" x=\"2\" y=\"2\" width=\"21\" height=\"20\">\\n\\t\\t\\t\\t\\t\\t\\t\\t\\t\\t<path fill-rule=\"evenodd\" clip-rule=\"evenodd\" d=\"M12.7537 2C7.26076 2 2.80273 6.48 2.80273 12C2.80273 17.52 7.26076 22 12.7537 22C18.2466 22 22.7046 17.52 22.7046 12C22.7046 6.48 18.2466 2 12.7537 2ZM11.7586 7V9H13.7488V7H11.7586ZM11.7586 11V17H13.7488V11H11.7586ZM4.79292 12C4.79292 16.41 8.36531 20 12.7537 20C17.142 20 20.7144 16.41 20.7144 12C20.7144 7.59 17.142 4 12.7537 4C8.36531 4 4.79292 7.59 4.79292 12Z\" fill=\"white\"/>\\n\\t\\t\\t\\t\\t\\t\\t\\t\\t</mask>\\n\\t\\t\\t\\t\\t\\t\\t\\t\\t<g mask=\"url(#maskInfo)\">\\n\\t\\t\\t\\t\\t\\t\\t\\t\\t\\t<rect x=\"0.8125\" width=\"23.8823\" height=\"24\" fill=\"#FFFFFF\"/>\\n\\t\\t\\t\\t\\t\\t\\t\\t\\t</g>\\n\\t\\t\\t\\t\\t\\t\\t\\t</svg>\\n\\t\\t\\t\\t\\t\\t\\t</span>\\n\\t\\t\\t\\t\\t\\t</a>\\n\\t\\t\\t\\t\\t\\t\\t\\t\\t\\t\\t</div>\\n\\t\\t\\t\\t</div>\\n\\t\\t\\t\\t<div class=\"jp-carousel-info-extra\">\\n\\t\\t\\t\\t\\t<div class=\"jp-carousel-info-content-wrapper\">\\n\\t\\t\\t\\t\\t\\t<div class=\"jp-carousel-photo-title-container\">\\n\\t\\t\\t\\t\\t\\t\\t<h2 class=\"jp-carousel-photo-title\"></h2>\\n\\t\\t\\t\\t\\t\\t</div>\\n\\t\\t\\t\\t\\t\\t<div class=\"jp-carousel-comments-wrapper\">\\n\\t\\t\\t\\t\\t\\t\\t\\t\\t\\t\\t\\t\\t</div>\\n\\t\\t\\t\\t\\t\\t<div class=\"jp-carousel-image-meta\">\\n\\t\\t\\t\\t\\t\\t\\t<div class=\"jp-carousel-title-and-caption\">\\n\\t\\t\\t\\t\\t\\t\\t\\t<div class=\"jp-carousel-photo-info\">\\n\\t\\t\\t\\t\\t\\t\\t\\t\\t<h3 class=\"jp-carousel-caption\" itemprop=\"caption description\"></h3>\\n\\t\\t\\t\\t\\t\\t\\t\\t</div>\\n\\n\\t\\t\\t\\t\\t\\t\\t\\t<div class=\"jp-carousel-photo-description\"></div>\\n\\t\\t\\t\\t\\t\\t\\t</div>\\n\\t\\t\\t\\t\\t\\t\\t<ul class=\"jp-carousel-image-exif\" style=\"display: none;\"></ul>\\n\\t\\t\\t\\t\\t\\t\\t<a class=\"jp-carousel-image-download\" target=\"_blank\" style=\"display: none;\">\\n\\t\\t\\t\\t\\t\\t\\t\\t<svg width=\"25\" height=\"24\" viewBox=\"0 0 25 24\" fill=\"none\" xmlns=\"http://www.w3.org/2000/svg\">\\n\\t\\t\\t\\t\\t\\t\\t\\t\\t<mask id=\"mask0\" mask-type=\"alpha\" maskUnits=\"userSpaceOnUse\" x=\"3\" y=\"3\" width=\"19\" height=\"18\">\\n\\t\\t\\t\\t\\t\\t\\t\\t\\t\\t<path fill-rule=\"evenodd\" clip-rule=\"evenodd\" d=\"M5.84615 5V19H19.7775V12H21.7677V19C21.7677 20.1 20.8721 21 19.7775 21H5.84615C4.74159 21 3.85596 20.1 3.85596 19V5C3.85596 3.9 4.74159 3 5.84615 3H12.8118V5H5.84615ZM14.802 5V3H21.7677V10H19.7775V6.41L9.99569 16.24L8.59261 14.83L18.3744 5H14.802Z\" fill=\"white\"/>\\n\\t\\t\\t\\t\\t\\t\\t\\t\\t</mask>\\n\\t\\t\\t\\t\\t\\t\\t\\t\\t<g mask=\"url(#mask0)\">\\n\\t\\t\\t\\t\\t\\t\\t\\t\\t\\t<rect x=\"0.870605\" width=\"23.8823\" height=\"24\" fill=\"#FFFFFF\"/>\\n\\t\\t\\t\\t\\t\\t\\t\\t\\t</g>\\n\\t\\t\\t\\t\\t\\t\\t\\t</svg>\\n\\t\\t\\t\\t\\t\\t\\t\\t<span class=\"jp-carousel-download-text\"></span>\\n\\t\\t\\t\\t\\t\\t\\t</a>\\n\\t\\t\\t\\t\\t\\t\\t<div class=\"jp-carousel-image-map\" style=\"display: none;\"></div>\\n\\t\\t\\t\\t\\t\\t</div>\\n\\t\\t\\t\\t\\t</div>\\n\\t\\t\\t\\t</div>\\n\\t\\t\\t</div>\\n\\t\\t</div>\\n\\n\\t\\t</div>\\n\\t\\t\\t\\t\\t<script>\\n\\t\\tvar options = {\\n\\t\\t\\tsaveInCookies: true, // default: true,\\n\\t\\t\\tautoMatchOsTheme: true // default: true\\n\\t\\t}\\n\\n\\t\\tconst darkmode = new Darkmode(options);\\n\\t</script>\\n<link rel=\\'stylesheet\\' id=\\'all-css-0\\' href=\\'https://9to5mac.com/_static/??-eJydzMsKgzAQheEX6jgKat2Iz5Img6SdXMhkEN9eXLgV7PL8Bz7cMtgUK8WKQSGzrj4KfqlmY3/Qtc2IITllEqyeycFqmKnsd6uxIi98IFtTkgoxyuYzFfhodEz/M9d7hVNawtyNfT9M76GdDkhsWfI=\\' type=\\'text/css\\' media=\\'all\\' />\\n<script id=\\'mediaelement-js-extra\\'>\\nvar _wpmejsSettings = {\"pluginPath\":\"\\\\/wp-includes\\\\/js\\\\/mediaelement\\\\/\",\"classPrefix\":\"mejs-\",\"stretching\":\"responsive\"};\\n</script>\\n<script id=\\'ninetofive-js-extra\\'>\\nvar globalJSVars = {\"ajaxurl\":\"https:\\\\/\\\\/9to5mac.com\\\\/wp-admin\\\\/admin-ajax.php\"};\\n</script>\\n<script id=\\'disqus_count-js-extra\\'>\\nvar countVars = {\"disqusShortname\":\"9to5maccom\"};\\n</script>\\n<script id=\\'disqus_embed-js-extra\\'>\\nvar embedVars = {\"disqusConfig\":{\"integration\":\"wordpress 3.0.17\"},\"disqusIdentifier\":\"626595 https:\\\\/\\\\/9to5mac.com\\\\/?p=626595\",\"disqusShortname\":\"9to5maccom\",\"disqusTitle\":\"AAPL hits $300, 1\\\\/3 of the way to its next trillion, and double 2019 low\",\"disqusUrl\":\"https:\\\\/\\\\/9to5mac.com\\\\/2020\\\\/01\\\\/02\\\\/apple-closes-in-on-300-a-share\\\\/\",\"postId\":\"626595\"};\\n</script>\\n<script type=\"text/javascript\" src=\"https://9to5mac.com/_static/??-eJyVztEOgjAMheEXclQIELkwPoqRrWgJa+faaeLTi9eaqPfn+3PgnpwXNmQDu2BEhcGkc8227uCkiqYwK0QJmJke2UmxVKyadQO/USZGk4luWEXiPyDxREyGTn2WZXEp40jhUyQt5UysEEivRSGVcSH/SniJcR0cvRR++/xVYRwxrOoQ93Xfdn3b7IZ2fgKCkm8N\" ></script><script data-parsely-site=\"9to5mac.com\" src=\\'https://cdn.parsely.com/keys/9to5mac.com/p.js?ver=3.1.2\\' id=\"parsely-cfg\"></script>\\n<script id=\\'pushup-js-extra\\'>\\nvar PushUpNotificationSettings = {\"domain\":\"https:\\\\/\\\\/9to5mac.com\",\"userID\":\"1\",\"websitePushID\":\"web.com.10up.push\",\"webServiceURL\":\"https:\\\\/\\\\/push.10up.com\",\"prompt\":\"1\"};\\n</script>\\n<script type=\"text/javascript\" src=\"https://9to5mac.com/_static/??/wp-content/plugins/pushup/js/pushup.min.js,/wp-includes/js/comment-reply.min.js,/wp-content/themes/9to5-2015/assets/js/vendor/stickybits.min.js?m=1645642894j\" ></script><script id=\\'mediaelement-core-js-before\\'>\\nvar mejsL10n = {\"language\":\"en\",\"strings\":{\"mejs.download-file\":\"Download File\",\"mejs.install-flash\":\"You are using a browser that does not have Flash player enabled or installed. Please turn on your Flash player plugin or download the latest version from https:\\\\/\\\\/get.adobe.com\\\\/flashplayer\\\\/\",\"mejs.fullscreen\":\"Fullscreen\",\"mejs.play\":\"Play\",\"mejs.pause\":\"Pause\",\"mejs.time-slider\":\"Time Slider\",\"mejs.time-help-text\":\"Use Left\\\\/Right Arrow keys to advance one second, Up\\\\/Down arrows to advance ten seconds.\",\"mejs.live-broadcast\":\"Live Broadcast\",\"mejs.volume-help-text\":\"Use Up\\\\/Down Arrow keys to increase or decrease volume.\",\"mejs.unmute\":\"Unmute\",\"mejs.mute\":\"Mute\",\"mejs.volume-slider\":\"Volume Slider\",\"mejs.video-player\":\"Video Player\",\"mejs.audio-player\":\"Audio Player\",\"mejs.captions-subtitles\":\"Captions\\\\/Subtitles\",\"mejs.captions-chapters\":\"Chapters\",\"mejs.none\":\"None\",\"mejs.afrikaans\":\"Afrikaans\",\"mejs.albanian\":\"Albanian\",\"mejs.arabic\":\"Arabic\",\"mejs.belarusian\":\"Belarusian\",\"mejs.bulgarian\":\"Bulgarian\",\"mejs.catalan\":\"Catalan\",\"mejs.chinese\":\"Chinese\",\"mejs.chinese-simplified\":\"Chinese (Simplified)\",\"mejs.chinese-traditional\":\"Chinese (Traditional)\",\"mejs.croatian\":\"Croatian\",\"mejs.czech\":\"Czech\",\"mejs.danish\":\"Danish\",\"mejs.dutch\":\"Dutch\",\"mejs.english\":\"English\",\"mejs.estonian\":\"Estonian\",\"mejs.filipino\":\"Filipino\",\"mejs.finnish\":\"Finnish\",\"mejs.french\":\"French\",\"mejs.galician\":\"Galician\",\"mejs.german\":\"German\",\"mejs.greek\":\"Greek\",\"mejs.haitian-creole\":\"Haitian Creole\",\"mejs.hebrew\":\"Hebrew\",\"mejs.hindi\":\"Hindi\",\"mejs.hungarian\":\"Hungarian\",\"mejs.icelandic\":\"Icelandic\",\"mejs.indonesian\":\"Indonesian\",\"mejs.irish\":\"Irish\",\"mejs.italian\":\"Italian\",\"mejs.japanese\":\"Japanese\",\"mejs.korean\":\"Korean\",\"mejs.latvian\":\"Latvian\",\"mejs.lithuanian\":\"Lithuanian\",\"mejs.macedonian\":\"Macedonian\",\"mejs.malay\":\"Malay\",\"mejs.maltese\":\"Maltese\",\"mejs.norwegian\":\"Norwegian\",\"mejs.persian\":\"Persian\",\"mejs.polish\":\"Polish\",\"mejs.portuguese\":\"Portuguese\",\"mejs.romanian\":\"Romanian\",\"mejs.russian\":\"Russian\",\"mejs.serbian\":\"Serbian\",\"mejs.slovak\":\"Slovak\",\"mejs.slovenian\":\"Slovenian\",\"mejs.spanish\":\"Spanish\",\"mejs.swahili\":\"Swahili\",\"mejs.swedish\":\"Swedish\",\"mejs.tagalog\":\"Tagalog\",\"mejs.thai\":\"Thai\",\"mejs.turkish\":\"Turkish\",\"mejs.ukrainian\":\"Ukrainian\",\"mejs.vietnamese\":\"Vietnamese\",\"mejs.welsh\":\"Welsh\",\"mejs.yiddish\":\"Yiddish\"}};\\n</script>\\n<script src=\\'https://9to5mac.com/wp-includes/js/mediaelement/mediaelement-and-player.min.js?ver=4.2.16\\' id=\\'mediaelement-core-js\\'></script>\\n<script id=\\'jetpack-carousel-js-extra\\'>\\nvar jetpackSwiperLibraryPath = {\"url\":\"https:\\\\/\\\\/9to5mac.com\\\\/wp-content\\\\/mu-plugins\\\\/jetpack-10.6\\\\/_inc\\\\/build\\\\/carousel\\\\/swiper-bundle.min.js\"};\\nvar jetpackCarouselStrings = {\"widths\":[370,700,1000,1200,1400,2000],\"is_logged_in\":\"\",\"lang\":\"en\",\"ajaxurl\":\"https:\\\\/\\\\/9to5mac.com\\\\/wp-admin\\\\/admin-ajax.php\",\"nonce\":\"68fdf9b97b\",\"display_exif\":\"1\",\"display_comments\":\"0\",\"display_geo\":\"1\",\"single_image_gallery\":\"1\",\"single_image_gallery_media_file\":\"\",\"background_color\":\"black\",\"comment\":\"Comment\",\"post_comment\":\"Post Comment\",\"write_comment\":\"Write a Comment...\",\"loading_comments\":\"Loading Comments...\",\"download_original\":\"View full size <span class=\\\\\"photo-size\\\\\">{0}<span class=\\\\\"photo-size-times\\\\\">\\\\u00d7<\\\\/span>{1}<\\\\/span>\",\"no_comment_text\":\"Please be sure to submit some text with your comment.\",\"no_comment_email\":\"Please provide an email address to comment.\",\"no_comment_author\":\"Please provide your name to comment.\",\"comment_post_error\":\"Sorry, but there was an error posting your comment. Please try again later.\",\"comment_approved\":\"Your comment was approved.\",\"comment_unapproved\":\"Your comment is in moderation.\",\"camera\":\"Camera\",\"aperture\":\"Aperture\",\"shutter_speed\":\"Shutter Speed\",\"focal_length\":\"Focal Length\",\"copyright\":\"Copyright\",\"comment_registration\":\"1\",\"require_name_email\":\"1\",\"login_url\":\"https:\\\\/\\\\/9to5mac.com\\\\/wp-login.php?redirect_to=https%3A%2F%2F9to5mac.com%2F2020%2F01%2F02%2Fapple-closes-in-on-300-a-share%2F\",\"blog_id\":\"6\",\"meta_data\":[\"camera\",\"aperture\",\"shutter_speed\",\"focal_length\",\"copyright\"]};\\n</script>\\n<script type=\"text/javascript\" src=\"https://9to5mac.com/_static/??-eJyVjksOwjAMRC9E6lYiFSwQR0EhsYKDk1b5qOL2BAqobCrYeTye54FpFBQ0F4MJXAKPhhQyegz5SwhPNqqMjafQuLSBtWD1lnqZ0UPIT3YRIxdLoaYxj0pfRdc2PfjBFK7IiYzFnCChivry+DBPYjZ+xZ1qRzgXYgOZGI2wihnjbU39U3fB1yoOJSF/Dt6LF+/oD12/lVLu2n3v7rAFihc=\" ></script>\\n\\t<script>\\n\\t\\t(function($){\\n\\t\\t\\t$(document.body).on(\\'post-load\\', function(){\\n\\t\\t\\t\\tvar nodes = document.querySelectorAll(\\'span.dsq-postid\\');\\n\\t\\t\\t\\tfor (var i = 0, url; i < nodes.length; i++) {\\n\\t\\t\\t\\t\\tvar shorturl = nodes[i].getAttribute(\\'rel\\');\\n\\t\\t\\t\\t\\tvar new_rel = shorturl ? shorturl.replace( \\'https:\\', \\'http:\\' ) : \\'\\';\\n\\t\\t\\t\\t\\tnodes[i].parentNode.setAttribute(\\'data-disqus-identifier\\', new_rel );\\n\\t\\t\\t\\t\\turl = nodes[i].parentNode.href.split(\\'#\\', 1);\\n\\t\\t\\t\\t\\tif (url.length == 1) url = url[0];\\n\\t\\t\\t\\t\\telse url = url[1];\\n\\t\\t\\t\\t\\tnodes[i].parentNode.href = url + \\'#disqus_thread\\';\\n\\t\\t\\t\\t}\\n\\n\\t\\t\\t\\tvar DISQUSWIDGETS = window.DISQUSWIDGETS || {};\\n\\n\\t\\t\\t\\tif ( Object.keys(DISQUSWIDGETS).length !== 0 && DISQUSWIDGETS.constructor === Object ) {\\n\\t\\t\\t\\t\\tDISQUSWIDGETS.getCount({reset: true});\\n\\t\\t\\t\\t}\\n\\t\\t\\t});\\n\\t\\t})(jQuery);\\n\\t</script>\\n\\n\\t<script type=\\'text/javascript\\'>\\n\\t\\tvar secondaryMapping, authorMapping, forumBannerMapping, forumSidebarMapping, adslot, adSlots = [];\\n\\t \\tgoogletag.cmd.push(function() {\\n\\t\\t\\tvar mainMapping = googletag.sizeMapping().\\n\\t\\t\\t\\taddSize([0, 0], [[320,50],[320,100]]).\\n\\t\\t\\t\\taddSize([320, 400], [[320,50],[320,100]]).\\n\\t\\t\\t\\taddSize([768, 200], [[468,60],[728,90]]).\\n\\t\\t\\t\\taddSize([1050, 200], [[728,90],[970,70],[970,90],[970,250]]).\\n\\t\\t\\t\\tbuild();\\n\\n\\t\\t\\tsecondaryMapping = googletag.sizeMapping().\\n\\t\\t\\t\\taddSize([0, 0], [[300,250]]).\\n\\t\\t\\t\\taddSize([320, 400], [[300,250]]).\\n\\t\\t\\t\\taddSize([768, 200], [[300,250],[728,90]]).\\n\\t\\t\\t\\taddSize([1050, 200], [[300,250],[728,90],[970,90],[970,250]]).\\n\\t\\t\\t\\tbuild();\\n\\n\\t\\t\\tauthorMapping = googletag.sizeMapping().\\n\\t\\t\\t\\taddSize([0, 0], [[300,250], [320,50]]).\\n\\t\\t\\t\\taddSize([320, 400], [[300,250], [320,50]]).\\n\\t\\t\\t\\taddSize([768, 200], [[300,250]]).\\n\\t\\t\\t\\tbuild();\\n\\n\\t\\t\\tforumBannerMapping = googletag.sizeMapping().\\n\\t\\t\\t\\taddSize([0, 0], [[320, 50], [320, 100], [300, 250]]).\\n\\t\\t\\t\\taddSize([768, 200], [[468, 60], [300,250]]).\\n\\t\\t\\t\\taddSize([1100, 200], [[300,250],[728,90]]).\\n\\t\\t\\t\\tbuild();\\n\\n\\t\\t\\tforumSidebarMapping = googletag.sizeMapping().\\n\\t\\t\\t\\taddSize([0, 0], [[320, 50], [320, 100], [300, 250]]).\\n\\t\\t\\t\\taddSize([768, 200], [[300,250]]).\\n\\t\\t\\t\\taddSize([1024, 200], [[300,250],[300,600]]).\\n\\t\\t\\t\\tbuild();\\n\\n\\t\\t\\tadslot = googletag.defineSlot(\\'/1049447/9to5mac-728x90-TopMain-R\\', [[320, 100], [970, 90], [320, 50], [970, 250], [468, 60], [728,90], [970, 70]], \"div-gpt-ad-1436850350386-0\").\\n\\t\\t\\t\\tdefineSizeMapping(mainMapping).\\n\\t\\t\\t\\taddService(googletag.pubads());\\n\\t\\t\\tadSlots.push( adslot );\\n\\n\\t\\t\\tgoogletag.pubads().enableSingleRequest();\\n\\t\\t\\tgoogletag.pubads().collapseEmptyDivs();\\n\\t\\t\\tgoogletag.pubads().disableInitialLoad();\\n\\t\\t\\tgoogletag.enableServices();\\n\\t\\t});\\n\\n\\n\\t\\t// Set up prebid!\\n\\t\\tvar pbjs = pbjs || {};\\n\\t\\tpbjs.que = pbjs.que || [];\\n\\t\\tvar TIMEOUT = 2000;\\n\\n\\t\\t//set APS config\\n\\t\\tapstag.init({\\n\\t\\t\\tpubID: \\'fee31bcb-d8b7-4565-8a5b-b1097e207e11\\',\\n\\t\\t\\tadServer: \\'googletag\\'\\n\\t\\t});\\n\\n\\t\\tfunction fetchHeaderBids( apstagSlots, adUnits ) {\\n\\t\\t\\tvar TIMEOUT = 2000;\\n\\n\\t\\t\\t//declare bidders\\n\\t\\t\\tvar bidders = [\\'a9\\', \\'prebid\\'];\\n\\n\\t\\t\\t// create a requestManager to keep track of bidder state to determine when to send ad server\\n\\t\\t\\t// request and what apstagSlots to request from the ad server\\n\\t\\t\\tvar requestManager = {\\n\\t\\t\\t\\tadserverRequestSent: false,\\n\\t\\t\\t\\tapstagSlots: apstagSlots,\\n\\t\\t\\t\\tadUnits: adUnits\\n\\t\\t\\t};\\n\\n\\t\\t\\t//loop through bidder array and add the bidders to the request manager:\\n\\t\\t\\tbidders.forEach(function(bidder) {\\n\\t\\t\\t\\trequestManager[bidder] = false;\\n\\t\\t\\t} );\\n\\n\\t\\t\\t// return true if all bidders have returned\\n\\t\\t\\tfunction allBiddersBack() {\\n\\t\\t\\t\\tvar allBiddersBack = bidders\\n\\t\\t\\t\\t\\t// get the booleans from the object\\n\\t\\t\\t\\t\\t.map( function( bidder ) {\\n\\t\\t\\t\\t\\t\\treturn requestManager[ bidder ];\\n\\t\\t\\t\\t\\t} )\\n\\n\\t\\t\\t\\t\\t// get rid of false values - indicates that the bidder has responded\\n\\t\\t\\t\\t\\t.filter( Boolean )\\n\\n\\t\\t\\t\\t\\t// if length is equal to bidders, all bidders are back\\n\\t\\t\\t\\t\\t.length === bidders.length;\\n\\n\\t\\t\\t\\treturn allBiddersBack;\\n\\t\\t\\t}\\n\\n\\t\\t\\t// handler for header bidder responses\\n\\t\\t\\tfunction headerBidderBack( bidder ) {\\n\\t\\t\\t\\t// return early if request to adserver is already sent\\n\\t\\t\\t\\tif ( requestManager.adserverRequestSent === true ) {\\n\\t\\t\\t\\t\\treturn;\\n\\t\\t\\t\\t}\\n\\t\\t\\t\\t// set the bidder targeting and flip bidder back flag\\n\\t\\t\\t\\tif ( bidder === \\'a9\\' ) {\\n\\t\\t\\t\\t\\trequestManager.a9 = true;\\n\\t\\t\\t\\t} else if ( bidder === \\'prebid\\' ) {\\n\\t\\t\\t\\t\\trequestManager.prebid = true;\\n\\t\\t\\t\\t}\\n\\n\\t\\t\\t\\t// if all bidders are back, send the request to the ad server\\n\\t\\t\\t\\tif ( allBiddersBack() ) {\\n\\t\\t\\t\\t\\tsendAdserverRequest();\\n\\t\\t\\t\\t}\\n\\t\\t\\t}\\n\\n\\n\\t\\t\\t// actually get ads from DFP\\n\\t\\t\\tfunction sendAdserverRequest() {\\n\\n\\t\\t\\t\\t// return early if request already sent\\n\\t\\t\\t\\tif ( requestManager.adserverRequestSent === true ) {\\n\\t\\t\\t\\t\\treturn;\\n\\t\\t\\t\\t}\\n\\n\\t\\t\\t\\t// flip the boolean that keeps track of whether the adserver request was sent\\n\\t\\t\\t\\trequestManager.adserverRequestSent = true;\\n\\n\\t\\t\\t\\t// make ad request to DFP\\n\\t\\t\\t\\t// @todo move into loop.\\n\\t\\t\\t\\tgoogletag.cmd.push( function() {\\n\\t\\t\\t\\t\\tapstag.setDisplayBids();\\n\\t\\t\\t\\t\\tpbjs.setTargetingForGPTAsync();\\n\\t\\t\\t\\t\\tgoogletag.pubads().refresh( adSlots );\\n\\t\\t\\t\\t} );\\n\\t\\t\\t}\\n\\n\\n\\t\\t\\tfunction requestBids() {\\n\\t\\t\\t\\tif ( 0 === requestManager.adUnits.length || 0 === requestManager.apstagSlots.length ) {\\n\\t\\t\\t\\t\\treturn;\\n\\t\\t\\t\\t}\\n\\n\\t\\t\\t\\t// request bids from prebid\\n\\t\\t\\t\\tpbjs.que.push( function() {\\n\\t\\t\\t\\t\\tpbjs.addAdUnits( requestManager.adUnits );\\n\\t\\t\\t\\t\\tpbjs.setConfig( { priceGranularity: \"high\" } );\\n\\t\\t\\t\\t\\tpbjs.requestBids( {\\n\\t\\t\\t\\t\\t\\tbidsBackHandler: function ( bidResponses ) {\\n\\t\\t\\t\\t\\t\\t\\theaderBidderBack( \\'prebid\\' )\\n\\t\\t\\t\\t\\t\\t}\\n\\t\\t\\t\\t\\t} );\\n\\t\\t\\t\\t} );\\n\\n\\t\\t\\t\\t// fetch bids from APS\\n\\t\\t\\t\\tapstag.fetchBids( {\\n\\t\\t\\t\\t\\tslots: requestManager.apstagSlots\\n\\t\\t\\t\\t}, function( bids ) {\\n\\t\\t\\t\\t\\theaderBidderBack( \\'a9\\' )\\n\\t\\t\\t\\t} );\\n\\t\\t\\t}\\n\\n\\t\\t\\trequestBids();\\n\\t\\t\\t// set timeout to send request to call sendAdserverRequest() after timeout\\n\\t\\t\\t// if all bidders haven\\'t returned before then\\n\\t\\t\\twindow.setTimeout( function() {\\n\\t\\t\\t\\tsendAdserverRequest();\\n\\t\\t\\t}, TIMEOUT );\\n\\t\\t}\\n\\t\\twindow.nineto5ads = window.nineto5ads || [];\\n\\t\\twindow.nineto5ads.forEach(function(ad){\\n\\t\\t\\tgoogletag.cmd.push(ad);\\n\\t\\t});\\n\\t\\t// Function to generate unique names for slots\\n\\t\\tvar nextSlotId = 1;\\n\\n\\t\\tfunction generateNextSlotName() {\\n\\t\\t\\tvar id = nextSlotId++;\\n\\t\\t\\treturn \\'div-gpt-ad-\\' + id;\\n\\t\\t}\\n\\n\\n\\t\\tfunction loadAds( page ) {\\n\\t\\t\\tvar $ads,\\n\\t\\t\\t\\tapstagSlots = [],\\n\\t\\t\\t\\tadUnits = [];\\n\\n\\t\\t\\tif ( page === 1 ) {\\n\\t\\t\\t\\t$ads = jQuery( \\'.post-content\\' ).find( \\'.inlinead:empty\\' );\\n\\t\\t\\t} else {\\n\\t\\t\\t\\t$ads = jQuery( document.getElementById( \\'infinite-view-\\' + ( page - 1 ) ) ).\\n\\t\\t\\t\\t\\tfind( \\'.post-content .inlinead\\' );\\n\\t\\t\\t}\\n\\n\\t\\t\\t$ads.each( function() {\\n\\t\\t\\t\\tvar slotName = generateNextSlotName(),\\n\\t\\t\\t\\t\\tslotDiv = document.createElement(\\'div\\');\\n\\t\\t\\t\\t\\tslotID = \"\\\\/1049447\\\\/9to5mac-300x250-TopSidebarMain-R\";\\n\\n\\t\\t\\t\\tslotDiv.id = slotName;\\n\\t\\t\\t\\tjQuery( this ).append( slotDiv );\\n\\t\\t\\t\\tgoogletag.cmd.push( function() {\\n\\t\\t\\t\\t\\tvar slot = googletag.defineSlot(\\n\\t\\t\\t\\t\\t\\t\\t\"\\\\/1049447\\\\/9to5mac-300x250-TopSidebarMain-R\",\\n\\t\\t\\t\\t\\t\\t\\t[[300,250],[970,90],[970,250],[728,90]],\\n\\t\\t\\t\\t\\t\\t\\tslotName\\n\\t\\t\\t\\t\\t\\t).\\n\\t\\t\\t\\t\\t\\tdefineSizeMapping( secondaryMapping ).\\n\\t\\t\\t\\t\\t\\taddService ( googletag.pubads() );\\n\\t\\t\\t\\t\\tadSlots.push( slot );\\n\\t\\t\\t\\t} );\\n\\t\\t\\t\\tunitsToAdd =\\n\\t\\t\\t\\t\\tninetofiveGetHeaderBidderAdUnits(\\n\\t\\t\\t\\t\\t\\t\"\\\\/1049447\\\\/9to5mac-300x250-TopSidebarMain-R\",\\n\\t\\t\\t\\t\\t\\t[[300,250],[970,90],[970,250],[728,90]],\\n\\t\\t\\t\\t\\t\\tfalse\\n\\t\\t\\t\\t\\t);\\n\\t\\t\\t\\tadUnits = adUnits.concat( unitsToAdd );\\n\\t\\t\\t\\tapstagSlots.push( {\\n\\t\\t\\t\\t\\tslotName : slotID,\\n\\t\\t\\t\\t\\tslotID : slotName,\\n\\t\\t\\t\\t\\tsizes: [[300,250],[970,90],[970,250],[728,90]]\\t\\t\\t\\t} );\\n\\t\\t\\t} );\\n\\n\\t\\t\\t$author_ads = jQuery( \\'#content\\' ).find( \\'.th9a95d01f:empty\\' );\\n\\n\\t\\t\\t$author_ads.each( function() {\\n\\t\\t\\t\\tvar slotName = generateNextSlotName(),\\n\\t\\t\\t\\t\\tslotDiv = document.createElement(\\'div\\');\\n\\t\\t\\t\\tslotID = \"\\\\/1049447\\\\/Author\";\\n\\t\\t\\t\\tvar ad_container = jQuery( this );\\n\\t\\t\\t\\tvar author = ad_container.data( \"author\" );\\n\\t\\t\\t\\tvar post_ID = ad_container.data( \"post-id\" );\\n\\t\\t\\t\\tvar unit = ad_container.data( \"unit\" );\\n\\t\\t\\t\\tvar placement = ad_container.data( \"placement\" );\\n\\t\\t\\t\\tvar unitSizes = [[300,250]];\\n\\t\\t\\t\\tvar sizeMapping = authorMapping;\\n\\t\\t\\t\\tif ( \\'river\\' === placement ) {\\n\\t\\t\\t\\t\\tunitSizes = [[300,250],[970,90],[970,250],[728,90]];\\n\\t\\t\\t\\t\\tsizeMapping = secondaryMapping;\\n\\t\\t\\t\\t}\\n\\t\\t\\t\\tslotDiv.id = slotName;\\n\\t\\t\\t\\tjQuery( this ).append( slotDiv );\\n\\t\\t\\t\\tgoogletag.cmd.push( function() {\\n\\t\\t\\t\\t\\tvar slot = googletag.defineSlot(\\n\\t\\t\\t\\t\\t\\t\\t\"\\\\/1049447\\\\/Author\",\\n\\t\\t\\t\\t\\t\\t\\tunitSizes,\\n\\t\\t\\t\\t\\t\\tslotName\\n\\t\\t\\t\\t\\t).\\n\\t\\t\\t\\t\\tdefineSizeMapping( sizeMapping ).\\n\\t\\t\\t\\t\\tsetTargeting( \"author\", author ).\\n\\t\\t\\t\\t\\tsetTargeting( \"post_ID\", post_ID ).\\n\\t\\t\\t\\t\\taddService ( googletag.pubads() );\\n\\t\\t\\t\\t\\tadSlots.push( slot );\\n\\t\\t\\t\\t} );\\n\\t\\t\\t\\tunitsToAdd =\\n\\t\\t\\t\\t\\tninetofiveGetHeaderBidderAdUnits(\\n\\t\\t\\t\\t\\t\\t\\t\"\\\\/1049447\\\\/Author\",\\n\\t\\t\\t\\t\\t\\t\\tunitSizes,\\n\\t\\t\\t\\t\\t\\tfalse\\n\\t\\t\\t\\t\\t);\\n\\t\\t\\t\\tadUnits = adUnits.concat( unitsToAdd );\\n\\t\\t\\t\\tapstagSlots.push( {\\n\\t\\t\\t\\t\\tslotName : slotID,\\n\\t\\t\\t\\t\\tslotID : slotName,\\n\\t\\t\\t\\t\\tsizes: unitSizes\\n\\t\\t\\t\\t} );\\n\\t\\t\\t} );\\n\\n\\t\\t\\t// aboveTheFold only true once.\\n\\t\\t\\taboveTheFold = false;\\n\\n\\t\\t\\tfetchHeaderBids( apstagSlots, adUnits );\\n\\t\\t}\\n\\n\\t\\tfunction loadForumAds() {\\n\\t\\t\\tvar $banner,\\n\\t\\t\\t\\t$sidebar,\\n\\t\\t\\t\\t$forum_wrapper,\\n\\t\\t\\t\\tapstagSlots = [],\\n\\t\\t\\t\\tadUnits = [];\\n\\t\\t\\t$forum_wrapper = jQuery( \\'.forum_wrapper\\' );\\n\\n\\t\\t\\t$banner = $forum_wrapper.find( \".th38afb38c\" );\\n\\n\\t\\t\\t$banner.each( function() {\\n\\t\\t\\t\\tvar slotName = \"gpt-ad-banner-forum\",\\n\\t\\t\\t\\t\\tslotDiv = document.createElement(\\'div\\');\\n\\t\\t\\t\\tslotID = \"\\\\/1049447\\\\/9to5mac_Community_Mid_Flex\";\\n\\n\\t\\t\\t\\tslotDiv.id = slotName;\\n\\t\\t\\t\\tjQuery( this ).append( slotDiv );\\n\\t\\t\\t\\tgoogletag.cmd.push( function() {\\n\\t\\t\\t\\t\\tvar slot = googletag.defineSlot(\\n\\t\\t\\t\\t\\t\\t\\t \"\\\\/1049447\\\\/9to5mac_Community_Mid_Flex\",\\n\\t\\t\\t\\t\\t\\t\\t [[728,90],[468,60],[320,50],[320,100]],\\n\\t\\t\\t\\t\\t\\tslotName\\n\\t\\t\\t\\t\\t).\\n\\t\\t\\t\\t\\tdefineSizeMapping( forumBannerMapping ).\\n\\t\\t\\t\\t\\taddService ( googletag.pubads() );\\n\\t\\t\\t\\t\\tadSlots.push( slot );\\n\\t\\t\\t\\t} );\\n\\t\\t\\t\\tunitsToAdd =\\n\\t\\t\\t\\t\\tninetofiveGetHeaderBidderAdUnits(\\n\\t\\t\\t\\t\\t\\t\\t \"\\\\/1049447\\\\/9to5mac_Community_Mid_Flex\",\\n\\t\\t\\t\\t\\t\\t\\t [[728,90],[468,60],[320,50],[320,100]],\\n\\t\\t\\t\\t\\t\\tfalse\\n\\t\\t\\t\\t\\t);\\n\\t\\t\\t\\tadUnits = adUnits.concat( unitsToAdd );\\n\\t\\t\\t\\tapstagSlots.push( {\\n\\t\\t\\t\\t\\tslotName : slotID,\\n\\t\\t\\t\\t\\tslotID : slotName,\\n\\t\\t\\t\\t\\tsizes: [[728,90],[468,60],[320,50],[320,100]]\\t\\t\\t\\t} );\\n\\t\\t\\t} );\\n\\t\\t\\t\\n\\t\\t\\t$sidebar = $forum_wrapper.find( \".th30c68a51\" );\\n\\n\\t\\t\\t$sidebar.each( function() {\\n\\t\\t\\t\\tvar slotName = \"gpt-ad-sidebar-forum\",\\n\\t\\t\\t\\t\\tslotDiv = document.createElement(\\'div\\');\\n\\t\\t\\t\\tslotID = \"\\\\/1049447\\\\/9to5mac_Community_Sidebar_Flex\";\\n\\t\\t\\t\\tslotDiv.id = slotName;\\n\\t\\t\\t\\tjQuery( this ).append( slotDiv );\\n\\t\\t\\t\\tgoogletag.cmd.push( function() {\\n\\t\\t\\t\\t\\tvar slot = googletag.defineSlot(\\n\\t\\t\\t\\t\\t\\t\\t \"\\\\/1049447\\\\/9to5mac_Community_Sidebar_Flex\",\\n\\t\\t\\t\\t\\t\\t\\t [[320,50],[320,100],[300,250],[300,600]],\\n\\t\\t\\t\\t\\t\\tslotName\\n\\t\\t\\t\\t\\t).\\n\\t\\t\\t\\t\\tdefineSizeMapping( forumSidebarMapping ).\\n\\t\\t\\t\\t\\taddService ( googletag.pubads() );\\n\\t\\t\\t\\t\\tadSlots.push( slot );\\n\\t\\t\\t\\t} );\\n\\t\\t\\t\\tunitsToAdd =\\n\\t\\t\\t\\t\\tninetofiveGetHeaderBidderAdUnits(\\n\\t\\t\\t\\t\\t\\t\\t \"\\\\/1049447\\\\/9to5mac_Community_Sidebar_Flex\",\\n\\t\\t\\t\\t\\t\\t\\t [[320,50],[320,100],[300,250],[300,600]],\\n\\t\\t\\t\\t\\t\\tfalse\\n\\t\\t\\t\\t\\t);\\n\\t\\t\\t\\tadUnits = adUnits.concat( unitsToAdd );\\n\\t\\t\\t\\tapstagSlots.push( {\\n\\t\\t\\t\\t\\tslotName : slotID,\\n\\t\\t\\t\\t\\tslotID : slotName,\\n\\t\\t\\t\\t\\tsizes: [[320,50],[320,100],[300,250],[300,600]]\\t\\t\\t\\t} );\\n\\t\\t\\t} );\\n\\t\\t\\t\\n\\t\\t\\t// aboveTheFold only true once.\\n\\t\\t\\taboveTheFold = false;\\n\\n\\t\\t\\tfetchHeaderBids( apstagSlots, adUnits );\\n\\t\\t}\\n\\t\\t</script>\\n<script src=\\'https://stats.wp.com/e-202208.js\\' defer></script>\\n<script>\\n\\t_stq = window._stq || [];\\n\\t_stq.push([ \\'view\\', {v:\\'ext\\',j:\\'1:10.6\\',blog:\\'146091842\\',post:\\'626595\\',tz:\\'-8\\',srv:\\'9to5mac.com\\'} ]);\\n\\t_stq.push([ \\'clickTrackerInit\\', \\'146091842\\', \\'626595\\' ]);\\n</script>\\n<!-- Tracking Codes -->\\t\\t<script type=\"text/javascript\">\\n\\t\\t\\tvar vglnk = {key: \\'c1c7d488bb2df8a8b659d5d41634d304\\'};\\n\\t\\t\\t(function(d, t) {\\n\\t\\t\\t\\tvar s = d.createElement(t);\\n\\t\\t\\t\\ts.type = \\'text/javascript\\';\\n\\t\\t\\t\\ts.async = true;\\n\\t\\t\\t\\ts.src = \\'//cdn.viglink.com/api/vglnk.js\\';\\n\\t\\t\\t\\tvar r = d.getElementsByTagName(t)[0];\\n\\t\\t\\t\\tr.parentNode.insertBefore(s, r);\\n\\t\\t\\t}(document, \\'script\\'));\\n\\t\\t</script>\\n\\t\\t<!-- End Tracking Codes -->\\n\\t</body>\\n</html>'"
      ]
     },
     "execution_count": 115,
     "metadata": {},
     "output_type": "execute_result"
    }
   ],
   "source": [
    "article.html"
   ]
  },
  {
   "cell_type": "code",
   "execution_count": null,
   "metadata": {},
   "outputs": [],
   "source": []
  }
 ],
 "metadata": {
  "kernelspec": {
   "display_name": "Python 3",
   "language": "python",
   "name": "python3"
  },
  "language_info": {
   "codemirror_mode": {
    "name": "ipython",
    "version": 3
   },
   "file_extension": ".py",
   "mimetype": "text/x-python",
   "name": "python",
   "nbconvert_exporter": "python",
   "pygments_lexer": "ipython3",
   "version": "3.7.0"
  }
 },
 "nbformat": 4,
 "nbformat_minor": 2
}
