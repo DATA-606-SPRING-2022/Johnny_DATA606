version https://git-lfs.github.com/spec/v1
oid sha256:cdc87c036ad9193632ba5c2985637a9bc61c95fa51dc4b2b7745f16688bb3306
size 31074
