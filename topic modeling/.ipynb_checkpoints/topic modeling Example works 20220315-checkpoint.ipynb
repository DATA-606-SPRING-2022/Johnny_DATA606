version https://git-lfs.github.com/spec/v1
oid sha256:6bce3ad055d9cc497ffe7ecef1a232b2b07cb77d91493b0946db11a0a64aa8f6
size 13664413
