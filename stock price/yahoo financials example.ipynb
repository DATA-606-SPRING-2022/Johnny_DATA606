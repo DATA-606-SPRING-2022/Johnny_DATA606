version https://git-lfs.github.com/spec/v1
oid sha256:f42dd63f5cfdab4bb3e527b5843a61b59022e72b2ea58ffa8674c3c3e59b714a
size 81014
