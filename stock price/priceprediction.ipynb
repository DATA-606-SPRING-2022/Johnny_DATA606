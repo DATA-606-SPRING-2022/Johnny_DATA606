version https://git-lfs.github.com/spec/v1
oid sha256:11aca0c02989ef47143e7e0006e3211d0a1540f769c1b5a1828c5a264b7082e2
size 79895
