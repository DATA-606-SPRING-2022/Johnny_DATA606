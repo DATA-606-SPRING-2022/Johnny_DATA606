version https://git-lfs.github.com/spec/v1
oid sha256:0c27f44131b313021b7cb47f9ef7291d1e19fce4f7e95f45c05d54ee721e1093
size 14288
