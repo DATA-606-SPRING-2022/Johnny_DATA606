version https://git-lfs.github.com/spec/v1
oid sha256:0ea3ff23e93374eb26e1b8599684312658d96baad27020a2121c7fd22a873012
size 386513
