version https://git-lfs.github.com/spec/v1
oid sha256:3d3f40694a68282ce70a136d852db9668d2074d66cf3855f4584e107134c98cb
size 588
